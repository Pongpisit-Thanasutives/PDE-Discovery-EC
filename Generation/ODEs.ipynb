{
 "cells": [
  {
   "cell_type": "code",
   "execution_count": 2,
   "id": "a862146c-a720-4239-8da8-b41465ee4329",
   "metadata": {},
   "outputs": [
    {
     "name": "stderr",
     "output_type": "stream",
     "text": [
      "/opt/anaconda3/envs/sindy/lib/python3.10/site-packages/tqdm/auto.py:21: TqdmWarning: IProgress not found. Please update jupyter and ipywidgets. See https://ipywidgets.readthedocs.io/en/stable/user_install.html\n",
      "  from .autonotebook import tqdm as notebook_tqdm\n"
     ]
    }
   ],
   "source": [
    "import numpy as np\n",
    "from scipy.integrate import solve_ivp\n",
    "import pysindy as ps\n",
    "from pysindy.utils import lorenz"
   ]
  },
  {
   "cell_type": "code",
   "execution_count": 3,
   "id": "e9eca2e4-af8e-4524-9045-53439f224e67",
   "metadata": {},
   "outputs": [],
   "source": [
    "# Integrator keywords for solve_ivp\n",
    "integrator_keywords = {}\n",
    "integrator_keywords['rtol'] = 1e-12\n",
    "integrator_keywords['method'] = 'LSODA'\n",
    "integrator_keywords['atol'] = 1e-12\n",
    "\n",
    "max_t = 100; dt = 0.001\n",
    "t_train = np.arange(0, max_t, dt)\n",
    "x0_train = [-8, 8, 27]\n",
    "x_train = solve_ivp(lorenz, (t_train[0], t_train[-1]), \n",
    "                    x0_train, t_eval=t_train, **integrator_keywords).y.T\n",
    "x_dot_train_measured = np.array(\n",
    "    [lorenz(0, x_train[i]) for i in range(t_train.size)]\n",
    ")\n",
    "true_complexities = [2, 3, 2]"
   ]
  },
  {
   "cell_type": "code",
   "execution_count": 4,
   "id": "9fce7c1b-0f2a-4347-bd16-bbd3f42776ec",
   "metadata": {},
   "outputs": [],
   "source": [
    "np.save(f\"../Datasets/lorenz{int(max_t)}.npy\", x_train)"
   ]
  }
 ],
 "metadata": {
  "kernelspec": {
   "display_name": "Python [conda env:sindy]",
   "language": "python",
   "name": "conda-env-sindy-py"
  },
  "language_info": {
   "codemirror_mode": {
    "name": "ipython",
    "version": 3
   },
   "file_extension": ".py",
   "mimetype": "text/x-python",
   "name": "python",
   "nbconvert_exporter": "python",
   "pygments_lexer": "ipython3",
   "version": "3.10.13"
  }
 },
 "nbformat": 4,
 "nbformat_minor": 5
}

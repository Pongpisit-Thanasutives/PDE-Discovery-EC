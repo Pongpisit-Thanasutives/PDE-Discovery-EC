{
 "cells": [
  {
   "cell_type": "code",
   "execution_count": 1,
   "id": "d8401bd4",
   "metadata": {},
   "outputs": [
    {
     "name": "stderr",
     "output_type": "stream",
     "text": [
      "/Users/pongpisit/anaconda3/envs/pysr_latest/lib/python3.11/site-packages/tqdm/auto.py:21: TqdmWarning: IProgress not found. Please update jupyter and ipywidgets. See https://ipywidgets.readthedocs.io/en/stable/user_install.html\n",
      "  from .autonotebook import tqdm as notebook_tqdm\n"
     ]
    }
   ],
   "source": [
    "%load_ext autoreload\n",
    "%autoreload 2\n",
    "%matplotlib inline\n",
    "import matplotlib.pyplot as plt\n",
    "\n",
    "import math\n",
    "import os\n",
    "import random\n",
    "from functools import partial\n",
    "from decimal import Decimal\n",
    "import numpy as np\n",
    "import scipy.io as sio\n",
    "import pysindy as ps\n",
    "from tqdm import trange\n",
    "\n",
    "from pymoo.algorithms.moo.nsga2 import NSGA2\n",
    "from pymoo.core.problem import ElementwiseProblem\n",
    "from pymoo.core.sampling import Sampling\n",
    "from pymoo.core.crossover import Crossover\n",
    "from pymoo.core.mutation import Mutation\n",
    "from pymoo.core.duplicate import ElementwiseDuplicateElimination\n",
    "from pymoo.termination.default import DefaultMultiObjectiveTermination\n",
    "from pymoo.optimize import minimize\n",
    "from pymoo.visualization.scatter import Scatter\n",
    "\n",
    "from utils import *\n",
    "from skimage.restoration import estimate_sigma\n",
    "import bm3d\n",
    "from okridge.solvel0 import *\n",
    "from best_subset import backward_refinement, brute_force_all_subsets\n",
    "from UBIC import *\n",
    "from kneed import KneeLocator\n",
    "\n",
    "from sklearn.gaussian_process import GaussianProcessRegressor\n",
    "from sklearn.gaussian_process.kernels import RBF, WhiteKernel"
   ]
  },
  {
   "cell_type": "code",
   "execution_count": 2,
   "id": "5916f2d3",
   "metadata": {},
   "outputs": [],
   "source": [
    "n_poly = 4\n",
    "n_derivatives = 5\n",
    "n_modules = 8"
   ]
  },
  {
   "cell_type": "code",
   "execution_count": 3,
   "id": "8eaa96d0",
   "metadata": {},
   "outputs": [],
   "source": [
    "data_path = \"../PDE-Discovery-EC/Datasets/\"\n",
    "data = sio.loadmat(os.path.join(data_path, \"burgers.mat\"))\n",
    "u_clean = (data['usol']).real; u = u_clean.copy()\n",
    "x = (data['x'][0]).real\n",
    "t = (data['t'][:,0]).real\n",
    "dt = t[1]-t[0]; dx = x[2]-x[1]"
   ]
  },
  {
   "cell_type": "markdown",
   "id": "3a1e0adc",
   "metadata": {},
   "source": [
    "### Add noise"
   ]
  },
  {
   "cell_type": "code",
   "execution_count": 4,
   "id": "888ee41f",
   "metadata": {},
   "outputs": [
    {
     "name": "stdout",
     "output_type": "stream",
     "text": [
      "Noise level: 50.0\n"
     ]
    }
   ],
   "source": [
    "np.random.seed(0)\n",
    "noise_lv = float(50)\n",
    "print(\"Noise level:\", noise_lv)\n",
    "noise = 0.01*np.abs(noise_lv)*(u.std())*np.random.randn(u.shape[0],u.shape[1])\n",
    "u = u + noise"
   ]
  },
  {
   "cell_type": "code",
   "execution_count": 5,
   "id": "d9754901",
   "metadata": {},
   "outputs": [
    {
     "name": "stderr",
     "output_type": "stream",
     "text": [
      "100%|████████████████████████████████████████████████████████████████████████████████████████████| 101/101 [02:06<00:00,  1.25s/it]\n"
     ]
    },
    {
     "data": {
      "text/plain": [
       "5"
      ]
     },
     "execution_count": 5,
     "metadata": {},
     "output_type": "execute_result"
    }
   ],
   "source": [
    "kernel = RBF(length_scale=1, length_scale_bounds=(1e-2, 1e3)) + \\\n",
    "        WhiteKernel(noise_level=1, noise_level_bounds=(1e-10, 1e10))\n",
    "\n",
    "xx = colvec(x)\n",
    "u_mean = np.copy(u)\n",
    "u_std = np.ones(u.shape)\n",
    "for i in trange(len(t)):    \n",
    "    gpr = GaussianProcessRegressor(kernel=kernel, alpha=0.0, \n",
    "                                   n_restarts_optimizer=10 # 20\n",
    "                                  )\n",
    "\n",
    "    gpr.fit(xx, u_mean[:, i])\n",
    "    um, ustd = gpr.predict(xx, return_std=True)\n",
    "    u_mean[:, i] = um\n",
    "    u_std[:, i] = ustd\n",
    "    \n",
    "cutoff_ws = knee(range(1, 21), \n",
    "                 [u_std[ws:-ws, :].std() for ws in range(1, 21)], \n",
    "                 'linear')\n",
    "cutoff_ws"
   ]
  },
  {
   "cell_type": "markdown",
   "id": "c5c890b0",
   "metadata": {},
   "source": [
    "### Denoise"
   ]
  },
  {
   "cell_type": "code",
   "execution_count": 6,
   "id": "3f3d31a5",
   "metadata": {},
   "outputs": [],
   "source": [
    "est_sigma = u_std.mean() # max also works well\n",
    "# est_sigma = (est_sigma+estimate_sigma(u))/2\n",
    "u = bm3d.bm3d(u, sigma_psd=est_sigma, \n",
    "              stage_arg=bm3d.BM3DStages.ALL_STAGES, \n",
    "              blockmatches=(False, False))"
   ]
  },
  {
   "cell_type": "code",
   "execution_count": 7,
   "id": "05a04eb0",
   "metadata": {},
   "outputs": [],
   "source": [
    "# cutoff_ws = 0 # No int cutoff_ws\n",
    "if cutoff_ws > 0:\n",
    "    u = u[cutoff_ws:-cutoff_ws, :]\n",
    "    x = x[cutoff_ws:-cutoff_ws]\n",
    "xt = np.array([x.reshape(-1, 1), t.reshape(1, -1)], dtype=object)\n",
    "X, T = np.meshgrid(x, t)\n",
    "XT = np.asarray([X, T]).T"
   ]
  },
  {
   "cell_type": "code",
   "execution_count": 8,
   "id": "6aaf2666",
   "metadata": {},
   "outputs": [],
   "source": [
    "function_library = ps.PolynomialLibrary(degree=n_poly, include_bias=False)\n",
    "\n",
    "weak_lib = ps.WeakPDELibrary(\n",
    "    function_library=function_library,\n",
    "    derivative_order=n_derivatives,\n",
    "    spatiotemporal_grid=XT,\n",
    "    include_bias=True,\n",
    "    diff_kwargs={\"is_uniform\":True},\n",
    "    K=10000\n",
    ")\n",
    "\n",
    "X_pre = np.array(weak_lib.fit_transform(np.expand_dims(u, -1)))\n",
    "y_pre = weak_lib.convert_u_dot_integral(np.expand_dims(u, -1))"
   ]
  },
  {
   "cell_type": "code",
   "execution_count": 9,
   "id": "6ad9a594",
   "metadata": {},
   "outputs": [],
   "source": [
    "base_poly = np.array([[p, 0] for p in range(1, n_poly+1)])\n",
    "base_derivative = np.array([[0, d] for d in range(1, n_derivatives+1)])\n",
    "modules = [(0, 0)] if weak_lib.include_bias else []\n",
    "modules += [(p, 0) for p in range(1, n_poly+1)] + \\\n",
    "            [(0, d) for d in range(1, n_derivatives+1)] + \\\n",
    "            [tuple(p+d) for d in base_derivative for p in base_poly]\n",
    "assert len(modules) == len(weak_lib.get_feature_names())\n",
    "base_features = dict(zip(modules, X_pre.T))\n",
    "u_t = y_pre.copy()"
   ]
  },
  {
   "cell_type": "markdown",
   "id": "bb73e146",
   "metadata": {},
   "source": [
    "### Genetic algorithm with NSGA-II"
   ]
  },
  {
   "cell_type": "code",
   "execution_count": 10,
   "id": "0fa61c51",
   "metadata": {},
   "outputs": [],
   "source": [
    "class PdeDiscoveryProblem(ElementwiseProblem):\n",
    "    def __init__(self, n_poly, n_derivatives, n_modules, \n",
    "                 base_features, u_t, epsilon=0):\n",
    "        super().__init__(n_var=1, n_obj=2, n_ieq_constr=0)\n",
    "        self.n_poly = n_poly\n",
    "        self.n_derivatives = n_derivatives\n",
    "        self.n_modules = n_modules\n",
    "        self.base_features = base_features\n",
    "        self.u_t = u_t\n",
    "        self.epsilon = epsilon\n",
    "        self.sample_size = np.prod(self.u_t.shape)\n",
    "\n",
    "    def _evaluate(self, X, out, *args, **kwargs):\n",
    "        genome = X[0]\n",
    "        coeff, mse = self.compute_genome_coefficient(genome)\n",
    "        mse = mse/self.sample_size\n",
    "        complexity_penalty = self.epsilon*len(genome)\n",
    "        out[\"F\"] = [mse, complexity_penalty]\n",
    "        \n",
    "    def numericalize_genome(self, genome):\n",
    "        return np.stack([self.base_features[tuple(module)] \n",
    "                         for module in genome], axis=-1)\n",
    "\n",
    "    def compute_genome_coefficient(self, genome):\n",
    "        features = self.numericalize_genome(genome)\n",
    "        features = features.reshape(-1, features.shape[-1])\n",
    "        coeff, error, _, _ = np.linalg.lstsq(features, self.u_t, rcond=None)\n",
    "        return coeff, error[0]\n",
    "    \n",
    "    def generate_module(self, n_poly, n_derivatives):\n",
    "        return (random.randint(0, n_poly), random.randint(0, n_derivatives))\n",
    "    \n",
    "    def set_epsilon(self, epsilon):\n",
    "        self.epsilon = epsilon\n",
    "    \n",
    "class PopulationSampling(Sampling):\n",
    "    def _do(self, problem, n_samples, **kwargs):\n",
    "        X = np.full((n_samples, 1), None, dtype=object)\n",
    "        X_set = set()\n",
    "        i = 0\n",
    "        while i < n_samples:\n",
    "            n_modules = random.randint(1, problem.n_modules)\n",
    "            genome = frozenset(problem.generate_module(problem.n_poly, problem.n_derivatives) for _ in range(n_modules))\n",
    "            if len(genome) > 0 and genome not in X_set:\n",
    "                X_set.add(genome)\n",
    "                X[i, 0] = genome\n",
    "                i += 1\n",
    "        return X\n",
    "    \n",
    "class DuplicateElimination(ElementwiseDuplicateElimination):\n",
    "    def is_equal(self, g1, g2):\n",
    "        return g1.X[0] == g2.X[0]"
   ]
  },
  {
   "cell_type": "code",
   "execution_count": 11,
   "id": "2dea1072",
   "metadata": {},
   "outputs": [],
   "source": [
    "class GenomeCrossover(Crossover):\n",
    "    def __init__(self):\n",
    "        # define the crossover: number of parents and number of offsprings\n",
    "        super().__init__(2, 2)\n",
    "\n",
    "    def _do(self, problem, X, **kwargs):\n",
    "        # The input of has the following shape (n_parents, n_matings, n_var)\n",
    "        _, n_matings, n_var = X.shape\n",
    "\n",
    "        # The output owith the shape (n_offsprings, n_matings, n_var)\n",
    "        # Because there the number of parents and offsprings are equal it keeps the shape of X\n",
    "        Y = np.full_like(X, None, dtype=object)\n",
    "        \n",
    "        # for each mating provided\n",
    "        for k in range(n_matings):\n",
    "            # get the first and the second parent          \n",
    "            Y[0, k, 0], Y[1, k, 0] = self.crossover_permutation(X[0, k, 0], X[1, k, 0])\n",
    "            \n",
    "        return Y\n",
    "    \n",
    "    def crossover_permutation(self, genome1, genome2):\n",
    "        collection = list(genome1) + list(genome2)\n",
    "        random.shuffle(collection)\n",
    "        return frozenset(collection[:len(genome1)]), frozenset(collection[len(genome1):])\n",
    "    \n",
    "class GenomeMutation(Mutation):\n",
    "    def __init__(self, add_rate=0.4, del_rate=0.5, order_rate=0.4):\n",
    "        super().__init__()\n",
    "        self.add_rate = add_rate\n",
    "        self.del_rate = del_rate\n",
    "        self.order_rate = order_rate\n",
    "\n",
    "    def _do(self, problem, X, **kwargs):\n",
    "        for i in range(len(X)):\n",
    "            if random.random() < self.add_rate:\n",
    "                X[i, 0] = self.add_mutate(problem, X[i, 0])\n",
    "            if random.random() < self.del_rate:\n",
    "                X[i, 0] = self.del_mutate(problem, X[i, 0])\n",
    "            if random.random() < self.order_rate:\n",
    "                X[i, 0] = self.module_mutate(problem, X[i, 0])\n",
    "        return X\n",
    "    \n",
    "    def add_mutate(self, problem, genome, max_iter=3):\n",
    "        for _ in range(max_iter):\n",
    "            new_module = problem.generate_module(problem.n_poly, problem.n_derivatives)\n",
    "            if new_module not in genome:\n",
    "                return genome.union(frozenset({new_module}))\n",
    "        return genome\n",
    "    \n",
    "    def del_mutate(self, problem, genome, max_iter=3):\n",
    "        genome = list(genome)\n",
    "        lg = len(genome)\n",
    "        if lg > 0:\n",
    "            if lg == 1:\n",
    "                for _ in range(max_iter):\n",
    "                    new_module = problem.generate_module(problem.n_poly, problem.n_derivatives)\n",
    "                    if new_module != genome[0]:\n",
    "                        return frozenset({new_module})\n",
    "            else:\n",
    "                genome.pop(random.randint(0, lg-1))\n",
    "        return frozenset(genome)\n",
    "    \n",
    "    def module_mutate(self, problem, genome):\n",
    "        if len(genome) == 0:\n",
    "            return genome\n",
    "        genome = set(genome)\n",
    "        genome.remove(random.choice(list(genome)))\n",
    "        for _ in range(3):\n",
    "            new_module = problem.generate_module(problem.n_poly, problem.n_derivatives)\n",
    "            if new_module not in genome:\n",
    "                genome.add(new_module)\n",
    "                return frozenset(genome)\n",
    "        return frozenset(genome)"
   ]
  },
  {
   "cell_type": "code",
   "execution_count": 12,
   "id": "263f3258",
   "metadata": {},
   "outputs": [],
   "source": [
    "pop_size = 500\n",
    "problem = PdeDiscoveryProblem(n_poly, n_derivatives, n_modules, \n",
    "                              base_features, u_t, 0)\n",
    "pop = PopulationSampling().do(problem, pop_size)\n",
    "pop = [[pop[i].X[0]] for i in range(len(pop))]\n",
    "epi = 10**(sci_format(np.median(problem.evaluate(pop)[:, 0]))[1])\n",
    "problem.set_epsilon(epi)\n",
    "del pop"
   ]
  },
  {
   "cell_type": "code",
   "execution_count": 13,
   "id": "296e4b3d",
   "metadata": {},
   "outputs": [
    {
     "name": "stdout",
     "output_type": "stream",
     "text": [
      "==========================================================\n",
      "n_gen  |  n_eval  | n_nds  |      eps      |   indicator  \n",
      "==========================================================\n",
      "     1 |      500 |      7 |             - |             -\n",
      "     2 |     1000 |      5 |  0.0377091399 |         ideal\n",
      "     3 |     1500 |      7 |  0.0715265568 |             f\n",
      "     4 |     2000 |      7 |  0.0029084776 |             f\n",
      "     5 |     2500 |      8 |  0.0079917773 |         ideal\n",
      "     6 |     3000 |      7 |  0.0099857483 |             f\n",
      "     7 |     3500 |      7 |  0.0207914420 |             f\n",
      "     8 |     4000 |      8 |  0.0087975199 |         ideal\n",
      "     9 |     4500 |      9 |  0.0123456881 |             f\n",
      "    10 |     5000 |      9 |  0.000000E+00 |             f\n",
      "    11 |     5500 |      9 |  0.0001207446 |             f\n",
      "    12 |     6000 |      8 |  0.0012521076 |             f\n",
      "    13 |     6500 |      9 |  0.1818181818 |         nadir\n",
      "    14 |     7000 |      9 |  0.0007924115 |             f\n",
      "    15 |     7500 |      9 |  0.1000000000 |         nadir\n",
      "    16 |     8000 |     10 |  0.0909090909 |         nadir\n",
      "    17 |     8500 |     10 |  0.0031605216 |         ideal\n",
      "    18 |     9000 |     10 |  0.0000234417 |             f\n",
      "    19 |     9500 |     12 |  0.0833333333 |         nadir\n",
      "    20 |    10000 |     13 |  0.0769230769 |         nadir\n",
      "    21 |    10500 |     12 |  0.0039309588 |         ideal\n",
      "    22 |    11000 |     11 |  0.0002179430 |             f\n",
      "    23 |    11500 |     11 |  0.0002179430 |             f\n",
      "    24 |    12000 |     11 |  0.0002333082 |             f\n",
      "    25 |    12500 |     12 |  0.0003956724 |             f\n",
      "    26 |    13000 |     12 |  0.0005130014 |             f\n",
      "    27 |    13500 |     13 |  0.0769230769 |         nadir\n",
      "    28 |    14000 |     14 |  0.0055435175 |             f\n",
      "    29 |    14500 |     14 |  0.0001819268 |             f\n",
      "    30 |    15000 |     15 |  0.0094335648 |         ideal\n",
      "    31 |    15500 |     14 |  0.0625000000 |         nadir\n",
      "    32 |    16000 |     15 |  0.0042572579 |             f\n",
      "    33 |    16500 |     15 |  0.0002189412 |             f\n",
      "    34 |    17000 |     16 |  0.0041115161 |             f\n",
      "    35 |    17500 |     16 |  0.0002844385 |             f\n",
      "    36 |    18000 |     16 |  0.0005550040 |             f\n",
      "    37 |    18500 |     16 |  0.0005550040 |             f\n",
      "    38 |    19000 |     16 |  0.0005834142 |             f\n",
      "    39 |    19500 |     16 |  0.0011268983 |             f\n",
      "    40 |    20000 |     16 |  0.0013029384 |             f\n",
      "    41 |    20500 |     17 |  0.0028414523 |         ideal\n",
      "    42 |    21000 |     18 |  0.0032681509 |             f\n",
      "    43 |    21500 |     18 |  0.0001755303 |             f\n",
      "    44 |    22000 |     18 |  0.0001755303 |             f\n",
      "    45 |    22500 |     18 |  0.0002326863 |             f\n",
      "    46 |    23000 |     18 |  0.0002638201 |             f\n",
      "    47 |    23500 |     18 |  0.0002823306 |             f\n",
      "    48 |    24000 |     18 |  0.0003096967 |             f\n",
      "    49 |    24500 |     18 |  0.0003096967 |             f\n",
      "    50 |    25000 |     18 |  0.0004263586 |             f\n",
      "    51 |    25500 |     18 |  0.0005203948 |             f\n",
      "    52 |    26000 |     18 |  0.0006245138 |             f\n",
      "    53 |    26500 |     18 |  0.0006245138 |             f\n",
      "    54 |    27000 |     18 |  0.0006245138 |             f\n",
      "    55 |    27500 |     18 |  0.0007241546 |             f\n",
      "    56 |    28000 |     18 |  0.0007392578 |             f\n",
      "    57 |    28500 |     18 |  0.0007774112 |             f\n",
      "    58 |    29000 |     18 |  0.0007774112 |             f\n",
      "    59 |    29500 |     18 |  0.0008370700 |             f\n",
      "    60 |    30000 |     18 |  0.0008791398 |             f\n",
      "    61 |    30500 |     18 |  0.0008791398 |             f\n",
      "    62 |    31000 |     19 |  0.1052631579 |         nadir\n",
      "    63 |    31500 |     19 |  0.0000568092 |             f\n",
      "    64 |    32000 |     19 |  0.0000568092 |             f\n",
      "    65 |    32500 |     19 |  0.0000568092 |             f\n",
      "    66 |    33000 |     19 |  0.0000981606 |             f\n",
      "    67 |    33500 |     19 |  0.0002191480 |             f\n",
      "    68 |    34000 |     19 |  0.0002801529 |             f\n",
      "    69 |    34500 |     19 |  0.0002801529 |             f\n",
      "    70 |    35000 |     21 |  0.0500000000 |         nadir\n",
      "    71 |    35500 |     21 |  0.000000E+00 |             f\n",
      "    72 |    36000 |     21 |  0.0000654527 |             f\n",
      "    73 |    36500 |     21 |  0.0000878555 |             f\n",
      "    74 |    37000 |     21 |  0.0001164816 |             f\n",
      "    75 |    37500 |     21 |  0.0001694595 |             f\n",
      "    76 |    38000 |     21 |  0.0001694595 |             f\n",
      "    77 |    38500 |     19 |  0.1111111111 |         nadir\n",
      "    78 |    39000 |     19 |  0.0000741117 |             f\n",
      "    79 |    39500 |     18 |  0.0001657134 |             f\n",
      "    80 |    40000 |     18 |  0.0001657134 |             f\n",
      "    81 |    40500 |     19 |  0.1428571429 |         nadir\n",
      "    82 |    41000 |     20 |  0.0023810596 |             f\n",
      "    83 |    41500 |     21 |  0.0045358757 |             f\n",
      "    84 |    42000 |     21 |  0.000000E+00 |             f\n",
      "    85 |    42500 |     21 |  9.465342E-06 |             f\n",
      "    86 |    43000 |     21 |  0.0000503822 |             f\n",
      "    87 |    43500 |     21 |  0.0000680375 |             f\n",
      "    88 |    44000 |     21 |  0.0001286154 |             f\n",
      "    89 |    44500 |     21 |  0.0001550499 |             f\n",
      "    90 |    45000 |     21 |  0.0001649182 |             f\n",
      "    91 |    45500 |     22 |  0.0023219280 |             f\n",
      "    92 |    46000 |     22 |  0.0023573030 |             f\n",
      "    93 |    46500 |     22 |  0.0023882576 |             f\n",
      "    94 |    47000 |     20 |  0.1052631579 |         nadir\n",
      "    95 |    47500 |     20 |  0.000000E+00 |             f\n",
      "    96 |    48000 |     20 |  0.000000E+00 |             f\n",
      "    97 |    48500 |     20 |  0.000000E+00 |             f\n",
      "    98 |    49000 |     20 |  0.0000222609 |             f\n",
      "    99 |    49500 |     20 |  0.0000442992 |             f\n",
      "   100 |    50000 |     20 |  0.0000775533 |             f\n"
     ]
    },
    {
     "data": {
      "text/plain": [
       "array([frozenset({(1, 1), (0, 2)})], dtype=object)"
      ]
     },
     "execution_count": 13,
     "metadata": {},
     "output_type": "execute_result"
    }
   ],
   "source": [
    "termination = DefaultMultiObjectiveTermination(\n",
    "    xtol=1e-8,\n",
    "    cvtol=1e-6,\n",
    "    ftol=1e-8,\n",
    "    period=50,\n",
    "    n_max_gen=100,\n",
    "    n_max_evals=100000\n",
    ")\n",
    "\n",
    "algorithm = NSGA2(pop_size=pop_size,\n",
    "                  sampling=PopulationSampling(),\n",
    "                  crossover=GenomeCrossover(),\n",
    "                  mutation=GenomeMutation(),\n",
    "                  eliminate_duplicates=DuplicateElimination())\n",
    "\n",
    "res = minimize(problem,\n",
    "               algorithm,\n",
    "               termination=termination,\n",
    "               verbose=True)\n",
    "\n",
    "pareto_optimal_models = res.X[np.argsort(res.F[:, 0]+res.F[:, 1])]\n",
    "best = pareto_optimal_models[0]\n",
    "best"
   ]
  },
  {
   "cell_type": "code",
   "execution_count": 14,
   "id": "9fe7f4e0",
   "metadata": {},
   "outputs": [
    {
     "data": {
      "text/plain": [
       "([((1, 1), 0.3267792698274192),\n",
       "  ((0, 2), 0.16005645773861168),\n",
       "  ((0, 1), 0.05243483058709468),\n",
       "  ((0, 4), 0.04573754993370655),\n",
       "  ((4, 0), 0.04462521938323327),\n",
       "  ((3, 0), 0.040077766659578365),\n",
       "  ((4, 3), 0.03614148212854412),\n",
       "  ((3, 3), 0.03543775311824233),\n",
       "  ((2, 3), 0.03212096225641035),\n",
       "  ((4, 5), 0.027100093033338175),\n",
       "  ((3, 5), 0.02590796191982856),\n",
       "  ((2, 1), 0.024574845308279185),\n",
       "  ((1, 2), 0.020211967371527507),\n",
       "  ((2, 0), 0.019203396495132717),\n",
       "  ((3, 2), 0.017552358911734334),\n",
       "  ((0, 3), 0.016878471322643137),\n",
       "  ((2, 4), 0.016161264131934326),\n",
       "  ((3, 4), 0.014408272529122796),\n",
       "  ((2, 5), 0.013214012905752226),\n",
       "  ((1, 3), 0.011035007281254037),\n",
       "  ((1, 0), 0.00574604282423449),\n",
       "  ((4, 4), 0.0033102732201501102),\n",
       "  ((3, 1), 0.003258696324778981),\n",
       "  ((1, 5), 0.002570805300790415),\n",
       "  ((0, 5), 0.002398570653007311),\n",
       "  ((4, 2), 0.0019781944359991274),\n",
       "  ((1, 4), 0.001078474397652034)],\n",
       " [(1, 1),\n",
       "  (0, 2),\n",
       "  (0, 1),\n",
       "  (0, 4),\n",
       "  (4, 0),\n",
       "  (3, 0),\n",
       "  (4, 3),\n",
       "  (3, 3),\n",
       "  (2, 3),\n",
       "  (4, 5),\n",
       "  (3, 5),\n",
       "  (2, 1),\n",
       "  (1, 2),\n",
       "  (2, 0),\n",
       "  (3, 2),\n",
       "  (0, 3),\n",
       "  (2, 4),\n",
       "  (3, 4)])"
      ]
     },
     "execution_count": 14,
     "metadata": {},
     "output_type": "execute_result"
    }
   ],
   "source": [
    "significance_threshold = 0.95\n",
    "\n",
    "effective_candidates = frozenset()\n",
    "for i in range(len(pareto_optimal_models)):\n",
    "    effective_candidates = effective_candidates.union(pareto_optimal_models[i][0])\n",
    "    \n",
    "effective_candidates = {_: 0.0 for _ in effective_candidates}\n",
    "for i in range(len(pareto_optimal_models)):\n",
    "    potential_pde = list(pareto_optimal_models[i][0])\n",
    "    important_scores = shap_linear_importance(problem.numericalize_genome(potential_pde), \n",
    "                                              y_pre, scale=True)\n",
    "    for j in range(len(potential_pde)):\n",
    "        effective_candidates[potential_pde[j]] += important_scores[j]\n",
    "        \n",
    "total_score = sum(effective_candidates.values())\n",
    "for _ in effective_candidates:\n",
    "    effective_candidates[_] = effective_candidates[_]/total_score\n",
    "    \n",
    "effective_candidates = sorted(effective_candidates.items(), key=lambda _: _[1], reverse=True)\n",
    "cumulative_sum = 0\n",
    "top_candidates = []\n",
    "for i in range(len(effective_candidates)):\n",
    "    cumulative_sum += effective_candidates[i][1]\n",
    "    top_candidates.append(effective_candidates[i][0])\n",
    "    if cumulative_sum > significance_threshold:\n",
    "        break\n",
    "\n",
    "X_pre_top = problem.numericalize_genome(top_candidates)\n",
    "effective_candidates, top_candidates"
   ]
  },
  {
   "cell_type": "markdown",
   "id": "d8757b32",
   "metadata": {},
   "source": [
    "### Best-subset selection"
   ]
  },
  {
   "cell_type": "code",
   "execution_count": 15,
   "id": "5dc727d0",
   "metadata": {},
   "outputs": [
    {
     "name": "stderr",
     "output_type": "stream",
     "text": [
      "100%|██████████████████████████████████████████████████████████████████████████████████████████████| 18/18 [01:36<00:00,  5.36s/it]\n",
      "100%|████████████████████████████████████████████████████████████████████████████████████████████████| 9/9 [00:00<00:00, 29.68it/s]\n"
     ]
    }
   ],
   "source": [
    "_, best_subsets = okridge_solvel0_full(X_pre_top, y_pre, \n",
    "                                       k=100, norm='l2')\n",
    "best_subsets = backward_refinement(best_subsets, (X_pre_top, y_pre), \n",
    "                                   ic_type='bic', verbose=False).get_best_subsets()\n",
    "\n",
    "max_ss = min(len(best_subsets), \n",
    "             len(np.nonzero(linear_model.ARDRegression(fit_intercept=False).fit(X_pre_top, \n",
    "                                                                                y_pre.ravel()).coef_)[0]))\n",
    "best_subsets = best_subsets[:max_ss]\n",
    "best_subsets = [tuple(best_subsets[-1][_] for _ in bs) \n",
    "                for bs in brute_force_all_subsets(X_pre_top[:, best_subsets[-1]], y_pre)[1]]"
   ]
  },
  {
   "cell_type": "markdown",
   "id": "259fb918",
   "metadata": {},
   "source": [
    "### Model selection using UBIC"
   ]
  },
  {
   "cell_type": "code",
   "execution_count": 16,
   "id": "96a6c77f",
   "metadata": {},
   "outputs": [
    {
     "name": "stdout",
     "output_type": "stream",
     "text": [
      "1, 2, 3, 4, 5, 6, 7, 8, 9, "
     ]
    },
    {
     "data": {
      "text/plain": [
       "array([1.36780242, 1.00761554, 1.        , 1.34990841, 2.49466617,\n",
       "       2.77448973, 5.68602053, 8.009143  , 9.17169634])"
      ]
     },
     "execution_count": 16,
     "metadata": {},
     "output_type": "execute_result"
    }
   ],
   "source": [
    "# TODO: Calculate post_means for ARDRegression as well (Implement the ard_uncertainties function)\n",
    "ard_uns = []\n",
    "threshold_lambda = 5e5 # must pass assert \n",
    "for bs in best_subsets:\n",
    "    ard = linear_model.ARDRegression(fit_intercept=False, \n",
    "                                     compute_score=True,\n",
    "                                     threshold_lambda=threshold_lambda)\n",
    "    ard.fit(X_pre_top[:, bs], y_pre.ravel())\n",
    "    print(len(bs), end=', ')\n",
    "    assert len(bs) == len(np.nonzero(ard.coef_)[0])\n",
    "    pde_uncert = np.sqrt(np.diag(ard.sigma_)).sum()\n",
    "    ard_uns.append(pde_uncert)\n",
    "ard_uns = np.array(ard_uns)\n",
    "ard_uns = ard_uns/min(ard_uns)\n",
    "ard_uns"
   ]
  },
  {
   "cell_type": "code",
   "execution_count": 17,
   "id": "548e4fa8",
   "metadata": {},
   "outputs": [
    {
     "name": "stdout",
     "output_type": "stream",
     "text": [
      "[-77288.18050635686, -87856.7167820004, -89151.84045975209, -89550.75536729714, -90039.09670859404, -90173.24290242245, -90205.825814263, -90401.95338015049, -90597.9302723638]\n",
      "[1.68006076 1.02854149 1.         1.28971771 2.15738544 2.36263796\n",
      " 4.59799764 5.0653389  5.69342791]\n",
      "threshold: 0.025\n",
      "max_lam: 3.9858546331963876\n",
      "2 <---> 2 inf\n",
      "2 <---> 5 0.0038189618872066723\n"
     ]
    },
    {
     "data": {
      "text/plain": [
       "(2.65723642,\n",
       " array([-70260.09414266, -83554.08760351, -84968.60700383, -84155.56511248,\n",
       "        -81014.24977404, -80289.7767303 , -70971.32827266, -69212.45820963,\n",
       "        -66780.99214795]),\n",
       " 2,\n",
       " 1)"
      ]
     },
     "execution_count": 17,
     "metadata": {},
     "output_type": "execute_result"
    }
   ],
   "source": [
    "tau = 3\n",
    "verbose = True\n",
    "# scale = 1 <- generalized UBIC\n",
    "scale = np.log(len(y_pre))\n",
    "per = 75 # 80\n",
    "\n",
    "post_means, b_bics, b_uns = baye_uncertainties(best_subsets, (X_pre_top, y_pre), \n",
    "                                               u_type='cv1', take_sqrt=True, \n",
    "                                               ridge_lambda=0, \n",
    "                                               threshold=0)\n",
    "# b_uns = ard_uns # USE ard_uns INSTEAD\n",
    "predictions = X_pre_top@post_means\n",
    "print(b_bics)\n",
    "print(b_uns)\n",
    "b_bics = np.array(b_bics)\n",
    "max_complexity = len(b_bics)\n",
    "complexities = np.arange(max_complexity)+1\n",
    "d_complexities = complexities[decreasing_values_indices(b_bics)]\n",
    "d_bics = b_bics[decreasing_values_indices(b_bics)]\n",
    "slopes = np.diff(b_bics)/(np.diff(complexities)*b_bics[:-1])\n",
    "try:\n",
    "    thres = np.percentile(np.abs(np.diff(d_bics)/(np.diff(d_complexities)*d_bics[:-1])), per)\n",
    "    thres = math.ceil(sci_format(thres)[0])*10**sci_format(thres)[1]\n",
    "except IndexError:\n",
    "    thres = 1/40\n",
    "min_thres = 1/40\n",
    "thres = max(thres, min_thres)\n",
    "print(\"threshold:\", thres)\n",
    "\n",
    "lower_bounds = []\n",
    "for k, efi in enumerate(best_subsets):\n",
    "    # assert len(efi) == np.count_nonzero(post_means[:, k:k+1])\n",
    "    com = len(efi)\n",
    "    lower_bound = 2*np.abs(log_like_value(predictions[:, k:k+1], y_pre))-np.log(len(y_pre))*com\n",
    "    lower_bounds.append(lower_bound)\n",
    "\n",
    "last_lam = np.log10(max(lower_bounds/(b_uns*scale)))\n",
    "print(\"max_lam:\", last_lam)\n",
    "delta = last_lam/tau\n",
    "now_lam = last_lam-delta\n",
    "last_ubic = UBIC(b_bics, b_uns, len(y_pre), hyp=10**last_lam, scale=scale)\n",
    "last_bc = np.argmin(last_ubic)\n",
    "bc_seq = [last_bc]\n",
    "while now_lam >= 0:\n",
    "    now_ubic = UBIC(b_bics, b_uns, len(y_pre), hyp=10**now_lam, scale=scale)\n",
    "    now_bc = np.argmin(now_ubic)\n",
    "    \n",
    "    diff_com = now_bc-last_bc\n",
    "    diff_bic = b_bics[now_bc]-b_bics[last_bc]\n",
    "    imp = np.nan\n",
    "    if diff_com != 0:\n",
    "        imp = abs(diff_bic/(b_bics[last_bc]*diff_com))\n",
    "    \n",
    "    if verbose:\n",
    "        print(min(last_bc, now_bc), '<--->', max(last_bc, now_bc), \n",
    "              np.nan_to_num(imp, nan=np.inf))\n",
    "    \n",
    "    if (diff_com > 0 and (diff_bic > 0 or imp < thres)) or \\\n",
    "        (diff_com < 0 and diff_bic > 0 and imp > thres):\n",
    "        break\n",
    "    \n",
    "    last_lam = now_lam\n",
    "    now_lam = round(last_lam-delta, 8)\n",
    "    last_ubic = now_ubic\n",
    "    last_bc = now_bc\n",
    "    if last_bc not in bc_seq:\n",
    "        bc_seq.append(last_bc)\n",
    "\n",
    "best_bc = knee(range(0, len(last_ubic)), last_ubic, 'linear')\n",
    "\n",
    "if best_bc is None:\n",
    "    best_bc = last_bc\n",
    "    alt_bc = bc_seq[-2] if len(bc_seq) > 1 else last_bc-10\n",
    "    cond = abs((b_bics[last_bc]-b_bics[last_bc-1])/b_bics[last_bc-1]) or \\\n",
    "            abs((b_bics[last_bc]-b_bics[alt_bc])/(b_bics[alt_bc]*(last_bc-alt_bc)))\n",
    "    if cond < thres: \n",
    "        best_bc = np.argmin(last_ubic[:alt_bc+1])\n",
    "    \n",
    "last_lam = round(last_lam, 8)\n",
    "last_lam, last_ubic, last_bc, best_bc"
   ]
  },
  {
   "cell_type": "code",
   "execution_count": 18,
   "id": "9ea07764",
   "metadata": {},
   "outputs": [
    {
     "data": {
      "image/png": "[encoded data removed]",
      "text/plain": [
       "<Figure size 350x262.5 with 2 Axes>"
      ]
     },
     "metadata": {},
     "output_type": "display_data"
    }
   ],
   "source": [
    "complexity_axis = [len(bs) for bs in best_subsets]\n",
    "with plt.style.context(['science']):\n",
    "    fig, ax = plt.subplots()\n",
    "    ax2 = ax.twinx()\n",
    "    ax.set_zorder(ax2.get_zorder()+1)\n",
    "    ax.patch.set_visible(False)\n",
    "    \n",
    "    l1, = ax.plot(complexity_axis, last_ubic, 'o-', c='black', markerfacecolor='none', label=f\"$\\lambda = {abs(last_lam)}$\")\n",
    "    ax.set_xticks(complexity_axis)\n",
    "    ax.set_ylabel(\"$\\\\textrm{UBIC}$\", fontsize=12)\n",
    "    ax.set_xlabel(\"Support size\", fontsize=12)\n",
    "    ax.vlines(best_bc+1, min(last_ubic), max(last_ubic), color='red')\n",
    "    \n",
    "    l2, = ax2.plot(complexity_axis, b_uns, 'o--', c='blue', markerfacecolor='none', label=\"Uncertainty $\\\\textrm{U}^{k}$\")\n",
    "    s1 = ax2.scatter(complexity_axis[np.argmin(b_uns)], b_uns[np.argmin(b_uns)], c='blue')\n",
    "    ax2.tick_params(axis='y', labelcolor='blue')\n",
    "\n",
    "    ax.legend([l1, l2, s1], [f\"UBIC with $\\lambda = {round(abs(last_lam), 2)}$\", \"Uncertainty $\\\\textrm{U}^{k}$\", \"Min $\\\\textrm{U}^{k}$\"], \n",
    "              labelcolor='linecolor', loc='upper center', fontsize=12)\n",
    "    \n",
    "    plt.show()"
   ]
  },
  {
   "cell_type": "code",
   "execution_count": 19,
   "id": "e152ec02",
   "metadata": {},
   "outputs": [],
   "source": [
    "# Some ideas\n",
    "# Better knee detection algorithm"
   ]
  },
  {
   "cell_type": "code",
   "execution_count": null,
   "id": "82d3cf53",
   "metadata": {},
   "outputs": [],
   "source": []
  },
  {
   "cell_type": "code",
   "execution_count": null,
   "id": "d0f54615",
   "metadata": {},
   "outputs": [],
   "source": []
  }
 ],
 "metadata": {
  "kernelspec": {
   "display_name": "Python [conda env:pysr_latest]",
   "language": "python",
   "name": "conda-env-pysr_latest-py"
  },
  "language_info": {
   "codemirror_mode": {
    "name": "ipython",
    "version": 3
   },
   "file_extension": ".py",
   "mimetype": "text/x-python",
   "name": "python",
   "nbconvert_exporter": "python",
   "pygments_lexer": "ipython3",
   "version": "3.11.11"
  }
 },
 "nbformat": 4,
 "nbformat_minor": 5
}

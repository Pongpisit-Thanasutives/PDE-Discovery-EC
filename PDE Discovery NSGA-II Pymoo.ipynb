{
 "cells": [
  {
   "cell_type": "code",
   "execution_count": 1,
   "id": "d8401bd4",
   "metadata": {},
   "outputs": [
    {
     "name": "stderr",
     "output_type": "stream",
     "text": [
      "/Users/pongpisit/anaconda3/envs/pysr_latest/lib/python3.11/site-packages/tqdm/auto.py:21: TqdmWarning: IProgress not found. Please update jupyter and ipywidgets. See https://ipywidgets.readthedocs.io/en/stable/user_install.html\n",
      "  from .autonotebook import tqdm as notebook_tqdm\n"
     ]
    }
   ],
   "source": [
    "%matplotlib inline\n",
    "import matplotlib.pyplot as plt\n",
    "\n",
    "import math\n",
    "import os\n",
    "import random\n",
    "from functools import partial\n",
    "from decimal import Decimal\n",
    "import numpy as np\n",
    "import scipy.io as sio\n",
    "import pysindy as ps\n",
    "from tqdm import trange\n",
    "\n",
    "from pymoo.algorithms.moo.nsga2 import NSGA2\n",
    "from pymoo.core.problem import ElementwiseProblem\n",
    "from pymoo.core.sampling import Sampling\n",
    "from pymoo.core.crossover import Crossover\n",
    "from pymoo.core.mutation import Mutation\n",
    "from pymoo.core.duplicate import ElementwiseDuplicateElimination\n",
    "from pymoo.termination.default import DefaultMultiObjectiveTermination\n",
    "from pymoo.optimize import minimize\n",
    "from pymoo.visualization.scatter import Scatter\n",
    "\n",
    "from utils import *\n",
    "from skimage.restoration import estimate_sigma\n",
    "import bm3d\n",
    "from okridge.solvel0 import *\n",
    "from UBIC import *\n",
    "from kneed import KneeLocator\n",
    "\n",
    "from sklearn.gaussian_process import GaussianProcessRegressor\n",
    "from sklearn.gaussian_process.kernels import RBF, WhiteKernel"
   ]
  },
  {
   "cell_type": "code",
   "execution_count": 2,
   "id": "5916f2d3",
   "metadata": {},
   "outputs": [],
   "source": [
    "n_poly = 4\n",
    "n_derivatives = 5\n",
    "n_modules = 8"
   ]
  },
  {
   "cell_type": "code",
   "execution_count": 3,
   "id": "8eaa96d0",
   "metadata": {},
   "outputs": [],
   "source": [
    "data_path = \"../PDE-Discovery-EC/Datasets/\"\n",
    "data = sio.loadmat(os.path.join(data_path, \"burgers.mat\"))\n",
    "u_clean = (data['usol']).real; u = u_clean.copy()\n",
    "x = (data['x'][0]).real\n",
    "t = (data['t'][:,0]).real\n",
    "dt = t[1]-t[0]; dx = x[2]-x[1]"
   ]
  },
  {
   "cell_type": "markdown",
   "id": "3a1e0adc",
   "metadata": {},
   "source": [
    "### Add noise"
   ]
  },
  {
   "cell_type": "code",
   "execution_count": 4,
   "id": "888ee41f",
   "metadata": {},
   "outputs": [
    {
     "name": "stdout",
     "output_type": "stream",
     "text": [
      "Noise level: 50.0\n"
     ]
    }
   ],
   "source": [
    "np.random.seed(0)\n",
    "noise_lv = float(50)\n",
    "print(\"Noise level:\", noise_lv)\n",
    "noise = 0.01*np.abs(noise_lv)*(u.std())*np.random.randn(u.shape[0],u.shape[1])\n",
    "u = u + noise"
   ]
  },
  {
   "cell_type": "code",
   "execution_count": 5,
   "id": "d9754901",
   "metadata": {},
   "outputs": [
    {
     "name": "stderr",
     "output_type": "stream",
     "text": [
      "100%|███████████████████████████████████████████████████████| 101/101 [02:09<00:00,  1.28s/it]\n"
     ]
    },
    {
     "data": {
      "text/plain": [
       "5"
      ]
     },
     "execution_count": 5,
     "metadata": {},
     "output_type": "execute_result"
    }
   ],
   "source": [
    "kernel = RBF(length_scale=1, length_scale_bounds=(1e-2, 1e3)) + \\\n",
    "        WhiteKernel(noise_level=1, noise_level_bounds=(1e-5, 1e5))\n",
    "\n",
    "xx = colvec(x.reshape(-1, 1))\n",
    "u_mean = np.copy(u)\n",
    "u_std = np.ones(u.shape)\n",
    "for i in trange(len(t)):    \n",
    "    gpr = GaussianProcessRegressor(kernel=kernel, n_restarts_optimizer=10)\n",
    "\n",
    "    gpr.fit(xx, u_mean[:, i])\n",
    "    um, ustd = gpr.predict(xx, return_std=True)\n",
    "    u_mean[:, i] = um\n",
    "    u_std[:, i] = ustd\n",
    "    \n",
    "cutoff_ws = knee(range(1, 21), \n",
    "                 [u_std[ws:-ws, :].std() for ws in range(1, 21)], \n",
    "                 'linear')\n",
    "cutoff_ws"
   ]
  },
  {
   "cell_type": "markdown",
   "id": "c5c890b0",
   "metadata": {},
   "source": [
    "### Denoise"
   ]
  },
  {
   "cell_type": "code",
   "execution_count": 6,
   "id": "3f3d31a5",
   "metadata": {},
   "outputs": [],
   "source": [
    "u = bm3d.bm3d(u, sigma_psd=u_std.mean(), \n",
    "              stage_arg=bm3d.BM3DStages.ALL_STAGES, \n",
    "              blockmatches=(False, False))"
   ]
  },
  {
   "cell_type": "code",
   "execution_count": 7,
   "id": "05a04eb0",
   "metadata": {},
   "outputs": [],
   "source": [
    "# cutoff_ws = 0 # No cutoff_ws\n",
    "u = u[cutoff_ws:-cutoff_ws, :]\n",
    "x = x[cutoff_ws:-cutoff_ws]\n",
    "xt = np.array([x.reshape(-1, 1), t.reshape(1, -1)], dtype=object)\n",
    "X, T = np.meshgrid(x, t)\n",
    "XT = np.asarray([X, T]).T"
   ]
  },
  {
   "cell_type": "code",
   "execution_count": 8,
   "id": "6aaf2666",
   "metadata": {},
   "outputs": [],
   "source": [
    "function_library = ps.PolynomialLibrary(degree=n_poly, include_bias=False)\n",
    "\n",
    "weak_lib = ps.WeakPDELibrary(\n",
    "    function_library=function_library,\n",
    "    derivative_order=n_derivatives,\n",
    "    spatiotemporal_grid=XT,\n",
    "    include_bias=True,\n",
    "    diff_kwargs={\"is_uniform\":True},\n",
    "    K=10000\n",
    ")\n",
    "\n",
    "X_pre = np.array(weak_lib.fit_transform(np.expand_dims(u, -1)))\n",
    "y_pre = weak_lib.convert_u_dot_integral(np.expand_dims(u, -1))"
   ]
  },
  {
   "cell_type": "code",
   "execution_count": 9,
   "id": "6ad9a594",
   "metadata": {},
   "outputs": [],
   "source": [
    "base_poly = np.array([[p, 0] for p in range(1, n_poly+1)])\n",
    "base_derivative = np.array([[0, d] for d in range(1, n_derivatives+1)])\n",
    "modules = [(0, 0)] if weak_lib.include_bias else []\n",
    "modules += [(p, 0) for p in range(1, n_poly+1)] + \\\n",
    "            [(0, d) for d in range(1, n_derivatives+1)] + \\\n",
    "            [tuple(p+d) for d in base_derivative for p in base_poly]\n",
    "assert len(modules) == len(weak_lib.get_feature_names())\n",
    "base_features = dict(zip(modules, X_pre.T))\n",
    "u_t = y_pre.copy()"
   ]
  },
  {
   "cell_type": "markdown",
   "id": "bb73e146",
   "metadata": {},
   "source": [
    "### Genetic algorithm with NSGA-II"
   ]
  },
  {
   "cell_type": "code",
   "execution_count": 10,
   "id": "0fa61c51",
   "metadata": {},
   "outputs": [],
   "source": [
    "class PdeDiscoveryProblem(ElementwiseProblem):\n",
    "    def __init__(self, n_poly, n_derivatives, n_modules, \n",
    "                 base_features, u_t, epsilon=0):\n",
    "        super().__init__(n_var=1, n_obj=2, n_ieq_constr=0)\n",
    "        self.n_poly = n_poly\n",
    "        self.n_derivatives = n_derivatives\n",
    "        self.n_modules = n_modules\n",
    "        self.base_features = base_features\n",
    "        self.u_t = u_t\n",
    "        self.epsilon = epsilon\n",
    "        self.sample_size = np.prod(self.u_t.shape)\n",
    "\n",
    "    def _evaluate(self, X, out, *args, **kwargs):\n",
    "        genome = X[0]\n",
    "        coeff, mse = self.compute_genome_coefficient(genome)\n",
    "        mse = mse/self.sample_size\n",
    "        complexity_penalty = self.epsilon*len(genome)\n",
    "        out[\"F\"] = [mse, complexity_penalty]\n",
    "        \n",
    "    def numericalize_genome(self, genome):\n",
    "        return np.stack([self.base_features[tuple(module)] \n",
    "                         for module in genome], axis=-1)\n",
    "\n",
    "    def compute_genome_coefficient(self, genome):\n",
    "        features = self.numericalize_genome(genome)\n",
    "        features = features.reshape(-1, features.shape[-1])\n",
    "        coeff, error, _, _ = np.linalg.lstsq(features, self.u_t, rcond=None)\n",
    "        return coeff, error[0]\n",
    "    \n",
    "    def generate_module(self, n_poly, n_derivatives):\n",
    "        return (random.randint(0, n_poly), random.randint(0, n_derivatives))\n",
    "    \n",
    "    def set_epsilon(self, epsilon):\n",
    "        self.epsilon = epsilon\n",
    "    \n",
    "class PopulationSampling(Sampling):\n",
    "    def _do(self, problem, n_samples, **kwargs):\n",
    "        X = np.full((n_samples, 1), None, dtype=object)\n",
    "        X_set = set()\n",
    "        i = 0\n",
    "        while i < n_samples:\n",
    "            n_modules = random.randint(1, problem.n_modules)\n",
    "            genome = frozenset(problem.generate_module(problem.n_poly, problem.n_derivatives) for _ in range(n_modules))\n",
    "            if len(genome) > 0 and genome not in X_set:\n",
    "                X_set.add(genome)\n",
    "                X[i, 0] = genome\n",
    "                i += 1\n",
    "        return X\n",
    "    \n",
    "class DuplicateElimination(ElementwiseDuplicateElimination):\n",
    "    def is_equal(self, g1, g2):\n",
    "        return g1.X[0] == g2.X[0]"
   ]
  },
  {
   "cell_type": "code",
   "execution_count": 11,
   "id": "2dea1072",
   "metadata": {},
   "outputs": [],
   "source": [
    "class GenomeCrossover(Crossover):\n",
    "    def __init__(self):\n",
    "        # define the crossover: number of parents and number of offsprings\n",
    "        super().__init__(2, 2)\n",
    "\n",
    "    def _do(self, problem, X, **kwargs):\n",
    "        # The input of has the following shape (n_parents, n_matings, n_var)\n",
    "        _, n_matings, n_var = X.shape\n",
    "\n",
    "        # The output owith the shape (n_offsprings, n_matings, n_var)\n",
    "        # Because there the number of parents and offsprings are equal it keeps the shape of X\n",
    "        Y = np.full_like(X, None, dtype=object)\n",
    "        \n",
    "        # for each mating provided\n",
    "        for k in range(n_matings):\n",
    "            # get the first and the second parent          \n",
    "            Y[0, k, 0], Y[1, k, 0] = self.crossover_permutation(X[0, k, 0], X[1, k, 0])\n",
    "            \n",
    "        return Y\n",
    "    \n",
    "    def crossover_permutation(self, genome1, genome2):\n",
    "        collection = list(genome1) + list(genome2)\n",
    "        random.shuffle(collection)\n",
    "        return frozenset(collection[:len(genome1)]), frozenset(collection[len(genome1):])\n",
    "    \n",
    "class GenomeMutation(Mutation):\n",
    "    def __init__(self, add_rate=0.4, del_rate=0.5, order_rate=0.4):\n",
    "        super().__init__()\n",
    "        self.add_rate = add_rate\n",
    "        self.del_rate = del_rate\n",
    "        self.order_rate = order_rate\n",
    "\n",
    "    def _do(self, problem, X, **kwargs):\n",
    "        for i in range(len(X)):\n",
    "            if random.random() < self.add_rate:\n",
    "                X[i, 0] = self.add_mutate(problem, X[i, 0])\n",
    "            if random.random() < self.del_rate:\n",
    "                X[i, 0] = self.del_mutate(problem, X[i, 0])\n",
    "            if random.random() < self.order_rate:\n",
    "                X[i, 0] = self.module_mutate(problem, X[i, 0])\n",
    "        return X\n",
    "    \n",
    "    def add_mutate(self, problem, genome, max_iter=3):\n",
    "        for _ in range(max_iter):\n",
    "            new_module = problem.generate_module(problem.n_poly, problem.n_derivatives)\n",
    "            if new_module not in genome:\n",
    "                return genome.union(frozenset({new_module}))\n",
    "        return genome\n",
    "    \n",
    "    def del_mutate(self, problem, genome, max_iter=3):\n",
    "        genome = list(genome)\n",
    "        lg = len(genome)\n",
    "        if lg > 0:\n",
    "            if lg == 1:\n",
    "                for _ in range(max_iter):\n",
    "                    new_module = problem.generate_module(problem.n_poly, problem.n_derivatives)\n",
    "                    if new_module != genome[0]:\n",
    "                        return frozenset({new_module})\n",
    "            else:\n",
    "                genome.pop(random.randint(0, lg-1))\n",
    "        return frozenset(genome)\n",
    "    \n",
    "    def module_mutate(self, problem, genome):\n",
    "        if len(genome) == 0:\n",
    "            return genome\n",
    "        genome = set(genome)\n",
    "        genome.remove(random.choice(list(genome)))\n",
    "        for _ in range(3):\n",
    "            new_module = problem.generate_module(problem.n_poly, problem.n_derivatives)\n",
    "            if new_module not in genome:\n",
    "                genome.add(new_module)\n",
    "                return frozenset(genome)\n",
    "        return frozenset(genome)"
   ]
  },
  {
   "cell_type": "code",
   "execution_count": 12,
   "id": "263f3258",
   "metadata": {},
   "outputs": [],
   "source": [
    "pop_size = 500\n",
    "problem = PdeDiscoveryProblem(n_poly, n_derivatives, n_modules, \n",
    "                              base_features, u_t, 0)\n",
    "pop = PopulationSampling().do(problem, pop_size)\n",
    "pop = [[pop[i].X[0]] for i in range(len(pop))]\n",
    "epi = 10**(sci_format(np.median(problem.evaluate(pop)[:, 0]))[1])\n",
    "problem.set_epsilon(epi)\n",
    "del pop"
   ]
  },
  {
   "cell_type": "code",
   "execution_count": 13,
   "id": "296e4b3d",
   "metadata": {},
   "outputs": [
    {
     "name": "stdout",
     "output_type": "stream",
     "text": [
      "==========================================================\n",
      "n_gen  |  n_eval  | n_nds  |      eps      |   indicator  \n",
      "==========================================================\n",
      "     1 |      500 |      6 |             - |             -\n",
      "     2 |     1000 |      6 |  0.0023513854 |             f\n",
      "     3 |     1500 |      8 |  0.0077328702 |         ideal\n",
      "     4 |     2000 |      8 |  0.0094633475 |         ideal\n",
      "     5 |     2500 |      8 |  0.0062439596 |         ideal\n",
      "     6 |     3000 |      9 |  0.0334318952 |             f\n",
      "     7 |     3500 |      8 |  0.0024319007 |             f\n",
      "     8 |     4000 |      9 |  0.0051301120 |             f\n",
      "     9 |     4500 |      9 |  0.0053886041 |             f\n",
      "    10 |     5000 |      9 |  0.000000E+00 |             f\n",
      "    11 |     5500 |      9 |  0.000000E+00 |             f\n",
      "    12 |     6000 |      9 |  0.0003064463 |             f\n",
      "    13 |     6500 |      9 |  0.0030391940 |         ideal\n",
      "    14 |     7000 |     10 |  0.2727272727 |         nadir\n",
      "    15 |     7500 |     10 |  0.1000000000 |         nadir\n",
      "    16 |     8000 |     10 |  0.0000229488 |             f\n",
      "    17 |     8500 |     10 |  0.0010269205 |             f\n",
      "    18 |     9000 |     11 |  0.0075728201 |         ideal\n",
      "    19 |     9500 |     11 |  0.000000E+00 |             f\n",
      "    20 |    10000 |     12 |  0.0079060047 |             f\n",
      "    21 |    10500 |     12 |  0.0833333333 |         nadir\n",
      "    22 |    11000 |     12 |  0.0002018326 |             f\n",
      "    23 |    11500 |     12 |  0.0002018326 |             f\n",
      "    24 |    12000 |     11 |  0.0006125097 |             f\n",
      "    25 |    12500 |     11 |  0.0006125097 |             f\n",
      "    26 |    13000 |     11 |  0.0006125097 |             f\n",
      "    27 |    13500 |     12 |  0.0008168153 |             f\n",
      "    28 |    14000 |     13 |  0.0040792272 |         ideal\n",
      "    29 |    14500 |     13 |  0.0000414304 |             f\n",
      "    30 |    15000 |     13 |  0.0000414304 |             f\n",
      "    31 |    15500 |     13 |  0.0001192013 |             f\n",
      "    32 |    16000 |     13 |  0.0001192013 |             f\n",
      "    33 |    16500 |     13 |  0.0004511837 |             f\n",
      "    34 |    17000 |     13 |  0.0008017736 |             f\n",
      "    35 |    17500 |     14 |  0.2000000000 |         nadir\n",
      "    36 |    18000 |     14 |  0.1538461538 |         nadir\n",
      "    37 |    18500 |     14 |  0.0000553737 |             f\n",
      "    38 |    19000 |     15 |  0.0714285714 |         nadir\n",
      "    39 |    19500 |     15 |  0.0000419246 |             f\n",
      "    40 |    20000 |     16 |  0.0025094870 |         ideal\n",
      "    41 |    20500 |     16 |  0.0001620640 |             f\n",
      "    42 |    21000 |     15 |  0.0003071072 |             f\n",
      "    43 |    21500 |     15 |  0.0004147632 |             f\n",
      "    44 |    22000 |     15 |  0.0004147632 |             f\n",
      "    45 |    22500 |     15 |  0.0006002302 |             f\n",
      "    46 |    23000 |     15 |  0.0625000000 |         nadir\n",
      "    47 |    23500 |     14 |  0.0666666667 |         nadir\n",
      "    48 |    24000 |     14 |  0.0714285714 |         nadir\n",
      "    49 |    24500 |     15 |  0.0666666667 |         nadir\n",
      "    50 |    25000 |     15 |  0.000000E+00 |             f\n",
      "    51 |    25500 |     15 |  7.080167E-06 |             f\n",
      "    52 |    26000 |     16 |  0.0041734914 |             f\n",
      "    53 |    26500 |     17 |  0.1176470588 |         nadir\n",
      "    54 |    27000 |     17 |  0.000000E+00 |             f\n",
      "    55 |    27500 |     18 |  0.0555555556 |         nadir\n",
      "    56 |    28000 |     17 |  0.1250000000 |         nadir\n",
      "    57 |    28500 |     17 |  0.000000E+00 |             f\n",
      "    58 |    29000 |     17 |  0.0001266788 |             f\n",
      "    59 |    29500 |     17 |  0.0001266788 |             f\n",
      "    60 |    30000 |     17 |  0.0001266788 |             f\n",
      "    61 |    30500 |     17 |  0.0001666752 |             f\n",
      "    62 |    31000 |     17 |  0.0001666752 |             f\n",
      "    63 |    31500 |     17 |  0.0001666752 |             f\n",
      "    64 |    32000 |     17 |  0.0001666752 |             f\n",
      "    65 |    32500 |     17 |  0.0001666752 |             f\n",
      "    66 |    33000 |     17 |  0.0002422327 |             f\n",
      "    67 |    33500 |     18 |  0.1111111111 |         nadir\n",
      "    68 |    34000 |     18 |  0.0000570383 |             f\n",
      "    69 |    34500 |     18 |  0.0001391882 |             f\n",
      "    70 |    35000 |     18 |  0.0001391882 |             f\n",
      "    71 |    35500 |     19 |  0.0031381480 |             f\n",
      "    72 |    36000 |     19 |  0.000000E+00 |             f\n",
      "    73 |    36500 |     19 |  0.000000E+00 |             f\n",
      "    74 |    37000 |     19 |  0.0000768620 |             f\n",
      "    75 |    37500 |     19 |  0.0000768620 |             f\n",
      "    76 |    38000 |     20 |  0.0526315789 |         nadir\n",
      "    77 |    38500 |     20 |  0.000000E+00 |             f\n",
      "    78 |    39000 |     20 |  0.0000314681 |             f\n",
      "    79 |    39500 |     20 |  0.0000314681 |             f\n",
      "    80 |    40000 |     20 |  0.0000314681 |             f\n",
      "    81 |    40500 |     20 |  0.0001102097 |             f\n",
      "    82 |    41000 |     20 |  0.0001102097 |             f\n",
      "    83 |    41500 |     20 |  0.0001102097 |             f\n",
      "    84 |    42000 |     20 |  0.0001102097 |             f\n",
      "    85 |    42500 |     20 |  0.0001102097 |             f\n",
      "    86 |    43000 |     20 |  0.0002030822 |             f\n",
      "    87 |    43500 |     20 |  0.0002030822 |             f\n",
      "    88 |    44000 |     20 |  0.0002030822 |             f\n",
      "    89 |    44500 |     19 |  0.0003765104 |             f\n",
      "    90 |    45000 |     19 |  0.0003765104 |             f\n",
      "    91 |    45500 |     19 |  0.0003819967 |             f\n",
      "    92 |    46000 |     20 |  0.0004387445 |             f\n",
      "    93 |    46500 |     20 |  0.0004387445 |             f\n",
      "    94 |    47000 |     20 |  0.0004998340 |             f\n",
      "    95 |    47500 |     20 |  0.0004998340 |             f\n",
      "    96 |    48000 |     20 |  0.0500000000 |         nadir\n",
      "    97 |    48500 |     20 |  0.0000897375 |             f\n",
      "    98 |    49000 |     20 |  0.0001452789 |             f\n",
      "    99 |    49500 |     20 |  0.0001452789 |             f\n",
      "   100 |    50000 |     20 |  0.0001452789 |             f\n"
     ]
    },
    {
     "data": {
      "text/plain": [
       "array([frozenset({(1, 1), (0, 2)})], dtype=object)"
      ]
     },
     "execution_count": 13,
     "metadata": {},
     "output_type": "execute_result"
    }
   ],
   "source": [
    "termination = DefaultMultiObjectiveTermination(\n",
    "    xtol=1e-8,\n",
    "    cvtol=1e-6,\n",
    "    ftol=1e-8,\n",
    "    period=50,\n",
    "    n_max_gen=100,\n",
    "    n_max_evals=100000\n",
    ")\n",
    "\n",
    "algorithm = NSGA2(pop_size=pop_size,\n",
    "                  sampling=PopulationSampling(),\n",
    "                  crossover=GenomeCrossover(),\n",
    "                  mutation=GenomeMutation(),\n",
    "                  eliminate_duplicates=DuplicateElimination())\n",
    "\n",
    "res = minimize(problem,\n",
    "               algorithm,\n",
    "               termination=termination,\n",
    "               verbose=True)\n",
    "\n",
    "pareto_optimal_models = res.X[np.argsort(res.F[:, 0]+res.F[:, 1])]\n",
    "best = pareto_optimal_models[0]\n",
    "best"
   ]
  },
  {
   "cell_type": "code",
   "execution_count": 14,
   "id": "9fe7f4e0",
   "metadata": {},
   "outputs": [
    {
     "data": {
      "text/plain": [
       "([((1, 1), 0.3238069679208121),\n",
       "  ((0, 2), 0.1608303888229748),\n",
       "  ((4, 0), 0.05539161948544132),\n",
       "  ((3, 0), 0.054244941474508854),\n",
       "  ((0, 1), 0.052724471354010594),\n",
       "  ((0, 4), 0.0458002726242785),\n",
       "  ((3, 3), 0.044231698054688504),\n",
       "  ((4, 3), 0.03641776663362045),\n",
       "  ((4, 5), 0.02761045680986976),\n",
       "  ((3, 5), 0.024020369440057615),\n",
       "  ((2, 3), 0.020934684554176172),\n",
       "  ((3, 4), 0.018493194851749613),\n",
       "  ((3, 2), 0.01781872629379474),\n",
       "  ((1, 2), 0.01773051882496314),\n",
       "  ((2, 1), 0.01733499682500835),\n",
       "  ((0, 3), 0.017048042498177048),\n",
       "  ((2, 4), 0.016697787117853434),\n",
       "  ((2, 0), 0.013579767367414586),\n",
       "  ((3, 1), 0.009056661199097807),\n",
       "  ((2, 5), 0.0075053420713887264),\n",
       "  ((1, 0), 0.004507983037003793),\n",
       "  ((1, 3), 0.0040641697317368875),\n",
       "  ((4, 1), 0.002242021756689765),\n",
       "  ((4, 4), 0.0020835094928778855),\n",
       "  ((4, 2), 0.001867951453009204),\n",
       "  ((1, 5), 0.0017226366124127972),\n",
       "  ((0, 5), 0.0016477278005512356),\n",
       "  ((1, 4), 0.0005853258918325262)],\n",
       " [(1, 1),\n",
       "  (0, 2),\n",
       "  (4, 0),\n",
       "  (3, 0),\n",
       "  (0, 1),\n",
       "  (0, 4),\n",
       "  (3, 3),\n",
       "  (4, 3),\n",
       "  (4, 5),\n",
       "  (3, 5),\n",
       "  (2, 3),\n",
       "  (3, 4),\n",
       "  (3, 2),\n",
       "  (1, 2),\n",
       "  (2, 1),\n",
       "  (0, 3),\n",
       "  (2, 4)])"
      ]
     },
     "execution_count": 14,
     "metadata": {},
     "output_type": "execute_result"
    }
   ],
   "source": [
    "significance_threshold = 0.95\n",
    "\n",
    "effective_candidates = frozenset()\n",
    "for i in range(len(pareto_optimal_models)):\n",
    "    effective_candidates = effective_candidates.union(pareto_optimal_models[i][0])\n",
    "    \n",
    "effective_candidates = {_: 0.0 for _ in effective_candidates}\n",
    "for i in range(len(pareto_optimal_models)):\n",
    "    potential_pde = list(pareto_optimal_models[i][0])\n",
    "    important_scores = shap_linear_importance(problem.numericalize_genome(potential_pde), \n",
    "                                              y_pre, scale=True)\n",
    "    for j in range(len(potential_pde)):\n",
    "        effective_candidates[potential_pde[j]] += important_scores[j]\n",
    "        \n",
    "total_score = sum(effective_candidates.values())\n",
    "for _ in effective_candidates:\n",
    "    effective_candidates[_] = effective_candidates[_]/total_score\n",
    "    \n",
    "effective_candidates = sorted(effective_candidates.items(), key=lambda _: _[1], reverse=True)\n",
    "cumulative_sum = 0\n",
    "top_candidates = []\n",
    "for i in range(len(effective_candidates)):\n",
    "    cumulative_sum += effective_candidates[i][1]\n",
    "    top_candidates.append(effective_candidates[i][0])\n",
    "    if cumulative_sum > significance_threshold:\n",
    "        break\n",
    "\n",
    "X_pre_top = problem.numericalize_genome(top_candidates)\n",
    "effective_candidates, top_candidates"
   ]
  },
  {
   "cell_type": "markdown",
   "id": "d8757b32",
   "metadata": {},
   "source": [
    "### Best-subset selection"
   ]
  },
  {
   "cell_type": "code",
   "execution_count": 15,
   "id": "5dc727d0",
   "metadata": {},
   "outputs": [
    {
     "name": "stderr",
     "output_type": "stream",
     "text": [
      "100%|█████████████████████████████████████████████████████████| 17/17 [01:07<00:00,  3.96s/it]\n"
     ]
    },
    {
     "data": {
      "text/plain": [
       "[[4],\n",
       " [0, 1],\n",
       " [0, 1, 5],\n",
       " [0, 1, 5, 6],\n",
       " [0, 1, 5, 7, 12],\n",
       " [0, 1, 5, 7, 11, 16],\n",
       " [0, 1, 5, 7, 11, 15, 16],\n",
       " [0, 1, 5, 6, 7, 11, 15, 16],\n",
       " [0, 1, 5, 6, 7, 8, 9, 12, 15],\n",
       " [0, 1, 2, 4, 5, 6, 7, 8, 9, 15],\n",
       " [0, 1, 2, 3, 5, 6, 7, 8, 9, 14, 15],\n",
       " [0, 1, 2, 3, 5, 6, 7, 8, 9, 12, 14, 15],\n",
       " [0, 1, 2, 3, 5, 6, 7, 8, 9, 12, 13, 14, 15],\n",
       " [0, 1, 2, 3, 5, 6, 7, 8, 9, 11, 12, 13, 14, 15],\n",
       " [0, 1, 2, 3, 5, 6, 7, 8, 9, 11, 12, 13, 14, 15, 16],\n",
       " [0, 1, 2, 3, 5, 6, 7, 8, 9, 10, 11, 12, 13, 14, 15, 16],\n",
       " [0, 1, 2, 3, 4, 5, 6, 7, 8, 9, 10, 11, 12, 13, 14, 15, 16]]"
      ]
     },
     "execution_count": 15,
     "metadata": {},
     "output_type": "execute_result"
    }
   ],
   "source": [
    "pde_coefficients, best_subsets = okridge_solvel0_full(X_pre_top, y_pre, \n",
    "                                                      k=100, norm='l2')\n",
    "best_subsets"
   ]
  },
  {
   "cell_type": "markdown",
   "id": "259fb918",
   "metadata": {},
   "source": [
    "### Model selection using UBIC"
   ]
  },
  {
   "cell_type": "code",
   "execution_count": 16,
   "id": "f7d976dc",
   "metadata": {},
   "outputs": [],
   "source": [
    "max_ss = min(len(best_subsets), \n",
    "             len(np.nonzero(linear_model.ARDRegression(fit_intercept=False).fit(X_pre_top, \n",
    "                                                                                y_pre.ravel()).coef_)[0]))\n",
    "best_subsets = best_subsets[:max_ss]"
   ]
  },
  {
   "cell_type": "code",
   "execution_count": 17,
   "id": "96a6c77f",
   "metadata": {},
   "outputs": [
    {
     "name": "stdout",
     "output_type": "stream",
     "text": [
      "1, 2, 3, 4, 5, 6, 7, 8, 9, "
     ]
    },
    {
     "data": {
      "text/plain": [
       "array([ 1.        ,  1.99285253,  1.97777658,  2.66981031,  4.93386291,\n",
       "        3.12971403,  3.51002867, 10.66821056, 18.13937229])"
      ]
     },
     "execution_count": 17,
     "metadata": {},
     "output_type": "execute_result"
    }
   ],
   "source": [
    "# TODO: Calculate post_means for ARDRegression as well (Implement the ard_uncertainties function)\n",
    "ard_uns = []\n",
    "threshold_lambda = 5e5 # must pass assert \n",
    "for bs in best_subsets:\n",
    "    ard = linear_model.ARDRegression(fit_intercept=False, \n",
    "                                     compute_score=True,\n",
    "                                     threshold_lambda=threshold_lambda)\n",
    "    ard.fit(X_pre_top[:, bs], y_pre.ravel())\n",
    "    print(len(bs), end=', ')\n",
    "    assert len(bs) == len(np.nonzero(ard.coef_)[0])\n",
    "    pde_uncert = np.sqrt(np.diag(ard.sigma_)).sum()\n",
    "    ard_uns.append(pde_uncert)\n",
    "ard_uns = np.array(ard_uns)\n",
    "ard_uns = ard_uns/min(ard_uns)\n",
    "ard_uns"
   ]
  },
  {
   "cell_type": "code",
   "execution_count": 18,
   "id": "548e4fa8",
   "metadata": {},
   "outputs": [
    {
     "name": "stdout",
     "output_type": "stream",
     "text": [
      "[-77576.43824888987, -87857.77183226998, -89153.05194642014, -89552.01840155276, -90040.42427146481, -90251.94705070063, -90288.4644050038, -90460.2809848669, -90599.45407653852]\n",
      "[1.64847972 1.02854878 1.         1.28971416 2.15737195 1.47270231\n",
      " 1.64342878 4.29904483 5.69317807]\n",
      "threshold: 0.03\n",
      "max_lam: 3.9858605347952474\n",
      "2 <---> 2 inf\n",
      "2 <---> 6 0.003183885559145069\n"
     ]
    },
    {
     "data": {
      "text/plain": [
       "(2.65724036,\n",
       " array([-70680.40023982, -83555.07318006, -84969.78059321, -84156.79410948,\n",
       "        -81015.55201467, -84091.23368416, -83413.55585811, -72476.20990792,\n",
       "        -66783.3453485 ]),\n",
       " 2,\n",
       " 1)"
      ]
     },
     "execution_count": 18,
     "metadata": {},
     "output_type": "execute_result"
    }
   ],
   "source": [
    "tau = 3\n",
    "verbose = True\n",
    "# scale = 1 <- generalized UBIC\n",
    "scale = np.log(len(y_pre))\n",
    "per = 75 # 80\n",
    "\n",
    "post_means, b_bics, b_uns = baye_uncertainties(best_subsets, (X_pre_top, y_pre), u_type='cv1', take_sqrt=True)\n",
    "# b_uns = ard_uns # USE ard_uns INSTEAD\n",
    "predictions = X_pre_top@post_means\n",
    "print(b_bics)\n",
    "print(b_uns)\n",
    "b_bics = np.array(b_bics)\n",
    "max_complexity = len(b_bics)\n",
    "complexities = np.arange(max_complexity)+1\n",
    "d_complexities = complexities[decreasing_values_indices(b_bics)]\n",
    "d_bics = b_bics[decreasing_values_indices(b_bics)]\n",
    "slopes = np.diff(b_bics)/(np.diff(complexities)*b_bics[:-1])\n",
    "try:\n",
    "    thres = np.percentile(np.abs(np.diff(d_bics)/(np.diff(d_complexities)*d_bics[:-1])), per)\n",
    "except IndexError:\n",
    "    thres = 1/40\n",
    "min_thres = 1/40\n",
    "thres = max(thres, min_thres)\n",
    "thres = math.ceil(sci_format(thres)[0])*10**sci_format(thres)[1]\n",
    "print(\"threshold:\", thres)\n",
    "\n",
    "lower_bounds = []\n",
    "for k, efi in enumerate(best_subsets):\n",
    "    assert len(efi) == np.count_nonzero(post_means[:, k:k+1])\n",
    "    com = len(efi)\n",
    "    lower_bound = 2*np.abs(log_like_value(predictions[:, k:k+1], y_pre))-np.log(len(y_pre))*com\n",
    "    lower_bounds.append(lower_bound)\n",
    "\n",
    "last_lam = np.log10(max(lower_bounds/(b_uns*scale)))\n",
    "print(\"max_lam:\", last_lam)\n",
    "delta = last_lam/tau\n",
    "now_lam = last_lam-delta\n",
    "last_ubic = UBIC(b_bics, b_uns, len(y_pre), hyp=10**last_lam, scale=scale)\n",
    "last_bc = np.argmin(last_ubic)\n",
    "bc_seq = [last_bc]\n",
    "while now_lam >= 0:\n",
    "    now_ubic = UBIC(b_bics, b_uns, len(y_pre), hyp=10**now_lam, scale=scale)\n",
    "    now_bc = np.argmin(now_ubic)\n",
    "    \n",
    "    diff_com = now_bc-last_bc\n",
    "    diff_bic = b_bics[now_bc]-b_bics[last_bc]\n",
    "    imp = np.nan\n",
    "    if diff_com != 0:\n",
    "        imp = abs(diff_bic/(b_bics[last_bc]*diff_com))\n",
    "    \n",
    "    if verbose:\n",
    "        print(min(last_bc, now_bc), '<--->', max(last_bc, now_bc), \n",
    "              np.nan_to_num(imp, nan=np.inf))\n",
    "    \n",
    "    if (diff_com > 0 and (diff_bic > 0 or imp < thres)) or \\\n",
    "        (diff_com < 0 and diff_bic > 0 and imp > thres):\n",
    "        break\n",
    "    \n",
    "    last_lam = now_lam\n",
    "    now_lam = round(last_lam-delta, 8)\n",
    "    last_ubic = now_ubic\n",
    "    last_bc = now_bc\n",
    "    if last_bc not in bc_seq:\n",
    "        bc_seq.append(last_bc)\n",
    "\n",
    "best_bc = knee(range(0, len(last_ubic)), last_ubic, 'linear')\n",
    "\n",
    "if best_bc is None:\n",
    "    best_bc = last_bc\n",
    "    alt_bc = bc_seq[-2] if len(bc_seq) > 1 else last_bc-10\n",
    "    cond = abs((b_bics[last_bc]-b_bics[last_bc-1])/b_bics[last_bc-1]) or \\\n",
    "            abs((b_bics[last_bc]-b_bics[alt_bc])/(b_bics[alt_bc]*(last_bc-alt_bc)))\n",
    "    if cond < thres: \n",
    "        best_bc = np.argmin(last_ubic[:alt_bc+1])\n",
    "    \n",
    "last_lam = round(last_lam, 8)\n",
    "last_lam, last_ubic, last_bc, best_bc"
   ]
  },
  {
   "cell_type": "code",
   "execution_count": 19,
   "id": "9ea07764",
   "metadata": {},
   "outputs": [
    {
     "data": {
      "image/png": "[encoded data removed]",
      "text/plain": [
       "<Figure size 350x262.5 with 2 Axes>"
      ]
     },
     "metadata": {},
     "output_type": "display_data"
    }
   ],
   "source": [
    "complexity_axis = [len(bs) for bs in best_subsets]\n",
    "with plt.style.context(['science']):\n",
    "    fig, ax = plt.subplots()\n",
    "    ax2 = ax.twinx()\n",
    "    ax.set_zorder(ax2.get_zorder()+1)\n",
    "    ax.patch.set_visible(False)\n",
    "    \n",
    "    l1, = ax.plot(complexity_axis, last_ubic, 'o-', c='black', markerfacecolor='none', label=f\"$\\lambda = {abs(last_lam)}$\")\n",
    "    ax.set_xticks(complexity_axis)\n",
    "    ax.set_ylabel(\"$\\\\textrm{UBIC}$\", fontsize=12)\n",
    "    ax.set_xlabel(\"Support size\", fontsize=12)\n",
    "    ax.vlines(best_bc+1, min(last_ubic), max(last_ubic), color='red')\n",
    "    \n",
    "    l2, = ax2.plot(complexity_axis, b_uns, 'o--', c='blue', markerfacecolor='none', label=\"Uncertainty $\\\\textrm{U}^{k}$\")\n",
    "    s1 = ax2.scatter(complexity_axis[np.argmin(b_uns)], b_uns[np.argmin(b_uns)], c='blue')\n",
    "    ax2.tick_params(axis='y', labelcolor='blue')\n",
    "\n",
    "    ax.legend([l1, l2, s1], [f\"UBIC with $\\lambda = {round(abs(last_lam), 2)}$\", \"Uncertainty $\\\\textrm{U}^{k}$\", \"Min $\\\\textrm{U}^{k}$\"], \n",
    "              labelcolor='linecolor', loc='upper center', fontsize=12)\n",
    "    \n",
    "    plt.show()"
   ]
  },
  {
   "cell_type": "code",
   "execution_count": null,
   "id": "cd7d71fb",
   "metadata": {},
   "outputs": [],
   "source": []
  },
  {
   "cell_type": "code",
   "execution_count": null,
   "id": "bdfe0394",
   "metadata": {},
   "outputs": [],
   "source": []
  }
 ],
 "metadata": {
  "kernelspec": {
   "display_name": "Python [conda env:pysr_latest]",
   "language": "python",
   "name": "conda-env-pysr_latest-py"
  },
  "language_info": {
   "codemirror_mode": {
    "name": "ipython",
    "version": 3
   },
   "file_extension": ".py",
   "mimetype": "text/x-python",
   "name": "python",
   "nbconvert_exporter": "python",
   "pygments_lexer": "ipython3",
   "version": "3.11.11"
  }
 },
 "nbformat": 4,
 "nbformat_minor": 5
}

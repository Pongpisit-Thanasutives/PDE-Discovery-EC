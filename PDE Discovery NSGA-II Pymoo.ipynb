{
 "cells": [
  {
   "cell_type": "code",
   "execution_count": 1,
   "id": "d8401bd4",
   "metadata": {},
   "outputs": [
    {
     "name": "stderr",
     "output_type": "stream",
     "text": [
      "/Users/pongpisit/anaconda3/envs/pysr_latest/lib/python3.11/site-packages/tqdm/auto.py:21: TqdmWarning: IProgress not found. Please update jupyter and ipywidgets. See https://ipywidgets.readthedocs.io/en/stable/user_install.html\n",
      "  from .autonotebook import tqdm as notebook_tqdm\n"
     ]
    }
   ],
   "source": [
    "%matplotlib inline\n",
    "import matplotlib.pyplot as plt\n",
    "\n",
    "import math\n",
    "import os\n",
    "import random\n",
    "from functools import partial\n",
    "from decimal import Decimal\n",
    "import numpy as np\n",
    "import scipy.io as sio\n",
    "import pysindy as ps\n",
    "from tqdm import trange\n",
    "\n",
    "from pymoo.algorithms.moo.nsga2 import NSGA2\n",
    "from pymoo.core.problem import ElementwiseProblem\n",
    "from pymoo.core.sampling import Sampling\n",
    "from pymoo.core.crossover import Crossover\n",
    "from pymoo.core.mutation import Mutation\n",
    "from pymoo.core.duplicate import ElementwiseDuplicateElimination\n",
    "from pymoo.termination.default import DefaultMultiObjectiveTermination\n",
    "from pymoo.optimize import minimize\n",
    "from pymoo.visualization.scatter import Scatter\n",
    "\n",
    "from utils import *\n",
    "from skimage.restoration import estimate_sigma\n",
    "import bm3d\n",
    "from okridge.solvel0 import *\n",
    "from UBIC import *\n",
    "from kneed import KneeLocator"
   ]
  },
  {
   "cell_type": "code",
   "execution_count": 2,
   "id": "5916f2d3",
   "metadata": {},
   "outputs": [],
   "source": [
    "n_poly = 4\n",
    "n_derivatives = 5\n",
    "n_modules = 8"
   ]
  },
  {
   "cell_type": "code",
   "execution_count": 3,
   "id": "8eaa96d0",
   "metadata": {},
   "outputs": [],
   "source": [
    "data_path = \"../PDE-Discovery-EC/Datasets/\"\n",
    "data = sio.loadmat(os.path.join(data_path, \"burgers.mat\"))\n",
    "u_clean = (data['usol']).real; u = u_clean.copy()\n",
    "x = (data['x'][0]).real\n",
    "t = (data['t'][:,0]).real\n",
    "dt = t[1]-t[0]; dx = x[2]-x[1]\n",
    "xt = np.array([x.reshape(-1, 1), t.reshape(1, -1)], dtype=object)\n",
    "X, T = np.meshgrid(x, t)\n",
    "XT = np.asarray([X, T]).T"
   ]
  },
  {
   "cell_type": "markdown",
   "id": "3a1e0adc",
   "metadata": {},
   "source": [
    "### Add noise"
   ]
  },
  {
   "cell_type": "code",
   "execution_count": 4,
   "id": "888ee41f",
   "metadata": {},
   "outputs": [
    {
     "name": "stdout",
     "output_type": "stream",
     "text": [
      "Noise level: 50.0\n"
     ]
    }
   ],
   "source": [
    "np.random.seed(0)\n",
    "noise_lv = float(50)\n",
    "print(\"Noise level:\", noise_lv)\n",
    "noise = 0.01*np.abs(noise_lv)*(u.std())*np.random.randn(u.shape[0],u.shape[1])\n",
    "u = u + noise"
   ]
  },
  {
   "cell_type": "markdown",
   "id": "c5c890b0",
   "metadata": {},
   "source": [
    "### Denoise"
   ]
  },
  {
   "cell_type": "code",
   "execution_count": 5,
   "id": "3f3d31a5",
   "metadata": {},
   "outputs": [],
   "source": [
    "u = bm3d.bm3d(u, sigma_psd=math.ceil(estimate_sigma(u)*100)/100, \n",
    "              stage_arg=bm3d.BM3DStages.ALL_STAGES, \n",
    "              blockmatches=(False, False))"
   ]
  },
  {
   "cell_type": "code",
   "execution_count": 6,
   "id": "6aaf2666",
   "metadata": {},
   "outputs": [],
   "source": [
    "function_library = ps.PolynomialLibrary(degree=n_poly, include_bias=False)\n",
    "\n",
    "weak_lib = ps.WeakPDELibrary(\n",
    "    function_library=function_library,\n",
    "    derivative_order=n_derivatives,\n",
    "    spatiotemporal_grid=XT,\n",
    "    include_bias=True,\n",
    "    diff_kwargs={\"is_uniform\":True},\n",
    "    K=10000\n",
    ")\n",
    "\n",
    "X_pre = np.array(weak_lib.fit_transform(np.expand_dims(u, -1)))\n",
    "y_pre = weak_lib.convert_u_dot_integral(np.expand_dims(u, -1))"
   ]
  },
  {
   "cell_type": "code",
   "execution_count": 7,
   "id": "6ad9a594",
   "metadata": {},
   "outputs": [],
   "source": [
    "base_poly = np.array([[p, 0] for p in range(1, n_poly+1)])\n",
    "base_derivative = np.array([[0, d] for d in range(1, n_derivatives+1)])\n",
    "modules = [(0, 0)] if weak_lib.include_bias else []\n",
    "modules += [(p, 0) for p in range(1, n_poly+1)] + \\\n",
    "            [(0, d) for d in range(1, n_derivatives+1)] + \\\n",
    "            [tuple(p+d) for d in base_derivative for p in base_poly]\n",
    "assert len(modules) == len(weak_lib.get_feature_names())\n",
    "base_features = dict(zip(modules, X_pre.T))\n",
    "u_t = y_pre.copy()"
   ]
  },
  {
   "cell_type": "markdown",
   "id": "bb73e146",
   "metadata": {},
   "source": [
    "### Genetic algorithm with NSGA-II"
   ]
  },
  {
   "cell_type": "code",
   "execution_count": 8,
   "id": "0fa61c51",
   "metadata": {},
   "outputs": [],
   "source": [
    "class PdeDiscoveryProblem(ElementwiseProblem):\n",
    "    def __init__(self, n_poly, n_derivatives, n_modules, \n",
    "                 base_features, u_t, epsilon=0):\n",
    "        super().__init__(n_var=1, n_obj=2, n_ieq_constr=0)\n",
    "        self.n_poly = n_poly\n",
    "        self.n_derivatives = n_derivatives\n",
    "        self.n_modules = n_modules\n",
    "        self.base_features = base_features\n",
    "        self.u_t = u_t\n",
    "        self.epsilon = epsilon\n",
    "        self.sample_size = np.prod(self.u_t.shape)\n",
    "\n",
    "    def _evaluate(self, X, out, *args, **kwargs):\n",
    "        genome = X[0]\n",
    "        coeff, mse = self.compute_genome_coefficient(genome)\n",
    "        mse = mse/self.sample_size\n",
    "        complexity_penalty = self.epsilon*len(genome)\n",
    "        out[\"F\"] = [mse, complexity_penalty]\n",
    "        \n",
    "    def numericalize_genome(self, genome):\n",
    "        return np.stack([self.base_features[tuple(module)] \n",
    "                         for module in genome], axis=-1)\n",
    "\n",
    "    def compute_genome_coefficient(self, genome):\n",
    "        features = self.numericalize_genome(genome)\n",
    "        features = features.reshape(-1, features.shape[-1])\n",
    "        coeff, error, _, _ = np.linalg.lstsq(features, self.u_t, rcond=None)\n",
    "        return coeff, error[0]\n",
    "    \n",
    "    def generate_module(self, n_poly, n_derivatives):\n",
    "        return (random.randint(0, n_poly), random.randint(0, n_derivatives))\n",
    "    \n",
    "    def set_epsilon(self, epsilon):\n",
    "        self.epsilon = epsilon\n",
    "    \n",
    "class PopulationSampling(Sampling):\n",
    "    def _do(self, problem, n_samples, **kwargs):\n",
    "        X = np.full((n_samples, 1), None, dtype=object)\n",
    "        X_set = set()\n",
    "        i = 0\n",
    "        while i < n_samples:\n",
    "            n_modules = random.randint(1, problem.n_modules)\n",
    "            genome = frozenset(problem.generate_module(problem.n_poly, problem.n_derivatives) for _ in range(n_modules))\n",
    "            if len(genome) > 0 and genome not in X_set:\n",
    "                X_set.add(genome)\n",
    "                X[i, 0] = genome\n",
    "                i += 1\n",
    "        return X\n",
    "    \n",
    "class DuplicateElimination(ElementwiseDuplicateElimination):\n",
    "    def is_equal(self, g1, g2):\n",
    "        return g1.X[0] == g2.X[0]"
   ]
  },
  {
   "cell_type": "code",
   "execution_count": 9,
   "id": "2dea1072",
   "metadata": {},
   "outputs": [],
   "source": [
    "class GenomeCrossover(Crossover):\n",
    "    def __init__(self):\n",
    "        # define the crossover: number of parents and number of offsprings\n",
    "        super().__init__(2, 2)\n",
    "\n",
    "    def _do(self, problem, X, **kwargs):\n",
    "        # The input of has the following shape (n_parents, n_matings, n_var)\n",
    "        _, n_matings, n_var = X.shape\n",
    "\n",
    "        # The output owith the shape (n_offsprings, n_matings, n_var)\n",
    "        # Because there the number of parents and offsprings are equal it keeps the shape of X\n",
    "        Y = np.full_like(X, None, dtype=object)\n",
    "        \n",
    "        # for each mating provided\n",
    "        for k in range(n_matings):\n",
    "            # get the first and the second parent          \n",
    "            Y[0, k, 0], Y[1, k, 0] = self.crossover_permutation(X[0, k, 0], X[1, k, 0])\n",
    "            \n",
    "        return Y\n",
    "    \n",
    "    def crossover_permutation(self, genome1, genome2):\n",
    "        collection = list(genome1) + list(genome2)\n",
    "        random.shuffle(collection)\n",
    "        return frozenset(collection[:len(genome1)]), frozenset(collection[len(genome1):])\n",
    "    \n",
    "class GenomeMutation(Mutation):\n",
    "    def __init__(self, add_rate=0.4, del_rate=0.5, order_rate=0.4):\n",
    "        super().__init__()\n",
    "        self.add_rate = add_rate\n",
    "        self.del_rate = del_rate\n",
    "        self.order_rate = order_rate\n",
    "\n",
    "    def _do(self, problem, X, **kwargs):\n",
    "        for i in range(len(X)):\n",
    "            if random.random() < self.add_rate:\n",
    "                X[i, 0] = self.add_mutate(problem, X[i, 0])\n",
    "            if random.random() < self.del_rate:\n",
    "                X[i, 0] = self.del_mutate(problem, X[i, 0])\n",
    "            if random.random() < self.order_rate:\n",
    "                X[i, 0] = self.module_mutate(problem, X[i, 0])\n",
    "        return X\n",
    "    \n",
    "    def add_mutate(self, problem, genome, max_iter=3):\n",
    "        for _ in range(max_iter):\n",
    "            new_module = problem.generate_module(problem.n_poly, problem.n_derivatives)\n",
    "            if new_module not in genome:\n",
    "                return genome.union(frozenset({new_module}))\n",
    "        return genome\n",
    "    \n",
    "    def del_mutate(self, problem, genome, max_iter=3):\n",
    "        genome = list(genome)\n",
    "        lg = len(genome)\n",
    "        if lg > 0:\n",
    "            if lg == 1:\n",
    "                for _ in range(max_iter):\n",
    "                    new_module = problem.generate_module(problem.n_poly, problem.n_derivatives)\n",
    "                    if new_module != genome[0]:\n",
    "                        return frozenset({new_module})\n",
    "            else:\n",
    "                genome.pop(random.randint(0, lg-1))\n",
    "        return frozenset(genome)\n",
    "    \n",
    "    def module_mutate(self, problem, genome):\n",
    "        if len(genome) == 0:\n",
    "            return genome\n",
    "        genome = set(genome)\n",
    "        genome.remove(random.choice(list(genome)))\n",
    "        for _ in range(3):\n",
    "            new_module = problem.generate_module(problem.n_poly, problem.n_derivatives)\n",
    "            if new_module not in genome:\n",
    "                genome.add(new_module)\n",
    "                return frozenset(genome)\n",
    "        return frozenset(genome)"
   ]
  },
  {
   "cell_type": "code",
   "execution_count": 10,
   "id": "263f3258",
   "metadata": {},
   "outputs": [],
   "source": [
    "pop_size = 500\n",
    "problem = PdeDiscoveryProblem(n_poly, n_derivatives, n_modules, \n",
    "                              base_features, u_t, 0)\n",
    "pop = PopulationSampling().do(problem, pop_size)\n",
    "pop = [[pop[i].X[0]] for i in range(len(pop))]\n",
    "epi = 10**(sci_format(np.median(problem.evaluate(pop)[:, 0]))[1])\n",
    "problem.set_epsilon(epi)\n",
    "del pop"
   ]
  },
  {
   "cell_type": "code",
   "execution_count": 11,
   "id": "296e4b3d",
   "metadata": {},
   "outputs": [
    {
     "name": "stdout",
     "output_type": "stream",
     "text": [
      "==========================================================\n",
      "n_gen  |  n_eval  | n_nds  |      eps      |   indicator  \n",
      "==========================================================\n",
      "     1 |      500 |      4 |             - |             -\n",
      "     2 |     1000 |      5 |  0.0054178622 |         ideal\n",
      "     3 |     1500 |      7 |  0.0071478005 |         ideal\n",
      "     4 |     2000 |      8 |  0.0178571435 |             f\n",
      "     5 |     2500 |      8 |  0.0016740499 |             f\n",
      "     6 |     3000 |      9 |  0.1250000000 |         nadir\n",
      "     7 |     3500 |      8 |  0.0060618309 |         ideal\n",
      "     8 |     4000 |      8 |  0.0005746512 |             f\n",
      "     9 |     4500 |      8 |  0.0012281131 |             f\n",
      "    10 |     5000 |      8 |  0.0013520721 |             f\n",
      "    11 |     5500 |      8 |  0.0023668321 |             f\n",
      "    12 |     6000 |      9 |  0.2222222222 |         nadir\n",
      "    13 |     6500 |     10 |  0.0061826880 |         ideal\n",
      "    14 |     7000 |     10 |  0.0025109795 |         ideal\n",
      "    15 |     7500 |     10 |  0.0000549648 |             f\n",
      "    16 |     8000 |      9 |  0.0001008149 |             f\n",
      "    17 |     8500 |     10 |  0.0012026866 |             f\n",
      "    18 |     9000 |     11 |  0.1818181818 |         nadir\n",
      "    19 |     9500 |     11 |  0.0029167144 |         ideal\n",
      "    20 |    10000 |     11 |  0.000000E+00 |             f\n",
      "    21 |    10500 |     11 |  0.000000E+00 |             f\n",
      "    22 |    11000 |     11 |  0.000000E+00 |             f\n",
      "    23 |    11500 |     11 |  0.0002929191 |             f\n",
      "    24 |    12000 |     11 |  0.0002929191 |             f\n",
      "    25 |    12500 |     11 |  0.0004840771 |             f\n",
      "    26 |    13000 |     11 |  0.0007013857 |             f\n",
      "    27 |    13500 |     12 |  0.1666666667 |         nadir\n",
      "    28 |    14000 |     12 |  0.000000E+00 |             f\n",
      "    29 |    14500 |     12 |  7.754956E-07 |             f\n",
      "    30 |    15000 |     12 |  0.0000155070 |             f\n",
      "    31 |    15500 |     12 |  0.0000155070 |             f\n",
      "    32 |    16000 |     12 |  0.0909090909 |         nadir\n",
      "    33 |    16500 |     12 |  0.000000E+00 |             f\n",
      "    34 |    17000 |     13 |  0.0833333333 |         nadir\n",
      "    35 |    17500 |     12 |  0.0029250040 |         ideal\n",
      "    36 |    18000 |     11 |  0.0005617699 |             f\n",
      "    37 |    18500 |     12 |  0.0007397277 |             f\n",
      "    38 |    19000 |     12 |  0.0008042380 |             f\n",
      "    39 |    19500 |     13 |  0.2142857143 |         nadir\n",
      "    40 |    20000 |     13 |  0.0085737923 |         ideal\n",
      "    41 |    20500 |     13 |  0.000000E+00 |             f\n",
      "    42 |    21000 |     13 |  0.0002400763 |             f\n",
      "    43 |    21500 |     13 |  0.0002400763 |             f\n",
      "    44 |    22000 |     14 |  0.0053870599 |             f\n",
      "    45 |    22500 |     14 |  1.937403E-06 |             f\n",
      "    46 |    23000 |     14 |  0.0000104351 |             f\n",
      "    47 |    23500 |     14 |  0.0001515115 |             f\n",
      "    48 |    24000 |     14 |  0.0001515115 |             f\n",
      "    49 |    24500 |     16 |  0.1250000000 |         nadir\n",
      "    50 |    25000 |     16 |  0.000000E+00 |             f\n",
      "    51 |    25500 |     16 |  0.0666666667 |         nadir\n",
      "    52 |    26000 |     16 |  0.0001507161 |             f\n",
      "    53 |    26500 |     17 |  0.0625000000 |         nadir\n",
      "    54 |    27000 |     17 |  0.000000E+00 |             f\n",
      "    55 |    27500 |     17 |  0.0002179132 |             f\n",
      "    56 |    28000 |     17 |  0.0002636929 |             f\n",
      "    57 |    28500 |     17 |  0.0002771524 |             f\n",
      "    58 |    29000 |     17 |  0.0004287121 |             f\n",
      "    59 |    29500 |     17 |  0.0004665954 |             f\n",
      "    60 |    30000 |     17 |  0.0004665954 |             f\n",
      "    61 |    30500 |     17 |  0.0004665954 |             f\n",
      "    62 |    31000 |     17 |  0.0005028242 |             f\n",
      "    63 |    31500 |     17 |  0.0005456728 |             f\n",
      "    64 |    32000 |     18 |  0.1111111111 |         nadir\n",
      "    65 |    32500 |     19 |  0.0029239812 |             f\n",
      "    66 |    33000 |     19 |  0.000000E+00 |             f\n",
      "    67 |    33500 |     19 |  0.0000319371 |             f\n",
      "    68 |    34000 |     19 |  0.0000967531 |             f\n",
      "    69 |    34500 |     19 |  0.0000967531 |             f\n",
      "    70 |    35000 |     19 |  0.0000995019 |             f\n",
      "    71 |    35500 |     19 |  0.0000995019 |             f\n",
      "    72 |    36000 |     19 |  0.0002041316 |             f\n",
      "    73 |    36500 |     19 |  0.0002041316 |             f\n",
      "    74 |    37000 |     19 |  0.0002555942 |             f\n",
      "    75 |    37500 |     18 |  0.0033291968 |         ideal\n",
      "    76 |    38000 |     18 |  3.674400E-07 |             f\n",
      "    77 |    38500 |     18 |  3.674400E-07 |             f\n",
      "    78 |    39000 |     18 |  3.674400E-07 |             f\n",
      "    79 |    39500 |     18 |  6.752621E-06 |             f\n",
      "    80 |    40000 |     18 |  0.0000473394 |             f\n",
      "    81 |    40500 |     18 |  0.0000473394 |             f\n",
      "    82 |    41000 |     18 |  0.0000763363 |             f\n",
      "    83 |    41500 |     18 |  0.0000765804 |             f\n",
      "    84 |    42000 |     18 |  0.0000765804 |             f\n",
      "    85 |    42500 |     18 |  0.0000765804 |             f\n",
      "    86 |    43000 |     18 |  0.1176470588 |         nadir\n",
      "    87 |    43500 |     18 |  0.0000345885 |             f\n",
      "    88 |    44000 |     20 |  0.1500000000 |         nadir\n",
      "    89 |    44500 |     20 |  0.000000E+00 |             f\n",
      "    90 |    45000 |     20 |  4.492192E-06 |             f\n",
      "    91 |    45500 |     21 |  0.0476190476 |         nadir\n",
      "    92 |    46000 |     21 |  0.000000E+00 |             f\n",
      "    93 |    46500 |     21 |  0.000000E+00 |             f\n",
      "    94 |    47000 |     21 |  0.0000671717 |             f\n",
      "    95 |    47500 |     21 |  0.0000671717 |             f\n",
      "    96 |    48000 |     21 |  0.0000671717 |             f\n",
      "    97 |    48500 |     21 |  0.0000671717 |             f\n",
      "    98 |    49000 |     21 |  0.0000671717 |             f\n",
      "    99 |    49500 |     21 |  0.0000671717 |             f\n",
      "   100 |    50000 |     21 |  0.0000671717 |             f\n"
     ]
    },
    {
     "data": {
      "text/plain": [
       "array([frozenset({(1, 1), (0, 2)})], dtype=object)"
      ]
     },
     "execution_count": 11,
     "metadata": {},
     "output_type": "execute_result"
    }
   ],
   "source": [
    "termination = DefaultMultiObjectiveTermination(\n",
    "    xtol=1e-8,\n",
    "    cvtol=1e-6,\n",
    "    ftol=1e-8,\n",
    "    period=50,\n",
    "    n_max_gen=100,\n",
    "    n_max_evals=100000\n",
    ")\n",
    "\n",
    "algorithm = NSGA2(pop_size=pop_size,\n",
    "                  sampling=PopulationSampling(),\n",
    "                  crossover=GenomeCrossover(),\n",
    "                  mutation=GenomeMutation(),\n",
    "                  eliminate_duplicates=DuplicateElimination())\n",
    "\n",
    "res = minimize(problem,\n",
    "               algorithm,\n",
    "               termination=termination,\n",
    "               verbose=True)\n",
    "\n",
    "pareto_optimal_models = res.X[np.argsort(res.F[:, 0]+res.F[:, 1])]\n",
    "best = pareto_optimal_models[0]\n",
    "best"
   ]
  },
  {
   "cell_type": "code",
   "execution_count": 12,
   "id": "9fe7f4e0",
   "metadata": {},
   "outputs": [
    {
     "data": {
      "text/plain": [
       "([((1, 1), 0.316601186350156),\n",
       "  ((0, 2), 0.14113729213026938),\n",
       "  ((2, 3), 0.06372245313926357),\n",
       "  ((3, 0), 0.049827479033254525),\n",
       "  ((0, 1), 0.04813501226703839),\n",
       "  ((3, 3), 0.04633455085180546),\n",
       "  ((4, 0), 0.04505955649378593),\n",
       "  ((0, 4), 0.04089693328534257),\n",
       "  ((4, 3), 0.03631362795407886),\n",
       "  ((1, 3), 0.033619488978642996),\n",
       "  ((3, 5), 0.03217485916733872),\n",
       "  ((1, 2), 0.02873588321101785),\n",
       "  ((4, 5), 0.024777782954559024),\n",
       "  ((2, 2), 0.0187554432851522),\n",
       "  ((2, 5), 0.014726733405238187),\n",
       "  ((2, 0), 0.011330341151521404),\n",
       "  ((3, 2), 0.007766313224475981),\n",
       "  ((0, 3), 0.007369433043394274),\n",
       "  ((1, 5), 0.0072749404963105176),\n",
       "  ((3, 1), 0.005842658952478106),\n",
       "  ((2, 1), 0.005173774883064074),\n",
       "  ((2, 4), 0.0026214818577580097),\n",
       "  ((1, 4), 0.002435849217968064),\n",
       "  ((4, 4), 0.0023754997592964912),\n",
       "  ((3, 4), 0.0019207201484912082),\n",
       "  ((1, 0), 0.0017467084836090916),\n",
       "  ((4, 1), 0.0013845123761155405),\n",
       "  ((0, 5), 0.0012986193698580023),\n",
       "  ((4, 2), 0.000640864528715575)],\n",
       " [(1, 1),\n",
       "  (0, 2),\n",
       "  (2, 3),\n",
       "  (3, 0),\n",
       "  (0, 1),\n",
       "  (3, 3),\n",
       "  (4, 0),\n",
       "  (0, 4),\n",
       "  (4, 3),\n",
       "  (1, 3),\n",
       "  (3, 5),\n",
       "  (1, 2),\n",
       "  (4, 5),\n",
       "  (2, 2),\n",
       "  (2, 5),\n",
       "  (2, 0)])"
      ]
     },
     "execution_count": 12,
     "metadata": {},
     "output_type": "execute_result"
    }
   ],
   "source": [
    "significance_threshold = 0.95\n",
    "\n",
    "effective_candidates = frozenset()\n",
    "for i in range(len(pareto_optimal_models)):\n",
    "    effective_candidates = effective_candidates.union(pareto_optimal_models[i][0])\n",
    "    \n",
    "effective_candidates = {_: 0.0 for _ in effective_candidates}\n",
    "for i in range(len(pareto_optimal_models)):\n",
    "    potential_pde = list(pareto_optimal_models[i][0])\n",
    "    important_scores = shap_linear_importance(problem.numericalize_genome(potential_pde), \n",
    "                                              y_pre, scale=True)\n",
    "    for j in range(len(potential_pde)):\n",
    "        effective_candidates[potential_pde[j]] += important_scores[j]\n",
    "        \n",
    "total_score = sum(effective_candidates.values())\n",
    "for _ in effective_candidates:\n",
    "    effective_candidates[_] = effective_candidates[_]/total_score\n",
    "    \n",
    "effective_candidates = sorted(effective_candidates.items(), key=lambda _: _[1], reverse=True)\n",
    "cumulative_sum = 0\n",
    "top_candidates = []\n",
    "for i in range(len(effective_candidates)):\n",
    "    cumulative_sum += effective_candidates[i][1]\n",
    "    top_candidates.append(effective_candidates[i][0])\n",
    "    if cumulative_sum > significance_threshold:\n",
    "        break\n",
    "\n",
    "X_pre_top = problem.numericalize_genome(top_candidates)\n",
    "effective_candidates, top_candidates"
   ]
  },
  {
   "cell_type": "markdown",
   "id": "d8757b32",
   "metadata": {},
   "source": [
    "### Best-subset selection"
   ]
  },
  {
   "cell_type": "code",
   "execution_count": 13,
   "id": "5dc727d0",
   "metadata": {},
   "outputs": [
    {
     "name": "stderr",
     "output_type": "stream",
     "text": [
      "100%|█████████████████████████████████████████████████████████████████| 16/16 [00:42<00:00,  2.63s/it]\n"
     ]
    },
    {
     "data": {
      "text/plain": [
       "[[4],\n",
       " [0, 1],\n",
       " [0, 1, 7],\n",
       " [0, 1, 5, 7],\n",
       " [0, 1, 7, 8, 12],\n",
       " [0, 1, 7, 8, 12, 13],\n",
       " [0, 1, 5, 7, 8, 10, 12],\n",
       " [0, 1, 2, 7, 8, 9, 10, 12],\n",
       " [0, 1, 2, 6, 7, 8, 9, 10, 12],\n",
       " [0, 1, 2, 3, 6, 7, 8, 9, 10, 12],\n",
       " [0, 1, 2, 4, 6, 7, 8, 9, 10, 12, 15],\n",
       " [0, 1, 2, 4, 6, 7, 8, 9, 10, 12, 13, 15],\n",
       " [0, 1, 2, 3, 4, 6, 7, 8, 9, 10, 11, 12, 13],\n",
       " [0, 1, 2, 3, 4, 6, 7, 8, 9, 10, 11, 12, 13, 14],\n",
       " [0, 1, 2, 3, 4, 5, 6, 7, 8, 9, 10, 11, 12, 13, 14],\n",
       " [0, 1, 2, 3, 4, 5, 6, 7, 8, 9, 10, 11, 12, 13, 14, 15]]"
      ]
     },
     "execution_count": 13,
     "metadata": {},
     "output_type": "execute_result"
    }
   ],
   "source": [
    "pde_coefficients, best_subsets = okridge_solvel0_full(X_pre_top, y_pre, \n",
    "                                                      k=100, norm='l2')\n",
    "best_subsets"
   ]
  },
  {
   "cell_type": "markdown",
   "id": "259fb918",
   "metadata": {},
   "source": [
    "### Model selection using UBIC"
   ]
  },
  {
   "cell_type": "code",
   "execution_count": 14,
   "id": "b4203907",
   "metadata": {},
   "outputs": [],
   "source": [
    "max_ss = min(len(best_subsets), \n",
    "             len(np.nonzero(linear_model.ARDRegression(fit_intercept=False).fit(X_pre_top, \n",
    "                                                                                y_pre.ravel()).coef_)[0]))\n",
    "best_subsets = best_subsets[:max_ss]"
   ]
  },
  {
   "cell_type": "code",
   "execution_count": 15,
   "id": "96a6c77f",
   "metadata": {},
   "outputs": [
    {
     "name": "stdout",
     "output_type": "stream",
     "text": [
      "1, 2, 3, 4, 5, 6, 7, 8, 9, 10, "
     ]
    },
    {
     "data": {
      "text/plain": [
       "array([ 1.        ,  1.95534963,  1.95903285,  2.68117983,  3.27124716,\n",
       "        5.23947185, 12.22429052, 13.42229973, 16.34831948, 30.48701323])"
      ]
     },
     "execution_count": 15,
     "metadata": {},
     "output_type": "execute_result"
    }
   ],
   "source": [
    "# TODO: Calculate post_means for ARDRegression as well (Implement the ard_uncertainties function)\n",
    "ard_uns = []\n",
    "threshold_lambda = 5e5 # must pass assert \n",
    "for bs in best_subsets:\n",
    "    ard = linear_model.ARDRegression(fit_intercept=False, \n",
    "                                     compute_score=True,\n",
    "                                     threshold_lambda=threshold_lambda)\n",
    "    ard.fit(X_pre_top[:, bs], y_pre.ravel())\n",
    "    print(len(bs), end=', ')\n",
    "    assert len(bs) == len(np.nonzero(ard.coef_)[0])\n",
    "    pde_uncert = np.sqrt(np.diag(ard.sigma_)).sum()\n",
    "    ard_uns.append(pde_uncert)\n",
    "ard_uns = np.array(ard_uns)\n",
    "ard_uns = ard_uns/min(ard_uns)\n",
    "ard_uns"
   ]
  },
  {
   "cell_type": "code",
   "execution_count": 16,
   "id": "99dd7395",
   "metadata": {},
   "outputs": [
    {
     "name": "stdout",
     "output_type": "stream",
     "text": [
      "[-76864.34597469149, -87457.79417648776, -88585.30062990784, -88871.12291600314, -89234.07380163956, -89414.75707055861, -89614.69804958352, -89810.19687424651, -89862.47916109467, -89931.76933280443]\n",
      "[1.654541   1.01435539 1.         1.31337365 1.53457566 2.33585335\n",
      " 4.54528509 4.6288727  5.62409632 8.87608861]\n",
      "threshold: 0.02\n",
      "max_lam: 3.983085983338851\n",
      "2 <---> 2 inf\n",
      "2 <---> 5 0.0031211214304281264\n"
     ]
    },
    {
     "data": {
      "text/plain": [
       "(2.65539066,\n",
       " array([-69972.36817288, -83232.50460321, -84419.80833391, -83400.27508552,\n",
       "        -82841.81070722, -79684.7779543 , -70681.34800346, -70528.66329681,\n",
       "        -66435.34927164, -52958.49062164]),\n",
       " 2,\n",
       " 1)"
      ]
     },
     "execution_count": 16,
     "metadata": {},
     "output_type": "execute_result"
    }
   ],
   "source": [
    "tau = 3\n",
    "verbose = True\n",
    "# scale = 1 <- generalized UBIC\n",
    "scale = np.log(len(y_pre))\n",
    "per = 75 # 80\n",
    "\n",
    "post_means, b_bics, b_uns = baye_uncertainties(best_subsets, (X_pre_top, y_pre), u_type='cv1', take_sqrt=True)\n",
    "# b_uns = ard_uns # USE ard_uns INSTEAD\n",
    "predictions = X_pre_top@post_means\n",
    "print(b_bics)\n",
    "print(b_uns)\n",
    "b_bics = np.array(b_bics)\n",
    "max_complexity = len(b_bics)\n",
    "complexities = np.arange(max_complexity)+1\n",
    "d_complexities = complexities[decreasing_values_indices(b_bics)]\n",
    "d_bics = b_bics[decreasing_values_indices(b_bics)]\n",
    "slopes = np.diff(b_bics)/(np.diff(complexities)*b_bics[:-1])\n",
    "try:\n",
    "    thres = np.percentile(np.abs(np.diff(d_bics)/(np.diff(d_complexities)*d_bics[:-1])), per)\n",
    "except IndexError:\n",
    "    thres = 0.02\n",
    "min_thres = 0.02\n",
    "thres = max(thres, min_thres)\n",
    "thres = math.ceil(sci_format(thres)[0])*10**sci_format(thres)[1]\n",
    "print(\"threshold:\", thres)\n",
    "\n",
    "lower_bounds = []\n",
    "for k, efi in enumerate(best_subsets):\n",
    "    assert len(efi) == np.count_nonzero(post_means[:, k:k+1])\n",
    "    com = len(efi)\n",
    "    lower_bound = 2*np.abs(log_like_value(predictions[:, k:k+1], y_pre))-np.log(len(y_pre))*com\n",
    "    lower_bounds.append(lower_bound)\n",
    "\n",
    "last_lam = np.log10(max(lower_bounds/(b_uns*scale)))\n",
    "print(\"max_lam:\", last_lam)\n",
    "delta = last_lam/tau\n",
    "now_lam = last_lam-delta\n",
    "last_ubic = UBIC(b_bics, b_uns, len(y_pre), hyp=10**last_lam, scale=scale)\n",
    "last_bc = np.argmin(last_ubic)\n",
    "bc_seq = [last_bc]\n",
    "while now_lam >= 0:\n",
    "    now_ubic = UBIC(b_bics, b_uns, len(y_pre), hyp=10**now_lam, scale=scale)\n",
    "    now_bc = np.argmin(now_ubic)\n",
    "    \n",
    "    diff_com = now_bc-last_bc\n",
    "    diff_bic = b_bics[now_bc]-b_bics[last_bc]\n",
    "    imp = np.nan\n",
    "    if diff_com != 0:\n",
    "        imp = abs(diff_bic/(b_bics[last_bc]*diff_com))\n",
    "    \n",
    "    if verbose:\n",
    "        print(min(last_bc, now_bc), '<--->', max(last_bc, now_bc), \n",
    "              np.nan_to_num(imp, nan=np.inf))\n",
    "    \n",
    "    if (diff_com > 0 and (diff_bic > 0 or imp < thres)) or \\\n",
    "        (diff_com < 0 and diff_bic > 0 and imp > thres):\n",
    "        break\n",
    "    \n",
    "    last_lam = now_lam\n",
    "    now_lam = round(last_lam-delta, 8)\n",
    "    last_ubic = now_ubic\n",
    "    last_bc = now_bc\n",
    "    if last_bc not in bc_seq:\n",
    "        bc_seq.append(last_bc)\n",
    "\n",
    "best_bc = KneeLocator(range(0, len(last_ubic)), last_ubic, S=1, \n",
    "                      curve='convex', direction='decreasing').knee\n",
    "# best_bc = max(best_bc, 1)\n",
    "\n",
    "if best_bc is None:\n",
    "    best_bc = last_bc\n",
    "    alt_bc = bc_seq[-2] if len(bc_seq) > 1 else last_bc-10\n",
    "    cond = abs((b_bics[last_bc]-b_bics[last_bc-1])/b_bics[last_bc-1]) or \\\n",
    "            abs((b_bics[last_bc]-b_bics[alt_bc])/(b_bics[alt_bc]*(last_bc-alt_bc)))\n",
    "    if cond < thres: \n",
    "        best_bc = np.argmin(last_ubic[:alt_bc+1])\n",
    "    \n",
    "last_lam = round(last_lam, 8)\n",
    "last_lam, last_ubic, last_bc, best_bc"
   ]
  },
  {
   "cell_type": "code",
   "execution_count": 17,
   "id": "9ea07764",
   "metadata": {},
   "outputs": [
    {
     "data": {
      "image/png": "[encoded data removed]",
      "text/plain": [
       "<Figure size 350x262.5 with 2 Axes>"
      ]
     },
     "metadata": {},
     "output_type": "display_data"
    }
   ],
   "source": [
    "complexity_axis = [len(bs) for bs in best_subsets]\n",
    "with plt.style.context(['science']):\n",
    "    fig, ax = plt.subplots()\n",
    "    ax2 = ax.twinx()\n",
    "    ax.set_zorder(ax2.get_zorder()+1)\n",
    "    ax.patch.set_visible(False)\n",
    "    \n",
    "    l1, = ax.plot(complexity_axis, last_ubic, 'o-', c='black', markerfacecolor='none', label=f\"$\\lambda = {abs(last_lam)}$\")\n",
    "    ax.set_xticks(complexity_axis)\n",
    "    ax.set_ylabel(\"$\\\\textrm{UBIC}$\", fontsize=12)\n",
    "    ax.set_xlabel(\"Support size\", fontsize=12)\n",
    "    ax.vlines(best_bc+1, min(last_ubic), max(last_ubic), color='red')\n",
    "    \n",
    "    l2, = ax2.plot(complexity_axis, b_uns, 'o--', c='blue', markerfacecolor='none', label=\"Uncertainty $\\\\textrm{U}^{k}$\")\n",
    "    s1 = ax2.scatter(complexity_axis[np.argmin(b_uns)], b_uns[np.argmin(b_uns)], c='blue')\n",
    "    ax2.tick_params(axis='y', labelcolor='blue')\n",
    "\n",
    "    ax.legend([l1, l2, s1], [f\"UBIC with $\\lambda = {round(abs(last_lam), 2)}$\", \"Uncertainty $\\\\textrm{U}^{k}$\", \"Min $\\\\textrm{U}^{k}$\"], \n",
    "              labelcolor='linecolor', loc='upper center', fontsize=12)\n",
    "    \n",
    "    plt.show()"
   ]
  },
  {
   "cell_type": "code",
   "execution_count": null,
   "id": "d9d6784c",
   "metadata": {},
   "outputs": [],
   "source": []
  },
  {
   "cell_type": "code",
   "execution_count": null,
   "id": "2ff52fc1",
   "metadata": {},
   "outputs": [],
   "source": []
  }
 ],
 "metadata": {
  "kernelspec": {
   "display_name": "Python [conda env:pysr_latest]",
   "language": "python",
   "name": "conda-env-pysr_latest-py"
  },
  "language_info": {
   "codemirror_mode": {
    "name": "ipython",
    "version": 3
   },
   "file_extension": ".py",
   "mimetype": "text/x-python",
   "name": "python",
   "nbconvert_exporter": "python",
   "pygments_lexer": "ipython3",
   "version": "3.11.11"
  }
 },
 "nbformat": 4,
 "nbformat_minor": 5
}

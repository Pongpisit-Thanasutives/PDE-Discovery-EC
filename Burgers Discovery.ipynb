{
 "cells": [
  {
   "cell_type": "code",
   "execution_count": 1,
   "id": "d8401bd4",
   "metadata": {},
   "outputs": [],
   "source": [
    "%load_ext autoreload\n",
    "%autoreload 2\n",
    "%matplotlib inline\n",
    "import matplotlib.pyplot as plt\n",
    "import scienceplots\n",
    "\n",
    "import time\n",
    "import math\n",
    "import os\n",
    "import random\n",
    "from functools import partial\n",
    "from decimal import Decimal\n",
    "import numpy as np\n",
    "import scipy.io as sio\n",
    "import pysindy as ps\n",
    "from tqdm import trange\n",
    "\n",
    "from pymoo.algorithms.moo.nsga2 import NSGA2\n",
    "from pymoo.algorithms.moo.dnsga2 import DNSGA2\n",
    "from pymoo.core.problem import ElementwiseProblem\n",
    "from pymoo.core.sampling import Sampling\n",
    "from pymoo.core.crossover import Crossover\n",
    "from pymoo.core.mutation import Mutation\n",
    "from pymoo.core.duplicate import ElementwiseDuplicateElimination\n",
    "from pymoo.termination.default import DefaultMultiObjectiveTermination\n",
    "from pymoo.optimize import minimize\n",
    "from pymoo.visualization.scatter import Scatter\n",
    "from pymoo.core.problem import StarmapParallelization\n",
    "from multiprocessing.pool import ThreadPool\n",
    "\n",
    "from utils import *\n",
    "from skimage.restoration import estimate_sigma\n",
    "import bm3d\n",
    "from okridge.solvel0 import *\n",
    "from solvel0 import solvel0\n",
    "from best_subset import backward_refinement, brute_force_all_subsets\n",
    "from UBIC import *\n",
    "from kneed import KneeLocator\n",
    "from bayesian_model_evidence import log_evidence\n",
    "\n",
    "from sklearn.gaussian_process import GaussianProcessRegressor\n",
    "from sklearn.gaussian_process.kernels import RBF, WhiteKernel"
   ]
  },
  {
   "cell_type": "code",
   "execution_count": 2,
   "id": "5916f2d3",
   "metadata": {},
   "outputs": [],
   "source": [
    "n_poly = 6\n",
    "n_derivatives = 6\n",
    "n_modules = 8"
   ]
  },
  {
   "cell_type": "code",
   "execution_count": 3,
   "id": "8eaa96d0",
   "metadata": {},
   "outputs": [],
   "source": [
    "data_path = \"../PDE-Discovery-EC/Datasets/\"\n",
    "data = sio.loadmat(os.path.join(data_path, \"burgers.mat\"))\n",
    "u_clean = (data['usol']).real; u = u_clean.copy()\n",
    "x = (data['x'][0]).real\n",
    "t = (data['t'][:,0]).real\n",
    "dt = t[1]-t[0]; dx = x[2]-x[1]"
   ]
  },
  {
   "cell_type": "markdown",
   "id": "3a1e0adc",
   "metadata": {},
   "source": [
    "### Add noise"
   ]
  },
  {
   "cell_type": "code",
   "execution_count": 4,
   "id": "888ee41f",
   "metadata": {},
   "outputs": [
    {
     "name": "stdout",
     "output_type": "stream",
     "text": [
      "Noise level: 50.0\n"
     ]
    }
   ],
   "source": [
    "np.random.seed(0)\n",
    "noise_type = \"gaussian\"\n",
    "noise_lv = float(50)\n",
    "print(\"Noise level:\", noise_lv)\n",
    "noise = 0.01*np.abs(noise_lv)*(u.std())*np.random.randn(u.shape[0],u.shape[1])\n",
    "u = u + noise"
   ]
  },
  {
   "cell_type": "markdown",
   "id": "c5c890b0",
   "metadata": {},
   "source": [
    "### Denoise"
   ]
  },
  {
   "cell_type": "code",
   "execution_count": 5,
   "id": "d9754901",
   "metadata": {},
   "outputs": [
    {
     "name": "stdout",
     "output_type": "stream",
     "text": [
      "Loading denoised data...\n"
     ]
    }
   ],
   "source": [
    "load_denoised_data = True\n",
    "if load_denoised_data:\n",
    "    print(\"Loading denoised data...\")\n",
    "    u = np.load(f\"./Denoised_data/burgers_{noise_type}{int(noise_lv)}_bm3d.npy\")\n",
    "else:\n",
    "    kernel = RBF(length_scale=1, length_scale_bounds=(1e-2, 1e3)) + \\\n",
    "                    WhiteKernel(noise_level=1, noise_level_bounds=(1e-10, 1e10))\n",
    "    \n",
    "    xx = colvec(x)\n",
    "    u_mean = np.copy(u)\n",
    "    u_std = np.ones(u.shape)\n",
    "    for i in trange(len(t)):    \n",
    "        gpr = GaussianProcessRegressor(kernel=kernel, alpha=0.0, \n",
    "                                       n_restarts_optimizer=10 # 20\n",
    "                                      )\n",
    "    \n",
    "        gpr.fit(xx, u_mean[:, i])\n",
    "        um, ustd = gpr.predict(xx, return_std=True)\n",
    "        u_mean[:, i] = um\n",
    "        u_std[:, i] = ustd\n",
    "    \n",
    "    est_sigma = u_std.mean() # max also works well\n",
    "    # est_sigma = (est_sigma+estimate_sigma(u))/2\n",
    "    u = bm3d.bm3d(u, sigma_psd=est_sigma, \n",
    "                  stage_arg=bm3d.BM3DStages.ALL_STAGES, \n",
    "                  blockmatches=(False, False))\n",
    "\n",
    "    np.save(f\"./Denoised_data/burgers_{noise_type}{int(noise_lv)}_bm3d.npy\", u)"
   ]
  },
  {
   "cell_type": "code",
   "execution_count": 6,
   "id": "9921db4e-3de7-42e2-836a-64a85cea979e",
   "metadata": {},
   "outputs": [],
   "source": [
    "xt = np.array([x.reshape(-1, 1), t.reshape(1, -1)], dtype=object)\n",
    "X, T = np.meshgrid(x, t)\n",
    "XT = np.asarray([X, T]).T"
   ]
  },
  {
   "cell_type": "code",
   "execution_count": 7,
   "id": "6aaf2666",
   "metadata": {},
   "outputs": [],
   "source": [
    "function_library = ps.PolynomialLibrary(degree=n_poly, include_bias=False)\n",
    "\n",
    "weak_lib = ps.WeakPDELibrary(\n",
    "    function_library=function_library,\n",
    "    derivative_order=n_derivatives,\n",
    "    spatiotemporal_grid=XT,\n",
    "    include_bias=True,\n",
    "    diff_kwargs={\"is_uniform\":True},\n",
    "    K=10000\n",
    ")\n",
    "\n",
    "X_pre = np.array(weak_lib.fit_transform(np.expand_dims(u, -1)))\n",
    "y_pre = weak_lib.convert_u_dot_integral(np.expand_dims(u, -1))\n",
    "feature_names = np.array(weak_lib.get_feature_names())\n",
    "R_path = \"/Users/pongpisitthanasutives/Desktop/research/R/python_data/\"\n",
    "np.save(os.path.join(R_path, f\"X_pre_burgers_noise{int(noise_lv)}.npy\"), X_pre)\n",
    "np.save(os.path.join(R_path, f\"y_pre_burgers_noise{int(noise_lv)}.npy\"), y_pre)"
   ]
  },
  {
   "cell_type": "code",
   "execution_count": 8,
   "id": "6ad9a594",
   "metadata": {},
   "outputs": [],
   "source": [
    "base_poly = np.array([[p, 0] for p in range(1, n_poly+1)])\n",
    "base_derivative = np.array([[0, d] for d in range(1, n_derivatives+1)])\n",
    "modules = [(0, 0)] if weak_lib.include_bias else []\n",
    "modules += [(p, 0) for p in range(1, n_poly+1)] + \\\n",
    "            [(0, d) for d in range(1, n_derivatives+1)] + \\\n",
    "            [tuple(p+d) for d in base_derivative for p in base_poly]\n",
    "assert len(modules) == len(weak_lib.get_feature_names())\n",
    "base_features = dict(zip(modules, X_pre.T))\n",
    "u_t = y_pre.copy()"
   ]
  },
  {
   "cell_type": "markdown",
   "id": "16bede4c-0838-41ab-9dcb-629f03e4f564",
   "metadata": {},
   "source": [
    "### Straightforward best-subset selection"
   ]
  },
  {
   "cell_type": "code",
   "execution_count": 9,
   "id": "acf9148f-099b-4576-872a-50180f02dbb6",
   "metadata": {},
   "outputs": [],
   "source": [
    "# over 30 minutes for n_poly = 6 and n_derivatives = 6\n",
    "# miosr_subsets = solvel0(X_pre, y_pre, miosr=True)"
   ]
  },
  {
   "cell_type": "markdown",
   "id": "bb73e146",
   "metadata": {},
   "source": [
    "### Genetic algorithm with NSGA-II"
   ]
  },
  {
   "cell_type": "code",
   "execution_count": 10,
   "id": "0fa61c51",
   "metadata": {},
   "outputs": [],
   "source": [
    "class PdeDiscoveryProblem(ElementwiseProblem):\n",
    "    def __init__(self, n_poly, n_derivatives, n_modules, \n",
    "                 base_features, u_t, order_complexity=False, **kwargs):\n",
    "        super().__init__(n_var=1, n_obj=2, n_ieq_constr=0, **kwargs)\n",
    "        self.n_poly = n_poly\n",
    "        self.n_derivatives = n_derivatives\n",
    "        self.n_modules = n_modules\n",
    "        self.base_features = base_features\n",
    "        self.u_t = u_t\n",
    "        self.sample_size = np.prod(self.u_t.shape)\n",
    "        self.order_complexity = order_complexity\n",
    "\n",
    "    def _evaluate(self, X, out, *args, **kwargs):\n",
    "        genome = X[0]\n",
    "        coeff, mse = self.compute_genome_coefficient(genome)\n",
    "        mse = mse/self.sample_size\n",
    "        complexity_penalty = len(genome)\n",
    "        if self.order_complexity:\n",
    "            complexity_penalty += sum(sum(_) for _ in genome)\n",
    "        out[\"F\"] = [mse, complexity_penalty]\n",
    "\n",
    "    def numericalize_genome(self, genome):\n",
    "        return np.stack([self.base_features[tuple(module)] \n",
    "                         for module in genome], axis=-1)\n",
    "\n",
    "    def compute_genome_coefficient(self, genome):\n",
    "        features = self.numericalize_genome(genome)\n",
    "        features = features.reshape(-1, features.shape[-1])\n",
    "        coeff, error, _, _ = np.linalg.lstsq(features, self.u_t, rcond=None)\n",
    "        return coeff, error[0]\n",
    "    \n",
    "    def generate_module(self):\n",
    "        return (random.randint(0, self.n_poly), random.randint(0, self.n_derivatives))\n",
    "    \n",
    "    def set_epsilon(self, epsilon):\n",
    "        self.epsilon = epsilon\n",
    "\n",
    "    def set_order_complexity(self, order_complexity):\n",
    "        self.order_complexity = order_complexity\n",
    "    \n",
    "class PopulationSampling(Sampling):\n",
    "    def _do(self, problem, n_samples, **kwargs):\n",
    "        X = np.full((n_samples, 1), None, dtype=object)\n",
    "        X_set = set()\n",
    "        i = 0\n",
    "        while i < n_samples:\n",
    "            n_modules = random.randint(1, problem.n_modules)\n",
    "            genome = frozenset(problem.generate_module() for _ in range(n_modules))\n",
    "            if len(genome) > 0 and genome not in X_set:\n",
    "                X_set.add(genome)\n",
    "                X[i, 0] = genome\n",
    "                i += 1\n",
    "        return X\n",
    "    \n",
    "class DuplicateElimination(ElementwiseDuplicateElimination):\n",
    "    def is_equal(self, g1, g2):\n",
    "        return g1.X[0] == g2.X[0]"
   ]
  },
  {
   "cell_type": "code",
   "execution_count": 11,
   "id": "2dea1072",
   "metadata": {},
   "outputs": [],
   "source": [
    "class GenomeCrossover(Crossover):\n",
    "    def __init__(self):\n",
    "        # define the crossover: number of parents and number of offsprings\n",
    "        super().__init__(2, 2)\n",
    "\n",
    "    def _do(self, problem, X, **kwargs):\n",
    "        # The input of has the following shape (n_parents, n_matings, n_var)\n",
    "        _, n_matings, n_var = X.shape\n",
    "\n",
    "        # The output owith the shape (n_offsprings, n_matings, n_var)\n",
    "        # Because there the number of parents and offsprings are equal it keeps the shape of X\n",
    "        Y = np.full_like(X, None, dtype=object)\n",
    "        \n",
    "        # for each mating provided\n",
    "        for k in range(n_matings):\n",
    "            # get the first and the second parent          \n",
    "            Y[0, k, 0], Y[1, k, 0] = self.crossover_permutation(X[0, k, 0], X[1, k, 0])\n",
    "            \n",
    "        return Y\n",
    "    \n",
    "    def crossover_permutation(self, genome1, genome2):\n",
    "        collection = list(genome1) + list(genome2)\n",
    "        random.shuffle(collection)\n",
    "        return frozenset(collection[:len(genome1)]), frozenset(collection[len(genome1):])\n",
    "    \n",
    "class GenomeMutation(Mutation):\n",
    "    def __init__(self, add_rate=0.4, del_rate=0.5, order_rate=0.4):\n",
    "        super().__init__()\n",
    "        self.add_rate = add_rate\n",
    "        self.del_rate = del_rate\n",
    "        self.order_rate = order_rate\n",
    "\n",
    "    def _do(self, problem, X, **kwargs):\n",
    "        for i in range(len(X)):\n",
    "            if random.random() < self.add_rate:\n",
    "                X[i, 0] = self.add_mutate(problem, X[i, 0])\n",
    "            if random.random() < self.del_rate:\n",
    "                X[i, 0] = self.del_mutate(problem, X[i, 0])\n",
    "            if random.random() < self.order_rate:\n",
    "                X[i, 0] = self.module_mutate(problem, X[i, 0])\n",
    "        return X\n",
    "    \n",
    "    def add_mutate(self, problem, genome, max_iter=3):\n",
    "        for _ in range(max_iter):\n",
    "            new_module = problem.generate_module()\n",
    "            if new_module not in genome:\n",
    "                return genome.union(frozenset({new_module}))\n",
    "        return genome\n",
    "    \n",
    "    def del_mutate(self, problem, genome, max_iter=3):\n",
    "        genome = list(genome)\n",
    "        lg = len(genome)\n",
    "        if lg > 0:\n",
    "            if lg == 1:\n",
    "                for _ in range(max_iter):\n",
    "                    new_module = problem.generate_module()\n",
    "                    if new_module != genome[0]:\n",
    "                        return frozenset({new_module})\n",
    "            else:\n",
    "                genome.pop(random.randint(0, lg-1))\n",
    "        return frozenset(genome)\n",
    "    \n",
    "    def module_mutate(self, problem, genome):\n",
    "        if len(genome) == 0:\n",
    "            return genome\n",
    "        genome = set(genome)\n",
    "        genome.remove(random.choice(list(genome)))\n",
    "        for _ in range(3):\n",
    "            new_module = problem.generate_module()\n",
    "            if new_module not in genome:\n",
    "                genome.add(new_module)\n",
    "                return frozenset(genome)\n",
    "        return frozenset(genome)"
   ]
  },
  {
   "cell_type": "code",
   "execution_count": 12,
   "id": "263f3258",
   "metadata": {},
   "outputs": [],
   "source": [
    "pop_size = 500\n",
    "order_complexity = False\n",
    "pool = ThreadPool(4)\n",
    "problem = PdeDiscoveryProblem(n_poly, n_derivatives, n_modules, \n",
    "                              base_features, u_t, order_complexity=order_complexity, \n",
    "                              elementwise_runner=StarmapParallelization(pool.starmap))"
   ]
  },
  {
   "cell_type": "code",
   "execution_count": 13,
   "id": "296e4b3d",
   "metadata": {},
   "outputs": [],
   "source": [
    "def add_prefix(file_path, prefix):\n",
    "    dir_name, file_name = os.path.split(file_path)\n",
    "    return os.path.join(dir_name, prefix + file_name)\n",
    "load_pareto_front = True\n",
    "n_max_gen = 200\n",
    "n_max_evals = 100000\n",
    "pf_file_path = f\"./Cache/pf_SMSEMOA_burgers_noise{int(noise_lv)}.npy\"\n",
    "\n",
    "if not load_pareto_front:\n",
    "    termination = DefaultMultiObjectiveTermination(\n",
    "        xtol=1e-8,\n",
    "        cvtol=1e-6,\n",
    "        ftol=1e-8,\n",
    "        period=50,\n",
    "        n_max_gen=n_max_gen,\n",
    "        n_max_evals=n_max_evals\n",
    "    )\n",
    "    from pymoo.algorithms.moo.sms import SMSEMOA\n",
    "    from pymoo.algorithms.moo.age import AGEMOEA\n",
    "    ### Optimization algorithms ###\n",
    "    # algorithm = NSGA2(pop_size=pop_size,\n",
    "    #                     sampling=PopulationSampling(),\n",
    "    #                     crossover=GenomeCrossover(),\n",
    "    #                     mutation=GenomeMutation(),\n",
    "    #                     eliminate_duplicates=DuplicateElimination(),\n",
    "    #                     )\n",
    "    # algorithm = DNSGA2(pop_size=pop_size,\n",
    "    #                 sampling=PopulationSampling(),\n",
    "    #                 crossover=GenomeCrossover(),\n",
    "    #                 mutation=GenomeMutation(),\n",
    "    #                 eliminate_duplicates=DuplicateElimination(),\n",
    "    #                 )\n",
    "    algorithm = SMSEMOA(pop_size=pop_size,\n",
    "                    sampling=PopulationSampling(),\n",
    "                    crossover=GenomeCrossover(),\n",
    "                    mutation=GenomeMutation(),\n",
    "                    eliminate_duplicates=DuplicateElimination(),\n",
    "                    )\n",
    "    # algorithm = AGEMOEA(pop_size=pop_size,\n",
    "    #                     sampling=PopulationSampling(),\n",
    "    #                     crossover=GenomeCrossover(),\n",
    "    #                     mutation=GenomeMutation(),\n",
    "    #                     eliminate_duplicates=DuplicateElimination(),\n",
    "    #                     )\n",
    "    \n",
    "    ### MOEAD (Faster) ###\n",
    "    # from pymoo.algorithms.moo.moead import MOEAD\n",
    "    # from pymoo.util.ref_dirs import get_reference_directions\n",
    "    # termination = DefaultMultiObjectiveTermination(\n",
    "    #     xtol=1e-10,\n",
    "    #     cvtol=1e-8,\n",
    "    #     ftol=1e-10,\n",
    "    #     period=100,\n",
    "    #     n_max_gen=5000,\n",
    "    #     n_max_evals=n_max_evals\n",
    "    # )\n",
    "    # algorithm = MOEAD(\n",
    "    #     ref_dirs=get_reference_directions(\"uniform\", 2, n_partitions=5),\n",
    "    #     n_neighbors=4,\n",
    "    #     prob_neighbor_mating=0.9,\n",
    "    #     sampling=PopulationSampling(),\n",
    "    #     crossover=GenomeCrossover(),\n",
    "    #     mutation=GenomeMutation()\n",
    "    # )\n",
    "\n",
    "    opt_time = time.time()\n",
    "    res = minimize(problem, \n",
    "                   algorithm, \n",
    "                   termination=termination, \n",
    "                   verbose=True)\n",
    "    opt_time = (time.time() - opt_time)/60\n",
    "    print(\"Execution time:\", opt_time)\n",
    "    \n",
    "    pareto_optimal_models = res.X\n",
    "    np.save(pf_file_path, pareto_optimal_models)\n",
    "\n",
    "else:\n",
    "    pareto_optimal_models = np.load(pf_file_path, allow_pickle=True)\n",
    "    pass\n",
    "\n",
    "np.random.seed(0)"
   ]
  },
  {
   "cell_type": "code",
   "execution_count": 14,
   "id": "66468fa3-d3a1-45f6-9c8f-d89b0d723713",
   "metadata": {},
   "outputs": [
    {
     "data": {
      "text/plain": [
       "array([[frozenset({(0, 1)})],\n",
       "       [frozenset({(1, 1), (0, 2)})],\n",
       "       [frozenset({(1, 1), (0, 2), (0, 4)})],\n",
       "       [frozenset({(1, 1), (0, 2), (0, 4), (3, 6)})],\n",
       "       [frozenset({(0, 4), (1, 1), (0, 2), (3, 6), (6, 3)})],\n",
       "       [frozenset({(0, 4), (1, 1), (4, 6), (0, 6), (0, 2), (6, 3)})],\n",
       "       [frozenset({(0, 4), (6, 5), (1, 1), (0, 6), (0, 2), (3, 6), (6, 3)})],\n",
       "       [frozenset({(0, 4), (3, 4), (1, 1), (4, 6), (5, 4), (0, 2), (5, 6), (5, 3)})],\n",
       "       [frozenset({(0, 4), (2, 1), (3, 4), (1, 1), (4, 6), (5, 4), (0, 2), (5, 6), (5, 3)})],\n",
       "       [frozenset({(6, 2), (1, 2), (0, 4), (5, 5), (1, 1), (0, 6), (0, 2), (5, 3), (3, 2), (5, 2)})],\n",
       "       [frozenset({(6, 2), (1, 2), (0, 4), (2, 1), (5, 5), (1, 1), (0, 6), (0, 2), (5, 3), (3, 2), (5, 2)})],\n",
       "       [frozenset({(6, 2), (1, 2), (0, 4), (2, 1), (5, 5), (1, 1), (0, 3), (0, 6), (0, 2), (5, 3), (3, 2), (5, 2)})],\n",
       "       [frozenset({(6, 2), (1, 2), (0, 4), (6, 5), (1, 1), (0, 3), (0, 6), (0, 2), (6, 0), (3, 2), (6, 3), (4, 1), (5, 2)})],\n",
       "       [frozenset({(6, 2), (1, 2), (0, 4), (3, 4), (1, 1), (0, 3), (4, 6), (6, 4), (0, 6), (0, 2), (5, 0), (5, 6), (6, 0), (4, 1)})],\n",
       "       [frozenset({(6, 2), (1, 2), (0, 4), (3, 4), (1, 1), (0, 3), (4, 6), (6, 4), (0, 6), (0, 2), (5, 0), (5, 6), (6, 0), (6, 3), (4, 1)})],\n",
       "       [frozenset({(6, 2), (1, 2), (0, 4), (3, 4), (6, 0), (1, 1), (0, 3), (4, 6), (6, 4), (0, 6), (0, 2), (5, 0), (5, 6), (2, 2), (6, 3), (4, 1)})],\n",
       "       [frozenset({(6, 2), (1, 2), (0, 4), (4, 0), (6, 0), (1, 1), (0, 3), (4, 6), (5, 4), (1, 4), (0, 6), (6, 4), (0, 2), (5, 6), (2, 2), (3, 2), (4, 1)})],\n",
       "       [frozenset({(6, 2), (1, 2), (0, 4), (4, 0), (6, 0), (1, 1), (0, 3), (4, 6), (5, 4), (1, 4), (0, 6), (6, 4), (0, 2), (5, 6), (2, 2), (3, 2), (6, 3), (4, 1)})],\n",
       "       [frozenset({(4, 0), (5, 4), (0, 2), (0, 5), (6, 2), (3, 3), (5, 0), (3, 6), (1, 2), (0, 4), (2, 1), (6, 4), (3, 2), (5, 2), (1, 1), (0, 3), (1, 4), (0, 6), (6, 6)})],\n",
       "       [frozenset({(4, 0), (5, 4), (0, 2), (0, 5), (1, 3), (6, 2), (3, 3), (5, 0), (3, 6), (1, 2), (0, 4), (2, 1), (6, 4), (3, 2), (5, 2), (1, 1), (0, 3), (1, 4), (0, 6), (6, 6)})],\n",
       "       [frozenset({(4, 0), (5, 4), (0, 2), (0, 5), (1, 3), (6, 2), (3, 3), (5, 0), (3, 6), (1, 2), (0, 4), (2, 1), (1, 5), (6, 4), (3, 2), (5, 2), (1, 1), (0, 3), (1, 4), (0, 6), (6, 6)})],\n",
       "       [frozenset({(4, 0), (5, 4), (0, 2), (0, 5), (1, 3), (6, 2), (3, 3), (5, 0), (3, 6), (1, 2), (0, 4), (2, 1), (1, 5), (6, 4), (3, 2), (5, 2), (1, 1), (0, 3), (1, 4), (0, 6), (6, 6), (6, 3)})],\n",
       "       [frozenset({(4, 0), (5, 4), (0, 2), (0, 5), (2, 2), (1, 3), (6, 2), (3, 3), (5, 0), (3, 6), (1, 2), (0, 4), (2, 1), (1, 5), (6, 4), (3, 2), (5, 2), (1, 1), (0, 3), (1, 4), (0, 6), (6, 6), (6, 3)})]],\n",
       "      dtype=object)"
      ]
     },
     "execution_count": 14,
     "metadata": {},
     "output_type": "execute_result"
    }
   ],
   "source": [
    "### OPTIONAL: REFINE PARETO FRONT ###\n",
    "from operator import itemgetter\n",
    "\n",
    "effective_candidates = extract_unique_candidates(pareto_optimal_models)\n",
    "new_pareto_optimal_models = []\n",
    "for bs in backward_refinement([sorted([effective_candidates.index(_) for _ in list(pm[0])]) for pm in pareto_optimal_models], \n",
    "                              (problem.numericalize_genome(effective_candidates), y_pre)).get_best_subsets():\n",
    "    bs = itemgetter(*bs)(effective_candidates)\n",
    "    if type(bs[0]) is not tuple:\n",
    "        bs = (bs,)\n",
    "    new_pareto_optimal_models.append([frozenset(bs)])\n",
    "pareto_optimal_models = np.array(new_pareto_optimal_models)\n",
    "del new_pareto_optimal_models\n",
    "np.save(add_prefix(pf_file_path, 'refined_'), pareto_optimal_models)\n",
    "pareto_optimal_models"
   ]
  },
  {
   "cell_type": "code",
   "execution_count": 15,
   "id": "5ecb43c8",
   "metadata": {},
   "outputs": [],
   "source": [
    "effective_candidates = extract_unique_candidates(pareto_optimal_models)\n",
    "candidate_importance = {_: 0.0 for _ in effective_candidates}\n",
    "for i in range(len(pareto_optimal_models)):\n",
    "    potential_pde = list(pareto_optimal_models[i][0])\n",
    "    important_scores = shap_linear_importance(problem.numericalize_genome(potential_pde), \n",
    "                                              y_pre, scale=True)\n",
    "    for j in range(len(potential_pde)):\n",
    "        candidate_importance[potential_pde[j]] += important_scores[j]\n",
    "        \n",
    "total_importance = sum(candidate_importance.values())\n",
    "for _ in candidate_importance:\n",
    "    candidate_importance[_] = candidate_importance[_]/total_importance\n",
    "\n",
    "shap_candidates = sorted(candidate_importance, key=candidate_importance.get, reverse=True)[:5]"
   ]
  },
  {
   "cell_type": "code",
   "execution_count": 16,
   "id": "7c21b082",
   "metadata": {},
   "outputs": [
    {
     "data": {
      "image/png": "[encoded data removed]",
      "text/plain": [
       "<Figure size 400x300 with 1 Axes>"
      ]
     },
     "metadata": {},
     "output_type": "display_data"
    }
   ],
   "source": [
    "import sympy\n",
    "def show_polynomial_derivative(p: int, d: int):\n",
    "    if p < 0 or d < 0:\n",
    "        raise ValueError(\"Polynomial degree and derivative order must be non-negative integers.\")\n",
    "    polynomial_part = sympy.Symbol('u') if p == 1 else sympy.Symbol(f\"u^{p}\") if p > 0 else sympy.Integer(1)    \n",
    "    derivative_part = f\"u_{'x'*d}\" if d > 0 else ''\n",
    "    if len(derivative_part) < 1:\n",
    "        return sympy.simplify(polynomial_part)\n",
    "    derivative_part = sympy.Symbol(derivative_part)\n",
    "    return sympy.simplify(polynomial_part*derivative_part)\n",
    "\n",
    "shap_candidate_names = ['$'+sympy.latex(show_polynomial_derivative(_[0], _[1]))+'$' for _ in shap_candidates]\n",
    "\n",
    "with plt.style.context(['science']):\n",
    "    fig, ax = plt.subplots(figsize=(4, 3))\n",
    "    bars = ax.bar(shap_candidate_names, [candidate_importance[_] for _ in shap_candidates])\n",
    "    for i, bar in enumerate(bars):\n",
    "        if i < 2:\n",
    "            bar.set_hatch('///')\n",
    "        else:\n",
    "            bars[i-1].set_label(\"True terms\")\n",
    "            break\n",
    "    ax.set_ylabel(\"Candidate importance\")\n",
    "    ax.legend()\n",
    "    # plt.savefig(f\"Figures/importance_SMSEMOA_burgers_noise{int(noise_lv)}.pdf\")\n",
    "    plt.show()"
   ]
  },
  {
   "cell_type": "markdown",
   "id": "f259f587",
   "metadata": {},
   "source": [
    "### Compromise programming ###"
   ]
  },
  {
   "cell_type": "code",
   "execution_count": 17,
   "id": "fdf1495e-4126-4fc4-9fec-0a71ad6cb539",
   "metadata": {},
   "outputs": [
    {
     "name": "stdout",
     "output_type": "stream",
     "text": [
      "Optimal balance: [7.37759706e-06 2.00000000e+00]\n"
     ]
    },
    {
     "data": {
      "text/plain": [
       "array([[frozenset({(0, 1)})],\n",
       "       [frozenset({(1, 1), (0, 2)})]], dtype=object)"
      ]
     },
     "execution_count": 17,
     "metadata": {},
     "output_type": "execute_result"
    }
   ],
   "source": [
    "from collections import Counter\n",
    "from pymcdm.methods import TOPSIS, MABAC, COMET, SPOTIS\n",
    "from pymcdm import weights as obj_w\n",
    "from pymcdm.helpers import rrankdata\n",
    "from pymcdm.methods.comet_tools import MethodExpert\n",
    "from pymcdm import visuals\n",
    "\n",
    "F = problem.evaluate(pareto_optimal_models)\n",
    "nF = (F - F.min(axis=0))/(F.max(axis=0) - F.min(axis=0))\n",
    "\n",
    "obj_weights = obj_w.entropy_weights(F)\n",
    "types = [-1, -1]\n",
    "cvalues = COMET.make_cvalues(F)\n",
    "expert_function = MethodExpert(TOPSIS(), obj_weights, types)\n",
    "bounds = SPOTIS.make_bounds(F)\n",
    "\n",
    "method_names = ['TOPSIS', 'MABAC', 'COMET', 'SPOTIS']\n",
    "methods = [\n",
    "    TOPSIS(),\n",
    "    MABAC(),\n",
    "    COMET(cvalues, expert_function),\n",
    "    SPOTIS(bounds)\n",
    "]\n",
    "\n",
    "ranks = [method.rank(method(F, obj_weights, types)) for method in methods]\n",
    "balance_point = F[sorted(Counter(np.argmin(ranks, axis=1)).most_common())[0][0]]\n",
    "print(\"Optimal balance:\", balance_point)\n",
    "est_complexities = sorted(set(np.argsort(ranks)[:, 0]))\n",
    "est_complexities = list(range(0, max(est_complexities)+1))\n",
    "pareto_optimal_models = pareto_optimal_models[est_complexities]\n",
    "est_complexities = F[est_complexities][:, 1].astype(np.int32)\n",
    "min_ss = 1\n",
    "max_ss = max(est_complexities)\n",
    "\n",
    "# fig, ax = plt.subplots(figsize=(7, 3), dpi=300, tight_layout=True)\n",
    "# visuals.ranking_bar(ranks, labels=method_names, ax=ax)\n",
    "# plt.show()\n",
    "\n",
    "pareto_optimal_models"
   ]
  },
  {
   "cell_type": "code",
   "execution_count": 18,
   "id": "9fe7f4e0",
   "metadata": {},
   "outputs": [
    {
     "data": {
      "text/plain": [
       "[(0, 1), (0, 2), (1, 1), (0, 4)]"
      ]
     },
     "execution_count": 18,
     "metadata": {},
     "output_type": "execute_result"
    }
   ],
   "source": [
    "top_candidates = extract_unique_candidates(pareto_optimal_models)\n",
    "additional_candidates = []\n",
    "additional_candidates = [(0, 4)]\n",
    "top_candidates.extend(additional_candidates)\n",
    "\n",
    "X_pre_top = problem.numericalize_genome(top_candidates)\n",
    "# np.save(os.path.join(R_path, f\"X_pre_top_burgers_noise{int(noise_lv)}.npy\"), X_pre_top)\n",
    "X_pre_top = (X_pre_top - X_pre_top.mean(axis=0))/X_pre_top.std(axis=0)\n",
    "\n",
    "top_candidates"
   ]
  },
  {
   "cell_type": "markdown",
   "id": "84a5a62b-b680-4f52-9aaf-d96cc34af101",
   "metadata": {},
   "source": [
    "### Using KnockoffFilter to compute X_pre_top instead GA"
   ]
  },
  {
   "cell_type": "code",
   "execution_count": 19,
   "id": "8fcad3b9-95d4-49c1-8374-0780f5ae5514",
   "metadata": {},
   "outputs": [
    {
     "name": "stderr",
     "output_type": "stream",
     "text": [
      "100%|███████████████████████████████████████████████████████████████████████████████████| 30/30 [00:21<00:00,  1.39it/s]"
     ]
    },
    {
     "name": "stdout",
     "output_type": "stream",
     "text": [
      "['x0_1' 'x0_11' 'x0_1111' 'x0_111111' 'x0x0_1']\n"
     ]
    },
    {
     "name": "stderr",
     "output_type": "stream",
     "text": [
      "\n"
     ]
    }
   ],
   "source": [
    "from knockpy import KnockoffFilter\n",
    "from knockpy import knockoff_stats\n",
    "from abess import LinearRegression as AbessLinearRegression\n",
    "from sklearn.preprocessing import StandardScaler\n",
    "\n",
    "X_scale = StandardScaler().fit_transform(X_pre)\n",
    "X_pre_top = X_scale\n",
    "y_pre = y_pre-y_pre.mean()\n",
    "\n",
    "# kfilter = KnockoffFilter(\n",
    "#     ksampler='gaussian',\n",
    "#     fstat='lasso',\n",
    "#     knockoff_kwargs={'method':'mvr'}\n",
    "# )\n",
    "\n",
    "# TODO: Wrap L0LBnB under LinearRegression (sklearn style)\n",
    "lr = AbessLinearRegression(path_type='gs', s_max=10, fit_intercept=False, ic_type='bic', max_iter=100)\n",
    "lr_fstat = knockoff_stats.FeatureStatistic(model=lr)\n",
    "kfilter = KnockoffFilter(ksampler='gaussian', fstat=lr_fstat, knockoff_kwargs={'method':'mvr'})\n",
    "\n",
    "rejections = []\n",
    "for _ in trange(30):\n",
    "    rejection = kfilter.forward(X=X_pre_top, y=y_pre.flatten(), fdr=0.2, shrinkage=\"ledoitwolf\")\n",
    "    rejection = set(np.where(rejection == 1)[0])\n",
    "    if len(rejection) > 0:\n",
    "        rejections.append(rejection)\n",
    "rejections = sorted(set.intersection(*rejections))\n",
    "print(feature_names[rejections])\n",
    "X_pre_top = X_pre_top[:, rejections]\n",
    "y_pre = y_pre/y_pre.std()"
   ]
  },
  {
   "cell_type": "code",
   "execution_count": null,
   "id": "2a69a759-83d8-43c0-b799-963f838e05ac",
   "metadata": {},
   "outputs": [],
   "source": []
  },
  {
   "cell_type": "code",
   "execution_count": null,
   "id": "6a5d47d1-4b0f-4762-9859-6312d8c93b8c",
   "metadata": {},
   "outputs": [],
   "source": []
  },
  {
   "cell_type": "markdown",
   "id": "d8757b32",
   "metadata": {},
   "source": [
    "### Best-subset selection"
   ]
  },
  {
   "cell_type": "code",
   "execution_count": 20,
   "id": "5dc727d0",
   "metadata": {},
   "outputs": [
    {
     "name": "stderr",
     "output_type": "stream",
     "text": [
      "  0%|                                                                                             | 0/5 [00:00<?, ?it/s]"
     ]
    },
    {
     "name": "stdout",
     "output_type": "stream",
     "text": [
      "Set parameter Username\n",
      "Academic license - for non-commercial use only - expires 2026-04-04\n"
     ]
    },
    {
     "name": "stderr",
     "output_type": "stream",
     "text": [
      "100%|█████████████████████████████████████████████████████████████████████████████████████| 5/5 [00:00<00:00, 88.65it/s]\n",
      "100%|████████████████████████████████████████████████████████████████████████████████████| 5/5 [00:00<00:00, 228.18it/s]\n"
     ]
    }
   ],
   "source": [
    "best_subsets = solvel0(X_pre_top, y_pre, miosr=True, refine=True)\n",
    "best_subsets = [tuple(best_subsets[-1][_] for _ in bs) \n",
    "                for bs in brute_force_all_subsets(X_pre_top[:, best_subsets[-1]], y_pre)[1]]"
   ]
  },
  {
   "cell_type": "markdown",
   "id": "259fb918",
   "metadata": {},
   "source": [
    "### Model selection using UBIC"
   ]
  },
  {
   "cell_type": "code",
   "execution_count": 21,
   "id": "96a6c77f",
   "metadata": {},
   "outputs": [
    {
     "name": "stdout",
     "output_type": "stream",
     "text": [
      "1, 2, 3, 4, 5, "
     ]
    },
    {
     "data": {
      "text/plain": [
       "array([1.25982623, 1.        , 1.38419617, 3.14032417, 4.24142869])"
      ]
     },
     "execution_count": 21,
     "metadata": {},
     "output_type": "execute_result"
    }
   ],
   "source": [
    "# TODO: Calculate post_means for ARDRegression as well (Implement the ard_uncertainties function)\n",
    "ard_uns = []\n",
    "threshold_lambda = 5e5 # must pass assert \n",
    "for bs in best_subsets:\n",
    "    ard = linear_model.ARDRegression(fit_intercept=False, \n",
    "                                     compute_score=True,\n",
    "                                     threshold_lambda=threshold_lambda)\n",
    "    ard.fit(X_pre_top[:, bs], y_pre.ravel())\n",
    "    print(len(bs), end=', ')\n",
    "    assert len(bs) == len(np.nonzero(ard.coef_)[0])\n",
    "    pde_uncert = np.sqrt(np.diag(ard.sigma_)).sum()/abs(ard.coef_).sum()\n",
    "    ard_uns.append(pde_uncert)\n",
    "ard_uns = np.array(ard_uns)\n",
    "ard_uns = ard_uns/min(ard_uns)\n",
    "ard_uns"
   ]
  },
  {
   "cell_type": "code",
   "execution_count": 22,
   "id": "548e4fa8",
   "metadata": {},
   "outputs": [
    {
     "name": "stdout",
     "output_type": "stream",
     "text": [
      "[14225.490911324474, 4245.5945252758, 2871.117009306679, 2732.0395012193385, 2609.6661177513165]\n",
      "[1.25987478 1.         1.38420614 3.1468255  4.24826321]\n",
      "threshold: 0.5\n",
      "max_lam: 3.08790146436953\n",
      "1 <---> 2 0.3237420596305845\n"
     ]
    },
    {
     "data": {
      "text/plain": [
       "(3.08790146,\n",
       " array([28432.5611419 , 15522.16775108, 18480.21892311, 38217.44767377,\n",
       "        50515.51734323]),\n",
       " 1,\n",
       " 1)"
      ]
     },
     "execution_count": 22,
     "metadata": {},
     "output_type": "execute_result"
    }
   ],
   "source": [
    "tau = 3\n",
    "verbose = True\n",
    "# scale = 1 <- generalized UBIC\n",
    "scale = np.log(len(y_pre))\n",
    "per = 75 # 80\n",
    "\n",
    "post_means, b_bics, b_uns = baye_uncertainties(best_subsets, (X_pre_top, y_pre), \n",
    "                                               u_type='cv1', take_sqrt=True, \n",
    "                                               ridge_lambda=0, \n",
    "                                               threshold=0)\n",
    "# b_uns = ard_uns # USE ard_uns INSTEAD\n",
    "predictions = X_pre_top@post_means\n",
    "print(b_bics)\n",
    "print(b_uns)\n",
    "b_bics = np.array(b_bics)\n",
    "max_complexity = len(b_bics)\n",
    "complexities = np.arange(max_complexity)+1\n",
    "d_complexities = complexities[decreasing_values_indices(b_bics)]\n",
    "d_bics = b_bics[decreasing_values_indices(b_bics)]\n",
    "slopes = np.diff(b_bics)/(np.diff(complexities)*b_bics[:-1])\n",
    "try:\n",
    "    thres = np.percentile(np.abs(np.diff(d_bics)/(np.diff(d_complexities)*d_bics[:-1])), per)\n",
    "    thres = math.ceil(sci_format(thres)[0])*10**sci_format(thres)[1]\n",
    "except IndexError:\n",
    "    thres = 1/40\n",
    "min_thres = 1/40\n",
    "thres = max(thres, min_thres)\n",
    "print(\"threshold:\", thres)\n",
    "\n",
    "lower_bounds = []\n",
    "for k, efi in enumerate(best_subsets):\n",
    "    # assert len(efi) == np.count_nonzero(post_means[:, k:k+1])\n",
    "    com = len(efi)\n",
    "    lower_bound = 2*np.abs(log_like_value(predictions[:, k:k+1], y_pre))-np.log(len(y_pre))*com\n",
    "    lower_bounds.append(lower_bound)\n",
    "\n",
    "last_lam = np.log10(max(lower_bounds/(b_uns*scale)))\n",
    "print(\"max_lam:\", last_lam)\n",
    "delta = last_lam/tau\n",
    "now_lam = last_lam-delta\n",
    "last_ubic = UBIC(b_bics, b_uns, len(y_pre), hyp=10**last_lam, scale=scale)\n",
    "last_bc = np.argmin(last_ubic)\n",
    "bc_seq = [last_bc]\n",
    "while now_lam >= 0:\n",
    "    now_ubic = UBIC(b_bics, b_uns, len(y_pre), hyp=10**now_lam, scale=scale)\n",
    "    now_bc = np.argmin(now_ubic)\n",
    "    \n",
    "    diff_com = now_bc-last_bc\n",
    "    diff_bic = b_bics[now_bc]-b_bics[last_bc]\n",
    "    imp = np.nan\n",
    "    if diff_com != 0:\n",
    "        imp = abs(diff_bic/(b_bics[last_bc]*diff_com))\n",
    "    \n",
    "    if verbose:\n",
    "        print(min(last_bc, now_bc), '<--->', max(last_bc, now_bc), \n",
    "              np.nan_to_num(imp, nan=np.inf))\n",
    "    \n",
    "    if (diff_com > 0 and (diff_bic > 0 or imp < thres)) or \\\n",
    "        (diff_com < 0 and diff_bic > 0 and imp > thres):\n",
    "        break\n",
    "    \n",
    "    last_lam = now_lam\n",
    "    now_lam = round(last_lam-delta, 8)\n",
    "    last_ubic = now_ubic\n",
    "    last_bc = now_bc\n",
    "    if last_bc not in bc_seq:\n",
    "        bc_seq.append(last_bc)\n",
    "\n",
    "# best_bc = knee(range(len(last_ubic)), last_ubic, 0.95, 'linear', direction='decreasing')\n",
    "best_bc = knee_finder(last_ubic)\n",
    "if best_bc == 0 and last_bc != 0 and b_bics[last_bc] < b_bics[0] and \\\n",
    "                                    abs((b_bics[last_bc]-b_bics[0])/(b_bics[0]*last_bc)) > thres:\n",
    "    best_bc = knee(range(1, len(last_ubic)), last_ubic[1:], 0.95, 'linear')\n",
    "if best_bc is None:\n",
    "    best_bc = knee_finder(last_ubic)\n",
    "    \n",
    "last_lam = round(last_lam, 8)\n",
    "last_lam, last_ubic, last_bc, best_bc"
   ]
  },
  {
   "cell_type": "code",
   "execution_count": 23,
   "id": "9ea07764",
   "metadata": {},
   "outputs": [
    {
     "data": {
      "image/png": "[encoded data removed]",
      "text/plain": [
       "<Figure size 400x300 with 2 Axes>"
      ]
     },
     "metadata": {},
     "output_type": "display_data"
    }
   ],
   "source": [
    "complexity_axis = [len(bs) for bs in best_subsets]\n",
    "with plt.style.context(['science']):\n",
    "    fig, ax = plt.subplots(figsize=(4, 3))\n",
    "    ax2 = ax.twinx()\n",
    "    ax.set_zorder(ax2.get_zorder()+1)\n",
    "    ax.patch.set_visible(False)\n",
    "    \n",
    "    l1, = ax.plot(complexity_axis, last_ubic, 'o-', c='black', markerfacecolor='none', label=f\"$\\lambda = {abs(last_lam)}$\")\n",
    "    ax.set_xticks(complexity_axis)\n",
    "    ax.set_ylabel(\"$\\\\textrm{UBIC}$\", fontsize=12)\n",
    "    ax.set_xlabel(\"Support size\", fontsize=12)\n",
    "    ax.vlines(best_bc+1, min(last_ubic), max(last_ubic), linestyles='--', color='red')\n",
    "    ax.text(best_bc+1, np.mean(last_ubic), 'Select', color='red', rotation=90, verticalalignment='center')\n",
    "    l2, = ax2.plot(complexity_axis, b_uns, 'o--', c='blue', markerfacecolor='none', label=\"Uncertainty $\\\\textrm{U}^{k}$\")\n",
    "    s1 = ax2.scatter(complexity_axis[np.argmin(b_uns)], b_uns[np.argmin(b_uns)], c='blue')\n",
    "    ax2.tick_params(axis='y', labelcolor='blue')\n",
    "    ax.legend([l1, l2, s1], [f\"UBIC with $\\lambda = {round(abs(last_lam), 2)}$\", \"Uncertainty $\\\\textrm{U}^{k}$\", \"Min $\\\\textrm{U}^{k}$\"], \n",
    "              labelcolor='linecolor', loc='upper center', fontsize=11)\n",
    "    plt.tight_layout()\n",
    "    # plt.savefig(f\"Figures/ubic_burgers_noise{int(noise_lv)}.pdf\")\n",
    "    # plt.savefig(f\"Figures/ubic_SMSEMOA_burgers_noise{int(noise_lv)}.pdf\")\n",
    "    # plt.savefig(f\"Figures/ubic{len(last_ubic)}_SMSEMOA_burgers_noise{int(noise_lv)}.pdf\")\n",
    "    plt.show()"
   ]
  },
  {
   "cell_type": "markdown",
   "id": "96f7fbbc-bce9-423e-a852-eff481081970",
   "metadata": {},
   "source": [
    "### Visualization ###"
   ]
  },
  {
   "cell_type": "code",
   "execution_count": 23,
   "id": "ed9c36f3-a3ab-4b73-afff-e4c2128112fd",
   "metadata": {},
   "outputs": [
    {
     "data": {
      "image/png": "[encoded data removed]",
      "text/plain": [
       "<Figure size 400x300 with 1 Axes>"
      ]
     },
     "metadata": {},
     "output_type": "display_data"
    }
   ],
   "source": [
    "from scipy.interpolate import CubicSpline, PchipInterpolator\n",
    "pareto_front = np.load(add_prefix(pf_file_path, 'refined_'), allow_pickle=True)\n",
    "pareto_front = problem.evaluate(pareto_front)\n",
    "pareto_front = pareto_front[np.argsort(pareto_front[:, 1])]\n",
    "spline = PchipInterpolator(pareto_front[:, 1], pareto_front[:, 0])\n",
    "x_plot = np.linspace(pareto_front[:, 1].min(), pareto_front[:, 1].max(), len(pareto_front[:, 1])*100)\n",
    "\n",
    "bg_color = 'pink'\n",
    "with plt.style.context(['science']):\n",
    "    plt.rcParams['axes.facecolor'] = bg_color\n",
    "    plt.figure(figsize=(4, 3))\n",
    "    plt.plot(x_plot, spline(x_plot), color='blue')\n",
    "    plt.scatter(pareto_front[:, 1], pareto_front[:, 0], facecolor='None', edgecolors='black')\n",
    "    plt.scatter(max_ss, pareto_front[:, 0][max_ss-1], color='blue', label='Knee (Saturated predictive performance)')\n",
    "    plt.ylabel(\"Mean squared error\")\n",
    "    plt.xlabel(\"Support size\")\n",
    "    plt.title(\"Pareto front\")\n",
    "    plt.legend()\n",
    "    plt.tight_layout()\n",
    "    # plt.savefig(f\"Figures/pf_burgers_noise{int(noise_lv)}.pdf\")\n",
    "    plt.savefig(f\"Figures/pf_SMSEMOA_burgers_noise{int(noise_lv)}.pdf\")\n",
    "    plt.show()"
   ]
  },
  {
   "cell_type": "code",
   "execution_count": 24,
   "id": "fa8320a4",
   "metadata": {},
   "outputs": [],
   "source": [
    "pool.close()"
   ]
  },
  {
   "cell_type": "markdown",
   "id": "3c32c7c4-73e1-4e01-a01c-eefec2992d54",
   "metadata": {},
   "source": [
    "### Bayesian model evidence ###"
   ]
  },
  {
   "cell_type": "code",
   "execution_count": 26,
   "id": "f3641c55-3194-467e-a59c-c0bc76f6a94d",
   "metadata": {},
   "outputs": [
    {
     "data": {
      "text/plain": [
       "([16904.143503174066, 16930.782579326067, 16927.140086579006], 1, 1)"
      ]
     },
     "execution_count": 26,
     "metadata": {},
     "output_type": "execute_result"
    }
   ],
   "source": [
    "v = 1e-2\n",
    "while 1:\n",
    "    bme = [log_evidence(X_pre_top, y_pre, effective_indices=bs, v=v) for bs in best_subsets]\n",
    "    if np.argmax(bme) >= knee_finder(b_bics): break\n",
    "    else: v *= 10\n",
    "bme_knee = knee(range(len(bme)), bme, 0.95, 'linear', direction='increasing')\n",
    "bme, np.argmax(bme), bme_knee"
   ]
  },
  {
   "cell_type": "code",
   "execution_count": 27,
   "id": "e9248151-600d-449c-9b64-31ba31a932c0",
   "metadata": {},
   "outputs": [
    {
     "data": {
      "image/png": "[encoded data removed]",
      "text/plain": [
       "<Figure size 400x300 with 1 Axes>"
      ]
     },
     "metadata": {},
     "output_type": "display_data"
    }
   ],
   "source": [
    "with plt.style.context(['science']):\n",
    "    plt.rcParams['axes.facecolor'] = 'pink'\n",
    "    plt.figure(figsize=(4, 3))\n",
    "    plt.plot(range(1, len(bme)+1), bme, color='black')\n",
    "    plt.scatter(range(1, len(bme)+1), bme, facecolor='None', edgecolors='black')\n",
    "    plt.scatter(np.argmax(bme)+1, bme[np.argmax(bme)], label='Max', color='black')\n",
    "    plt.vlines(bme_knee+1, min(bme), max(bme), linestyles='--', color='red')\n",
    "    plt.xlabel(\"Support size\")\n",
    "    plt.ylabel(\"Bayesian model evidence\")\n",
    "    plt.xticks(range(1, len(bme)+1))\n",
    "    plt.text(bme_knee+1, np.mean(bme), 'Select', color='red', rotation=90, verticalalignment='center')\n",
    "    plt.legend()\n",
    "    plt.tight_layout()\n",
    "    # plt.savefig(f\"Figures/bme_burgers_noise{int(noise_lv)}.pdf\")\n",
    "    plt.savefig(f\"Figures/bme_SMSEMOA_burgers_noise{int(noise_lv)}.pdf\")\n",
    "    # plt.savefig(f\"Figures/bme{len(bme)}_SMSEMOA_burgers_noise{int(noise_lv)}.pdf\")\n",
    "    plt.show()"
   ]
  },
  {
   "cell_type": "code",
   "execution_count": 28,
   "id": "f7d1ef29",
   "metadata": {},
   "outputs": [
    {
     "name": "stderr",
     "output_type": "stream",
     "text": [
      "100%|██████████| 2/2 [00:00<00:00,  2.22it/s]\n"
     ]
    },
    {
     "data": {
      "text/plain": [
       "(array([[ 0.        ,  0.        ,  0.        ,  0.        ,  0.        ,\n",
       "          0.        ,  0.        , -0.33718854,  0.        ,  0.        ,\n",
       "          0.        ,  0.        ,  0.        ,  0.        ,  0.        ,\n",
       "          0.        ,  0.        ,  0.        ,  0.        ,  0.        ,\n",
       "          0.        ,  0.        ,  0.        ,  0.        ,  0.        ,\n",
       "          0.        ,  0.        ,  0.        ,  0.        ,  0.        ,\n",
       "          0.        ,  0.        ,  0.        ,  0.        ,  0.        ,\n",
       "          0.        ,  0.        ,  0.        ,  0.        ,  0.        ,\n",
       "          0.        ,  0.        ,  0.        ,  0.        ,  0.        ,\n",
       "          0.        ,  0.        ,  0.        ,  0.        ],\n",
       "        [ 0.        ,  0.        ,  0.        ,  0.        ,  0.        ,\n",
       "          0.        ,  0.        ,  0.        ,  0.09250497,  0.        ,\n",
       "          0.        ,  0.        ,  0.        , -0.97353525,  0.        ,\n",
       "          0.        ,  0.        ,  0.        ,  0.        ,  0.        ,\n",
       "          0.        ,  0.        ,  0.        ,  0.        ,  0.        ,\n",
       "          0.        ,  0.        ,  0.        ,  0.        ,  0.        ,\n",
       "          0.        ,  0.        ,  0.        ,  0.        ,  0.        ,\n",
       "          0.        ,  0.        ,  0.        ,  0.        ,  0.        ,\n",
       "          0.        ,  0.        ,  0.        ,  0.        ,  0.        ,\n",
       "          0.        ,  0.        ,  0.        ,  0.        ]]),\n",
       " [(7,), (8, 13)])"
      ]
     },
     "execution_count": 28,
     "metadata": {},
     "output_type": "execute_result"
    }
   ],
   "source": [
    "brute_force_all_subsets(X_pre, y_pre, max_support_size=2)"
   ]
  },
  {
   "cell_type": "code",
   "execution_count": null,
   "id": "b21fdedd",
   "metadata": {},
   "outputs": [],
   "source": []
  },
  {
   "cell_type": "code",
   "execution_count": null,
   "id": "27e0462d",
   "metadata": {},
   "outputs": [],
   "source": []
  }
 ],
 "metadata": {
  "kernelspec": {
   "display_name": "Python [conda env:sindy]",
   "language": "python",
   "name": "conda-env-sindy-py"
  },
  "language_info": {
   "codemirror_mode": {
    "name": "ipython",
    "version": 3
   },
   "file_extension": ".py",
   "mimetype": "text/x-python",
   "name": "python",
   "nbconvert_exporter": "python",
   "pygments_lexer": "ipython3",
   "version": "3.10.13"
  }
 },
 "nbformat": 4,
 "nbformat_minor": 5
}

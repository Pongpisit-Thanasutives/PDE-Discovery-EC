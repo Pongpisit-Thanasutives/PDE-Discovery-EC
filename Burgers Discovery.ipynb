{
 "cells": [
  {
   "cell_type": "code",
   "execution_count": 1,
   "id": "d8401bd4",
   "metadata": {},
   "outputs": [
    {
     "name": "stdout",
     "output_type": "stream",
     "text": [
      "mrmr is not installed in the env you are using. This may cause an error in future if you try to use the (missing) lib.\n",
      "L0BnB is not installed.\n"
     ]
    }
   ],
   "source": [
    "%load_ext autoreload\n",
    "%autoreload 2\n",
    "%matplotlib inline\n",
    "import matplotlib.pyplot as plt\n",
    "import scienceplots\n",
    "\n",
    "import time\n",
    "import math\n",
    "import os\n",
    "import random\n",
    "from functools import partial\n",
    "from decimal import Decimal\n",
    "import numpy as np\n",
    "import scipy.io as sio\n",
    "import pysindy as ps\n",
    "from tqdm import trange\n",
    "\n",
    "from pymoo_ga import *\n",
    "from pymoo.algorithms.moo.nsga2 import NSGA2\n",
    "from pymoo.algorithms.moo.dnsga2 import DNSGA2\n",
    "from pymoo.termination.default import DefaultMultiObjectiveTermination\n",
    "from pymoo.optimize import minimize\n",
    "from pymoo.core.problem import StarmapParallelization\n",
    "from multiprocessing.pool import ThreadPool\n",
    "\n",
    "from utils import *\n",
    "from skimage.restoration import estimate_sigma\n",
    "import bm3d\n",
    "# from okridge.solvel0 import *\n",
    "from solvel0 import solvel0, MIOSR\n",
    "from best_subset import backward_refinement, brute_force_all_subsets\n",
    "from UBIC import *\n",
    "from kneed import KneeLocator\n",
    "from bayesian_model_evidence import log_evidence\n",
    "\n",
    "from sklearn.gaussian_process import GaussianProcessRegressor\n",
    "from sklearn.gaussian_process.kernels import RBF, WhiteKernel\n",
    "from sklearn.preprocessing import StandardScaler\n",
    "from sklearn import covariance\n",
    "from sklearn.metrics import mean_absolute_percentage_error\n",
    "from sklearn.linear_model import BayesianRidge, ARDRegression, lars_path"
   ]
  },
  {
   "cell_type": "code",
   "execution_count": 2,
   "id": "5916f2d3",
   "metadata": {},
   "outputs": [],
   "source": [
    "n_poly = 6\n",
    "n_derivatives = 6\n",
    "n_modules = 8"
   ]
  },
  {
   "cell_type": "code",
   "execution_count": 3,
   "id": "8eaa96d0",
   "metadata": {},
   "outputs": [],
   "source": [
    "data_path = \"../PDE-Discovery-EC/Datasets/\"\n",
    "data = sio.loadmat(os.path.join(data_path, \"burgers.mat\"))\n",
    "u_clean = (data['usol']).real; u = u_clean.copy()\n",
    "x = (data['x'][0]).real\n",
    "t = (data['t'][:,0]).real\n",
    "dt = t[1]-t[0]; dx = x[2]-x[1]"
   ]
  },
  {
   "cell_type": "markdown",
   "id": "3a1e0adc",
   "metadata": {},
   "source": [
    "### Add noise"
   ]
  },
  {
   "cell_type": "code",
   "execution_count": 4,
   "id": "888ee41f",
   "metadata": {},
   "outputs": [
    {
     "name": "stdout",
     "output_type": "stream",
     "text": [
      "Noise level: 50.0\n"
     ]
    }
   ],
   "source": [
    "np.random.seed(0)\n",
    "noise_type = \"gaussian\"\n",
    "noise_lv = float(50)\n",
    "print(\"Noise level:\", noise_lv)\n",
    "noise = 0.01*np.abs(noise_lv)*(u.std())*np.random.randn(u.shape[0],u.shape[1])\n",
    "u = u + noise"
   ]
  },
  {
   "cell_type": "markdown",
   "id": "c5c890b0",
   "metadata": {},
   "source": [
    "### Denoise"
   ]
  },
  {
   "cell_type": "code",
   "execution_count": 5,
   "id": "d9754901",
   "metadata": {},
   "outputs": [],
   "source": [
    "# bm3d_file = f\"./Denoised_data/burgers_{noise_type}{int(noise_lv)}_bm3d.npy\"\n",
    "# load_denoised_data = True\n",
    "# if load_denoised_data:\n",
    "#     print(\"Loading denoised data...\")\n",
    "#     u = np.load(bm3d_file)\n",
    "# else:\n",
    "#     kernel = RBF(length_scale=1, length_scale_bounds=(1e-2, 1e3)) + \\\n",
    "#                     WhiteKernel(noise_level=1, noise_level_bounds=(1e-10, 1e10))\n",
    "    \n",
    "#     xx = colvec(x)\n",
    "#     u_mean = np.copy(u)\n",
    "#     u_std = np.ones(u.shape)\n",
    "#     for i in trange(len(t)):    \n",
    "#         gpr = GaussianProcessRegressor(kernel=kernel, alpha=0.0, \n",
    "#                                        n_restarts_optimizer=10 # 20\n",
    "#                                       )\n",
    "    \n",
    "#         gpr.fit(xx, u_mean[:, i])\n",
    "#         um, ustd = gpr.predict(xx, return_std=True)\n",
    "#         u_mean[:, i] = um\n",
    "#         u_std[:, i] = ustd\n",
    "    \n",
    "#     est_sigma = u_std.mean() # max also works well\n",
    "#     # est_sigma = (est_sigma+estimate_sigma(u))/2\n",
    "#     u = bm3d.bm3d(u, sigma_psd=est_sigma, \n",
    "#                   stage_arg=bm3d.BM3DStages.ALL_STAGES, \n",
    "#                   blockmatches=(False, False))\n",
    "    \n",
    "#     ### to save ###\n",
    "#     # np.save(bm3d_file, u)\n",
    "\n",
    "np.random.seed(0)\n",
    "fake_noise = np.random.normal(loc=0.0, scale=estimate_sigma(u), size=u.shape)\n",
    "sigmas = estimate_sigma(u+fake_noise)*np.arange(0.1, 2., 0.1)\n",
    "est_sigma = sigmas[np.argmin([((u-bm3d.bm3d(u+fake_noise, sigma_psd=sigma, stage_arg=bm3d.BM3DStages.ALL_STAGES, blockmatches=(False, False)))**2).mean() \\\n",
    "                              for sigma in sigmas])]\n",
    "u = bm3d.bm3d(u, sigma_psd=est_sigma, \n",
    "                  stage_arg=bm3d.BM3DStages.ALL_STAGES, \n",
    "                  blockmatches=(False, False))"
   ]
  },
  {
   "cell_type": "code",
   "execution_count": 6,
   "id": "9921db4e-3de7-42e2-836a-64a85cea979e",
   "metadata": {},
   "outputs": [],
   "source": [
    "xt = np.array([x.reshape(-1, 1), t.reshape(1, -1)], dtype=object)\n",
    "X, T = np.meshgrid(x, t)\n",
    "XT = np.asarray([X, T]).T"
   ]
  },
  {
   "cell_type": "code",
   "execution_count": 7,
   "id": "6aaf2666",
   "metadata": {},
   "outputs": [],
   "source": [
    "function_library = ps.PolynomialLibrary(degree=n_poly, include_bias=False)\n",
    "\n",
    "weak_lib = ps.WeakPDELibrary(\n",
    "    function_library=function_library,\n",
    "    derivative_order=n_derivatives,\n",
    "    spatiotemporal_grid=XT,\n",
    "    include_bias=True,\n",
    "    diff_kwargs={\"is_uniform\":True},\n",
    "    K=10000\n",
    ")\n",
    "\n",
    "X_pre = np.array(weak_lib.fit_transform(np.expand_dims(u, -1)))\n",
    "y_pre = weak_lib.convert_u_dot_integral(np.expand_dims(u, -1))\n",
    "feature_names = np.array(weak_lib.get_feature_names())\n",
    "\n",
    "# R_path = \"./Cache/\"\n",
    "# np.save(os.path.join(R_path, f\"X_pre_burgers_noise{int(noise_lv)}.npy\"), X_pre)\n",
    "# np.save(os.path.join(R_path, f\"y_pre_burgers_noise{int(noise_lv)}.npy\"), y_pre)\n",
    "# np.save(os.path.join(R_path, f\"feature_names_burgers.npy\"), feature_names)"
   ]
  },
  {
   "cell_type": "code",
   "execution_count": 8,
   "id": "6ad9a594",
   "metadata": {},
   "outputs": [],
   "source": [
    "base_poly = np.array([[p, 0] for p in range(1, n_poly+1)])\n",
    "base_derivative = np.array([[0, d] for d in range(1, n_derivatives+1)])\n",
    "modules = [(0, 0)] if weak_lib.include_bias else []\n",
    "modules += [(p, 0) for p in range(1, n_poly+1)] + \\\n",
    "            [(0, d) for d in range(1, n_derivatives+1)] + \\\n",
    "            [tuple(p+d) for d in base_derivative for p in base_poly]\n",
    "assert len(modules) == len(weak_lib.get_feature_names())\n",
    "base_features = dict(zip(modules, X_pre.T))\n",
    "u_t = y_pre.copy()"
   ]
  },
  {
   "cell_type": "markdown",
   "id": "16bede4c-0838-41ab-9dcb-629f03e4f564",
   "metadata": {},
   "source": [
    "### Straightforward best-subset selection"
   ]
  },
  {
   "cell_type": "code",
   "execution_count": 9,
   "id": "acf9148f-099b-4576-872a-50180f02dbb6",
   "metadata": {},
   "outputs": [],
   "source": [
    "# over 30 minutes for n_poly = 6 and n_derivatives = 6\n",
    "# miosr_subsets = solvel0(X_pre, y_pre, miosr=True)"
   ]
  },
  {
   "cell_type": "markdown",
   "id": "bb73e146",
   "metadata": {},
   "source": [
    "### Genetic algorithm with NSGA-II"
   ]
  },
  {
   "cell_type": "code",
   "execution_count": 10,
   "id": "263f3258",
   "metadata": {},
   "outputs": [],
   "source": [
    "pop_size = 500\n",
    "order_complexity = False\n",
    "pool = ThreadPool(4)\n",
    "problem = PdeDiscoveryProblem(n_poly, n_derivatives, n_modules, \n",
    "                              base_features, u_t, order_complexity=order_complexity, \n",
    "                              elementwise_runner=StarmapParallelization(pool.starmap))"
   ]
  },
  {
   "cell_type": "code",
   "execution_count": 11,
   "id": "296e4b3d",
   "metadata": {},
   "outputs": [
    {
     "name": "stdout",
     "output_type": "stream",
     "text": [
      "==========================================================\n",
      "n_gen  |  n_eval  | n_nds  |      eps      |   indicator  \n",
      "==========================================================\n",
      "     1 |      500 |      6 |             - |             -\n",
      "     2 |     1000 |      6 |  0.0438855626 |         ideal\n",
      "     3 |     1500 |      6 |  0.0322608991 |             f\n",
      "     4 |     2000 |      6 |  0.0356829083 |             f\n",
      "     5 |     2500 |      7 |  0.0277142088 |             f\n",
      "     6 |     3000 |      8 |  0.0028723875 |         ideal\n",
      "     7 |     3500 |      7 |  0.0034823299 |         ideal\n",
      "     8 |     4000 |      7 |  0.0027222885 |             f\n",
      "     9 |     4500 |      7 |  0.0034717499 |             f\n",
      "    10 |     5000 |      7 |  0.0011853194 |             f\n",
      "    11 |     5500 |      8 |  0.0038911577 |         ideal\n",
      "    12 |     6000 |      8 |  0.0002233556 |             f\n",
      "    13 |     6500 |      8 |  0.0004620178 |             f\n",
      "    14 |     7000 |      9 |  0.1250000000 |         nadir\n",
      "    15 |     7500 |      8 |  0.0002887497 |             f\n",
      "    16 |     8000 |      8 |  0.0002887497 |             f\n",
      "    17 |     8500 |     10 |  0.1111111111 |         nadir\n",
      "    18 |     9000 |     10 |  0.000000E+00 |             f\n",
      "    19 |     9500 |     10 |  0.0033776640 |         ideal\n",
      "    20 |    10000 |     10 |  0.000000E+00 |             f\n",
      "    21 |    10500 |      9 |  0.0002166873 |             f\n",
      "    22 |    11000 |     10 |  0.0003112269 |             f\n",
      "    23 |    11500 |     11 |  0.1000000000 |         nadir\n",
      "    24 |    12000 |     11 |  0.0001546321 |             f\n",
      "    25 |    12500 |     11 |  0.0005841895 |             f\n",
      "    26 |    13000 |     11 |  0.0005915714 |             f\n",
      "    27 |    13500 |     11 |  0.0007295170 |             f\n",
      "    28 |    14000 |     11 |  0.0008535821 |             f\n",
      "    29 |    14500 |     11 |  0.0009495102 |             f\n",
      "    30 |    15000 |     11 |  0.0009495102 |             f\n",
      "    31 |    15500 |     11 |  0.0009705112 |             f\n",
      "    32 |    16000 |     11 |  0.0009705112 |             f\n",
      "    33 |    16500 |     12 |  0.0909090909 |         nadir\n",
      "    34 |    17000 |     12 |  0.000000E+00 |             f\n",
      "    35 |    17500 |     12 |  0.000000E+00 |             f\n",
      "    36 |    18000 |     12 |  0.000000E+00 |             f\n",
      "    37 |    18500 |     12 |  0.0000672742 |             f\n",
      "    38 |    19000 |     12 |  0.0000958345 |             f\n",
      "    39 |    19500 |     12 |  0.0001634054 |             f\n",
      "    40 |    20000 |     12 |  0.0001675697 |             f\n",
      "    41 |    20500 |     12 |  0.0003222597 |             f\n",
      "    42 |    21000 |     13 |  0.0833333333 |         nadir\n",
      "    43 |    21500 |     11 |  0.2000000000 |         nadir\n",
      "    44 |    22000 |     11 |  0.0001825689 |             f\n",
      "    45 |    22500 |     12 |  0.1666666667 |         nadir\n",
      "    46 |    23000 |     12 |  0.0000121185 |             f\n",
      "    47 |    23500 |     12 |  0.0003115517 |             f\n",
      "    48 |    24000 |     12 |  0.0003115517 |             f\n",
      "    49 |    24500 |     13 |  0.0066978435 |             f\n",
      "    50 |    25000 |     13 |  0.0001055380 |             f\n",
      "    51 |    25500 |     13 |  0.0001055380 |             f\n",
      "    52 |    26000 |     13 |  0.0002666643 |             f\n",
      "    53 |    26500 |     13 |  0.0002666643 |             f\n",
      "    54 |    27000 |     14 |  0.0769230769 |         nadir\n",
      "    55 |    27500 |     14 |  0.0002641212 |             f\n",
      "    56 |    28000 |     14 |  0.0002641212 |             f\n",
      "    57 |    28500 |     13 |  0.0028954185 |         ideal\n",
      "    58 |    29000 |     14 |  0.0051057752 |             f\n",
      "    59 |    29500 |     14 |  0.000000E+00 |             f\n",
      "    60 |    30000 |     14 |  0.000000E+00 |             f\n",
      "    61 |    30500 |     14 |  0.000000E+00 |             f\n",
      "    62 |    31000 |     14 |  0.000000E+00 |             f\n",
      "    63 |    31500 |     14 |  0.000000E+00 |             f\n",
      "    64 |    32000 |     14 |  0.000000E+00 |             f\n",
      "    65 |    32500 |     14 |  0.000000E+00 |             f\n",
      "    66 |    33000 |     14 |  0.000000E+00 |             f\n",
      "    67 |    33500 |     14 |  0.000000E+00 |             f\n",
      "    68 |    34000 |     14 |  0.000000E+00 |             f\n",
      "    69 |    34500 |     14 |  0.000000E+00 |             f\n",
      "    70 |    35000 |     14 |  0.0769230769 |         nadir\n",
      "    71 |    35500 |     14 |  0.000000E+00 |             f\n",
      "    72 |    36000 |     14 |  0.000000E+00 |             f\n",
      "    73 |    36500 |     15 |  0.0032946810 |         ideal\n",
      "    74 |    37000 |     16 |  0.0039063200 |             f\n",
      "    75 |    37500 |     16 |  0.000000E+00 |             f\n",
      "    76 |    38000 |     16 |  0.0000464678 |             f\n",
      "    77 |    38500 |     16 |  0.0000464678 |             f\n",
      "    78 |    39000 |     16 |  0.0040782590 |             f\n",
      "    79 |    39500 |     16 |  0.0000474016 |             f\n",
      "    80 |    40000 |     16 |  0.0001326193 |             f\n",
      "    81 |    40500 |     17 |  0.0038013980 |             f\n",
      "    82 |    41000 |     17 |  0.000000E+00 |             f\n",
      "    83 |    41500 |     17 |  0.0001067378 |             f\n",
      "    84 |    42000 |     17 |  0.0001067378 |             f\n",
      "    85 |    42500 |     17 |  0.0001067378 |             f\n",
      "    86 |    43000 |     17 |  0.0001692826 |             f\n",
      "    87 |    43500 |     17 |  0.0001692826 |             f\n",
      "    88 |    44000 |     17 |  0.0002036843 |             f\n",
      "    89 |    44500 |     17 |  0.0002036843 |             f\n",
      "    90 |    45000 |     17 |  0.0002163992 |             f\n",
      "    91 |    45500 |     17 |  0.0002163992 |             f\n",
      "    92 |    46000 |     18 |  0.0032012222 |         ideal\n",
      "    93 |    46500 |     18 |  0.000000E+00 |             f\n",
      "    94 |    47000 |     14 |  0.0003727505 |             f\n",
      "    95 |    47500 |     14 |  0.0003727505 |             f\n",
      "    96 |    48000 |     14 |  0.0003727505 |             f\n",
      "    97 |    48500 |     14 |  0.0004206785 |             f\n",
      "    98 |    49000 |     14 |  0.2142857143 |         nadir\n",
      "    99 |    49500 |     14 |  0.000000E+00 |             f\n",
      "   100 |    50000 |     14 |  0.000000E+00 |             f\n",
      "   101 |    50500 |     14 |  0.000000E+00 |             f\n",
      "   102 |    51000 |     15 |  0.0037051068 |         ideal\n",
      "   103 |    51500 |     16 |  0.0039072096 |             f\n",
      "   104 |    52000 |     16 |  0.000000E+00 |             f\n",
      "   105 |    52500 |     16 |  0.000000E+00 |             f\n",
      "   106 |    53000 |     16 |  0.000000E+00 |             f\n",
      "   107 |    53500 |     16 |  0.000000E+00 |             f\n",
      "   108 |    54000 |     16 |  7.868968E-06 |             f\n",
      "   109 |    54500 |     16 |  7.868968E-06 |             f\n",
      "   110 |    55000 |     16 |  7.868968E-06 |             f\n",
      "   111 |    55500 |     16 |  7.868968E-06 |             f\n",
      "   112 |    56000 |     15 |  0.0666666667 |         nadir\n",
      "   113 |    56500 |     15 |  0.000000E+00 |             f\n",
      "   114 |    57000 |     15 |  0.000000E+00 |             f\n",
      "   115 |    57500 |     15 |  0.000000E+00 |             f\n",
      "   116 |    58000 |     16 |  0.2500000000 |         nadir\n",
      "   117 |    58500 |     16 |  0.0001328941 |             f\n",
      "   118 |    59000 |     16 |  0.1111111111 |         nadir\n",
      "   119 |    59500 |     16 |  0.000000E+00 |             f\n",
      "   120 |    60000 |     16 |  0.000000E+00 |             f\n",
      "   121 |    60500 |     17 |  0.1428571429 |         nadir\n",
      "   122 |    61000 |     17 |  0.000000E+00 |             f\n",
      "   123 |    61500 |     18 |  0.0026455103 |             f\n",
      "   124 |    62000 |     17 |  0.1052631579 |         nadir\n",
      "   125 |    62500 |     18 |  0.0029258670 |             f\n",
      "   126 |    63000 |     18 |  0.0000362116 |             f\n",
      "   127 |    63500 |     18 |  0.0000362116 |             f\n",
      "   128 |    64000 |     18 |  0.0000362116 |             f\n",
      "   129 |    64500 |     18 |  0.0002885513 |             f\n",
      "   130 |    65000 |     19 |  0.0031549647 |             f\n",
      "   131 |    65500 |     19 |  0.000000E+00 |             f\n",
      "   132 |    66000 |     19 |  0.0000989473 |             f\n",
      "   133 |    66500 |     19 |  0.0000989473 |             f\n",
      "   134 |    67000 |     19 |  0.0000989473 |             f\n",
      "   135 |    67500 |     20 |  0.1739130435 |         nadir\n",
      "   136 |    68000 |     20 |  0.000000E+00 |             f\n",
      "   137 |    68500 |     17 |  0.3529411765 |         nadir\n",
      "   138 |    69000 |     18 |  0.1904761905 |         nadir\n",
      "   139 |    69500 |     19 |  0.0454545455 |         nadir\n",
      "   140 |    70000 |     20 |  0.0045456384 |             f\n",
      "   141 |    70500 |     20 |  0.0000285635 |             f\n",
      "   142 |    71000 |     21 |  0.0434782609 |         nadir\n",
      "   143 |    71500 |     21 |  0.0000247607 |             f\n",
      "   144 |    72000 |     20 |  0.0001866200 |             f\n",
      "   145 |    72500 |     20 |  0.0003721717 |             f\n",
      "   146 |    73000 |     18 |  0.0952380952 |         nadir\n",
      "   147 |    73500 |     19 |  0.0025113251 |             f\n",
      "   148 |    74000 |     20 |  0.0023940474 |             f\n",
      "   149 |    74500 |     20 |  0.0023943084 |             f\n",
      "   150 |    75000 |     20 |  0.0024375695 |             f\n",
      "   151 |    75500 |     20 |  0.0024375695 |             f\n",
      "   152 |    76000 |     20 |  0.0024901157 |             f\n",
      "   153 |    76500 |     20 |  0.0024901157 |             f\n",
      "   154 |    77000 |     20 |  0.0049191005 |             f\n",
      "   155 |    77500 |     21 |  0.0022677025 |             f\n",
      "   156 |    78000 |     21 |  0.0023551580 |             f\n",
      "   157 |    78500 |     21 |  0.0023558386 |             f\n",
      "   158 |    79000 |     21 |  0.0023558386 |             f\n",
      "   159 |    79500 |     21 |  0.0023826789 |             f\n",
      "   160 |    80000 |     22 |  0.0044388899 |             f\n",
      "   161 |    80500 |     22 |  0.0000418561 |             f\n",
      "   162 |    81000 |     22 |  0.0000418561 |             f\n",
      "   163 |    81500 |     21 |  0.0000758758 |             f\n",
      "   164 |    82000 |     21 |  0.0000758758 |             f\n",
      "   165 |    82500 |     22 |  0.0001196174 |             f\n",
      "   166 |    83000 |     23 |  0.0869565217 |         nadir\n",
      "   167 |    83500 |     23 |  1.221926E-06 |             f\n",
      "   168 |    84000 |     23 |  1.221926E-06 |             f\n",
      "   169 |    84500 |     24 |  0.0018663145 |             f\n",
      "   170 |    85000 |     24 |  0.0020063619 |             f\n",
      "   171 |    85500 |     24 |  0.0020417192 |             f\n",
      "   172 |    86000 |     24 |  0.0020417192 |             f\n",
      "   173 |    86500 |     24 |  0.0020417192 |             f\n",
      "   174 |    87000 |     24 |  0.0020417192 |             f\n",
      "   175 |    87500 |     24 |  0.0020484583 |             f\n",
      "   176 |    88000 |     24 |  0.0020484583 |             f\n",
      "   177 |    88500 |     24 |  0.0020484583 |             f\n",
      "   178 |    89000 |     24 |  0.0020484583 |             f\n",
      "   179 |    89500 |     23 |  0.0022516995 |             f\n",
      "   180 |    90000 |     23 |  0.0022516995 |             f\n",
      "   181 |    90500 |     23 |  0.0022516995 |             f\n",
      "   182 |    91000 |     23 |  0.0022950704 |             f\n",
      "   183 |    91500 |     23 |  0.0022950704 |             f\n",
      "   184 |    92000 |     23 |  0.0023333358 |             f\n",
      "   185 |    92500 |     23 |  0.0023541348 |             f\n",
      "   186 |    93000 |     23 |  0.0454545455 |         nadir\n",
      "   187 |    93500 |     23 |  0.0000512780 |             f\n",
      "   188 |    94000 |     23 |  0.0000512780 |             f\n",
      "   189 |    94500 |     23 |  0.0000512780 |             f\n",
      "   190 |    95000 |     23 |  0.0001792428 |             f\n",
      "   191 |    95500 |     23 |  0.0002012313 |             f\n",
      "   192 |    96000 |     23 |  0.0002012313 |             f\n",
      "   193 |    96500 |     23 |  0.0002012313 |             f\n",
      "   194 |    97000 |     23 |  0.0002094757 |             f\n",
      "   195 |    97500 |     23 |  0.0002433523 |             f\n",
      "   196 |    98000 |     23 |  0.0002433523 |             f\n",
      "   197 |    98500 |     24 |  0.0434782609 |         nadir\n",
      "   198 |    99000 |     24 |  0.000000E+00 |             f\n",
      "   199 |    99500 |     24 |  0.0000581681 |             f\n",
      "   200 |   100000 |     24 |  0.0000581681 |             f\n",
      "Execution time: 2.969148055712382\n"
     ]
    }
   ],
   "source": [
    "def add_prefix(file_path, prefix):\n",
    "    dir_name, file_name = os.path.split(file_path)\n",
    "    return os.path.join(dir_name, prefix + file_name)\n",
    "    \n",
    "load_pareto_front = False\n",
    "n_max_gen = 200\n",
    "n_max_evals = 100000\n",
    "pf_file_path = f\"./Cache/pf_SMSEMOA_burgers_noise{int(noise_lv)}.npy\"\n",
    "\n",
    "if not load_pareto_front:\n",
    "    termination = DefaultMultiObjectiveTermination(\n",
    "        xtol=1e-8,\n",
    "        cvtol=1e-6,\n",
    "        ftol=1e-8,\n",
    "        period=50,\n",
    "        n_max_gen=n_max_gen,\n",
    "        n_max_evals=n_max_evals\n",
    "    )\n",
    "    \n",
    "    from pymoo.algorithms.moo.sms import SMSEMOA\n",
    "    from pymoo.algorithms.moo.age import AGEMOEA\n",
    "    \n",
    "    ### Optimization algorithms ###\n",
    "    # algorithm = NSGA2(pop_size=pop_size,\n",
    "    #                     sampling=PopulationSampling(),\n",
    "    #                     crossover=GenomeCrossover(),\n",
    "    #                     mutation=GenomeMutation(),\n",
    "    #                     eliminate_duplicates=DuplicateElimination(),\n",
    "    #                     )\n",
    "    \n",
    "    # algorithm = DNSGA2(pop_size=pop_size,\n",
    "    #                 sampling=PopulationSampling(),\n",
    "    #                 crossover=GenomeCrossover(),\n",
    "    #                 mutation=GenomeMutation(),\n",
    "    #                 eliminate_duplicates=DuplicateElimination(),\n",
    "    #                 )\n",
    "    \n",
    "    algorithm = SMSEMOA(pop_size=pop_size,\n",
    "                    sampling=PopulationSampling(),\n",
    "                    crossover=GenomeCrossover(),\n",
    "                    mutation=GenomeMutation(),\n",
    "                    eliminate_duplicates=DuplicateElimination(),\n",
    "                    )\n",
    "\n",
    "    opt_time = time.time()\n",
    "    res = minimize(problem, \n",
    "                   algorithm, \n",
    "                   termination=termination, \n",
    "                   verbose=True)\n",
    "    opt_time = (time.time() - opt_time)/60\n",
    "    print(\"Execution time:\", opt_time)\n",
    "    \n",
    "    pareto_optimal_models = res.X\n",
    "    # np.save(pf_file_path, pareto_optimal_models)\n",
    "\n",
    "else:\n",
    "    pareto_optimal_models = np.load(pf_file_path, allow_pickle=True)\n",
    "    pass\n",
    "\n",
    "np.random.seed(0)"
   ]
  },
  {
   "cell_type": "code",
   "execution_count": 13,
   "id": "66468fa3-d3a1-45f6-9c8f-d89b0d723713",
   "metadata": {},
   "outputs": [
    {
     "data": {
      "text/plain": [
       "array([[frozenset({(0, 1)})],\n",
       "       [frozenset({(1, 1), (0, 2)})],\n",
       "       [frozenset({(1, 1), (0, 2), (0, 4)})],\n",
       "       [frozenset({(1, 1), (0, 2), (0, 4), (4, 3)})],\n",
       "       [frozenset({(0, 4), (1, 1), (0, 2), (3, 6), (6, 3)})],\n",
       "       [frozenset({(0, 4), (1, 1), (0, 6), (0, 2), (3, 6), (6, 3)})],\n",
       "       [frozenset({(0, 4), (2, 1), (1, 1), (0, 6), (0, 2), (3, 6), (6, 3)})],\n",
       "       [frozenset({(0, 4), (1, 1), (5, 4), (6, 4), (0, 2), (5, 6), (6, 6), (6, 3)})],\n",
       "       [frozenset({(6, 2), (1, 2), (0, 4), (1, 1), (0, 6), (0, 2), (5, 3), (3, 2), (5, 2)})],\n",
       "       [frozenset({(6, 2), (1, 2), (0, 4), (5, 5), (1, 1), (4, 2), (0, 6), (0, 2), (5, 3), (5, 2)})],\n",
       "       [frozenset({(6, 2), (1, 2), (0, 4), (2, 1), (5, 5), (1, 1), (4, 2), (0, 6), (0, 2), (5, 3), (5, 2)})],\n",
       "       [frozenset({(6, 2), (5, 5), (0, 4), (2, 1), (1, 1), (0, 3), (4, 2), (0, 6), (0, 2), (2, 2), (3, 2), (6, 3)})],\n",
       "       [frozenset({(4, 0), (0, 4), (6, 0), (1, 1), (0, 3), (5, 1), (4, 2), (0, 6), (6, 4), (0, 2), (2, 2), (3, 2), (5, 2)})],\n",
       "       [frozenset({(4, 4), (6, 2), (1, 2), (0, 4), (1, 1), (0, 3), (4, 6), (5, 1), (5, 4), (0, 6), (0, 2), (5, 0), (5, 6), (6, 0)})],\n",
       "       [frozenset({(1, 2), (0, 4), (3, 4), (1, 1), (0, 3), (4, 6), (5, 1), (5, 4), (0, 6), (3, 0), (0, 2), (6, 0), (6, 6), (3, 2), (6, 3)})],\n",
       "       [frozenset({(6, 2), (1, 2), (0, 4), (4, 0), (6, 0), (1, 1), (0, 3), (5, 1), (1, 4), (0, 6), (6, 4), (0, 2), (5, 6), (3, 6), (3, 2), (5, 2)})],\n",
       "       [frozenset({(6, 2), (1, 2), (0, 4), (1, 1), (0, 3), (4, 6), (5, 1), (1, 4), (0, 6), (6, 4), (0, 2), (5, 0), (5, 6), (6, 0), (5, 3), (3, 2), (5, 2)})],\n",
       "       [frozenset({(2, 4), (1, 2), (0, 4), (4, 0), (6, 2), (4, 3), (1, 1), (0, 3), (5, 4), (4, 2), (0, 6), (0, 2), (5, 0), (5, 6), (0, 5), (3, 6), (3, 2), (4, 1)})],\n",
       "       [frozenset({(4, 0), (4, 3), (5, 4), (0, 2), (0, 5), (6, 2), (4, 2), (3, 0), (5, 0), (5, 6), (3, 6), (2, 4), (1, 2), (0, 4), (3, 2), (4, 1), (1, 1), (0, 3), (0, 6)})],\n",
       "       [frozenset({(4, 0), (5, 4), (5, 1), (0, 2), (0, 5), (2, 2), (1, 0), (6, 2), (4, 2), (3, 0), (5, 0), (5, 6), (3, 6), (2, 4), (0, 4), (3, 2), (3, 5), (1, 1), (0, 3), (0, 6)})],\n",
       "       [frozenset({(4, 0), (5, 4), (5, 1), (0, 2), (0, 5), (2, 2), (1, 0), (6, 2), (4, 2), (3, 0), (5, 0), (5, 6), (3, 6), (2, 4), (0, 4), (2, 1), (3, 2), (3, 5), (1, 1), (0, 3), (0, 6)})],\n",
       "       [frozenset({(4, 0), (4, 3), (3, 1), (5, 4), (0, 2), (0, 5), (1, 0), (6, 2), (4, 2), (3, 0), (5, 0), (5, 6), (3, 6), (2, 4), (1, 2), (0, 4), (2, 1), (3, 2), (4, 1), (1, 1), (0, 3), (0, 6)})],\n",
       "       [frozenset({(4, 0), (4, 3), (3, 1), (5, 4), (5, 1), (0, 2), (0, 5), (1, 0), (6, 2), (4, 2), (3, 0), (5, 0), (5, 6), (3, 6), (2, 4), (1, 2), (0, 4), (2, 1), (3, 2), (4, 1), (1, 1), (0, 3), (0, 6)})],\n",
       "       [frozenset({(4, 0), (4, 3), (3, 1), (5, 4), (4, 6), (5, 1), (0, 2), (0, 5), (1, 0), (6, 2), (4, 2), (3, 0), (5, 0), (5, 6), (3, 6), (2, 4), (1, 2), (0, 4), (2, 1), (3, 2), (4, 1), (1, 1), (0, 3), (0, 6)})]],\n",
       "      dtype=object)"
      ]
     },
     "execution_count": 13,
     "metadata": {},
     "output_type": "execute_result"
    }
   ],
   "source": [
    "### OPTIONAL: REFINE PARETO FRONT ###\n",
    "from operator import itemgetter\n",
    "\n",
    "effective_candidates = extract_unique_candidates(pareto_optimal_models)\n",
    "new_pareto_optimal_models = []\n",
    "for bs in backward_refinement([sorted([effective_candidates.index(_) for _ in list(pm[0])]) for pm in pareto_optimal_models], \n",
    "                              (problem.numericalize_genome(effective_candidates), y_pre)).get_best_subsets():\n",
    "    bs = itemgetter(*bs)(effective_candidates)\n",
    "    if type(bs[0]) is not tuple:\n",
    "        bs = (bs,)\n",
    "    new_pareto_optimal_models.append([frozenset(bs)])\n",
    "pareto_optimal_models = np.array(new_pareto_optimal_models)\n",
    "del new_pareto_optimal_models\n",
    "pareto_optimal_models"
   ]
  },
  {
   "cell_type": "markdown",
   "id": "9066caf0-4815-4132-bbc8-6eed80f77d07",
   "metadata": {},
   "source": [
    "### Top candidates by SHAP or Lasso/Lars path"
   ]
  },
  {
   "cell_type": "code",
   "execution_count": 14,
   "id": "6ec2d804-2f67-48dc-8c67-ba0dc23cdcff",
   "metadata": {},
   "outputs": [
    {
     "data": {
      "text/plain": [
       "[[0, 1],\n",
       " [1, 1],\n",
       " [0, 2],\n",
       " [6, 3],\n",
       " [0, 4],\n",
       " [3, 6],\n",
       " [1, 4],\n",
       " [0, 0],\n",
       " [2, 6],\n",
       " [0, 3],\n",
       " [0, 6],\n",
       " [1, 0],\n",
       " [1, 2],\n",
       " [2, 3],\n",
       " [6, 2],\n",
       " [6, 0],\n",
       " [6, 5],\n",
       " [4, 1],\n",
       " [3, 2],\n",
       " [6, 6],\n",
       " [2, 5]]"
      ]
     },
     "execution_count": 14,
     "metadata": {},
     "output_type": "execute_result"
    }
   ],
   "source": [
    "# feature_importance = dict(zip(effective_candidates, [0.0 for _ in range(len(effective_candidates))]))\n",
    "\n",
    "# for bs in pareto_optimal_models[1:]:\n",
    "#     bs = list(bs[0])\n",
    "#     shap_importance = shap_linear_importance(problem.numericalize_genome(bs), y_pre, scale=False)\n",
    "#     for i, _ in enumerate(bs):\n",
    "#         feature_importance[_] += shap_importance[i]\n",
    "\n",
    "# top_candidates = sorted([(v, k) for k, v in feature_importance.items()], reverse=True)\n",
    "# top_candidates = [v for k, v in top_candidates[:16]]\n",
    "\n",
    "_, lars_p, _ = lars_path(StandardScaler().fit_transform(problem.numericalize_genome(effective_candidates)), \n",
    "                         y_pre.ravel(), method='lasso', alpha_min=1e-5)\n",
    "top_candidates = np.array(effective_candidates)[lars_p].tolist()\n",
    "\n",
    "top_candidates"
   ]
  },
  {
   "cell_type": "markdown",
   "id": "092f6e10-8c4f-4863-8745-e32b434c6013",
   "metadata": {},
   "source": [
    "### Best-subset selections (Optional)"
   ]
  },
  {
   "cell_type": "code",
   "execution_count": 15,
   "id": "c724e549-426e-4893-a5c6-990e8b0398b6",
   "metadata": {},
   "outputs": [
    {
     "name": "stderr",
     "output_type": "stream",
     "text": [
      "  0%|                                                                               | 0/21 [00:00<?, ?it/s]"
     ]
    },
    {
     "name": "stdout",
     "output_type": "stream",
     "text": [
      "Set parameter Username\n",
      "Academic license - for non-commercial use only - expires 2026-04-04\n"
     ]
    },
    {
     "name": "stderr",
     "output_type": "stream",
     "text": [
      "100%|██████████████████████████████████████████████████████████████████████| 21/21 [00:00<00:00, 43.21it/s]\n"
     ]
    }
   ],
   "source": [
    "X_pre_top = problem.numericalize_genome(top_candidates)\n",
    "X_pre_top_norm = np.linalg.norm(X_pre_top, 2, axis=0)\n",
    "X_pre_top = X_pre_top/X_pre_top_norm\n",
    "\n",
    "best_subsets = solvel0(X_pre_top, y_pre, miosr=True, refine=True)\n",
    "pareto_optimal_models = [[np.array(top_candidates)[list(bs)]] for bs in best_subsets]"
   ]
  },
  {
   "cell_type": "markdown",
   "id": "0aed3f12-6973-4090-bc95-9d42f3384457",
   "metadata": {},
   "source": [
    "### Uncertainty quantification"
   ]
  },
  {
   "cell_type": "code",
   "execution_count": 16,
   "id": "042cbed9-f030-4ce6-9d86-e9c83d8f16fd",
   "metadata": {},
   "outputs": [
    {
     "name": "stdout",
     "output_type": "stream",
     "text": [
      "[ 1.63345007  1.          1.          1.          1.3794735   1.3794735\n",
      "  3.70687355  3.70687259 10.18906238 10.18906246  8.86129199  8.86129199\n",
      "  8.86129199  8.86129199 12.83089071 13.67728289 13.68233213 14.5469463\n",
      " 14.54655167 14.54624195 14.5461542 ]\n"
     ]
    },
    {
     "data": {
      "image/png": "[encoded data removed]",
      "text/plain": [
       "<Figure size 640x480 with 1 Axes>"
      ]
     },
     "metadata": {},
     "output_type": "display_data"
    }
   ],
   "source": [
    "pde_uncertainties = []\n",
    "\n",
    "for bs in pareto_optimal_models:\n",
    "    # um = BayesianRidge(fit_intercept=False, compute_score=True, max_iter=1000)\n",
    "    um = ARDRegression(fit_intercept=False, compute_score=True, max_iter=1000)\n",
    "    um.fit(problem.numericalize_genome(bs[0]), y_pre.ravel())\n",
    "    \n",
    "    pde_uncertainty = np.sqrt(np.diag(um.sigma_)).sum()/abs(um.coef_).sum()\n",
    "    pde_uncertainties.append(pde_uncertainty)\n",
    "\n",
    "pde_uncertainties = np.array(pde_uncertainties)/min(pde_uncertainties)\n",
    "print(pde_uncertainties)\n",
    "\n",
    "plt.plot(pde_uncertainties); plt.show()"
   ]
  },
  {
   "cell_type": "markdown",
   "id": "f259f587",
   "metadata": {},
   "source": [
    "### MCDM/MCDA ###"
   ]
  },
  {
   "cell_type": "code",
   "execution_count": 17,
   "id": "fdf1495e-4126-4fc4-9fec-0a71ad6cb539",
   "metadata": {},
   "outputs": [
    {
     "name": "stdout",
     "output_type": "stream",
     "text": [
      "Weights: [0.18377727 0.36687657 0.44934615]\n",
      "[[1.94434161e-05 1.00000000e+00 1.63345007e+00]\n",
      " [6.72053259e-06 2.00000000e+00 1.00000000e+00]] [(1, 4)]\n"
     ]
    }
   ],
   "source": [
    "from collections import Counter\n",
    "from pymcdm import weights as obj_w\n",
    "from compromise_programming import mcdm\n",
    "from bayesian_model_evidence import log_evidence\n",
    "\n",
    "include_uncertainty = True\n",
    "types = np.array([-1, -1])\n",
    "assert len(pareto_optimal_models) > 2\n",
    "F = problem.evaluate(pareto_optimal_models)\n",
    "# 2 criteria: acc, complexity / 3 criteria: acc, complexity, uncertainty\n",
    "if include_uncertainty:\n",
    "    F = np.hstack((F, pde_uncertainties.reshape(-1, 1)))\n",
    "    types = np.array([-1, -1, -1])\n",
    "\n",
    "# BIC or -log_evidence\n",
    "ic = np.array([sm.OLS(y_pre, problem.numericalize_genome(bs[0])).fit().bic for bs in pareto_optimal_models])\n",
    "# ic = np.array([-log_evidence(problem.numericalize_genome(bs[0]), y_pre) for bs in pareto_optimal_models])\n",
    "max_ss = np.argmin(ic)+1\n",
    "F = F[:max_ss]\n",
    "\n",
    "obj_weights = obj_w.gini_weights(F, types=types)\n",
    "print(\"Weights:\", obj_weights)\n",
    "\n",
    "# recursive mcdm\n",
    "filtered_F = F.copy()\n",
    "filtered_F[:, 0:1] = ic[:max_ss].reshape(-1, 1)\n",
    "while len(filtered_F) > 2:\n",
    "    ranks, prefs = mcdm(filtered_F, obj_weights, types)\n",
    "    most_common = Counter(np.argmin(ranks, axis=1)).most_common()\n",
    "    filtered_F = F[:most_common[0][0]+1]\n",
    "    print(filtered_F, most_common)\n",
    "    if len(most_common) == 1:\n",
    "        break"
   ]
  },
  {
   "cell_type": "code",
   "execution_count": null,
   "id": "4626d0c5-773d-408c-b440-90009f6da069",
   "metadata": {},
   "outputs": [],
   "source": []
  },
  {
   "cell_type": "code",
   "execution_count": null,
   "id": "f0faa29e-5bf3-48b6-92a3-de2dcfd25634",
   "metadata": {},
   "outputs": [],
   "source": []
  },
  {
   "cell_type": "code",
   "execution_count": 18,
   "id": "f7d1ef29",
   "metadata": {},
   "outputs": [
    {
     "name": "stderr",
     "output_type": "stream",
     "text": [
      "100%|████████████████████████████████████████████████████████████████████████| 2/2 [00:00<00:00,  8.36it/s]\n"
     ]
    },
    {
     "data": {
      "text/plain": [
       "(array([[ 0.        ,  0.        ,  0.        ,  0.        ,  0.        ,\n",
       "          0.        ,  0.        , -0.33694351,  0.        ,  0.        ,\n",
       "          0.        ,  0.        ,  0.        ,  0.        ,  0.        ,\n",
       "          0.        ,  0.        ,  0.        ,  0.        ,  0.        ,\n",
       "          0.        ,  0.        ,  0.        ,  0.        ,  0.        ,\n",
       "          0.        ,  0.        ,  0.        ,  0.        ,  0.        ,\n",
       "          0.        ,  0.        ,  0.        ,  0.        ,  0.        ,\n",
       "          0.        ,  0.        ,  0.        ,  0.        ,  0.        ,\n",
       "          0.        ,  0.        ,  0.        ,  0.        ,  0.        ,\n",
       "          0.        ,  0.        ,  0.        ,  0.        ],\n",
       "        [ 0.        ,  0.        ,  0.        ,  0.        ,  0.        ,\n",
       "          0.        ,  0.        ,  0.        ,  0.09297373,  0.        ,\n",
       "          0.        ,  0.        ,  0.        , -0.97441361,  0.        ,\n",
       "          0.        ,  0.        ,  0.        ,  0.        ,  0.        ,\n",
       "          0.        ,  0.        ,  0.        ,  0.        ,  0.        ,\n",
       "          0.        ,  0.        ,  0.        ,  0.        ,  0.        ,\n",
       "          0.        ,  0.        ,  0.        ,  0.        ,  0.        ,\n",
       "          0.        ,  0.        ,  0.        ,  0.        ,  0.        ,\n",
       "          0.        ,  0.        ,  0.        ,  0.        ,  0.        ,\n",
       "          0.        ,  0.        ,  0.        ,  0.        ]]),\n",
       " [(7,), (8, 13)])"
      ]
     },
     "execution_count": 18,
     "metadata": {},
     "output_type": "execute_result"
    }
   ],
   "source": [
    "brute_force_all_subsets(X_pre, y_pre, max_support_size=2)"
   ]
  }
 ],
 "metadata": {
  "kernelspec": {
   "display_name": "Python [conda env:econ]",
   "language": "python",
   "name": "conda-env-econ-py"
  },
  "language_info": {
   "codemirror_mode": {
    "name": "ipython",
    "version": 3
   },
   "file_extension": ".py",
   "mimetype": "text/x-python",
   "name": "python",
   "nbconvert_exporter": "python",
   "pygments_lexer": "ipython3",
   "version": "3.10.9"
  }
 },
 "nbformat": 4,
 "nbformat_minor": 5
}

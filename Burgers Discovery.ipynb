{
 "cells": [
  {
   "cell_type": "code",
   "execution_count": 1,
   "id": "d8401bd4",
   "metadata": {},
   "outputs": [
    {
     "name": "stdout",
     "output_type": "stream",
     "text": [
      "mrmr is not installed in the env you are using. This may cause an error in future if you try to use the (missing) lib.\n",
      "L0BnB is not installed.\n"
     ]
    }
   ],
   "source": [
    "%load_ext autoreload\n",
    "%autoreload 2\n",
    "%matplotlib inline\n",
    "import matplotlib.pyplot as plt\n",
    "import scienceplots\n",
    "\n",
    "import time\n",
    "import math\n",
    "import os\n",
    "import random\n",
    "from functools import partial\n",
    "from decimal import Decimal\n",
    "import numpy as np\n",
    "import scipy.io as sio\n",
    "import pysindy as ps\n",
    "from tqdm import trange\n",
    "\n",
    "from pymoo_ga import *\n",
    "from pymoo.algorithms.moo.nsga2 import NSGA2\n",
    "from pymoo.algorithms.moo.dnsga2 import DNSGA2\n",
    "from pymoo.termination.default import DefaultMultiObjectiveTermination\n",
    "from pymoo.optimize import minimize\n",
    "from pymoo.core.problem import StarmapParallelization\n",
    "from multiprocessing.pool import ThreadPool\n",
    "\n",
    "from utils import *\n",
    "from skimage.restoration import estimate_sigma\n",
    "import bm3d\n",
    "# from okridge.solvel0 import *\n",
    "from solvel0 import solvel0, MIOSR\n",
    "from best_subset import backward_refinement, brute_force_all_subsets\n",
    "from UBIC import *\n",
    "from kneed import KneeLocator\n",
    "from bayesian_model_evidence import log_evidence\n",
    "\n",
    "from sklearn.gaussian_process import GaussianProcessRegressor\n",
    "from sklearn.gaussian_process.kernels import RBF, WhiteKernel\n",
    "from sklearn.preprocessing import StandardScaler\n",
    "from sklearn import covariance\n",
    "from sklearn.metrics import mean_absolute_percentage_error\n",
    "from sklearn.linear_model import BayesianRidge, ARDRegression"
   ]
  },
  {
   "cell_type": "code",
   "execution_count": 2,
   "id": "5916f2d3",
   "metadata": {},
   "outputs": [],
   "source": [
    "n_poly = 6\n",
    "n_derivatives = 6\n",
    "n_modules = 8"
   ]
  },
  {
   "cell_type": "code",
   "execution_count": 3,
   "id": "8eaa96d0",
   "metadata": {},
   "outputs": [],
   "source": [
    "data_path = \"../PDE-Discovery-EC/Datasets/\"\n",
    "data = sio.loadmat(os.path.join(data_path, \"burgers.mat\"))\n",
    "u_clean = (data['usol']).real; u = u_clean.copy()\n",
    "x = (data['x'][0]).real\n",
    "t = (data['t'][:,0]).real\n",
    "dt = t[1]-t[0]; dx = x[2]-x[1]"
   ]
  },
  {
   "cell_type": "markdown",
   "id": "3a1e0adc",
   "metadata": {},
   "source": [
    "### Add noise"
   ]
  },
  {
   "cell_type": "code",
   "execution_count": 4,
   "id": "888ee41f",
   "metadata": {},
   "outputs": [
    {
     "name": "stdout",
     "output_type": "stream",
     "text": [
      "Noise level: 50.0\n"
     ]
    }
   ],
   "source": [
    "np.random.seed(0)\n",
    "noise_type = \"gaussian\"\n",
    "noise_lv = float(50)\n",
    "print(\"Noise level:\", noise_lv)\n",
    "noise = 0.01*np.abs(noise_lv)*(u.std())*np.random.randn(u.shape[0],u.shape[1])\n",
    "u = u + noise"
   ]
  },
  {
   "cell_type": "markdown",
   "id": "c5c890b0",
   "metadata": {},
   "source": [
    "### Denoise"
   ]
  },
  {
   "cell_type": "code",
   "execution_count": 5,
   "id": "d9754901",
   "metadata": {},
   "outputs": [],
   "source": [
    "# bm3d_file = f\"./Denoised_data/burgers_{noise_type}{int(noise_lv)}_bm3d.npy\"\n",
    "# load_denoised_data = True\n",
    "# if load_denoised_data:\n",
    "#     print(\"Loading denoised data...\")\n",
    "#     u = np.load(bm3d_file)\n",
    "# else:\n",
    "#     kernel = RBF(length_scale=1, length_scale_bounds=(1e-2, 1e3)) + \\\n",
    "#                     WhiteKernel(noise_level=1, noise_level_bounds=(1e-10, 1e10))\n",
    "    \n",
    "#     xx = colvec(x)\n",
    "#     u_mean = np.copy(u)\n",
    "#     u_std = np.ones(u.shape)\n",
    "#     for i in trange(len(t)):    \n",
    "#         gpr = GaussianProcessRegressor(kernel=kernel, alpha=0.0, \n",
    "#                                        n_restarts_optimizer=10 # 20\n",
    "#                                       )\n",
    "    \n",
    "#         gpr.fit(xx, u_mean[:, i])\n",
    "#         um, ustd = gpr.predict(xx, return_std=True)\n",
    "#         u_mean[:, i] = um\n",
    "#         u_std[:, i] = ustd\n",
    "    \n",
    "#     est_sigma = u_std.mean() # max also works well\n",
    "#     # est_sigma = (est_sigma+estimate_sigma(u))/2\n",
    "#     u = bm3d.bm3d(u, sigma_psd=est_sigma, \n",
    "#                   stage_arg=bm3d.BM3DStages.ALL_STAGES, \n",
    "#                   blockmatches=(False, False))\n",
    "    \n",
    "#     ### to save ###\n",
    "#     # np.save(bm3d_file, u)\n",
    "\n",
    "np.random.seed(0)\n",
    "fake_noise = np.random.normal(loc=0.0, scale=estimate_sigma(u), size=u.shape)\n",
    "sigmas = estimate_sigma(u+fake_noise)*np.arange(0.1, 2., 0.1)\n",
    "est_sigma = sigmas[np.argmin([((u-bm3d.bm3d(u+fake_noise, sigma_psd=sigma, stage_arg=bm3d.BM3DStages.ALL_STAGES, blockmatches=(False, False)))**2).mean() \\\n",
    "                              for sigma in sigmas])]\n",
    "u = bm3d.bm3d(u, sigma_psd=est_sigma, \n",
    "                  stage_arg=bm3d.BM3DStages.ALL_STAGES, \n",
    "                  blockmatches=(False, False))"
   ]
  },
  {
   "cell_type": "code",
   "execution_count": 6,
   "id": "9921db4e-3de7-42e2-836a-64a85cea979e",
   "metadata": {},
   "outputs": [],
   "source": [
    "xt = np.array([x.reshape(-1, 1), t.reshape(1, -1)], dtype=object)\n",
    "X, T = np.meshgrid(x, t)\n",
    "XT = np.asarray([X, T]).T"
   ]
  },
  {
   "cell_type": "code",
   "execution_count": 7,
   "id": "6aaf2666",
   "metadata": {},
   "outputs": [],
   "source": [
    "function_library = ps.PolynomialLibrary(degree=n_poly, include_bias=False)\n",
    "\n",
    "weak_lib = ps.WeakPDELibrary(\n",
    "    function_library=function_library,\n",
    "    derivative_order=n_derivatives,\n",
    "    spatiotemporal_grid=XT,\n",
    "    include_bias=True,\n",
    "    diff_kwargs={\"is_uniform\":True},\n",
    "    K=10000\n",
    ")\n",
    "\n",
    "X_pre = np.array(weak_lib.fit_transform(np.expand_dims(u, -1)))\n",
    "y_pre = weak_lib.convert_u_dot_integral(np.expand_dims(u, -1))\n",
    "feature_names = np.array(weak_lib.get_feature_names())\n",
    "\n",
    "# R_path = \"./Cache/\"\n",
    "# np.save(os.path.join(R_path, f\"X_pre_burgers_noise{int(noise_lv)}.npy\"), X_pre)\n",
    "# np.save(os.path.join(R_path, f\"y_pre_burgers_noise{int(noise_lv)}.npy\"), y_pre)\n",
    "# np.save(os.path.join(R_path, f\"feature_names_burgers.npy\"), feature_names)"
   ]
  },
  {
   "cell_type": "code",
   "execution_count": 8,
   "id": "6ad9a594",
   "metadata": {},
   "outputs": [],
   "source": [
    "base_poly = np.array([[p, 0] for p in range(1, n_poly+1)])\n",
    "base_derivative = np.array([[0, d] for d in range(1, n_derivatives+1)])\n",
    "modules = [(0, 0)] if weak_lib.include_bias else []\n",
    "modules += [(p, 0) for p in range(1, n_poly+1)] + \\\n",
    "            [(0, d) for d in range(1, n_derivatives+1)] + \\\n",
    "            [tuple(p+d) for d in base_derivative for p in base_poly]\n",
    "assert len(modules) == len(weak_lib.get_feature_names())\n",
    "base_features = dict(zip(modules, X_pre.T))\n",
    "u_t = y_pre.copy()"
   ]
  },
  {
   "cell_type": "markdown",
   "id": "16bede4c-0838-41ab-9dcb-629f03e4f564",
   "metadata": {},
   "source": [
    "### Straightforward best-subset selection"
   ]
  },
  {
   "cell_type": "code",
   "execution_count": 9,
   "id": "acf9148f-099b-4576-872a-50180f02dbb6",
   "metadata": {},
   "outputs": [],
   "source": [
    "# over 30 minutes for n_poly = 6 and n_derivatives = 6\n",
    "# miosr_subsets = solvel0(X_pre, y_pre, miosr=True)"
   ]
  },
  {
   "cell_type": "markdown",
   "id": "bb73e146",
   "metadata": {},
   "source": [
    "### Genetic algorithm with NSGA-II"
   ]
  },
  {
   "cell_type": "code",
   "execution_count": 10,
   "id": "263f3258",
   "metadata": {},
   "outputs": [],
   "source": [
    "pop_size = 500\n",
    "order_complexity = False\n",
    "pool = ThreadPool(4)\n",
    "problem = PdeDiscoveryProblem(n_poly, n_derivatives, n_modules, \n",
    "                              base_features, u_t, order_complexity=order_complexity, \n",
    "                              elementwise_runner=StarmapParallelization(pool.starmap))"
   ]
  },
  {
   "cell_type": "code",
   "execution_count": 11,
   "id": "296e4b3d",
   "metadata": {},
   "outputs": [
    {
     "name": "stdout",
     "output_type": "stream",
     "text": [
      "==========================================================\n",
      "n_gen  |  n_eval  | n_nds  |      eps      |   indicator  \n",
      "==========================================================\n",
      "     1 |      500 |      5 |             - |             -\n",
      "     2 |     1000 |      6 |  0.0596899558 |         ideal\n",
      "     3 |     1500 |      8 |  0.0101386382 |         ideal\n",
      "     4 |     2000 |      8 |  0.0080895697 |             f\n",
      "     5 |     2500 |      8 |  0.0127292119 |             f\n",
      "     6 |     3000 |      6 |  0.0170886369 |             f\n",
      "     7 |     3500 |      7 |  0.0414007995 |             f\n",
      "     8 |     4000 |      7 |  0.0253672280 |             f\n",
      "     9 |     4500 |      7 |  0.0227082336 |             f\n",
      "    10 |     5000 |      9 |  0.1250000000 |         nadir\n",
      "    11 |     5500 |      9 |  0.000000E+00 |             f\n",
      "    12 |     6000 |      7 |  0.0016928745 |             f\n",
      "    13 |     6500 |      7 |  0.0017384004 |             f\n",
      "    14 |     7000 |      8 |  0.0024930340 |             f\n",
      "    15 |     7500 |      9 |  0.0029043365 |         ideal\n",
      "    16 |     8000 |      9 |  0.0002315616 |             f\n",
      "    17 |     8500 |     10 |  0.0114037454 |             f\n",
      "    18 |     9000 |     10 |  0.0000135806 |             f\n",
      "    19 |     9500 |     10 |  0.0001569123 |             f\n",
      "    20 |    10000 |     10 |  0.0001930436 |             f\n",
      "    21 |    10500 |      9 |  0.1000000000 |         nadir\n",
      "    22 |    11000 |      8 |  0.1111111111 |         nadir\n",
      "    23 |    11500 |      9 |  0.0124309630 |             f\n",
      "    24 |    12000 |      9 |  0.000000E+00 |             f\n",
      "    25 |    12500 |      9 |  0.000000E+00 |             f\n",
      "    26 |    13000 |      9 |  0.000000E+00 |             f\n",
      "    27 |    13500 |      9 |  0.0002014663 |             f\n",
      "    28 |    14000 |     12 |  0.1818181818 |         nadir\n",
      "    29 |    14500 |     12 |  0.0000109113 |             f\n",
      "    30 |    15000 |     10 |  0.2222222222 |         nadir\n",
      "    31 |    15500 |     11 |  0.1818181818 |         nadir\n",
      "    32 |    16000 |     10 |  0.0001109014 |             f\n",
      "    33 |    16500 |     10 |  0.0001109014 |             f\n",
      "    34 |    17000 |     10 |  0.0001109014 |             f\n",
      "    35 |    17500 |     11 |  0.0003835288 |             f\n",
      "    36 |    18000 |     11 |  0.0006009888 |             f\n",
      "    37 |    18500 |     11 |  0.0006009888 |             f\n",
      "    38 |    19000 |     12 |  0.0081458947 |             f\n",
      "    39 |    19500 |     12 |  0.000000E+00 |             f\n",
      "    40 |    20000 |     12 |  0.0000523556 |             f\n",
      "    41 |    20500 |     12 |  0.0000523556 |             f\n",
      "    42 |    21000 |     12 |  0.0002484483 |             f\n",
      "    43 |    21500 |     11 |  0.1000000000 |         nadir\n",
      "    44 |    22000 |     11 |  0.000000E+00 |             f\n",
      "    45 |    22500 |     11 |  0.000000E+00 |             f\n",
      "    46 |    23000 |     12 |  0.1666666667 |         nadir\n",
      "    47 |    23500 |     12 |  0.000000E+00 |             f\n",
      "    48 |    24000 |     12 |  0.0000763166 |             f\n",
      "    49 |    24500 |     12 |  0.0000763166 |             f\n",
      "    50 |    25000 |     13 |  0.0065652573 |             f\n",
      "    51 |    25500 |     13 |  0.000000E+00 |             f\n",
      "    52 |    26000 |     13 |  0.000000E+00 |             f\n",
      "    53 |    26500 |     12 |  0.0000761642 |             f\n",
      "    54 |    27000 |     12 |  0.0001570989 |             f\n",
      "    55 |    27500 |     12 |  0.0001913223 |             f\n",
      "    56 |    28000 |     13 |  0.0769230769 |         nadir\n",
      "    57 |    28500 |     13 |  0.000000E+00 |             f\n",
      "    58 |    29000 |     13 |  0.0000271616 |             f\n",
      "    59 |    29500 |     13 |  0.0000271616 |             f\n",
      "    60 |    30000 |     13 |  0.0000271616 |             f\n",
      "    61 |    30500 |     13 |  0.0000389478 |             f\n",
      "    62 |    31000 |     13 |  0.0000389478 |             f\n",
      "    63 |    31500 |     13 |  0.0001235195 |             f\n",
      "    64 |    32000 |     13 |  0.0001235195 |             f\n",
      "    65 |    32500 |     13 |  0.0001235195 |             f\n",
      "    66 |    33000 |     13 |  0.0001235195 |             f\n",
      "    67 |    33500 |     13 |  0.0001235195 |             f\n",
      "    68 |    34000 |     13 |  0.0001794912 |             f\n",
      "    69 |    34500 |     14 |  0.0057383726 |             f\n",
      "    70 |    35000 |     13 |  0.0039618417 |         ideal\n",
      "    71 |    35500 |     13 |  0.0000655568 |             f\n",
      "    72 |    36000 |     13 |  0.0000655568 |             f\n",
      "    73 |    36500 |     13 |  0.0000655568 |             f\n",
      "    74 |    37000 |     14 |  0.1428571429 |         nadir\n",
      "    75 |    37500 |     14 |  0.000000E+00 |             f\n",
      "    76 |    38000 |     14 |  0.0001296804 |             f\n",
      "    77 |    38500 |     14 |  0.0001296804 |             f\n",
      "    78 |    39000 |     14 |  0.0001296804 |             f\n",
      "    79 |    39500 |     14 |  0.0001296804 |             f\n",
      "    80 |    40000 |     14 |  0.0001296804 |             f\n",
      "    81 |    40500 |     14 |  0.0001472835 |             f\n",
      "    82 |    41000 |     15 |  0.0048993727 |             f\n",
      "    83 |    41500 |     15 |  0.0033777227 |         ideal\n",
      "    84 |    42000 |     16 |  0.0025731567 |         ideal\n",
      "    85 |    42500 |     15 |  0.0001317398 |             f\n",
      "    86 |    43000 |     15 |  0.0006275770 |             f\n",
      "    87 |    43500 |     15 |  0.0010500353 |             f\n",
      "    88 |    44000 |     15 |  0.0010500353 |             f\n",
      "    89 |    44500 |     15 |  0.0010653414 |             f\n",
      "    90 |    45000 |     15 |  0.0011110169 |             f\n",
      "    91 |    45500 |     15 |  0.0011110169 |             f\n",
      "    92 |    46000 |     15 |  0.0011110169 |             f\n",
      "    93 |    46500 |     16 |  0.0011072658 |             f\n",
      "    94 |    47000 |     16 |  0.0011072658 |             f\n",
      "    95 |    47500 |     16 |  0.0011072658 |             f\n",
      "    96 |    48000 |     16 |  0.0011933225 |             f\n",
      "    97 |    48500 |     16 |  0.0012261303 |             f\n",
      "    98 |    49000 |     16 |  0.0013065282 |             f\n",
      "    99 |    49500 |     16 |  0.0013065282 |             f\n",
      "   100 |    50000 |     16 |  0.0013065282 |             f\n",
      "   101 |    50500 |     16 |  0.0013065282 |             f\n",
      "   102 |    51000 |     16 |  0.0013065282 |             f\n",
      "   103 |    51500 |     17 |  0.0625000000 |         nadir\n",
      "   104 |    52000 |     17 |  0.0000790618 |             f\n",
      "   105 |    52500 |     17 |  0.0000957248 |             f\n",
      "   106 |    53000 |     17 |  0.0001157468 |             f\n",
      "   107 |    53500 |     17 |  0.0001157468 |             f\n",
      "   108 |    54000 |     17 |  0.0001157468 |             f\n",
      "   109 |    54500 |     17 |  0.0001660969 |             f\n",
      "   110 |    55000 |     17 |  0.0001660969 |             f\n",
      "   111 |    55500 |     17 |  0.0003476545 |             f\n",
      "   112 |    56000 |     17 |  0.0003476545 |             f\n",
      "   113 |    56500 |     17 |  0.0003476545 |             f\n",
      "   114 |    57000 |     17 |  0.0003476545 |             f\n",
      "   115 |    57500 |     18 |  0.1111111111 |         nadir\n",
      "   116 |    58000 |     18 |  0.000000E+00 |             f\n",
      "   117 |    58500 |     18 |  0.0000309430 |             f\n",
      "   118 |    59000 |     18 |  0.0000352396 |             f\n",
      "   119 |    59500 |     16 |  0.1250000000 |         nadir\n",
      "   120 |    60000 |     16 |  0.000000E+00 |             f\n",
      "   121 |    60500 |     16 |  0.000000E+00 |             f\n",
      "   122 |    61000 |     16 |  0.0001201023 |             f\n",
      "   123 |    61500 |     16 |  0.0001201023 |             f\n",
      "   124 |    62000 |     16 |  0.0001924923 |             f\n",
      "   125 |    62500 |     16 |  0.0001924923 |             f\n",
      "   126 |    63000 |     17 |  0.0038583878 |             f\n",
      "   127 |    63500 |     17 |  0.000000E+00 |             f\n",
      "   128 |    64000 |     17 |  0.000000E+00 |             f\n",
      "   129 |    64500 |     17 |  0.000000E+00 |             f\n",
      "   130 |    65000 |     17 |  0.000000E+00 |             f\n",
      "   131 |    65500 |     17 |  0.000000E+00 |             f\n",
      "   132 |    66000 |     19 |  0.1578947368 |         nadir\n",
      "   133 |    66500 |     19 |  0.000000E+00 |             f\n",
      "   134 |    67000 |     19 |  0.0000275958 |             f\n",
      "   135 |    67500 |     18 |  0.0001878879 |             f\n",
      "   136 |    68000 |     18 |  0.0001878879 |             f\n",
      "   137 |    68500 |     18 |  0.0001878879 |             f\n",
      "   138 |    69000 |     18 |  0.0001878879 |             f\n",
      "   139 |    69500 |     18 |  0.0002918929 |             f\n",
      "   140 |    70000 |     19 |  0.0004054591 |             f\n",
      "   141 |    70500 |     19 |  0.0004283734 |             f\n",
      "   142 |    71000 |     19 |  0.0004283734 |             f\n",
      "   143 |    71500 |     19 |  0.0500000000 |         nadir\n",
      "   144 |    72000 |     20 |  0.0025000302 |             f\n",
      "   145 |    72500 |     20 |  0.0000277483 |             f\n",
      "   146 |    73000 |     20 |  0.0000277483 |             f\n",
      "   147 |    73500 |     20 |  0.0000277483 |             f\n",
      "   148 |    74000 |     20 |  0.0002745233 |             f\n",
      "   149 |    74500 |     18 |  0.1764705882 |         nadir\n",
      "   150 |    75000 |     18 |  0.000000E+00 |             f\n",
      "   151 |    75500 |     18 |  0.000000E+00 |             f\n",
      "   152 |    76000 |     18 |  0.0000315707 |             f\n",
      "   153 |    76500 |     18 |  0.0000315707 |             f\n",
      "   154 |    77000 |     18 |  0.0000315707 |             f\n",
      "   155 |    77500 |     18 |  0.0001058501 |             f\n",
      "   156 |    78000 |     18 |  0.0001058501 |             f\n",
      "   157 |    78500 |     18 |  0.0001058501 |             f\n",
      "   158 |    79000 |     18 |  0.0001058501 |             f\n",
      "   159 |    79500 |     17 |  0.0625000000 |         nadir\n",
      "   160 |    80000 |     17 |  0.000000E+00 |             f\n",
      "   161 |    80500 |     17 |  0.000000E+00 |             f\n",
      "   162 |    81000 |     17 |  0.000000E+00 |             f\n",
      "   163 |    81500 |     17 |  0.000000E+00 |             f\n",
      "   164 |    82000 |     17 |  0.0000984555 |             f\n",
      "   165 |    82500 |     17 |  0.0000984555 |             f\n",
      "   166 |    83000 |     17 |  0.0000984555 |             f\n",
      "   167 |    83500 |     17 |  0.0000984555 |             f\n",
      "   168 |    84000 |     17 |  0.0000984555 |             f\n",
      "   169 |    84500 |     17 |  0.0000984555 |             f\n",
      "   170 |    85000 |     17 |  0.0000984555 |             f\n",
      "   171 |    85500 |     17 |  0.0000984555 |             f\n",
      "   172 |    86000 |     17 |  0.0000984555 |             f\n",
      "   173 |    86500 |     17 |  0.0000984555 |             f\n",
      "   174 |    87000 |     17 |  0.0000984555 |             f\n",
      "   175 |    87500 |     17 |  0.0000984555 |             f\n",
      "   176 |    88000 |     17 |  0.0002016364 |             f\n",
      "   177 |    88500 |     17 |  0.0002016364 |             f\n",
      "   178 |    89000 |     17 |  0.0002016364 |             f\n",
      "   179 |    89500 |     17 |  0.0002016364 |             f\n",
      "   180 |    90000 |     17 |  0.0002016364 |             f\n",
      "   181 |    90500 |     17 |  0.0002421860 |             f\n",
      "   182 |    91000 |     17 |  0.0002421860 |             f\n",
      "   183 |    91500 |     17 |  0.0002421860 |             f\n",
      "   184 |    92000 |     18 |  0.1578947368 |         nadir\n",
      "   185 |    92500 |     18 |  0.000000E+00 |             f\n",
      "   186 |    93000 |     18 |  8.110907E-06 |             f\n",
      "   187 |    93500 |     18 |  8.110907E-06 |             f\n",
      "   188 |    94000 |     18 |  0.0000188015 |             f\n",
      "   189 |    94500 |     19 |  0.0952380952 |         nadir\n",
      "   190 |    95000 |     20 |  0.0454545455 |         nadir\n",
      "   191 |    95500 |     20 |  0.000000E+00 |             f\n",
      "   192 |    96000 |     20 |  0.000000E+00 |             f\n",
      "   193 |    96500 |     20 |  0.0000211707 |             f\n",
      "   194 |    97000 |     20 |  0.0000211707 |             f\n",
      "   195 |    97500 |     18 |  0.1578947368 |         nadir\n",
      "   196 |    98000 |     18 |  0.000000E+00 |             f\n",
      "   197 |    98500 |     18 |  0.000000E+00 |             f\n",
      "   198 |    99000 |     18 |  0.000000E+00 |             f\n",
      "   199 |    99500 |     18 |  0.0000230496 |             f\n",
      "   200 |   100000 |     18 |  0.0000230496 |             f\n",
      "Execution time: 3.2156562010447183\n"
     ]
    }
   ],
   "source": [
    "def add_prefix(file_path, prefix):\n",
    "    dir_name, file_name = os.path.split(file_path)\n",
    "    return os.path.join(dir_name, prefix + file_name)\n",
    "    \n",
    "load_pareto_front = False\n",
    "n_max_gen = 200\n",
    "n_max_evals = 100000\n",
    "pf_file_path = f\"./Cache/pf_SMSEMOA_burgers_noise{int(noise_lv)}.npy\"\n",
    "\n",
    "if not load_pareto_front:\n",
    "    termination = DefaultMultiObjectiveTermination(\n",
    "        xtol=1e-8,\n",
    "        cvtol=1e-6,\n",
    "        ftol=1e-8,\n",
    "        period=50,\n",
    "        n_max_gen=n_max_gen,\n",
    "        n_max_evals=n_max_evals\n",
    "    )\n",
    "    \n",
    "    from pymoo.algorithms.moo.sms import SMSEMOA\n",
    "    from pymoo.algorithms.moo.age import AGEMOEA\n",
    "    \n",
    "    ### Optimization algorithms ###\n",
    "    # algorithm = NSGA2(pop_size=pop_size,\n",
    "    #                     sampling=PopulationSampling(),\n",
    "    #                     crossover=GenomeCrossover(),\n",
    "    #                     mutation=GenomeMutation(),\n",
    "    #                     eliminate_duplicates=DuplicateElimination(),\n",
    "    #                     )\n",
    "    \n",
    "    # algorithm = DNSGA2(pop_size=pop_size,\n",
    "    #                 sampling=PopulationSampling(),\n",
    "    #                 crossover=GenomeCrossover(),\n",
    "    #                 mutation=GenomeMutation(),\n",
    "    #                 eliminate_duplicates=DuplicateElimination(),\n",
    "    #                 )\n",
    "    \n",
    "    algorithm = SMSEMOA(pop_size=pop_size,\n",
    "                    sampling=PopulationSampling(),\n",
    "                    crossover=GenomeCrossover(),\n",
    "                    mutation=GenomeMutation(),\n",
    "                    eliminate_duplicates=DuplicateElimination(),\n",
    "                    )\n",
    "\n",
    "    opt_time = time.time()\n",
    "    res = minimize(problem, \n",
    "                   algorithm, \n",
    "                   termination=termination, \n",
    "                   verbose=True)\n",
    "    opt_time = (time.time() - opt_time)/60\n",
    "    print(\"Execution time:\", opt_time)\n",
    "    \n",
    "    pareto_optimal_models = res.X\n",
    "    # np.save(pf_file_path, pareto_optimal_models)\n",
    "\n",
    "else:\n",
    "    pareto_optimal_models = np.load(pf_file_path, allow_pickle=True)\n",
    "    pass\n",
    "\n",
    "np.random.seed(0)"
   ]
  },
  {
   "cell_type": "code",
   "execution_count": 12,
   "id": "66468fa3-d3a1-45f6-9c8f-d89b0d723713",
   "metadata": {},
   "outputs": [
    {
     "data": {
      "text/plain": [
       "array([[frozenset({(0, 1)})],\n",
       "       [frozenset({(1, 1), (0, 2)})],\n",
       "       [frozenset({(1, 1), (0, 2), (0, 4)})],\n",
       "       [frozenset({(1, 1), (0, 2), (0, 4), (4, 3)})],\n",
       "       [frozenset({(0, 4), (1, 1), (0, 2), (3, 6), (6, 3)})],\n",
       "       [frozenset({(0, 4), (1, 1), (0, 6), (0, 2), (3, 6), (6, 3)})],\n",
       "       [frozenset({(0, 4), (2, 1), (1, 1), (0, 6), (0, 2), (3, 6), (6, 3)})],\n",
       "       [frozenset({(4, 4), (0, 4), (3, 4), (1, 1), (4, 6), (0, 2), (5, 6), (5, 3)})],\n",
       "       [frozenset({(0, 4), (1, 1), (4, 2), (0, 6), (0, 2), (2, 2), (5, 3), (3, 2), (5, 2)})],\n",
       "       [frozenset({(6, 2), (1, 2), (0, 4), (6, 5), (1, 1), (0, 6), (0, 2), (3, 2), (6, 3), (5, 2)})],\n",
       "       [frozenset({(6, 2), (1, 2), (0, 4), (4, 3), (1, 1), (4, 2), (0, 6), (0, 2), (4, 5), (4, 1), (5, 2)})],\n",
       "       [frozenset({(6, 2), (1, 2), (0, 4), (4, 3), (1, 1), (0, 3), (4, 2), (0, 6), (0, 2), (4, 5), (4, 1), (5, 2)})],\n",
       "       [frozenset({(4, 4), (1, 2), (0, 4), (5, 5), (3, 1), (1, 1), (0, 3), (0, 6), (3, 0), (0, 2), (5, 0), (2, 2), (6, 3)})],\n",
       "       [frozenset({(4, 4), (6, 2), (0, 4), (3, 1), (1, 1), (0, 3), (1, 4), (0, 6), (3, 0), (4, 2), (0, 2), (5, 0), (2, 2), (3, 2)})],\n",
       "       [frozenset({(4, 4), (1, 2), (0, 4), (3, 4), (3, 1), (1, 1), (0, 3), (4, 6), (0, 6), (3, 0), (0, 2), (5, 0), (5, 6), (2, 2), (6, 3)})],\n",
       "       [frozenset({(4, 4), (1, 2), (0, 4), (3, 1), (1, 1), (0, 3), (4, 6), (5, 4), (1, 4), (0, 6), (3, 0), (0, 2), (5, 0), (5, 6), (2, 2), (6, 3)})],\n",
       "       [frozenset({(4, 4), (1, 2), (0, 4), (1, 5), (3, 1), (1, 1), (0, 3), (4, 6), (5, 4), (1, 4), (0, 6), (3, 0), (0, 2), (5, 0), (5, 6), (2, 2), (6, 3)})],\n",
       "       [frozenset({(0, 1), (4, 4), (1, 2), (0, 4), (1, 5), (3, 1), (1, 1), (0, 3), (4, 6), (5, 4), (1, 4), (0, 6), (3, 0), (0, 2), (5, 0), (5, 6), (2, 2), (6, 3)})],\n",
       "       [frozenset({(3, 1), (5, 4), (4, 6), (0, 2), (2, 2), (3, 0), (5, 0), (5, 6), (0, 1), (1, 2), (0, 4), (1, 5), (3, 2), (4, 4), (1, 1), (0, 3), (1, 4), (0, 6), (6, 3)})],\n",
       "       [frozenset({(4, 0), (3, 1), (5, 4), (4, 6), (0, 2), (2, 2), (3, 0), (5, 0), (5, 6), (0, 1), (1, 2), (0, 4), (1, 5), (3, 2), (4, 4), (1, 1), (0, 3), (1, 4), (0, 6), (6, 3)})]],\n",
       "      dtype=object)"
      ]
     },
     "execution_count": 12,
     "metadata": {},
     "output_type": "execute_result"
    }
   ],
   "source": [
    "### OPTIONAL: REFINE PARETO FRONT ###\n",
    "from operator import itemgetter\n",
    "\n",
    "effective_candidates = extract_unique_candidates(pareto_optimal_models)\n",
    "new_pareto_optimal_models = []\n",
    "for bs in backward_refinement([sorted([effective_candidates.index(_) for _ in list(pm[0])]) for pm in pareto_optimal_models], \n",
    "                              (problem.numericalize_genome(effective_candidates), y_pre)).get_best_subsets():\n",
    "    bs = itemgetter(*bs)(effective_candidates)\n",
    "    if type(bs[0]) is not tuple:\n",
    "        bs = (bs,)\n",
    "    new_pareto_optimal_models.append([frozenset(bs)])\n",
    "pareto_optimal_models = np.array(new_pareto_optimal_models)\n",
    "del new_pareto_optimal_models\n",
    "pareto_optimal_models"
   ]
  },
  {
   "cell_type": "markdown",
   "id": "9066caf0-4815-4132-bbc8-6eed80f77d07",
   "metadata": {},
   "source": [
    "### Top candidates by SHAP"
   ]
  },
  {
   "cell_type": "code",
   "execution_count": 13,
   "id": "6ec2d804-2f67-48dc-8c67-ba0dc23cdcff",
   "metadata": {},
   "outputs": [
    {
     "data": {
      "text/plain": [
       "({(0, 1): 0.00045304734460933135,\n",
       "  (0, 2): 0.033190385520142834,\n",
       "  (0, 3): 0.0026882438329523103,\n",
       "  (0, 4): 0.0204452287872074,\n",
       "  (0, 5): 0.0,\n",
       "  (0, 6): 0.007319351914297646,\n",
       "  (1, 0): 0.0,\n",
       "  (1, 1): 0.08576796854235616,\n",
       "  (1, 2): 0.02768649767987637,\n",
       "  (1, 4): 0.0018917201038783989,\n",
       "  (1, 5): 0.000172200611579349,\n",
       "  (2, 1): 0.00034343091496039275,\n",
       "  (2, 2): 0.043384751554904115,\n",
       "  (3, 0): 0.00729750814873088,\n",
       "  (3, 1): 0.005238369573474848,\n",
       "  (3, 2): 0.07847060125355944,\n",
       "  (3, 4): 0.002530387306493639,\n",
       "  (3, 6): 0.0003453927307249155,\n",
       "  (4, 0): 0.0008071836922204142,\n",
       "  (4, 1): 0.00032965828659692635,\n",
       "  (4, 2): 0.09833671939009835,\n",
       "  (4, 3): 0.0005628430319339469,\n",
       "  (4, 4): 0.0068342706252363565,\n",
       "  (4, 5): 0.00018104342863194093,\n",
       "  (4, 6): 0.009183237981918294,\n",
       "  (5, 0): 0.008449229494039126,\n",
       "  (5, 1): 0.0,\n",
       "  (5, 2): 0.08315880972701484,\n",
       "  (5, 3): 0.00025939361603700495,\n",
       "  (5, 4): 0.005782799550986061,\n",
       "  (5, 5): 0.00010118249485168682,\n",
       "  (5, 6): 0.00978635249753734,\n",
       "  (6, 0): 0.0,\n",
       "  (6, 2): 0.034912478604893785,\n",
       "  (6, 3): 0.001178724233862458,\n",
       "  (6, 5): 0.0001170790924678165,\n",
       "  (6, 6): 0.0},\n",
       " [(4, 2),\n",
       "  (1, 1),\n",
       "  (5, 2),\n",
       "  (3, 2),\n",
       "  (2, 2),\n",
       "  (6, 2),\n",
       "  (0, 2),\n",
       "  (1, 2),\n",
       "  (0, 4),\n",
       "  (5, 6),\n",
       "  (4, 6),\n",
       "  (5, 0),\n",
       "  (0, 6),\n",
       "  (3, 0),\n",
       "  (4, 4),\n",
       "  (5, 4)])"
      ]
     },
     "execution_count": 13,
     "metadata": {},
     "output_type": "execute_result"
    }
   ],
   "source": [
    "max_ss = 16\n",
    "feature_importance = dict(zip(effective_candidates, [0.0 for _ in range(len(effective_candidates))]))\n",
    "\n",
    "for bs in pareto_optimal_models[1:]:\n",
    "    bs = list(bs[0])\n",
    "    shap_importance = shap_linear_importance(problem.numericalize_genome(bs), y_pre, scale=False)\n",
    "    for i, _ in enumerate(bs):\n",
    "        feature_importance[_] += shap_importance[i]\n",
    "\n",
    "top_candidates = sorted([(v, k) for k, v in feature_importance.items()], reverse=True)\n",
    "top_candidates = [v for k, v in top_candidates[:max_ss]]\n",
    "feature_importance, top_candidates"
   ]
  },
  {
   "cell_type": "markdown",
   "id": "092f6e10-8c4f-4863-8745-e32b434c6013",
   "metadata": {},
   "source": [
    "### Best-subset selections (Optional)"
   ]
  },
  {
   "cell_type": "code",
   "execution_count": 14,
   "id": "c724e549-426e-4893-a5c6-990e8b0398b6",
   "metadata": {},
   "outputs": [
    {
     "name": "stderr",
     "output_type": "stream",
     "text": [
      "  0%|                                                                    | 0/16 [00:00<?, ?it/s]"
     ]
    },
    {
     "name": "stdout",
     "output_type": "stream",
     "text": [
      "Set parameter Username\n",
      "Academic license - for non-commercial use only - expires 2026-04-04\n"
     ]
    },
    {
     "name": "stderr",
     "output_type": "stream",
     "text": [
      "100%|███████████████████████████████████████████████████████████| 16/16 [00:00<00:00, 42.21it/s]\n"
     ]
    }
   ],
   "source": [
    "X_pre_top = problem.numericalize_genome(top_candidates)\n",
    "X_pre_top_norm = np.linalg.norm(X_pre_top, 2, axis=0)\n",
    "X_pre_top = X_pre_top/X_pre_top_norm\n",
    "\n",
    "best_subsets = solvel0(X_pre_top, y_pre, miosr=True, refine=True)\n",
    "pareto_optimal_models = [[np.array(top_candidates)[list(bs)]] for bs in best_subsets]"
   ]
  },
  {
   "cell_type": "markdown",
   "id": "0aed3f12-6973-4090-bc95-9d42f3384457",
   "metadata": {},
   "source": [
    "### Uncertainty quantification"
   ]
  },
  {
   "cell_type": "code",
   "execution_count": 15,
   "id": "042cbed9-f030-4ce6-9d86-e9c83d8f16fd",
   "metadata": {},
   "outputs": [
    {
     "name": "stdout",
     "output_type": "stream",
     "text": [
      "[ 1.66004427  1.          1.          1.          2.12374514  2.12374514\n",
      " 18.96673568 18.96673565 21.658336   15.77747913 19.58694442 14.94383871\n",
      " 15.1097613  60.77723751 61.41682451 61.41913977]\n"
     ]
    },
    {
     "data": {
      "image/png": "[encoded data removed]",
      "text/plain": [
       "<Figure size 640x480 with 1 Axes>"
      ]
     },
     "metadata": {},
     "output_type": "display_data"
    }
   ],
   "source": [
    "pde_uncertainties = []\n",
    "\n",
    "for bs in pareto_optimal_models:\n",
    "    # um = BayesianRidge(fit_intercept=False, compute_score=True, max_iter=1000)\n",
    "    um = ARDRegression(fit_intercept=False, compute_score=True, max_iter=1000)\n",
    "    um.fit(problem.numericalize_genome(bs[0]), y_pre.ravel())\n",
    "    \n",
    "    pde_uncertainty = np.sqrt(np.diag(um.sigma_)).sum()/abs(um.coef_).sum()\n",
    "    pde_uncertainties.append(pde_uncertainty)\n",
    "\n",
    "pde_uncertainties = np.array(pde_uncertainties)/min(pde_uncertainties)\n",
    "print(pde_uncertainties)\n",
    "\n",
    "plt.plot(pde_uncertainties); plt.show()"
   ]
  },
  {
   "cell_type": "markdown",
   "id": "f259f587",
   "metadata": {},
   "source": [
    "### Compromise programming ###"
   ]
  },
  {
   "cell_type": "code",
   "execution_count": 16,
   "id": "fdf1495e-4126-4fc4-9fec-0a71ad6cb539",
   "metadata": {},
   "outputs": [
    {
     "name": "stdout",
     "output_type": "stream",
     "text": [
      "Weights: [0.20535021 0.30372025 0.49092954]\n",
      "[[1.99263791e-05 1.00000000e+00 1.66004427e+00]\n",
      " [6.72053245e-06 2.00000000e+00 1.00000000e+00]] [(1, 4)]\n"
     ]
    }
   ],
   "source": [
    "from collections import Counter\n",
    "from pymcdm import weights as obj_w\n",
    "from compromise_programming import mcdm\n",
    "from bayesian_model_evidence import log_evidence\n",
    "\n",
    "include_uncertainty = True\n",
    "types = np.array([-1, -1])\n",
    "assert len(pareto_optimal_models) >= 3\n",
    "F = problem.evaluate(pareto_optimal_models)\n",
    "# 2 criteria: acc, complexity / 3 criteria: acc, complexity, uncertainty\n",
    "if include_uncertainty:\n",
    "    F = np.hstack((F, pde_uncertainties.reshape(-1, 1)))\n",
    "    types = np.array([-1, -1, -1])\n",
    "    \n",
    "ic = np.array([sm.OLS(y_pre, problem.numericalize_genome(bs[0])).fit().bic for bs in pareto_optimal_models])\n",
    "# ic = np.array([-log_evidence(problem.numericalize_genome(bs[0]), y_pre) for bs in pareto_optimal_models])\n",
    "max_ss = np.argmin(ic)+1\n",
    "F = F[:max_ss]\n",
    "\n",
    "obj_weights = obj_w.gini_weights(F, types=types)\n",
    "print(\"Weights:\", obj_weights)\n",
    "\n",
    "# mcdm\n",
    "filtered_F = F.copy()\n",
    "filtered_F[:, 0:1] = ic[:max_ss].reshape(-1, 1)\n",
    "while len(filtered_F) >= 3:\n",
    "    ranks, prefs = mcdm(filtered_F, obj_weights, types)\n",
    "    most_common = Counter(np.argmin(ranks, axis=1)).most_common()\n",
    "    filtered_F = F[:most_common[0][0]+1]\n",
    "    print(filtered_F, most_common)\n",
    "    if len(most_common) == 1:\n",
    "        break"
   ]
  },
  {
   "cell_type": "code",
   "execution_count": null,
   "id": "4626d0c5-773d-408c-b440-90009f6da069",
   "metadata": {},
   "outputs": [],
   "source": []
  },
  {
   "cell_type": "code",
   "execution_count": null,
   "id": "f0faa29e-5bf3-48b6-92a3-de2dcfd25634",
   "metadata": {},
   "outputs": [],
   "source": []
  },
  {
   "cell_type": "code",
   "execution_count": 17,
   "id": "f7d1ef29",
   "metadata": {},
   "outputs": [
    {
     "name": "stderr",
     "output_type": "stream",
     "text": [
      "100%|█████████████████████████████████████████████████████████████| 2/2 [00:00<00:00,  5.96it/s]\n"
     ]
    },
    {
     "data": {
      "text/plain": [
       "(array([[ 0.        ,  0.        ,  0.        ,  0.        ,  0.        ,\n",
       "          0.        ,  0.        , -0.33694351,  0.        ,  0.        ,\n",
       "          0.        ,  0.        ,  0.        ,  0.        ,  0.        ,\n",
       "          0.        ,  0.        ,  0.        ,  0.        ,  0.        ,\n",
       "          0.        ,  0.        ,  0.        ,  0.        ,  0.        ,\n",
       "          0.        ,  0.        ,  0.        ,  0.        ,  0.        ,\n",
       "          0.        ,  0.        ,  0.        ,  0.        ,  0.        ,\n",
       "          0.        ,  0.        ,  0.        ,  0.        ,  0.        ,\n",
       "          0.        ,  0.        ,  0.        ,  0.        ,  0.        ,\n",
       "          0.        ,  0.        ,  0.        ,  0.        ],\n",
       "        [ 0.        ,  0.        ,  0.        ,  0.        ,  0.        ,\n",
       "          0.        ,  0.        ,  0.        ,  0.09297373,  0.        ,\n",
       "          0.        ,  0.        ,  0.        , -0.97441362,  0.        ,\n",
       "          0.        ,  0.        ,  0.        ,  0.        ,  0.        ,\n",
       "          0.        ,  0.        ,  0.        ,  0.        ,  0.        ,\n",
       "          0.        ,  0.        ,  0.        ,  0.        ,  0.        ,\n",
       "          0.        ,  0.        ,  0.        ,  0.        ,  0.        ,\n",
       "          0.        ,  0.        ,  0.        ,  0.        ,  0.        ,\n",
       "          0.        ,  0.        ,  0.        ,  0.        ,  0.        ,\n",
       "          0.        ,  0.        ,  0.        ,  0.        ]]),\n",
       " [(7,), (8, 13)])"
      ]
     },
     "execution_count": 17,
     "metadata": {},
     "output_type": "execute_result"
    }
   ],
   "source": [
    "brute_force_all_subsets(X_pre, y_pre, max_support_size=2)"
   ]
  }
 ],
 "metadata": {
  "kernelspec": {
   "display_name": "Python [conda env:econ]",
   "language": "python",
   "name": "conda-env-econ-py"
  },
  "language_info": {
   "codemirror_mode": {
    "name": "ipython",
    "version": 3
   },
   "file_extension": ".py",
   "mimetype": "text/x-python",
   "name": "python",
   "nbconvert_exporter": "python",
   "pygments_lexer": "ipython3",
   "version": "3.10.9"
  }
 },
 "nbformat": 4,
 "nbformat_minor": 5
}

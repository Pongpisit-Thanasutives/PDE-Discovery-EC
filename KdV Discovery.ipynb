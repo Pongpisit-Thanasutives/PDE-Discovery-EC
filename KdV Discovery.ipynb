{
 "cells": [
  {
   "cell_type": "code",
   "execution_count": 1,
   "id": "d8401bd4",
   "metadata": {},
   "outputs": [
    {
     "name": "stdout",
     "output_type": "stream",
     "text": [
      "mrmr is not installed in the env you are using. This may cause an error in future if you try to use the (missing) lib.\n",
      "L0BnB is not installed.\n"
     ]
    }
   ],
   "source": [
    "%load_ext autoreload\n",
    "%autoreload 2\n",
    "%matplotlib inline\n",
    "import matplotlib.pyplot as plt\n",
    "import scienceplots\n",
    "\n",
    "import math\n",
    "import os\n",
    "import random\n",
    "from functools import partial\n",
    "from decimal import Decimal\n",
    "import numpy as np\n",
    "import scipy.io as sio\n",
    "import pysindy as ps\n",
    "from tqdm import trange\n",
    "\n",
    "from pymoo_ga import *\n",
    "# NSGA2, DNSGA2, SMSEMOA, AGEMOEA2\n",
    "from pymoo.algorithms.moo.nsga2 import NSGA2\n",
    "from pymoo.algorithms.moo.dnsga2 import DNSGA2\n",
    "from pymoo.algorithms.moo.sms import SMSEMOA\n",
    "from pymoo.algorithms.moo.age2 import AGEMOEA2\n",
    "from pymoo.termination.default import DefaultMultiObjectiveTermination\n",
    "from pymoo.optimize import minimize\n",
    "\n",
    "from utils import *\n",
    "from skimage.restoration import estimate_sigma\n",
    "import bm3d\n",
    "# from okridge.solvel0 import *\n",
    "from solvel0 import solvel0, MIOSR\n",
    "from best_subset import backward_refinement, brute_force, brute_force_all_subsets\n",
    "from UBIC import *\n",
    "from kneed import KneeLocator\n",
    "from bayesian_model_evidence import log_evidence\n",
    "\n",
    "from sklearn.gaussian_process import GaussianProcessRegressor\n",
    "from sklearn.gaussian_process.kernels import RBF, WhiteKernel\n",
    "from sklearn.preprocessing import StandardScaler\n",
    "from sklearn import covariance\n",
    "from sklearn.metrics import mean_absolute_percentage_error\n",
    "from sklearn.linear_model import BayesianRidge, ARDRegression, lars_path"
   ]
  },
  {
   "cell_type": "code",
   "execution_count": 2,
   "id": "5916f2d3",
   "metadata": {},
   "outputs": [],
   "source": [
    "n_poly = 6\n",
    "n_derivatives = 6\n",
    "n_modules = 8"
   ]
  },
  {
   "cell_type": "code",
   "execution_count": 3,
   "id": "8eaa96d0",
   "metadata": {},
   "outputs": [
    {
     "name": "stdout",
     "output_type": "stream",
     "text": [
      "['KdV_sine_rep_big.mat', 'kuramoto_sivishinky.mat', 'lorenz100.npy', 'Wave_equation', 'KdV_rudy.mat', 'lorenz10.npy', 'KG_Exp.mat', 'burgers.mat']\n"
     ]
    }
   ],
   "source": [
    "data_path = \"../PDE-Discovery-EC/Datasets/\"\n",
    "print(os.listdir(data_path))\n",
    "data = sio.loadmat(os.path.join(data_path, \"KdV_rudy.mat\"))\n",
    "u_clean = (data['usol']).real; u = u_clean.copy()\n",
    "x = data['x'].ravel()\n",
    "t = data['t'].ravel()\n",
    "dt = t[1]-t[0]; dx = x[2]-x[1]"
   ]
  },
  {
   "cell_type": "markdown",
   "id": "3a1e0adc",
   "metadata": {},
   "source": [
    "### Add noise"
   ]
  },
  {
   "cell_type": "code",
   "execution_count": 4,
   "id": "888ee41f",
   "metadata": {},
   "outputs": [
    {
     "name": "stdout",
     "output_type": "stream",
     "text": [
      "Noise level: 50.0\n"
     ]
    }
   ],
   "source": [
    "np.random.seed(0)\n",
    "noise_type = \"gaussian\"\n",
    "noise_lv = float(50)\n",
    "print(\"Noise level:\", noise_lv)\n",
    "noise = 0.01*np.abs(noise_lv)*(u.std())*np.random.randn(u.shape[0],u.shape[1])\n",
    "u = u + noise"
   ]
  },
  {
   "cell_type": "markdown",
   "id": "c5c890b0",
   "metadata": {},
   "source": [
    "### Denoise"
   ]
  },
  {
   "cell_type": "code",
   "execution_count": 5,
   "id": "d9754901",
   "metadata": {},
   "outputs": [],
   "source": [
    "# load_denoised_data = True\n",
    "# if load_denoised_data:\n",
    "#     print(\"Loading denoised data...\")\n",
    "#     u = np.load(f\"./Denoised_data/kdv_{noise_type}{int(noise_lv)}_bm3d.npy\")\n",
    "# else:\n",
    "#     print(\"denoising...\")\n",
    "#     n_sampled_t = 30\n",
    "    \n",
    "#     kernel = RBF(length_scale=1, length_scale_bounds=(1e-2, 1e3)) + \\\n",
    "#             WhiteKernel(noise_level=1, noise_level_bounds=(1e-10, 1e10))\n",
    "    \n",
    "#     xx = colvec(x)\n",
    "#     u_std = np.ones((u.shape[0], len(t)))\n",
    "#     for i in trange(len(t)):    \n",
    "#         gpr = GaussianProcessRegressor(kernel=kernel, alpha=0.0, \n",
    "#                                        n_restarts_optimizer=10 # 20\n",
    "#                                       )\n",
    "    \n",
    "#         gpr.fit(xx, u[:, i])\n",
    "#         _, ustd = gpr.predict(xx, return_std=True)\n",
    "#         u_std[:, i] = ustd\n",
    "\n",
    "#     est_sigma = u_std.mean() # max also works well\n",
    "#     # est_sigma = (est_sigma+estimate_sigma(u))/2\n",
    "#     u = bm3d.bm3d(u, sigma_psd=est_sigma, \n",
    "#                   stage_arg=bm3d.BM3DStages.ALL_STAGES, \n",
    "#                   blockmatches=(False, False))\n",
    "\n",
    "#     np.save(f\"./Denoised_data/kdv_{noise_type}{int(noise_lv)}_bm3d.npy\", u)\n",
    "\n",
    "np.random.seed(0)\n",
    "fake_noise = np.random.normal(loc=0.0, scale=estimate_sigma(u), size=u.shape)\n",
    "sigmas = estimate_sigma(u+fake_noise)*np.arange(0.1, 2., 0.1)\n",
    "est_sigma = sigmas[np.argmin([((u-bm3d.bm3d(u+fake_noise, sigma_psd=sigma, stage_arg=bm3d.BM3DStages.ALL_STAGES, blockmatches=(False, False)))**2).mean() \\\n",
    "                              for sigma in sigmas])]\n",
    "u = bm3d.bm3d(u, sigma_psd=est_sigma, \n",
    "                  stage_arg=bm3d.BM3DStages.ALL_STAGES, \n",
    "                  blockmatches=(False, False))"
   ]
  },
  {
   "cell_type": "code",
   "execution_count": 6,
   "id": "94a61f6f-66b5-491f-9096-8fe47f0ef8a5",
   "metadata": {},
   "outputs": [],
   "source": [
    "xt = np.array([x.reshape(-1, 1), t.reshape(1, -1)], dtype=object)\n",
    "X, T = np.meshgrid(x, t)\n",
    "XT = np.asarray([X, T]).T"
   ]
  },
  {
   "cell_type": "code",
   "execution_count": 7,
   "id": "6aaf2666",
   "metadata": {},
   "outputs": [],
   "source": [
    "function_library = ps.PolynomialLibrary(degree=n_poly, include_bias=False)\n",
    "\n",
    "weak_lib = ps.WeakPDELibrary(\n",
    "    function_library=function_library,\n",
    "    derivative_order=n_derivatives,\n",
    "    p=n_derivatives,\n",
    "    spatiotemporal_grid=XT,\n",
    "    include_bias=True,\n",
    "    K=10000, # 2000, 5000, 10000\n",
    "    diff_kwargs={\"is_uniform\":True}\n",
    ")\n",
    "\n",
    "X_pre = np.array(weak_lib.fit_transform(np.expand_dims(u, -1)))\n",
    "y_pre = weak_lib.convert_u_dot_integral(np.expand_dims(u, -1))\n",
    "feature_names = np.array(weak_lib.get_feature_names())\n",
    "\n",
    "# R_path = \"./Cache/\"\n",
    "# np.save(os.path.join(R_path, f\"X_pre_kdv_noise{int(noise_lv)}.npy\"), X_pre)\n",
    "# np.save(os.path.join(R_path, f\"y_pre_kdv_noise{int(noise_lv)}.npy\"), y_pre)\n",
    "# np.save(os.path.join(R_path, f\"feature_names_kdv.npy\"), feature_names)"
   ]
  },
  {
   "cell_type": "code",
   "execution_count": 8,
   "id": "6ad9a594",
   "metadata": {},
   "outputs": [],
   "source": [
    "base_poly = np.array([[p, 0] for p in range(1, n_poly+1)])\n",
    "base_derivative = np.array([[0, d] for d in range(1, n_derivatives+1)])\n",
    "modules = [(0, 0)] if weak_lib.include_bias else []\n",
    "modules += [(p, 0) for p in range(1, n_poly+1)] + \\\n",
    "            [(0, d) for d in range(1, n_derivatives+1)] + \\\n",
    "            [tuple(p+d) for d in base_derivative for p in base_poly]\n",
    "assert len(modules) == len(weak_lib.get_feature_names())\n",
    "base_features = dict(zip(modules, X_pre.T))\n",
    "u_t = y_pre.copy()"
   ]
  },
  {
   "cell_type": "markdown",
   "id": "bb73e146",
   "metadata": {},
   "source": [
    "### Genetic algorithm with NSGA-II"
   ]
  },
  {
   "cell_type": "code",
   "execution_count": 9,
   "id": "263f3258",
   "metadata": {},
   "outputs": [],
   "source": [
    "pop_size = 500\n",
    "problem = PdeDiscoveryProblem(n_poly, n_derivatives, n_modules, \n",
    "                              base_features, u_t, order_complexity=False)"
   ]
  },
  {
   "cell_type": "code",
   "execution_count": 10,
   "id": "296e4b3d",
   "metadata": {},
   "outputs": [
    {
     "name": "stdout",
     "output_type": "stream",
     "text": [
      "==========================================================\n",
      "n_gen  |  n_eval  | n_nds  |      eps      |   indicator  \n",
      "==========================================================\n",
      "     1 |      500 |      5 |             - |             -\n",
      "     2 |     1000 |      6 |  0.0169415578 |         ideal\n",
      "     3 |     1500 |      6 |  0.0570861052 |             f\n",
      "     4 |     2000 |      6 |  0.1428571429 |         nadir\n",
      "     5 |     2500 |      6 |  0.0022790329 |             f\n",
      "     6 |     3000 |      6 |  0.0406479337 |         ideal\n",
      "     7 |     3500 |      6 |  0.0053478049 |             f\n",
      "     8 |     4000 |      7 |  0.0493758325 |             f\n",
      "     9 |     4500 |      7 |  0.000000E+00 |             f\n",
      "    10 |     5000 |      8 |  0.1428571429 |         nadir\n",
      "    11 |     5500 |      8 |  0.0001174548 |             f\n",
      "    12 |     6000 |      8 |  0.0002150379 |             f\n",
      "    13 |     6500 |      7 |  0.1666666667 |         nadir\n",
      "    14 |     7000 |      8 |  0.1428571429 |         nadir\n",
      "    15 |     7500 |      9 |  0.1250000000 |         nadir\n",
      "    16 |     8000 |     10 |  0.0139618668 |         ideal\n",
      "    17 |     8500 |     11 |  0.0091596829 |             f\n",
      "    18 |     9000 |      9 |  0.0032364443 |             f\n",
      "    19 |     9500 |      9 |  0.000000E+00 |             f\n",
      "    20 |    10000 |      9 |  0.000000E+00 |             f\n",
      "    21 |    10500 |     10 |  0.0100182525 |             f\n",
      "    22 |    11000 |     10 |  0.000000E+00 |             f\n",
      "    23 |    11500 |     11 |  0.0909090909 |         nadir\n",
      "    24 |    12000 |     11 |  0.0002766344 |             f\n",
      "    25 |    12500 |     11 |  0.0002766344 |             f\n",
      "    26 |    13000 |     11 |  0.0002766344 |             f\n",
      "    27 |    13500 |     11 |  0.0002766344 |             f\n",
      "    28 |    14000 |     12 |  0.0078308811 |             f\n",
      "    29 |    14500 |     12 |  0.000000E+00 |             f\n",
      "    30 |    15000 |     12 |  0.0001477722 |             f\n",
      "    31 |    15500 |     12 |  0.0004176430 |             f\n",
      "    32 |    16000 |     12 |  0.0007292829 |             f\n",
      "    33 |    16500 |     12 |  0.0007930803 |             f\n",
      "    34 |    17000 |     11 |  0.1000000000 |         nadir\n",
      "    35 |    17500 |     11 |  0.000000E+00 |             f\n",
      "    36 |    18000 |     11 |  0.000000E+00 |             f\n",
      "    37 |    18500 |     11 |  0.0000230351 |             f\n",
      "    38 |    19000 |     11 |  0.0000230351 |             f\n",
      "    39 |    19500 |     10 |  0.1111111111 |         nadir\n",
      "    40 |    20000 |     10 |  0.000000E+00 |             f\n",
      "    41 |    20500 |     10 |  0.000000E+00 |             f\n",
      "    42 |    21000 |     10 |  0.0001153904 |             f\n",
      "    43 |    21500 |     10 |  0.0002925720 |             f\n",
      "    44 |    22000 |     10 |  0.0002925720 |             f\n",
      "    45 |    22500 |     10 |  0.0002925720 |             f\n",
      "    46 |    23000 |     10 |  0.0003990558 |             f\n",
      "    47 |    23500 |     10 |  0.0004815385 |             f\n",
      "    48 |    24000 |     10 |  0.0004815385 |             f\n",
      "    49 |    24500 |     10 |  0.0004998836 |             f\n",
      "    50 |    25000 |     10 |  0.0004998836 |             f\n",
      "    51 |    25500 |     10 |  0.0004998836 |             f\n",
      "    52 |    26000 |     10 |  0.0004998836 |             f\n",
      "    53 |    26500 |     10 |  0.0004998836 |             f\n",
      "    54 |    27000 |     10 |  0.0004998836 |             f\n",
      "    55 |    27500 |     10 |  0.0004998836 |             f\n",
      "    56 |    28000 |     10 |  0.0004998836 |             f\n",
      "    57 |    28500 |     10 |  0.0004998836 |             f\n",
      "    58 |    29000 |     10 |  0.0004998836 |             f\n",
      "    59 |    29500 |     10 |  0.0004998836 |             f\n",
      "    60 |    30000 |     10 |  0.0004998836 |             f\n",
      "    61 |    30500 |     10 |  0.0004998836 |             f\n",
      "    62 |    31000 |     10 |  0.0004998836 |             f\n",
      "    63 |    31500 |     10 |  0.0004998836 |             f\n",
      "    64 |    32000 |     10 |  0.0004998836 |             f\n",
      "    65 |    32500 |     10 |  0.0004998836 |             f\n",
      "    66 |    33000 |     10 |  0.0004998836 |             f\n",
      "    67 |    33500 |     10 |  0.0004998836 |             f\n",
      "    68 |    34000 |     10 |  0.0004998836 |             f\n",
      "    69 |    34500 |     10 |  0.0004998836 |             f\n",
      "    70 |    35000 |     10 |  0.0004998836 |             f\n",
      "    71 |    35500 |     11 |  0.2500000000 |         nadir\n",
      "    72 |    36000 |     11 |  0.000000E+00 |             f\n",
      "    73 |    36500 |     11 |  0.000000E+00 |             f\n",
      "    74 |    37000 |     11 |  0.000000E+00 |             f\n",
      "    75 |    37500 |     11 |  0.000000E+00 |             f\n",
      "    76 |    38000 |     11 |  0.000000E+00 |             f\n",
      "    77 |    38500 |     11 |  0.000000E+00 |             f\n",
      "    78 |    39000 |     12 |  0.0769230769 |         nadir\n",
      "    79 |    39500 |     12 |  0.0000897687 |             f\n",
      "    80 |    40000 |     12 |  0.0000897687 |             f\n",
      "    81 |    40500 |     12 |  0.0000897687 |             f\n",
      "    82 |    41000 |     13 |  0.0060000402 |             f\n",
      "    83 |    41500 |     13 |  0.000000E+00 |             f\n",
      "    84 |    42000 |     13 |  0.000000E+00 |             f\n",
      "    85 |    42500 |     13 |  0.000000E+00 |             f\n",
      "    86 |    43000 |     13 |  0.000000E+00 |             f\n",
      "    87 |    43500 |     14 |  0.0054945490 |             f\n",
      "    88 |    44000 |     14 |  0.000000E+00 |             f\n",
      "    89 |    44500 |     14 |  0.0000245678 |             f\n",
      "    90 |    45000 |     13 |  0.0000792921 |             f\n",
      "    91 |    45500 |     12 |  0.1818181818 |         nadir\n",
      "    92 |    46000 |     12 |  0.000000E+00 |             f\n",
      "    93 |    46500 |     12 |  0.000000E+00 |             f\n",
      "    94 |    47000 |     12 |  0.000000E+00 |             f\n",
      "    95 |    47500 |     12 |  0.000000E+00 |             f\n",
      "    96 |    48000 |     12 |  0.000000E+00 |             f\n",
      "    97 |    48500 |     12 |  0.000000E+00 |             f\n",
      "    98 |    49000 |     12 |  0.000000E+00 |             f\n",
      "    99 |    49500 |     12 |  0.000000E+00 |             f\n",
      "   100 |    50000 |     12 |  0.000000E+00 |             f\n"
     ]
    }
   ],
   "source": [
    "load_pareto_front = False\n",
    "\n",
    "if not load_pareto_front:\n",
    "    termination = DefaultMultiObjectiveTermination(\n",
    "        xtol=1e-8,\n",
    "        cvtol=1e-6,\n",
    "        ftol=1e-8,\n",
    "        period=50,\n",
    "        n_max_gen=100,\n",
    "        n_max_evals=100000\n",
    "    )\n",
    "\n",
    "    from pymoo.algorithms.moo.sms import SMSEMOA\n",
    "\n",
    "    # algorithm = NSGA2(\n",
    "    #                 pop_size=pop_size, \n",
    "    #                 sampling=PopulationSampling(), \n",
    "    #                 crossover=GenomeCrossover(), \n",
    "    #                 mutation=GenomeMutation(), \n",
    "    #                 eliminate_duplicates=DuplicateElimination()\n",
    "    #                 )\n",
    "\n",
    "    # algorithm = DNSGA2(\n",
    "    #                 pop_size=pop_size,\n",
    "    #                 sampling=PopulationSampling(),\n",
    "    #                 crossover=GenomeCrossover(),\n",
    "    #                 mutation=GenomeMutation(),\n",
    "    #                 eliminate_duplicates=DuplicateElimination()\n",
    "    #                 )\n",
    "\n",
    "    algorithm = SMSEMOA(\n",
    "                    pop_size=pop_size,\n",
    "                    sampling=PopulationSampling(),\n",
    "                    crossover=GenomeCrossover(),\n",
    "                    mutation=GenomeMutation(),\n",
    "                    eliminate_duplicates=DuplicateElimination()\n",
    "                    )\n",
    "\n",
    "    res = minimize(problem, \n",
    "                   algorithm, \n",
    "                   termination=termination, \n",
    "                   verbose=True\n",
    "                  )\n",
    "    \n",
    "    pareto_optimal_models = res.X\n",
    "    # np.save(f\"./Cache/pf_kdv_noise{int(noise_lv)}.npy\", pareto_optimal_models)\n",
    "\n",
    "else:\n",
    "    pareto_optimal_models = np.load(f\"./Cache/pf_kdv_noise{int(noise_lv)}.npy\", allow_pickle=True)"
   ]
  },
  {
   "cell_type": "code",
   "execution_count": 11,
   "id": "1e54ed14-bcc4-43bf-a345-f02f3d4da828",
   "metadata": {},
   "outputs": [
    {
     "data": {
      "text/plain": [
       "array([[frozenset({(0, 1)})],\n",
       "       [frozenset({(1, 1), (0, 3)})],\n",
       "       [frozenset({(0, 1), (1, 1), (0, 3)})],\n",
       "       [frozenset({(1, 1), (0, 3), (1, 3), (0, 5)})],\n",
       "       [frozenset({(0, 1), (2, 1), (6, 1), (0, 3), (0, 5)})],\n",
       "       [frozenset({(2, 1), (3, 1), (1, 1), (0, 3), (5, 1), (0, 5)})],\n",
       "       [frozenset({(2, 1), (3, 1), (6, 1), (0, 3), (5, 1), (0, 5), (4, 1)})],\n",
       "       [frozenset({(2, 1), (4, 1), (3, 1), (6, 1), (0, 3), (5, 1), (0, 5), (1, 3)})],\n",
       "       [frozenset({(4, 1), (3, 1), (6, 1), (1, 1), (0, 3), (5, 1), (2, 3), (0, 5), (1, 3)})],\n",
       "       [frozenset({(4, 1), (3, 1), (4, 3), (1, 1), (0, 3), (6, 1), (5, 1), (2, 3), (0, 5), (1, 3)})],\n",
       "       [frozenset({(0, 1), (2, 1), (4, 1), (3, 1), (6, 1), (0, 3), (5, 1), (2, 3), (3, 3), (0, 5), (1, 3)})],\n",
       "       [frozenset({(0, 1), (2, 1), (4, 1), (3, 1), (6, 1), (0, 3), (5, 1), (0, 6), (2, 3), (3, 3), (0, 5), (1, 3)})]],\n",
       "      dtype=object)"
      ]
     },
     "execution_count": 11,
     "metadata": {},
     "output_type": "execute_result"
    }
   ],
   "source": [
    "### OPTIONAL ###\n",
    "from operator import itemgetter\n",
    "\n",
    "effective_candidates = extract_unique_candidates(pareto_optimal_models)\n",
    "\n",
    "new_pareto_optimal_models = []\n",
    "for bs in backward_refinement([sorted([effective_candidates.index(_) for _ in list(pm[0])]) for pm in pareto_optimal_models], \n",
    "                              (problem.numericalize_genome(effective_candidates), y_pre)).get_best_subsets():\n",
    "    bs = itemgetter(*bs)(effective_candidates)\n",
    "    if type(bs[0]) is not tuple:\n",
    "        bs = (bs,)\n",
    "    new_pareto_optimal_models.append([frozenset(bs)])\n",
    "pareto_optimal_models = np.array(new_pareto_optimal_models)\n",
    "del new_pareto_optimal_models\n",
    "pareto_optimal_models"
   ]
  },
  {
   "cell_type": "markdown",
   "id": "a8f3d598-a23e-4d55-9add-cabe1114c4a2",
   "metadata": {},
   "source": [
    "### Top candidates by SHAP or Lasso/Lars path"
   ]
  },
  {
   "cell_type": "code",
   "execution_count": 12,
   "id": "e083fb2b-8c63-4729-a8b0-c15c6e747924",
   "metadata": {},
   "outputs": [
    {
     "data": {
      "text/plain": [
       "[[0, 1],\n",
       " [0, 3],\n",
       " [1, 1],\n",
       " [0, 5],\n",
       " [0, 6],\n",
       " [1, 3],\n",
       " [2, 1],\n",
       " [6, 1],\n",
       " [2, 3],\n",
       " [4, 3]]"
      ]
     },
     "execution_count": 12,
     "metadata": {},
     "output_type": "execute_result"
    }
   ],
   "source": [
    "# feature_importance = dict(zip(effective_candidates, [0.0 for _ in range(len(effective_candidates))]))\n",
    "\n",
    "# for bs in pareto_optimal_models[1:]:\n",
    "#     bs = list(bs[0])\n",
    "#     shap_importance = shap_linear_importance(problem.numericalize_genome(bs), y_pre, scale=False)\n",
    "#     for i, _ in enumerate(bs):\n",
    "#         feature_importance[_] += shap_importance[i]\n",
    "\n",
    "# top_candidates = sorted([(v, k) for k, v in feature_importance.items()], reverse=True)\n",
    "# top_candidates = [v for k, v in top_candidates[:16]]\n",
    "\n",
    "_, lars_p, _ = lars_path(StandardScaler().fit_transform(problem.numericalize_genome(effective_candidates)), \n",
    "                         y_pre.ravel(), method='lasso', alpha_min=1e-5)\n",
    "top_candidates = np.array(effective_candidates)[lars_p].tolist()\n",
    "\n",
    "top_candidates"
   ]
  },
  {
   "cell_type": "markdown",
   "id": "bc3db842-5015-4cee-9a3e-fc65c8f4742e",
   "metadata": {},
   "source": [
    "### Best-subset selections (Optional)"
   ]
  },
  {
   "cell_type": "code",
   "execution_count": 13,
   "id": "4786f593-b73a-4134-a3dc-6113d7c647ad",
   "metadata": {},
   "outputs": [
    {
     "name": "stderr",
     "output_type": "stream",
     "text": [
      "  0%|                                                    | 0/10 [00:00<?, ?it/s]"
     ]
    },
    {
     "name": "stdout",
     "output_type": "stream",
     "text": [
      "Set parameter Username\n",
      "Academic license - for non-commercial use only - expires 2026-04-04\n"
     ]
    },
    {
     "name": "stderr",
     "output_type": "stream",
     "text": [
      "100%|███████████████████████████████████████████| 10/10 [00:00<00:00, 78.90it/s]\n"
     ]
    }
   ],
   "source": [
    "X_pre_top = problem.numericalize_genome(top_candidates)\n",
    "X_pre_top_norm = np.linalg.norm(X_pre_top, 2, axis=0)\n",
    "X_pre_top = X_pre_top/X_pre_top_norm\n",
    "\n",
    "best_subsets = solvel0(X_pre_top, y_pre, miosr=True, refine=True)\n",
    "pareto_optimal_models = [[np.array(top_candidates)[list(bs)]] for bs in best_subsets]"
   ]
  },
  {
   "cell_type": "markdown",
   "id": "f5178a2a-e9c1-4b62-988e-73d1dae23e82",
   "metadata": {},
   "source": [
    "### Uncertainty quantification"
   ]
  },
  {
   "cell_type": "code",
   "execution_count": 14,
   "id": "bc7bcbef-d580-4011-8a71-a905fcd1bb5f",
   "metadata": {},
   "outputs": [
    {
     "name": "stdout",
     "output_type": "stream",
     "text": [
      "[ 1.01884068  1.          3.20498385  2.62328972  6.54323972  8.4680436\n",
      "  8.20828557  8.69681217 14.77643689 14.77643689]\n"
     ]
    },
    {
     "data": {
      "image/png": "[encoded data removed]",
      "text/plain": [
       "<Figure size 640x480 with 1 Axes>"
      ]
     },
     "metadata": {},
     "output_type": "display_data"
    }
   ],
   "source": [
    "pde_uncertainties = []\n",
    "\n",
    "for bs in pareto_optimal_models:\n",
    "    # um = BayesianRidge(fit_intercept=False, compute_score=True, max_iter=1000)\n",
    "    um = ARDRegression(fit_intercept=False, compute_score=True, max_iter=1000)\n",
    "    um.fit(problem.numericalize_genome(bs[0]), y_pre.ravel())\n",
    "    \n",
    "    pde_uncertainty = np.sqrt(np.diag(um.sigma_)).sum()/abs(um.coef_).sum()\n",
    "    pde_uncertainties.append(pde_uncertainty)\n",
    "\n",
    "pde_uncertainties = np.array(pde_uncertainties)/min(pde_uncertainties)\n",
    "print(pde_uncertainties)\n",
    "\n",
    "plt.plot(pde_uncertainties); plt.show()"
   ]
  },
  {
   "cell_type": "markdown",
   "id": "437ee0ba",
   "metadata": {},
   "source": [
    "### MCDM/MCDA ###"
   ]
  },
  {
   "cell_type": "code",
   "execution_count": 15,
   "id": "9e0912c0",
   "metadata": {},
   "outputs": [
    {
     "name": "stdout",
     "output_type": "stream",
     "text": [
      "Weights: [0.29139563 0.3075435  0.40106087]\n",
      "[[1.50358996e-04 1.00000000e+00 1.01884068e+00]\n",
      " [4.91956093e-05 2.00000000e+00 1.00000000e+00]] [(1, 4)]\n"
     ]
    }
   ],
   "source": [
    "from collections import Counter\n",
    "from pymcdm import weights as obj_w\n",
    "from compromise_programming import mcdm\n",
    "from bayesian_model_evidence import log_evidence\n",
    "\n",
    "include_uncertainty = True\n",
    "types = np.array([-1, -1])\n",
    "assert len(pareto_optimal_models) > 2\n",
    "F = problem.evaluate(pareto_optimal_models)\n",
    "# 2 criteria: acc, complexity / 3 criteria: acc, complexity, uncertainty\n",
    "if include_uncertainty:\n",
    "    F = np.hstack((F, pde_uncertainties.reshape(-1, 1)))\n",
    "    types = np.array([-1, -1, -1])\n",
    "\n",
    "ic = np.array([sm.OLS(y_pre, problem.numericalize_genome(bs[0])).fit().bic for bs in pareto_optimal_models])\n",
    "# ic = np.array([-log_evidence(problem.numericalize_genome(bs[0]), y_pre) for bs in pareto_optimal_models])\n",
    "max_ss = np.argmin(ic)+1\n",
    "F = F[:max_ss]\n",
    "\n",
    "obj_weights = obj_w.gini_weights(F, types=types)\n",
    "print(\"Weights:\", obj_weights)\n",
    "\n",
    "# mcdm\n",
    "filtered_F = F.copy()\n",
    "filtered_F[:, 0:1] = ic[:max_ss].reshape(-1, 1)\n",
    "while len(filtered_F) > 2:\n",
    "    ranks, prefs = mcdm(filtered_F, obj_weights, types)\n",
    "    most_common = Counter(np.argmin(ranks, axis=1)).most_common()\n",
    "    filtered_F = F[:most_common[0][0]+1]\n",
    "    print(filtered_F, most_common)\n",
    "    if len(most_common) == 1:\n",
    "        break"
   ]
  },
  {
   "cell_type": "code",
   "execution_count": null,
   "id": "0e679f6a-7988-4670-bddb-09dcb6d86f6c",
   "metadata": {},
   "outputs": [],
   "source": []
  },
  {
   "cell_type": "code",
   "execution_count": null,
   "id": "371463ab-140a-44b3-af3a-06c69ea99e4c",
   "metadata": {},
   "outputs": [],
   "source": []
  },
  {
   "cell_type": "markdown",
   "id": "886dc85b-79cc-4f18-8aaa-83b04cc71581",
   "metadata": {},
   "source": [
    "### Intercept or NO Intercept? ###"
   ]
  },
  {
   "cell_type": "code",
   "execution_count": 16,
   "id": "c9cf0ff9-a357-4220-bf3c-f009d5daf61b",
   "metadata": {},
   "outputs": [],
   "source": [
    "# true_indices = [9, 13]\n",
    "# true_coefficients = [-1, -6]\n",
    "# true_ols = sm.OLS(y_pre, X_pre[:, true_indices]).fit()\n",
    "# estimated_coefficients = true_ols.params\n",
    "# print(estimated_coefficients, mean_absolute_percentage_error(true_coefficients, estimated_coefficients))\n",
    "# true_ols.bic, sm.OLS(y_pre, X_pre[:, [0] + true_indices]).fit().bic"
   ]
  }
 ],
 "metadata": {
  "kernelspec": {
   "display_name": "Python [conda env:econ]",
   "language": "python",
   "name": "conda-env-econ-py"
  },
  "language_info": {
   "codemirror_mode": {
    "name": "ipython",
    "version": 3
   },
   "file_extension": ".py",
   "mimetype": "text/x-python",
   "name": "python",
   "nbconvert_exporter": "python",
   "pygments_lexer": "ipython3",
   "version": "3.10.9"
  }
 },
 "nbformat": 4,
 "nbformat_minor": 5
}

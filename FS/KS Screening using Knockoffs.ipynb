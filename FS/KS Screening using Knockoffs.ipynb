{
 "cells": [
  {
   "cell_type": "code",
   "execution_count": 1,
   "id": "6f83239b-bf12-480d-a091-268680d3344a",
   "metadata": {},
   "outputs": [
    {
     "name": "stdout",
     "output_type": "stream",
     "text": [
      "alibi is not installed in the environment.\n"
     ]
    }
   ],
   "source": [
    "%load_ext autoreload\n",
    "%autoreload 2\n",
    "%matplotlib inline\n",
    "import matplotlib.pyplot as plt\n",
    "import scienceplots\n",
    "\n",
    "import time\n",
    "import math\n",
    "import os\n",
    "import sys\n",
    "import random\n",
    "from functools import partial\n",
    "from decimal import Decimal\n",
    "import numpy as np\n",
    "import scipy.io as sio\n",
    "import pysindy as ps\n",
    "from tqdm import trange\n",
    "\n",
    "sys.path.insert(0, '../')\n",
    "from utils import *\n",
    "from solvel0 import solvel0, MIOSR\n",
    "from best_subset import backward_refinement, brute_force_all_subsets, brute_force\n",
    "from UBIC import *\n",
    "from bayesian_model_evidence import log_evidence\n",
    "\n",
    "from skimage.restoration import estimate_sigma\n",
    "import bm3d\n",
    "from kneed import KneeLocator\n",
    "\n",
    "from sklearn.gaussian_process import GaussianProcessRegressor\n",
    "from sklearn.gaussian_process.kernels import RBF, WhiteKernel\n",
    "\n",
    "from rdata import read_rds\n",
    "from selective_inference import forward_stop_rule\n",
    "\n",
    "from sklearn.preprocessing import StandardScaler\n",
    "from sklearn import covariance\n",
    "from sklearn.linear_model import lars_path\n",
    "from abess import LinearRegression as AbessLinearRegression\n",
    "from knockpy import KnockoffFilter, knockoff_stats, knockoffs\n",
    "from knockpy.utilities import estimate_covariance\n",
    "from scipy import stats\n",
    "from statsmodels.stats.multitest import multipletests\n",
    "from c2st.check import c2st # https://github.com/psteinb/c2st\n",
    "\n",
    "from mbic import mbic, mbic2, ebic\n",
    "\n",
    "from rdata import read_rds\n",
    "from selective_inference import forward_stop_rule, sfs_si, stepwise_selective_inference, subset_fdr\n",
    "import fpsample\n",
    "from dppy.finite_dpps import FiniteDPP\n",
    "\n",
    "from si4pipeline import (\n",
    "                        construct_pipelines, \n",
    "                        extract_features, \n",
    "                        initialize_dataset, \n",
    "                        intersection, \n",
    "                        lasso, \n",
    "                        marginal_screening, \n",
    "                        stepwise_feature_selection, \n",
    "                        union, \n",
    "                        PipelineManager\n",
    "                        )\n",
    "\n",
    "from compromise_programming import optimal_decision, compromise_programming"
   ]
  },
  {
   "cell_type": "code",
   "execution_count": 2,
   "id": "6664ce61-cc33-449c-a0ed-e40d0c09e16f",
   "metadata": {},
   "outputs": [],
   "source": [
    "data_path = \"../Datasets/\"\n",
    "data = sio.loadmat(os.path.join(data_path, \"kuramoto_sivishinky.mat\"))\n",
    "u_clean = (data['uu']).real; u = u_clean.copy()\n",
    "x = data['x'].ravel()\n",
    "t = data['tt'].ravel()\n",
    "dt = t[1]-t[0]; dx = x[2]-x[1]"
   ]
  },
  {
   "cell_type": "code",
   "execution_count": 3,
   "id": "440d6f70-e679-42f7-bfd4-eee1ccaa87e8",
   "metadata": {},
   "outputs": [
    {
     "name": "stdout",
     "output_type": "stream",
     "text": [
      "Noise level: 50.0\n"
     ]
    }
   ],
   "source": [
    "np.random.seed(0)\n",
    "noise_type = \"gaussian\"\n",
    "noise_lv = float(50)\n",
    "print(\"Noise level:\", noise_lv)\n",
    "noise = 0.01*np.abs(noise_lv)*(u.std())*np.random.randn(u.shape[0],u.shape[1])\n",
    "u = u + noise"
   ]
  },
  {
   "cell_type": "code",
   "execution_count": 4,
   "id": "e9a6a5ce-51dc-40a7-b82b-78ecbca68aaf",
   "metadata": {},
   "outputs": [],
   "source": [
    "np.random.seed(0)\n",
    "fake_noise = np.random.normal(loc=0.0, scale=estimate_sigma(u), size=u.shape)\n",
    "sigmas = estimate_sigma(u+fake_noise)*np.arange(0.1, 2., 0.1)\n",
    "est_sigma = sigmas[np.argmin([((u-bm3d.bm3d(u+fake_noise, sigma_psd=sigma, stage_arg=bm3d.BM3DStages.ALL_STAGES, blockmatches=(False, False)))**2).mean() \\\n",
    "                              for sigma in sigmas])]\n",
    "u = bm3d.bm3d(u, sigma_psd=est_sigma, \n",
    "              stage_arg=bm3d.BM3DStages.ALL_STAGES, \n",
    "              blockmatches=(False, False))"
   ]
  },
  {
   "cell_type": "markdown",
   "id": "27a03983-d4d0-4918-87ee-4ea39f6bd4d9",
   "metadata": {},
   "source": [
    "### weakident"
   ]
  },
  {
   "cell_type": "code",
   "execution_count": 5,
   "id": "98fdca69-b2c7-4cff-b66d-51d8c36f3b70",
   "metadata": {},
   "outputs": [],
   "source": [
    "# from weakident_python.weakindent_model import weak_ident\n",
    "\n",
    "# # No denoising for weak_ident\n",
    "\n",
    "# # Ground truth\n",
    "# true_coefficients = np.array([np.array([[2, 1, 0, -0.5], [1, 2, 0, -1], [1, 4, 0, -1]])])\n",
    "# # Hyperparameters\n",
    "# config = {'true_coefficients': true_coefficients, \n",
    "#           'max_dx': 6, 'max_poly': 6, 'use_cross_der': False, 'skip_x': 28, 'skip_t': 7, 'tau': 0.2}\n",
    "\n",
    "# np.random.seed(99)\n",
    "# # Sparse regression\n",
    "# X_pre, y_pre, c_pred, dictionary_list, lhs_feature, rhs_feature = weak_ident(np.expand_dims(u, 0), \n",
    "#                                                                              np.array([x, t], dtype=object), \n",
    "#                                                                              **config)\n",
    "# feature_names = rhs_feature\n",
    "# brute_force_all_subsets(X_pre, y_pre, min_support_size=3, max_support_size=3)"
   ]
  },
  {
   "cell_type": "code",
   "execution_count": 6,
   "id": "96244a07-bc2f-47f3-8919-fd1ad48354a7",
   "metadata": {},
   "outputs": [],
   "source": [
    "n_poly = 6\n",
    "n_derivatives = 6\n",
    "n_weak = 2000\n",
    "\n",
    "### Cache ###\n",
    "# X_pre = np.load(\"../Cache/X_pre_ks_noise50.npy\")\n",
    "# y_pre = np.load(\"../Cache/y_pre_ks_noise50.npy\")\n",
    "# u_pre = y_pre.copy()\n",
    "# feature_names = np.load(\"../Cache/feature_names_ks.npy\", allow_pickle=True)\n",
    "# fsInf = read_rds(\"../R/R_data/fsInf_screening_ks_noise50.rds\")\n",
    "\n",
    "function_library = ps.PolynomialLibrary(degree=n_poly, include_bias=False)\n",
    "\n",
    "weak_lib = ps.WeakPDELibrary(\n",
    "    function_library=function_library,\n",
    "    derivative_order=n_derivatives,\n",
    "    spatiotemporal_grid=np.asarray([*np.meshgrid(x, t)]).T,\n",
    "    include_bias=True,\n",
    "    diff_kwargs={\"is_uniform\":True},\n",
    "    K=n_weak\n",
    ")\n",
    "\n",
    "X_pre = np.array(weak_lib.fit_transform(np.expand_dims(u, -1)))\n",
    "y_pre = weak_lib.convert_u_dot_integral(np.expand_dims(u, -1))\n",
    "feature_names = np.array(weak_lib.get_feature_names())"
   ]
  },
  {
   "cell_type": "markdown",
   "id": "d019efbd-5158-46d0-abac-e1079dfa5a06",
   "metadata": {},
   "source": [
    "### Knockoffs"
   ]
  },
  {
   "cell_type": "code",
   "execution_count": 7,
   "id": "1e899ffa-0a99-4803-b962-8715d77ed43d",
   "metadata": {},
   "outputs": [],
   "source": [
    "from hidimstat import (model_x_knockoff, \n",
    "                    model_x_knockoff_pvalue, \n",
    "                    model_x_knockoff_bootstrap_quantile, \n",
    "                    model_x_knockoff_bootstrap_e_value)\n",
    "\n",
    "# selected, test_scores, threshold, X_tildes = model_x_knockoff(X_pre, \n",
    "#                                                               y_pre, \n",
    "#                                                               centered=True, \n",
    "#                                                               n_bootstraps=25, \n",
    "#                                                               fdr=0.1, \n",
    "#                                                               n_jobs=-1)\n",
    "\n",
    "from sklearn.utils import resample\n",
    "from abess import LinearRegression as AbessLinearRegression\n",
    "from knockpy import KnockoffFilter, knockoff_stats, knockoffs\n",
    "from knockpy.utilities import estimate_covariance\n",
    "from scipy import stats\n",
    "from statsmodels.stats.multitest import multipletests\n",
    "from c2st.check import c2st # https://github.com/psteinb/c2st\n",
    "\n",
    "u_pre = y_pre.copy()\n",
    "X_pre_top = StandardScaler().fit_transform(X_pre)\n",
    "y_pre = StandardScaler().fit_transform(u_pre)\n",
    "\n",
    "lr = AbessLinearRegression(path_type='gs', s_max=10, fit_intercept=False, cv=5, screening_size=0)\n",
    "kfilter = KnockoffFilter(ksampler='gaussian', fstat=knockoff_stats.ShapStatistic(model=lr), \n",
    "                         knockoff_kwargs={'method':'ci'})\n",
    "# kfilter = KnockoffFilter(ksampler='gaussian', fstat=knockoff_stats.FeatureStatistic(model=lr), \n",
    "#                          knockoff_kwargs={'method':'ci'}, fstat_kwargs={'feature_importance':'swapint'}) # swap or swapint\n",
    "# kfilter = KnockoffFilter(ksampler='gaussian', fstat='lasso', knockoff_kwargs={'method':'ci'})"
   ]
  },
  {
   "cell_type": "code",
   "execution_count": 8,
   "id": "418120c4-0c5f-4cc3-94e3-360ab0d2f41f",
   "metadata": {},
   "outputs": [
    {
     "name": "stderr",
     "output_type": "stream",
     "text": [
      "100%|██████████████████████████████████████████████████| 50/50 [00:24<00:00,  2.08it/s]\n"
     ]
    }
   ],
   "source": [
    "fdr = 1/3 # 1/4, 1/3, 1/2\n",
    "rejections = []\n",
    "test_scores = []\n",
    "thresholds = []\n",
    "for _ in trange(50):\n",
    "    np.random.seed(_)\n",
    "    # X_resample, y_resample = resample(X_pre_top, y_pre.flatten(), replace=True, random_state=_)\n",
    "    rejection = kfilter.forward(X=X_pre_top, y=y_pre.flatten(), fdr=fdr, shrinkage=\"ledoitwolf\", recycle_up_to=0.5)\n",
    "    rejection = sorted(set(np.where(rejection == 1)[0]))\n",
    "    if len(rejection) > 0:\n",
    "        rejections.append(rejection)\n",
    "        test_scores.append(kfilter.W)\n",
    "        thresholds.append(kfilter.threshold)\n",
    "# del X_resample, y_resample"
   ]
  },
  {
   "cell_type": "code",
   "execution_count": 9,
   "id": "dd230c59-32fb-40c0-a065-b0c4aa036c9b",
   "metadata": {
    "scrolled": true
   },
   "outputs": [
    {
     "name": "stdout",
     "output_type": "stream",
     "text": [
      "[]\n",
      "['x0_11' 'x0_1111' 'x0_111111' 'x0x0_1']\n"
     ]
    }
   ],
   "source": [
    "aggregated_ko_selection, _, _ = model_x_knockoff_bootstrap_quantile(test_scores, \n",
    "                                                                    fdr=fdr, \n",
    "                                                                    adaptive_aggregation=False)\n",
    "print(feature_names[aggregated_ko_selection])\n",
    "\n",
    "# ShapStatistic: ['x0_11' 'x0_1111' 'x0_111111' 'x0x0_1']\n",
    "# swap: ['x0_11' 'x0_1111' 'x0_111111' 'x0x0_1']\n",
    "# swapint: ['x0_11' 'x0_1111' 'x0_111111' 'x0x0_1']\n",
    "eval_selection, _, _ = model_x_knockoff_bootstrap_e_value(test_scores, thresholds, fdr=fdr)\n",
    "print(feature_names[eval_selection])"
   ]
  },
  {
   "cell_type": "code",
   "execution_count": 10,
   "id": "0645fb40-57a4-4b1a-b0fa-85cb431d75e3",
   "metadata": {},
   "outputs": [
    {
     "data": {
      "text/plain": [
       "array(['x0_11', 'x0_1111', 'x0_111111', 'x0x0_1'], dtype='<U13')"
      ]
     },
     "execution_count": 10,
     "metadata": {},
     "output_type": "execute_result"
    }
   ],
   "source": [
    "rejections = np.array(eval_selection)\n",
    "X_pre_top = X_pre_top[:, rejections]\n",
    "feature_names[rejections]"
   ]
  },
  {
   "cell_type": "code",
   "execution_count": 11,
   "id": "786f450c-9840-4095-b617-002c008f309f",
   "metadata": {},
   "outputs": [
    {
     "name": "stdout",
     "output_type": "stream",
     "text": [
      "[1.86541457 1.65762718 1.06754424]\n",
      "['x0_11' 'x0_1111' 'x0x0_1']\n"
     ]
    },
    {
     "name": "stderr",
     "output_type": "stream",
     "text": [
      "100%|██████████████████████████████████████████████████| 50/50 [00:02<00:00, 23.68it/s]\n"
     ]
    },
    {
     "name": "stdout",
     "output_type": "stream",
     "text": [
      "binary classifier's acc: 0.5439964989171632\n",
      "P-value: 3.7410396887618274e-10\n"
     ]
    },
    {
     "name": "stderr",
     "output_type": "stream",
     "text": [
      "100%|██████████████████████████████████████████████████| 50/50 [00:02<00:00, 23.03it/s]\n"
     ]
    },
    {
     "name": "stdout",
     "output_type": "stream",
     "text": [
      "binary classifier's acc: 0.6793723102713064\n",
      "P-value: 2.7769121458227207e-10\n"
     ]
    },
    {
     "name": "stderr",
     "output_type": "stream",
     "text": [
      "100%|██████████████████████████████████████████████████| 50/50 [00:02<00:00, 23.14it/s]\n"
     ]
    },
    {
     "name": "stdout",
     "output_type": "stream",
     "text": [
      "binary classifier's acc: 0.6474715432688627\n",
      "P-value: 3.62581107042573e-10\n"
     ]
    },
    {
     "data": {
      "text/plain": [
       "array(['x0_11', 'x0_1111', 'x0x0_1'], dtype='<U13')"
      ]
     },
     "execution_count": 11,
     "metadata": {},
     "output_type": "execute_result"
    }
   ],
   "source": [
    "alpha = 0.05\n",
    "classifer_threshold = 0.5\n",
    "while True:        \n",
    "    non_null_indices, shap_values = shap_model_selection(X_pre_top, y_pre)\n",
    "    rejections = rejections[non_null_indices]\n",
    "    X_pre_top = X_pre_top[:, non_null_indices]\n",
    "    print(abs(shap_values).mean(axis=0))\n",
    "    print(feature_names[rejections])\n",
    "\n",
    "    decision = True\n",
    "    Sigma, invSigma = estimate_covariance(X_pre_top, 1e-3, \"graphicallasso\")\n",
    "    for j in range(len(rejections)-1, -1, -1):\n",
    "        classifier_confidences = []\n",
    "        for _ in trange(50):\n",
    "            Xk = knockoffs.GaussianSampler(X_pre_top, Sigma=Sigma, invSigma=invSigma, \n",
    "                                           method='ci').sample_knockoffs()\n",
    "            Xn = X_pre_top.copy()\n",
    "            Xn[:, j] = Xk[:, j]\n",
    "            \n",
    "            swap_explainer = shap.explainers.Linear(linear_model.LinearRegression(fit_intercept=False).fit(Xn, y_pre),\n",
    "                                                    Xn)\n",
    "            swap_shap_values = swap_explainer(Xn).values\n",
    "            \n",
    "            classifier_confidences.append(c2st(shap_values[:, j:j+1], swap_shap_values[:, j:j+1], clf=linear_model.LogisticRegression(fit_intercept=True)))\n",
    "    \n",
    "        classifier_confidences = np.array(classifier_confidences)\n",
    "        pv = stats.wilcoxon(classifier_confidences-classifer_threshold, alternative='greater').pvalue\n",
    "        \n",
    "        print(\"binary classifier's acc:\", classifier_confidences.mean())\n",
    "        print(\"P-value:\", pv)\n",
    "    \n",
    "        if not pv < alpha:\n",
    "            decision = False\n",
    "            break\n",
    "\n",
    "    if not decision:\n",
    "        # non_null_indices = list(solvel0(X_pre_top, y_pre, max_complexity=len(rejections)-1, miosr=True, refine=True)[-1])\n",
    "        non_null_indices = np.nonzero(brute_force(X_pre_top, y_pre, support_size=len(rejections)-1))[0]\n",
    "        rejections = rejections[non_null_indices]\n",
    "        X_pre_top = X_pre_top[:, non_null_indices]\n",
    "    else:\n",
    "        break\n",
    "\n",
    "# Optional\n",
    "nonzero_miosr = np.array([], dtype=np.int32)\n",
    "for _ in range(len(rejections)):\n",
    "    nonzero_miosr = np.union1d(nonzero_miosr, np.nonzero(brute_force(X_pre, y_pre, len(rejections)-_))[0])\n",
    "rejections = np.intersect1d(rejections, nonzero_miosr)\n",
    "feature_names[rejections]"
   ]
  },
  {
   "cell_type": "code",
   "execution_count": 12,
   "id": "275a0b85-5ec6-4b23-8da8-64d49f77e451",
   "metadata": {},
   "outputs": [],
   "source": [
    "X_pre_top = X_pre[:, rejections]\n",
    "X_pre_top = X_pre_top/np.linalg.norm(X_pre_top, 2, axis=0)\n",
    "y_pre = u_pre.copy()"
   ]
  },
  {
   "cell_type": "code",
   "execution_count": 13,
   "id": "edbb20c0-87c9-4fcf-8690-9f664a1677ee",
   "metadata": {},
   "outputs": [
    {
     "name": "stderr",
     "output_type": "stream",
     "text": [
      "100%|██████████████████████████████████████████████████| 3/3 [00:00<00:00, 3866.91it/s]\n"
     ]
    }
   ],
   "source": [
    "best_subsets = brute_force_all_subsets(X_pre_top, y_pre)[1]"
   ]
  },
  {
   "cell_type": "markdown",
   "id": "949d8115-95df-491d-b5db-54df942f246c",
   "metadata": {},
   "source": [
    "### Compromise programming"
   ]
  },
  {
   "cell_type": "code",
   "execution_count": 14,
   "id": "d453ae3d-f60b-45b8-9084-fff66c450822",
   "metadata": {},
   "outputs": [
    {
     "name": "stdout",
     "output_type": "stream",
     "text": [
      "Generate alternatives\n",
      "[[1.00000000e+00 1.93613751e+03 8.57607896e+00]\n",
      " [2.00000000e+00 1.68600401e+03 9.39186490e+00]\n",
      " [3.00000000e+00 6.36263213e+01 1.00000000e+00]] [(2,) (0, 2) (0, 1, 2)]\n",
      "\n",
      "Recursive MCDM\n",
      "Weights: [0.13287142 0.50673915 0.36038943]\n",
      "[(2, 4)] [[1.00000000e+00 1.93613751e+03 8.57607896e+00]\n",
      " [2.00000000e+00 1.68600401e+03 9.39186490e+00]\n",
      " [3.00000000e+00 6.36263213e+01 1.00000000e+00]]\n"
     ]
    },
    {
     "data": {
      "text/plain": [
       "([(2, 4)],\n",
       " array([[1.00000000e+00, 1.93613751e+03, 8.57607896e+00],\n",
       "        [2.00000000e+00, 1.68600401e+03, 9.39186490e+00],\n",
       "        [3.00000000e+00, 6.36263213e+01, 1.00000000e+00]]))"
      ]
     },
     "execution_count": 14,
     "metadata": {},
     "output_type": "execute_result"
    }
   ],
   "source": [
    "optimal_decision(best_subsets, (X_pre_top, y_pre), verbose=True)"
   ]
  },
  {
   "cell_type": "code",
   "execution_count": 15,
   "id": "b7be051b-9fe4-4085-96b7-cb01560b00e3",
   "metadata": {},
   "outputs": [
    {
     "name": "stdout",
     "output_type": "stream",
     "text": [
      "[[ 5.61844948e+03  1.00000000e+00]\n",
      " [ 5.34937844e+03  2.00000000e+00]\n",
      " [-1.19719372e+03  3.00000000e+00]] [(2, 4)]\n"
     ]
    },
    {
     "data": {
      "text/plain": [
       "(array([[1.93613632e+03, 1.00000000e+00],\n",
       "        [1.68599928e+03, 2.00000000e+00],\n",
       "        [6.36263172e+01, 3.00000000e+00]]),\n",
       " [[(2, 4)]],\n",
       " [[array([0.20773801, 0.12375803, 0.79226199]),\n",
       "   array([-0.10302607, -0.1756178 ,  0.48149791]),\n",
       "   array([0.25      , 0.15460884, 0.75      ]),\n",
       "   array([0.79226199, 0.86485372, 0.20773801])]])"
      ]
     },
     "execution_count": 15,
     "metadata": {},
     "output_type": "execute_result"
    }
   ],
   "source": [
    "compromise_programming(best_subsets, (X_pre_top, y_pre))"
   ]
  },
  {
   "cell_type": "code",
   "execution_count": 16,
   "id": "3f1ab301-5726-4d0c-b268-d1fecb2d8d65",
   "metadata": {},
   "outputs": [
    {
     "name": "stdout",
     "output_type": "stream",
     "text": [
      "[5618.449478264015, 5349.378444659427, -1197.1937230557794]\n",
      "[7.70522132 8.10475527 1.        ]\n",
      "threshold: 0.9\n",
      "max_lam: 2.1972992717702935\n",
      "2 <---> 2 inf\n",
      "2 <---> 2 inf\n",
      "2 <---> 2 inf\n"
     ]
    },
    {
     "data": {
      "text/plain": [
       "(0.0, array([ 5677.01611395,  5410.98189893, -1189.5928206 ]), 2, 2)"
      ]
     },
     "execution_count": 16,
     "metadata": {},
     "output_type": "execute_result"
    }
   ],
   "source": [
    "tau = 3\n",
    "verbose = True\n",
    "# scale = 1 <- generalized UBIC\n",
    "scale = np.log(len(y_pre))\n",
    "per = 75 # 80\n",
    "\n",
    "post_means, b_bics, b_uns = baye_uncertainties(best_subsets, (X_pre_top, y_pre), \n",
    "                                               u_type='cv1', take_sqrt=True, \n",
    "                                               ridge_lambda=0, \n",
    "                                               threshold=0)\n",
    "# b_uns = ard_uns # USE ard_uns INSTEAD\n",
    "predictions = X_pre_top@post_means\n",
    "print(b_bics)\n",
    "print(b_uns)\n",
    "b_bics = np.array(b_bics)\n",
    "max_complexity = len(b_bics)\n",
    "complexities = np.arange(max_complexity)+1\n",
    "d_complexities = complexities[decreasing_values_indices(b_bics)]\n",
    "d_bics = b_bics[decreasing_values_indices(b_bics)]\n",
    "slopes = np.diff(b_bics)/(np.diff(complexities)*b_bics[:-1])\n",
    "try:\n",
    "    thres = np.percentile(np.abs(np.diff(d_bics)/(np.diff(d_complexities)*d_bics[:-1])), per)\n",
    "    # None / Round / Ceil / Floor: Decided by researchers to automate the model selection process\n",
    "    thres = np.round(sci_format(thres)[0])*10**sci_format(thres)[1]\n",
    "except IndexError:\n",
    "    thres = 1/40\n",
    "min_thres = 1/40\n",
    "thres = max(thres, min_thres)\n",
    "print(\"threshold:\", thres)\n",
    "\n",
    "lower_bounds = []\n",
    "for k, efi in enumerate(best_subsets):\n",
    "    # assert len(efi) == np.count_nonzero(post_means[:, k:k+1])\n",
    "    com = len(efi)\n",
    "    lower_bound = 2*np.abs(log_like_value(predictions[:, k:k+1], y_pre))-np.log(len(y_pre))*com\n",
    "    lower_bounds.append(lower_bound)\n",
    "\n",
    "last_lam = np.log10(max(lower_bounds/(b_uns*scale)))\n",
    "print(\"max_lam:\", last_lam)\n",
    "delta = last_lam/tau\n",
    "now_lam = last_lam-delta\n",
    "last_ubic = UBIC(b_bics, b_uns, len(y_pre), hyp=10**last_lam, scale=scale)\n",
    "last_bc = np.argmin(last_ubic)\n",
    "bc_seq = [last_bc]\n",
    "while now_lam >= 0:\n",
    "    now_ubic = UBIC(b_bics, b_uns, len(y_pre), hyp=10**now_lam, scale=scale)\n",
    "    now_bc = np.argmin(now_ubic)\n",
    "    \n",
    "    diff_com = now_bc-last_bc\n",
    "    diff_bic = b_bics[now_bc]-b_bics[last_bc]\n",
    "    imp = np.nan\n",
    "    if diff_com != 0:\n",
    "        imp = abs(diff_bic/(b_bics[last_bc]*diff_com))\n",
    "    \n",
    "    if verbose:\n",
    "        print(min(last_bc, now_bc), '<--->', max(last_bc, now_bc), \n",
    "              np.nan_to_num(imp, nan=np.inf))\n",
    "    \n",
    "    if (diff_com > 0 and (diff_bic > 0 or imp < thres)) or \\\n",
    "        (diff_com < 0 and diff_bic > 0 and imp > thres):\n",
    "        break\n",
    "    \n",
    "    last_lam = now_lam\n",
    "    now_lam = round(last_lam-delta, 8)\n",
    "    last_ubic = now_ubic\n",
    "    last_bc = now_bc\n",
    "    if last_bc not in bc_seq:\n",
    "        bc_seq.append(last_bc)\n",
    "\n",
    "# best_bc = knee_finder(last_ubic)\n",
    "best_bc = knee(range(0, len(last_ubic)), last_ubic, 0.95, 'linear')\n",
    "if best_bc == 0 and last_bc != 0 and b_bics[last_bc] < b_bics[0] and \\\n",
    "                                    abs((b_bics[last_bc]-b_bics[0])/(b_bics[0]*last_bc)) > thres:\n",
    "    best_bc = knee(range(1, len(last_ubic)), last_ubic[1:], 0.95, 'linear')\n",
    "if best_bc is None:\n",
    "    best_bc = knee_finder(last_ubic)\n",
    "    \n",
    "last_lam = abs(round(last_lam, 8))\n",
    "last_lam, last_ubic, last_bc, best_bc"
   ]
  },
  {
   "cell_type": "code",
   "execution_count": 17,
   "id": "6ce09d85-c948-4db3-80e7-d4e72d7026d8",
   "metadata": {},
   "outputs": [
    {
     "data": {
      "image/png": "[encoded data removed]",
      "text/plain": [
       "<Figure size 400x300 with 1 Axes>"
      ]
     },
     "metadata": {},
     "output_type": "display_data"
    }
   ],
   "source": [
    "fig, ax = plt.subplots(figsize=(4, 3))\n",
    "ax.plot([len(bs) for bs in best_subsets], last_ubic, '-o', c='black')\n",
    "plt.show()"
   ]
  },
  {
   "cell_type": "code",
   "execution_count": 18,
   "id": "b92efbc2-b5a8-4067-af10-ee07bbb5cffb",
   "metadata": {},
   "outputs": [
    {
     "data": {
      "text/plain": [
       "3"
      ]
     },
     "execution_count": 18,
     "metadata": {},
     "output_type": "execute_result"
    }
   ],
   "source": [
    "# Assume that mbics is a decreasing sequence\n",
    "complexities = np.array([len(_) for _ in best_subsets])\n",
    "\n",
    "if len(best_subsets) <= 2:\n",
    "    knee = complexities.max()\n",
    "else:\n",
    "    ebics = []\n",
    "    mbics = []\n",
    "    for _ in best_subsets:\n",
    "        loglik = log_like_value(X_pre_top[:, _]@np.linalg.lstsq(X_pre_top[:, _], y_pre, rcond=None)[0], \n",
    "                                y_pre)\n",
    "        ebics.append(ebic(loglik, len(_), len(y_pre), X_pre_top.shape[-1], const=0))\n",
    "        mbics.append(mbic(loglik, len(_), len(y_pre), X_pre_top.shape[-1], const=2))\n",
    "    ebics = np.array(ebics)\n",
    "    mbics = np.array(mbics)\n",
    "\n",
    "    if np.alltrue(np.array(mbics) >= np.array([max(mbics)+_*(min(mbics)-max(mbics))/(np.argmin(mbics)-np.argmax(mbics)) for _ in range(len(best_subsets))])):\n",
    "        knee = complexities.max()\n",
    "    else:    \n",
    "        decreasing_indices = np.array(mbics) <= np.array([max(mbics)+_*(min(mbics)-max(mbics))/(np.argmin(mbics)-np.argmax(mbics)) for _ in range(len(best_subsets))])\n",
    "        knee = knee_finder(mbics[decreasing_indices])\n",
    "        knee = (complexities[decreasing_indices])[knee]\n",
    "    \n",
    "knee"
   ]
  },
  {
   "cell_type": "code",
   "execution_count": 19,
   "id": "91316fd4-52e8-4579-b257-a508266e467d",
   "metadata": {},
   "outputs": [
    {
     "name": "stdout",
     "output_type": "stream",
     "text": [
      "1 0.0\n",
      "2 1.8973711490847737e-13\n",
      "3 0.0\n",
      "[1 0 1]\n",
      "[0 1 0]\n"
     ]
    }
   ],
   "source": [
    "np.random.seed(0); random.seed(0)\n",
    "n_samples = min(int(250*knee), len(y_pre))\n",
    "false_discovery_control_method = None\n",
    "fdr_data = []\n",
    "for bs in best_subsets:\n",
    "    fdrs = []\n",
    "    for _ in range(len(y_pre)//n_samples):\n",
    "        X_test = X_pre_top[:, bs]\n",
    "        y_test = y_pre.ravel()\n",
    "        \n",
    "        np.random.seed(random.randint(0, 100))\n",
    "        # sample_indices = sorted(set([np.random.randint(len(y_pre)) for _ in range(n_samples)]))\n",
    "        sample_indices = fpsample.bucket_fps_kdline_sampling(X_test, n_samples=n_samples, h=3) # Farthest Point Sampling (FPS) is better!!!\n",
    "        X_test = X_test[sample_indices]; y_test = y_test[sample_indices]\n",
    "        # FPS + k-DPP\n",
    "        DPP = FiniteDPP('likelihood', **{'L': X_test.dot(X_test.T)})\n",
    "        DPP.flush_samples()\n",
    "        for _ in range(n_samples//(len(bs))):\n",
    "            DPP.sample_exact_k_dpp(size=len(bs))\n",
    "        sample_indices = np.unique(np.ravel(DPP.list_of_samples))\n",
    "        X_test = X_test[sample_indices]; y_test = y_test[sample_indices]\n",
    "        \n",
    "        manager = stepwise_selective_inference(support_size=X_test.shape[1])\n",
    "        M, p_list = manager.inference(X_test, y_test, np.std(y_test))\n",
    "        if false_discovery_control_method is not None:\n",
    "            p_list = stats.false_discovery_control(p_list, method=false_discovery_control_method)\n",
    "        # print(M, p_list, np.array(p_list) < 0.05)\n",
    "        fdrs.append(subset_fdr(p_list))\n",
    "        \n",
    "    fdrs = np.array(fdrs)\n",
    "    if fdrs.mean() < 1:\n",
    "        print(len(bs), fdrs.mean())\n",
    "        fdr_data.append(fdrs)\n",
    "        \n",
    "fdr_data = np.array(fdr_data)\n",
    "\n",
    "from sklearn.cluster import AffinityPropagation, KMeans\n",
    "print(AffinityPropagation().fit(fdr_data).labels_)\n",
    "print(KMeans(n_clusters=2).fit(fdr_data).labels_)"
   ]
  },
  {
   "cell_type": "code",
   "execution_count": 20,
   "id": "32ec6269-d1cf-425a-81a3-ff549f49ebef",
   "metadata": {},
   "outputs": [
    {
     "name": "stdout",
     "output_type": "stream",
     "text": [
      "1 0.0\n",
      "2 1.8973711490847737e-13\n",
      "3 0.0\n"
     ]
    }
   ],
   "source": [
    "np.random.seed(0); random.seed(0)\n",
    "n_samples = min(int(250*knee), len(y_pre))\n",
    "false_discovery_control_method = 'bh'\n",
    "fdr_data = []\n",
    "for bs in best_subsets:\n",
    "    fdrs = []\n",
    "    for _ in range(len(y_pre)//n_samples):\n",
    "        X_test = X_pre_top[:, bs]\n",
    "        y_test = y_pre.ravel()\n",
    "        \n",
    "        np.random.seed(random.randint(0, 100))\n",
    "        # sample_indices = sorted(set([np.random.randint(len(y_pre)) for _ in range(n_samples)]))\n",
    "        sample_indices = fpsample.bucket_fps_kdline_sampling(X_test, n_samples=n_samples, h=3) # Farthest Point Sampling (FPS) is better!!!\n",
    "        X_test = X_test[sample_indices]; y_test = y_test[sample_indices]\n",
    "        # FPS + k-DPP\n",
    "        DPP = FiniteDPP('likelihood', **{'L': X_test.dot(X_test.T)})\n",
    "        DPP.flush_samples()\n",
    "        for _ in range(n_samples//(len(bs))):\n",
    "            DPP.sample_exact_k_dpp(size=len(bs))\n",
    "        sample_indices = np.unique(np.ravel(DPP.list_of_samples))\n",
    "        X_test = X_test[sample_indices]; y_test = y_test[sample_indices]\n",
    "        \n",
    "        manager = stepwise_selective_inference(support_size=X_test.shape[1])\n",
    "        M, p_list = manager.inference(X_test, y_test, np.std(y_test))\n",
    "        if false_discovery_control_method is not None:\n",
    "            p_list = stats.false_discovery_control(p_list, method=false_discovery_control_method)\n",
    "        # print(M, p_list, np.array(p_list) < 0.05)\n",
    "        fdrs.append(subset_fdr(p_list))\n",
    "        \n",
    "    fdrs = np.array(fdrs)\n",
    "    if fdrs.mean() < 1:\n",
    "        print(len(bs), fdrs.mean())\n",
    "        fdr_data.append(fdrs)\n",
    "        \n",
    "fdr_data = np.array(fdr_data)"
   ]
  },
  {
   "cell_type": "code",
   "execution_count": null,
   "id": "08bea945-f16a-4ae0-a8b6-dc7de972488e",
   "metadata": {},
   "outputs": [],
   "source": []
  },
  {
   "cell_type": "code",
   "execution_count": null,
   "id": "31023e6f-ebce-4a8e-a23e-9027ca56508d",
   "metadata": {},
   "outputs": [],
   "source": []
  },
  {
   "cell_type": "markdown",
   "id": "f639e8a6-fb76-45f3-a625-f1f00b31be40",
   "metadata": {},
   "source": [
    "### Selective inference"
   ]
  },
  {
   "cell_type": "markdown",
   "id": "9126ba12-0407-4b4e-8ab1-323ed8be0054",
   "metadata": {},
   "source": [
    "### Python"
   ]
  },
  {
   "cell_type": "code",
   "execution_count": 6,
   "id": "edbbc3b9-dbb7-417c-a7b5-c0ca566e638b",
   "metadata": {},
   "outputs": [
    {
     "name": "stdout",
     "output_type": "stream",
     "text": [
      "[13  8 10 32  0 28  6 37 17 46 29 45 39 23  9 27] [0.0, 0.0, 0.0, 0.11057840228621496, 0.005249481999814121, 0.02325118915820823, 0.00037784452588840445, 0.15528144418352108, 0.03616323537314303, 0.5832676875553187, 0.00020242966125849637, 2.128755867136789e-06, 0.022717706283782668, 0.0012013698205959322, 0.8508257783649176, 0.0013563493767463353] 0.19722695411944302\n"
     ]
    },
    {
     "data": {
      "text/plain": [
       "(0.05,\n",
       " array(['1', 'x0^6', 'x0_11', 'x0_1111', 'x0x0_1', 'x0^5x0_1',\n",
       "        'x0^4x0_111', 'x0^2x0_1111', 'x0x0_11111'], dtype='<U13'),\n",
       " 9)"
      ]
     },
     "execution_count": 6,
     "metadata": {},
     "output_type": "execute_result"
    }
   ],
   "source": [
    "n_terms = 16\n",
    "max_complexity = 10\n",
    "alphas = [0.3, 0.25, 0.2, 0.15, 0.1, 0.05, 0.01]\n",
    "\n",
    "_, lars_p, _ = lars_path(StandardScaler().fit_transform(X_pre), y_pre.flatten(), method='lasso', alpha_min=1e-6, max_iter=1000)\n",
    "lars_p = np.array(list(map(int, lars_p)))[:n_terms]\n",
    "\n",
    "# nonzero = np.nonzero(AbessLinearRegression(s_min=1, path_type='gs', fit_intercept=False, alpha=1e-9, max_iter=100).fit(X_pre, y_pre.flatten()).coef_)[0]\n",
    "# nonzero = np.nonzero(MIOSR(X_pre, y_pre, alpha=1e-9, non_zero=min(len(nonzero), n_terms)))[0]\n",
    "# _, lars_p, _ = lars_path(StandardScaler().fit_transform(X_pre[:, nonzero]), y_pre.flatten(), method='lasso', alpha_min=0)\n",
    "# lars_p = nonzero[np.array(list(map(int, lars_p)))][:n_terms]\n",
    "\n",
    "X_test = X_pre[:, lars_p]\n",
    "sigma = np.std(y_pre-X_test@np.linalg.lstsq(X_test, y_pre)[0], ddof=1)\n",
    "manager = stepwise_selective_inference(support_size=len(lars_p))\n",
    "_, p_list = manager.inference(X_test, y_pre, sigma)\n",
    "print(lars_p, p_list, subset_fdr(p_list))\n",
    "\n",
    "for alpha in alphas:\n",
    "    adjusted_pvalues = p_list\n",
    "    stop_step, false_discovery_rates = forward_stop_rule(adjusted_pvalues, alpha)\n",
    "    adjusted_pvalues = adjusted_pvalues[:stop_step+1]\n",
    "    rejections = np.sort(lars_p[:stop_step+1])\n",
    "    if len(rejections) <= max_complexity: \n",
    "        break\n",
    "max_fdr = alpha\n",
    "max_fdr, feature_names[rejections], len(rejections)"
   ]
  },
  {
   "cell_type": "markdown",
   "id": "fea9f28f-4d62-4b51-a2d2-656b343fda68",
   "metadata": {},
   "source": [
    "### R"
   ]
  },
  {
   "cell_type": "code",
   "execution_count": 7,
   "id": "93dc47a4-a735-4811-bf69-5d6a21319401",
   "metadata": {},
   "outputs": [],
   "source": [
    "# max_complexity = 10\n",
    "# alphas = [0.3, 0.2, 0.1, 0.05, 0.01]\n",
    "# for alpha in alphas:\n",
    "#     adjusted_pvalues = fsInf.get(\"pv\")\n",
    "#     stop_step, false_discovery_rates = forward_stop_rule(adjusted_pvalues, alpha)\n",
    "#     adjusted_pvalues = adjusted_pvalues[:stop_step+1]\n",
    "#     rejections = np.sort((fsInf.get(\"vars\")-1).astype(np.int32)[:stop_step+1])\n",
    "#     if len(rejections) <= max_complexity:\n",
    "#         break\n",
    "# max_fdr = alpha\n",
    "# feature_names[rejections]"
   ]
  },
  {
   "cell_type": "code",
   "execution_count": 8,
   "id": "e1daad6a-3b72-41de-973f-0a7482299969",
   "metadata": {},
   "outputs": [],
   "source": [
    "X_pre_top = X_pre[:, rejections]\n",
    "X_pre_top = X_pre_top/np.linalg.norm(X_pre_top, 2, axis=0)"
   ]
  },
  {
   "cell_type": "code",
   "execution_count": 9,
   "id": "ff385e9f-b41c-440b-9108-fb6556e257d7",
   "metadata": {},
   "outputs": [
    {
     "name": "stderr",
     "output_type": "stream",
     "text": [
      "100%|███████████████████████████████████████████████████████████████████████████████████████| 8/8 [00:00<00:00, 104.22it/s]\n"
     ]
    }
   ],
   "source": [
    "_, best_subsets = brute_force_all_subsets(X_pre_top, y_pre, max_support_size=8)"
   ]
  },
  {
   "cell_type": "code",
   "execution_count": 10,
   "id": "e785a016-4196-4d24-93fd-85966bd4616c",
   "metadata": {},
   "outputs": [
    {
     "data": {
      "text/plain": [
       "8"
      ]
     },
     "execution_count": 10,
     "metadata": {},
     "output_type": "execute_result"
    }
   ],
   "source": [
    "# Assume that mbics is a decreasing sequence\n",
    "complexities = np.array([len(_) for _ in best_subsets])\n",
    "\n",
    "if len(best_subsets) <= 2:\n",
    "    knee = complexities.max()\n",
    "else:\n",
    "    ebics = []\n",
    "    mbics = []\n",
    "    for _ in best_subsets:\n",
    "        loglik = log_like_value(X_pre_top[:, _]@np.linalg.lstsq(X_pre_top[:, _], y_pre, rcond=None)[0], \n",
    "                                y_pre)\n",
    "        ebics.append(ebic(loglik, len(_), len(y_pre), X_pre_top.shape[-1], const=0))\n",
    "        mbics.append(mbic(loglik, len(_), len(y_pre), X_pre_top.shape[-1], const=2))\n",
    "    ebics = np.array(ebics)\n",
    "    mbics = np.array(mbics)\n",
    "\n",
    "    if np.alltrue(np.array(mbics) >= np.array([max(mbics)+_*(min(mbics)-max(mbics))/(np.argmin(mbics)-np.argmax(mbics)) for _ in range(len(best_subsets))])):\n",
    "        knee = complexities.max()\n",
    "    else:    \n",
    "        decreasing_indices = np.array(mbics) <= np.array([max(mbics)+_*(min(mbics)-max(mbics))/(np.argmin(mbics)-np.argmax(mbics)) for _ in range(len(best_subsets))])\n",
    "        knee = knee_finder(mbics[decreasing_indices])\n",
    "        knee = (complexities[decreasing_indices])[knee]\n",
    "    \n",
    "knee"
   ]
  },
  {
   "cell_type": "code",
   "execution_count": 11,
   "id": "0e27c59e-f740-4e66-92b7-e927a743b26b",
   "metadata": {},
   "outputs": [
    {
     "name": "stdout",
     "output_type": "stream",
     "text": [
      "max fdr: 0.05\n",
      "1 0.0 0.5\n",
      "2 1.0824674490095393e-14 0.5\n",
      "3 0.0 0.5\n",
      "4 0.41867654953243216 1.0\n"
     ]
    }
   ],
   "source": [
    "np.random.seed(0); random.seed(0)\n",
    "n_samples = min(int(250*knee), len(y_pre))\n",
    "false_discovery_control_method = 'bh'\n",
    "print(\"max fdr:\", max_fdr)\n",
    "fdr_data = []\n",
    "for bs in best_subsets:\n",
    "    fdrs = []\n",
    "    for _ in range(len(y_pre)//n_samples):\n",
    "        X_test = X_pre_top[:, bs]\n",
    "        y_test = y_pre.ravel()\n",
    "        \n",
    "        np.random.seed(random.randint(0, 100))\n",
    "        # sample_indices = sorted(set([np.random.randint(len(y_pre)) for _ in range(n_samples)]))\n",
    "        sample_indices = fpsample.bucket_fps_kdline_sampling(X_test, n_samples=n_samples, h=3) # Farthest Point Sampling (FPS) is better!!!\n",
    "        X_test = X_test[sample_indices]; y_test = y_test[sample_indices]\n",
    "        # FPS + k-DPP\n",
    "        DPP = FiniteDPP('likelihood', **{'L': X_test.dot(X_test.T)})\n",
    "        DPP.flush_samples()\n",
    "        for _ in range(n_samples//(len(bs))):\n",
    "            DPP.sample_exact_k_dpp(size=len(bs))\n",
    "        sample_indices = np.unique(np.ravel(DPP.list_of_samples))\n",
    "        X_test = X_test[sample_indices]; y_test = y_test[sample_indices]\n",
    "        \n",
    "        manager = stepwise_selective_inference(support_size=X_test.shape[1])\n",
    "        M, p_list = manager.inference(X_test, y_test, np.std(y_test))\n",
    "        if false_discovery_control_method is not None:\n",
    "            p_list = stats.false_discovery_control(p_list, method=false_discovery_control_method)\n",
    "        # print(M, p_list, np.array(p_list) < 0.05)\n",
    "        fdrs.append(subset_fdr(p_list))\n",
    "        \n",
    "    fdrs = np.array(fdrs)\n",
    "    if fdrs.mean() < 1:\n",
    "        print(len(bs), fdrs.mean(), stats.wilcoxon(fdrs-max_fdr, alternative='less').pvalue)\n",
    "        fdr_data.append(fdrs)\n",
    "        \n",
    "fdr_data = np.array(fdr_data)"
   ]
  },
  {
   "cell_type": "code",
   "execution_count": 12,
   "id": "aab9247a-ce67-46f3-b351-8cad5267cec5",
   "metadata": {},
   "outputs": [
    {
     "name": "stdout",
     "output_type": "stream",
     "text": [
      "[0 0 0 1]\n",
      "[0 0 0 1]\n"
     ]
    }
   ],
   "source": [
    "from sklearn.cluster import AffinityPropagation, KMeans\n",
    "print(AffinityPropagation().fit(fdr_data).labels_)\n",
    "print(KMeans(n_clusters=2).fit(fdr_data).labels_)\n",
    "# plt.plot([1, 2, 3, 4], fdr_data.mean(axis=-1), 'o'); plt.show()"
   ]
  },
  {
   "cell_type": "code",
   "execution_count": null,
   "id": "999e9407-60ee-4095-828c-b2e5f1c3535f",
   "metadata": {},
   "outputs": [],
   "source": []
  },
  {
   "cell_type": "code",
   "execution_count": null,
   "id": "d201b535-8624-47bb-9722-37f24e9ef5f5",
   "metadata": {},
   "outputs": [],
   "source": []
  }
 ],
 "metadata": {
  "kernelspec": {
   "display_name": "Python [conda env:sindy]",
   "language": "python",
   "name": "conda-env-sindy-py"
  },
  "language_info": {
   "codemirror_mode": {
    "name": "ipython",
    "version": 3
   },
   "file_extension": ".py",
   "mimetype": "text/x-python",
   "name": "python",
   "nbconvert_exporter": "python",
   "pygments_lexer": "ipython3",
   "version": "3.10.13"
  }
 },
 "nbformat": 4,
 "nbformat_minor": 5
}

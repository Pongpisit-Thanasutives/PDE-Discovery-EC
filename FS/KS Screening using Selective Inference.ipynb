{
 "cells": [
  {
   "cell_type": "code",
   "execution_count": 1,
   "id": "6f83239b-bf12-480d-a091-268680d3344a",
   "metadata": {},
   "outputs": [
    {
     "name": "stdout",
     "output_type": "stream",
     "text": [
      "alibi is not installed in the environment.\n"
     ]
    }
   ],
   "source": [
    "%load_ext autoreload\n",
    "%autoreload 2\n",
    "%matplotlib inline\n",
    "import matplotlib.pyplot as plt\n",
    "import scienceplots\n",
    "\n",
    "import time\n",
    "import math\n",
    "import os\n",
    "import sys\n",
    "import random\n",
    "from functools import partial\n",
    "from decimal import Decimal\n",
    "import numpy as np\n",
    "import scipy.io as sio\n",
    "import pysindy as ps\n",
    "from tqdm import trange\n",
    "\n",
    "sys.path.insert(0, '../')\n",
    "from utils import *\n",
    "from solvel0 import solvel0, MIOSR\n",
    "from best_subset import backward_refinement, brute_force_all_subsets\n",
    "from UBIC import *\n",
    "from bayesian_model_evidence import log_evidence\n",
    "\n",
    "from skimage.restoration import estimate_sigma\n",
    "import bm3d\n",
    "from kneed import KneeLocator\n",
    "\n",
    "from sklearn.gaussian_process import GaussianProcessRegressor\n",
    "from sklearn.gaussian_process.kernels import RBF, WhiteKernel\n",
    "\n",
    "from rdata import read_rds\n",
    "from selective_inference import forward_stop_rule\n",
    "\n",
    "from sklearn.preprocessing import StandardScaler\n",
    "from sklearn import covariance\n",
    "from abess import LinearRegression as AbessLinearRegression\n",
    "from knockpy import KnockoffFilter, knockoff_stats, knockoffs\n",
    "from knockpy.utilities import estimate_covariance\n",
    "from scipy import stats\n",
    "from statsmodels.stats.multitest import multipletests\n",
    "from c2st.check import c2st # https://github.com/psteinb/c2st"
   ]
  },
  {
   "cell_type": "code",
   "execution_count": 2,
   "id": "96244a07-bc2f-47f3-8919-fd1ad48354a7",
   "metadata": {},
   "outputs": [],
   "source": [
    "X_pre = np.load(\"../Cache/X_pre_ks_noise50.npy\")\n",
    "y_pre = np.load(\"../Cache/y_pre_ks_noise50.npy\")\n",
    "feature_names = np.load(\"../Cache/feature_names_ks.npy\", allow_pickle=True)\n",
    "fsInf = read_rds(\"../R/R_data/fsInf_screening_ks_noise50.rds\")\n",
    "\n",
    "u_pre = y_pre.copy()"
   ]
  },
  {
   "cell_type": "code",
   "execution_count": 3,
   "id": "93dc47a4-a735-4811-bf69-5d6a21319401",
   "metadata": {},
   "outputs": [
    {
     "data": {
      "text/plain": [
       "array(['x0^3', 'x0_11', 'x0_1111', 'x0_111111', 'x0x0_1', 'x0^5x0_1',\n",
       "       'x0^4x0_11', 'x0^5x0_111', 'x0^6x0_111111'], dtype=object)"
      ]
     },
     "execution_count": 3,
     "metadata": {},
     "output_type": "execute_result"
    }
   ],
   "source": [
    "alpha = 0.01\n",
    "adjusted_pvalues = fsInf.get(\"pv\")\n",
    "stop_step, false_discovery_rates = forward_stop_rule(adjusted_pvalues, alpha)\n",
    "adjusted_pvalues = adjusted_pvalues[:stop_step+1]\n",
    "rejections = np.sort((fsInf.get(\"vars\")-1).astype(np.int32)[:stop_step+1])\n",
    "feature_names[rejections]"
   ]
  },
  {
   "cell_type": "code",
   "execution_count": 4,
   "id": "e1daad6a-3b72-41de-973f-0a7482299969",
   "metadata": {},
   "outputs": [],
   "source": [
    "X_pre_top = X_pre[:, rejections]\n",
    "X_pre_top = X_pre_top/np.linalg.norm(X_pre_top, 2, axis=0)\n",
    "y_pre = u_pre.copy()"
   ]
  },
  {
   "cell_type": "code",
   "execution_count": 5,
   "id": "6d3b61b4-e383-4499-9195-e23d2811c577",
   "metadata": {},
   "outputs": [
    {
     "name": "stderr",
     "output_type": "stream",
     "text": [
      "100%|███████████████████████████████████████████████████████████████████████████████| 8/8 [00:00<00:00, 13.37it/s]\n"
     ]
    }
   ],
   "source": [
    "from mbic import mbic, mbic2, ebic\n",
    "\n",
    "_, best_subsets = brute_force_all_subsets(X_pre_top, y_pre, max_support_size=8)\n",
    "\n",
    "ebics = []\n",
    "mbics = []\n",
    "for _ in best_subsets:\n",
    "    loglik = log_like_value(X_pre_top[:, _]@np.linalg.lstsq(X_pre_top[:, _], y_pre, rcond=None)[0], \n",
    "                            y_pre)\n",
    "    ebics.append(ebic(loglik, len(_), len(y_pre), X_pre_top.shape[-1], const=0))\n",
    "    mbics.append(mbic(loglik, len(_), len(y_pre), X_pre_top.shape[-1], const=2))"
   ]
  },
  {
   "cell_type": "code",
   "execution_count": 6,
   "id": "eeba8735-67c6-4ab6-a678-bed18773ef09",
   "metadata": {},
   "outputs": [],
   "source": [
    "from selective_inference import sfs_si, stepwise_selective_inference, subset_fdr\n",
    "import fpsample\n",
    "from dppy.finite_dpps import FiniteDPP\n",
    "\n",
    "from si4pipeline import (\n",
    "                        construct_pipelines, \n",
    "                        extract_features, \n",
    "                        initialize_dataset, \n",
    "                        intersection, \n",
    "                        lasso, \n",
    "                        marginal_screening, \n",
    "                        stepwise_feature_selection, \n",
    "                        union, \n",
    "                        PipelineManager\n",
    "                        )"
   ]
  },
  {
   "cell_type": "code",
   "execution_count": 7,
   "id": "0e27c59e-f740-4e66-92b7-e927a743b26b",
   "metadata": {},
   "outputs": [
    {
     "name": "stdout",
     "output_type": "stream",
     "text": [
      "0.0 0.0001220703125\n",
      "0.0 0.0001220703125\n",
      "0.0 0.0001220703125\n",
      "0.3654058395575638 1.0\n",
      "1.002600751502223 1.0\n",
      "0.6889086931350413 1.0\n",
      "0.982739178265726 1.0\n",
      "1.1758181509560792 1.0\n"
     ]
    }
   ],
   "source": [
    "np.random.seed(0); random.seed(0)\n",
    "n_samples = 250*(knee_finder(mbics)+1)\n",
    "# max_fdr = 0.2; false_discovery_control_method = 'by'\n",
    "max_fdr = 0.2; false_discovery_control_method = 'bh'\n",
    "# max_fdr = 0.2; false_discovery_control_method =  None\n",
    "for bs in best_subsets:\n",
    "    fdrs = []\n",
    "    for _ in range(len(y_pre)//n_samples):\n",
    "        X_test = X_pre_top[:, bs]\n",
    "        y_test = y_pre.ravel()\n",
    "        \n",
    "        np.random.seed(random.randint(0, 100))\n",
    "        # sample_indices = sorted(set([np.random.randint(len(y_pre)) for _ in range(n_samples)]))\n",
    "        sample_indices = fpsample.bucket_fps_kdline_sampling(X_test, n_samples=n_samples, h=3) # Farthest Point Sampling (FPS) is better!!!\n",
    "        X_test = X_test[sample_indices]; y_test = y_test[sample_indices]\n",
    "        # FPS + k-DPP\n",
    "        DPP = FiniteDPP('likelihood', **{'L': X_test.dot(X_test.T)})\n",
    "        DPP.flush_samples()\n",
    "        for _ in range(n_samples//(len(bs))):\n",
    "            DPP.sample_exact_k_dpp(size=len(bs))\n",
    "        sample_indices = np.unique(np.ravel(DPP.list_of_samples))\n",
    "        X_test = X_test[sample_indices]; y_test = y_test[sample_indices]\n",
    "        \n",
    "        manager = stepwise_selective_inference(support_size=X_test.shape[1])\n",
    "        M, p_list = manager.inference(X_test, y_test, np.std(y_test))\n",
    "        if false_discovery_control_method is not None:\n",
    "            p_list = stats.false_discovery_control(p_list, method=false_discovery_control_method)\n",
    "        # print(M, p_list, np.array(p_list) < 0.05)\n",
    "        fdrs.append(subset_fdr(p_list))\n",
    "        \n",
    "    fdrs = np.array(fdrs)\n",
    "    print(fdrs.mean(), stats.wilcoxon(fdrs-max_fdr, alternative='less').pvalue)"
   ]
  },
  {
   "cell_type": "code",
   "execution_count": null,
   "id": "8eb99aba-3815-4f8c-9033-291a7e35559a",
   "metadata": {},
   "outputs": [],
   "source": []
  },
  {
   "cell_type": "code",
   "execution_count": null,
   "id": "6809a200-5a7a-4729-ab24-9f1135a8324c",
   "metadata": {},
   "outputs": [],
   "source": []
  }
 ],
 "metadata": {
  "kernelspec": {
   "display_name": "Python [conda env:sindy]",
   "language": "python",
   "name": "conda-env-sindy-py"
  },
  "language_info": {
   "codemirror_mode": {
    "name": "ipython",
    "version": 3
   },
   "file_extension": ".py",
   "mimetype": "text/x-python",
   "name": "python",
   "nbconvert_exporter": "python",
   "pygments_lexer": "ipython3",
   "version": "3.10.13"
  }
 },
 "nbformat": 4,
 "nbformat_minor": 5
}

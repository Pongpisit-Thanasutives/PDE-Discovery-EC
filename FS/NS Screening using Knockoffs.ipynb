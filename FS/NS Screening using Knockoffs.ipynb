{
 "cells": [
  {
   "cell_type": "code",
   "execution_count": 1,
   "id": "e8baf9c5-3594-4c54-acba-4643178771e7",
   "metadata": {},
   "outputs": [],
   "source": [
    "%matplotlib inline\n",
    "import matplotlib.pyplot as plt\n",
    "import os\n",
    "import math\n",
    "import random\n",
    "import numpy as np\n",
    "import scipy.io as sio\n",
    "from tqdm import trange\n",
    "import sys; sys.path.insert(0, '../')\n",
    "from selective_inference import forward_stop_rule, sfs_si, stepwise_selective_inference, subset_fdr\n",
    "from sklearn.linear_model import LassoLars, lars_path\n",
    "from abess import LinearRegression\n",
    "from sklearn.preprocessing import StandardScaler\n",
    "from best_subset import brute_force_all_subsets, brute_force\n",
    "# from okridge.solvel0 import okridge_solvel0, okridge_solvel0_full\n",
    "from solvel0 import solvel0\n",
    "import statsmodels.api as sm\n",
    "from scipy import stats\n",
    "import fpsample\n",
    "from dppy.finite_dpps import FiniteDPP\n",
    "from kneefinder import KneeFinder\n",
    "from weakident_python.weakindent_model import weak_ident\n",
    "from skimage.restoration import estimate_sigma\n",
    "import bm3d\n",
    "import pysindy as ps\n",
    "from utils import *\n",
    "from UBIC import *"
   ]
  },
  {
   "cell_type": "code",
   "execution_count": 2,
   "id": "a87a8ec6-1e30-48f6-a1c6-999fd7a74b3d",
   "metadata": {},
   "outputs": [],
   "source": [
    "X_pre = np.load(\"../Cache/X_poly_NS.npy\")\n",
    "y_pre = np.load(\"../Cache/y_poly_NS.npy\")\n",
    "feature_names = np.load(\"../Cache/feature_names_poly_NS.npy\", allow_pickle=True)\n",
    "\n",
    "y_pre = y_pre[:, 0:1]"
   ]
  },
  {
   "cell_type": "markdown",
   "id": "74ee507d-bd5e-4742-9979-7ece7246ba04",
   "metadata": {},
   "source": [
    "### Knockoffs"
   ]
  },
  {
   "cell_type": "code",
   "execution_count": 3,
   "id": "94aeb4e0-eccd-4e9b-8f83-7157e4f0b384",
   "metadata": {},
   "outputs": [
    {
     "name": "stdout",
     "output_type": "stream",
     "text": [
      "alibi is not installed in the environment.\n"
     ]
    }
   ],
   "source": [
    "from hidimstat import (model_x_knockoff, \n",
    "                    model_x_knockoff_pvalue, \n",
    "                    model_x_knockoff_bootstrap_quantile, \n",
    "                    model_x_knockoff_bootstrap_e_value)\n",
    "\n",
    "# selected, test_scores, threshold, X_tildes = model_x_knockoff(X_pre, \n",
    "#                                                               y_pre, \n",
    "#                                                               centered=True, \n",
    "#                                                               n_bootstraps=25, \n",
    "#                                                               fdr=0.1, \n",
    "#                                                               n_jobs=-1)\n",
    "\n",
    "from sklearn.utils import resample\n",
    "from abess import LinearRegression as AbessLinearRegression\n",
    "from knockpy import KnockoffFilter, knockoff_stats, knockoffs\n",
    "from knockpy.utilities import estimate_covariance\n",
    "from scipy import stats\n",
    "from statsmodels.stats.multitest import multipletests\n",
    "from c2st.check import c2st # https://github.com/psteinb/c2st\n",
    "\n",
    "u_pre = y_pre.copy()\n",
    "X_pre_top = StandardScaler().fit_transform(X_pre)\n",
    "y_pre = StandardScaler().fit_transform(u_pre)\n",
    "\n",
    "lr = AbessLinearRegression(path_type='gs', s_max=10, fit_intercept=False, cv=5, screening_size=0)\n",
    "fstat = knockoff_stats.ShapStatistic(model=lr)\n",
    "kfilter = KnockoffFilter(ksampler='gaussian', fstat=fstat, knockoff_kwargs={'method':'ci'})\n",
    "\n",
    "# kfilter = KnockoffFilter(ksampler='gaussian', fstat='lasso', knockoff_kwargs={'method':'ci'})"
   ]
  },
  {
   "cell_type": "code",
   "execution_count": 4,
   "id": "8e6382fa-262f-4642-81ac-c662edb869bc",
   "metadata": {},
   "outputs": [
    {
     "name": "stderr",
     "output_type": "stream",
     "text": [
      "100%|██████████████████████████████████████████████████████████████████| 50/50 [00:22<00:00,  2.20it/s]\n"
     ]
    }
   ],
   "source": [
    "fdr = 1/3 # 1/4, 1/3, 1/2\n",
    "rejections = []\n",
    "test_scores = []\n",
    "thresholds = []\n",
    "for _ in trange(50):\n",
    "    np.random.seed(_)\n",
    "    X_resample, y_resample = resample(X_pre_top, y_pre.flatten(), n_samples=10000, replace=True, random_state=_)\n",
    "    rejection = kfilter.forward(X=X_resample, y=y_resample, fdr=fdr, shrinkage=\"ledoitwolf\", recycle_up_to=0.5, tol=1e-4)\n",
    "    # rejection = kfilter.forward(X=X_pre_top, y=y_pre.flatten(), fdr=fdr, shrinkage=\"ledoitwolf\", recycle_up_to=0.5, tol=1e-4)\n",
    "    rejection = sorted(set(np.where(rejection == 1)[0]))\n",
    "    if len(rejection) > 0:\n",
    "        rejections.append(rejection)\n",
    "        test_scores.append(kfilter.W)\n",
    "        thresholds.append(kfilter.threshold)\n",
    "del X_resample, y_resample"
   ]
  },
  {
   "cell_type": "code",
   "execution_count": 5,
   "id": "5df415bf-4e84-48cd-87ee-1489367a009d",
   "metadata": {},
   "outputs": [
    {
     "name": "stdout",
     "output_type": "stream",
     "text": [
      "['w' 'v' 'w_{xx}' 'w_{yy}' 'ww_{y}' 'uw_{x}' 'uw_{yy}' 'vw_{y}']\n",
      "['w' 'v' 'w_{x}' 'w_{xx}' 'w_{yy}' 'ww_{y}' 'ww_{xx}' 'uw_{x}' 'uw_{xx}'\n",
      " 'uw_{yy}' 'vw_{y}']\n"
     ]
    }
   ],
   "source": [
    "aggregated_ko_selection, _, _ = model_x_knockoff_bootstrap_quantile(test_scores, \n",
    "                                                                    fdr=fdr, \n",
    "                                                                    adaptive_aggregation=False)\n",
    "print(feature_names[aggregated_ko_selection])\n",
    "\n",
    "eval_selection, _, _ = model_x_knockoff_bootstrap_e_value(test_scores, thresholds, fdr=fdr)\n",
    "print(feature_names[eval_selection])"
   ]
  },
  {
   "cell_type": "code",
   "execution_count": 6,
   "id": "63aeb097-60c5-4e03-9027-9c8e83478655",
   "metadata": {},
   "outputs": [],
   "source": [
    "rejections = np.array(eval_selection)\n",
    "X_pre_top = X_pre[:, rejections]"
   ]
  },
  {
   "cell_type": "code",
   "execution_count": 7,
   "id": "99cce3c0-3522-4dd6-af4b-b9a8605e4553",
   "metadata": {},
   "outputs": [
    {
     "name": "stderr",
     "output_type": "stream",
     "text": [
      "LinearExplainer explainer: 8342751it [00:36, 161225.82it/s]                                            \n"
     ]
    },
    {
     "data": {
      "text/plain": [
       "array(['uw_{x}', 'vw_{y}', 'w_{yy}', 'w_{xx}', 'w_{x}', 'w', 'uw_{yy}',\n",
       "       'v'], dtype='<U7')"
      ]
     },
     "execution_count": 7,
     "metadata": {},
     "output_type": "execute_result"
    }
   ],
   "source": [
    "non_null_indices, shap_values = shap_model_selection(X_pre_top, y_pre)\n",
    "scale_shap_values = abs(shap_values).mean(axis=0)\n",
    "rejections = rejections[non_null_indices]\n",
    "X_pre_top = X_pre_top[:, non_null_indices]\n",
    "y_pre = u_pre.copy()\n",
    "feature_names[rejections]"
   ]
  },
  {
   "cell_type": "code",
   "execution_count": 8,
   "id": "bd87754d-cf04-4a1f-b926-3e7448937fba",
   "metadata": {},
   "outputs": [
    {
     "name": "stderr",
     "output_type": "stream",
     "text": [
      "  0%|                                                                            | 0/8 [00:00<?, ?it/s]"
     ]
    },
    {
     "name": "stdout",
     "output_type": "stream",
     "text": [
      "Set parameter Username\n",
      "Academic license - for non-commercial use only - expires 2026-04-04\n"
     ]
    },
    {
     "name": "stderr",
     "output_type": "stream",
     "text": [
      "100%|████████████████████████████████████████████████████████████████████| 8/8 [00:12<00:00,  1.53s/it]\n"
     ]
    }
   ],
   "source": [
    "best_subsets = solvel0(X_pre_top, y_pre.flatten(), max_complexity=8)"
   ]
  },
  {
   "cell_type": "code",
   "execution_count": 9,
   "id": "0e718d5a-aa56-4d3c-9540-13297a2de7eb",
   "metadata": {},
   "outputs": [
    {
     "name": "stdout",
     "output_type": "stream",
     "text": [
      "[7470686.468674479, -8719386.44663852, -18119349.71805418, -20376262.737041958, -20758605.52975359, -20927376.865343284, -21058574.52621897, -21153392.298425823]\n",
      "[3.64343152 1.87341745 1.08312667 1.         1.44953855 2.99155365\n",
      " 3.08361455 4.55120681]\n",
      "threshold: 0.6000000000000001\n",
      "max_lam: 6.106720590157475\n",
      "3 <---> 4 0.018764127536330322\n"
     ]
    },
    {
     "data": {
      "text/plain": [
       "(6.10672059,\n",
       " array([8.17102043e+07, 2.94538598e+07, 3.95072384e+06, 1.86264515e-08,\n",
       "        8.77757288e+06, 4.00293064e+07, 4.17739657e+07, 7.15831933e+07]),\n",
       " 3,\n",
       " 1)"
      ]
     },
     "execution_count": 9,
     "metadata": {},
     "output_type": "execute_result"
    }
   ],
   "source": [
    "tau = 3\n",
    "verbose = True\n",
    "# scale = 1 <- generalized UBIC\n",
    "scale = np.log(len(y_pre))\n",
    "per = 75 # 80\n",
    "\n",
    "post_means, b_bics, b_uns = baye_uncertainties(best_subsets, (X_pre_top, y_pre), \n",
    "                                               u_type='cv1', take_sqrt=True, \n",
    "                                               ridge_lambda=0, \n",
    "                                               threshold=0)\n",
    "# b_uns = ard_uns # USE ard_uns INSTEAD\n",
    "predictions = X_pre_top@post_means\n",
    "print(b_bics)\n",
    "print(b_uns)\n",
    "b_bics = np.array(b_bics)\n",
    "max_complexity = len(b_bics)\n",
    "complexities = np.arange(max_complexity)+1\n",
    "d_complexities = complexities[decreasing_values_indices(b_bics)]\n",
    "d_bics = b_bics[decreasing_values_indices(b_bics)]\n",
    "slopes = np.diff(b_bics)/(np.diff(complexities)*b_bics[:-1])\n",
    "try:\n",
    "    thres = np.percentile(np.abs(np.diff(d_bics)/(np.diff(d_complexities)*d_bics[:-1])), per)\n",
    "    thres = np.round(sci_format(thres)[0])*10**sci_format(thres)[1]\n",
    "except IndexError:\n",
    "    thres = 1/40\n",
    "min_thres = 1/40\n",
    "thres = max(thres, min_thres)\n",
    "print(\"threshold:\", thres)\n",
    "\n",
    "lower_bounds = []\n",
    "for k, efi in enumerate(best_subsets):\n",
    "    # assert len(efi) == np.count_nonzero(post_means[:, k:k+1])\n",
    "    com = len(efi)\n",
    "    lower_bound = 2*np.abs(log_like_value(predictions[:, k:k+1], y_pre))-np.log(len(y_pre))*com\n",
    "    lower_bounds.append(lower_bound)\n",
    "\n",
    "last_lam = np.log10(max(lower_bounds/(b_uns*scale)))\n",
    "print(\"max_lam:\", last_lam)\n",
    "delta = last_lam/tau\n",
    "now_lam = last_lam-delta\n",
    "last_ubic = UBIC(b_bics, b_uns, len(y_pre), hyp=10**last_lam, scale=scale)\n",
    "last_bc = np.argmin(last_ubic)\n",
    "bc_seq = [last_bc]\n",
    "while now_lam >= 0:\n",
    "    now_ubic = UBIC(b_bics, b_uns, len(y_pre), hyp=10**now_lam, scale=scale)\n",
    "    now_bc = np.argmin(now_ubic)\n",
    "    \n",
    "    diff_com = now_bc-last_bc\n",
    "    diff_bic = b_bics[now_bc]-b_bics[last_bc]\n",
    "    imp = np.nan\n",
    "    if diff_com != 0:\n",
    "        imp = abs(diff_bic/(b_bics[last_bc]*diff_com))\n",
    "    \n",
    "    if verbose:\n",
    "        print(min(last_bc, now_bc), '<--->', max(last_bc, now_bc), \n",
    "              np.nan_to_num(imp, nan=np.inf))\n",
    "    \n",
    "    if (diff_com > 0 and (diff_bic > 0 or imp < thres)) or \\\n",
    "        (diff_com < 0 and diff_bic > 0 and imp > thres):\n",
    "        break\n",
    "    \n",
    "    last_lam = now_lam\n",
    "    now_lam = round(last_lam-delta, 8)\n",
    "    last_ubic = now_ubic\n",
    "    last_bc = now_bc\n",
    "    if last_bc not in bc_seq:\n",
    "        bc_seq.append(last_bc)\n",
    "\n",
    "# best_bc = knee(range(len(last_ubic)), last_ubic, 0.95, 'linear', direction='decreasing')\n",
    "best_bc = knee_finder(last_ubic)\n",
    "if best_bc == 0 and last_bc != 0 and b_bics[last_bc] < b_bics[0] and \\\n",
    "                                    abs((b_bics[last_bc]-b_bics[0])/(b_bics[0]*last_bc)) > thres:\n",
    "    best_bc = knee(range(1, len(last_ubic)), last_ubic[1:], 0.95, 'linear')\n",
    "if best_bc is None:\n",
    "    best_bc = knee_finder(last_ubic)\n",
    "    \n",
    "last_lam = round(last_lam, 8)\n",
    "last_lam, last_ubic, last_bc, best_bc"
   ]
  },
  {
   "cell_type": "code",
   "execution_count": 10,
   "id": "64728b1b-6ce8-4a0a-8a01-609e783ceaa6",
   "metadata": {},
   "outputs": [
    {
     "data": {
      "text/plain": [
       "0.668445902801875"
      ]
     },
     "execution_count": 10,
     "metadata": {},
     "output_type": "execute_result"
    }
   ],
   "source": [
    "abs((b_bics[last_bc]-b_bics[best_bc])/(b_bics[best_bc]*(last_bc-best_bc)))"
   ]
  },
  {
   "cell_type": "code",
   "execution_count": 11,
   "id": "180fe403-b00a-4412-b2a5-725d1bd7db59",
   "metadata": {},
   "outputs": [
    {
     "name": "stderr",
     "output_type": "stream",
     "text": [
      "100%|██████████████████████████████████████████████████████████████████| 50/50 [01:07<00:00,  1.35s/it]\n"
     ]
    },
    {
     "name": "stdout",
     "output_type": "stream",
     "text": [
      "1 0.0\n"
     ]
    },
    {
     "name": "stderr",
     "output_type": "stream",
     "text": [
      "100%|██████████████████████████████████████████████████████████████████| 50/50 [01:17<00:00,  1.55s/it]\n"
     ]
    },
    {
     "name": "stdout",
     "output_type": "stream",
     "text": [
      "2 0.0\n"
     ]
    },
    {
     "name": "stderr",
     "output_type": "stream",
     "text": [
      "100%|██████████████████████████████████████████████████████████████████| 50/50 [01:38<00:00,  1.96s/it]\n"
     ]
    },
    {
     "name": "stdout",
     "output_type": "stream",
     "text": [
      "3 0.000554271195338672\n"
     ]
    },
    {
     "name": "stderr",
     "output_type": "stream",
     "text": [
      "100%|██████████████████████████████████████████████████████████████████| 50/50 [01:36<00:00,  1.92s/it]\n"
     ]
    },
    {
     "name": "stdout",
     "output_type": "stream",
     "text": [
      "4 0.05729145796714814\n"
     ]
    },
    {
     "name": "stderr",
     "output_type": "stream",
     "text": [
      "100%|██████████████████████████████████████████████████████████████████| 50/50 [01:44<00:00,  2.10s/it]\n"
     ]
    },
    {
     "name": "stdout",
     "output_type": "stream",
     "text": [
      "5 0.34270588881384206\n"
     ]
    },
    {
     "name": "stderr",
     "output_type": "stream",
     "text": [
      "100%|██████████████████████████████████████████████████████████████████| 50/50 [01:53<00:00,  2.28s/it]\n"
     ]
    },
    {
     "name": "stdout",
     "output_type": "stream",
     "text": [
      "6 0.12672865590114468\n"
     ]
    },
    {
     "name": "stderr",
     "output_type": "stream",
     "text": [
      "100%|██████████████████████████████████████████████████████████████████| 50/50 [01:46<00:00,  2.14s/it]\n"
     ]
    },
    {
     "name": "stdout",
     "output_type": "stream",
     "text": [
      "7 0.29843403583142236\n"
     ]
    },
    {
     "name": "stderr",
     "output_type": "stream",
     "text": [
      "100%|██████████████████████████████████████████████████████████████████| 50/50 [01:59<00:00,  2.40s/it]"
     ]
    },
    {
     "name": "stdout",
     "output_type": "stream",
     "text": [
      "8 0.4581499546466102\n"
     ]
    },
    {
     "name": "stderr",
     "output_type": "stream",
     "text": [
      "\n"
     ]
    }
   ],
   "source": [
    "np.random.seed(0); random.seed(0)\n",
    "n_samples = min(int(250*(last_bc+1)), len(y_pre))\n",
    "max_iters = len(y_pre)//n_samples\n",
    "max_iters = min(max_iters, 50)\n",
    "false_discovery_control_method = None\n",
    "fdr_data = []\n",
    "for bs in best_subsets:\n",
    "    fdrs = []\n",
    "    for _ in trange(max_iters):\n",
    "        X_test = X_pre_top[:, bs]\n",
    "        y_test = y_pre.ravel()\n",
    "        \n",
    "        np.random.seed(random.randint(0, 100))\n",
    "        # sample_indices = sorted(set([np.random.randint(len(y_pre)) for _ in range(n_samples)]))\n",
    "        sample_indices = fpsample.bucket_fps_kdline_sampling(X_test, n_samples=n_samples, h=9) # Farthest Point Sampling (FPS) is better!!!\n",
    "        X_test = X_test[sample_indices]; y_test = y_test[sample_indices]\n",
    "        # FPS + k-DPP\n",
    "        DPP = FiniteDPP('likelihood', **{'L': X_test.dot(X_test.T)})\n",
    "        DPP.flush_samples()\n",
    "        for _ in range(n_samples//(len(bs))):\n",
    "            DPP.sample_exact_k_dpp(size=len(bs))\n",
    "        sample_indices = np.unique(np.ravel(DPP.list_of_samples))\n",
    "        X_test = X_test[sample_indices]; y_test = y_test[sample_indices]\n",
    "        \n",
    "        manager = stepwise_selective_inference(support_size=X_test.shape[1])\n",
    "        M, p_list = manager.inference(X_test, y_test, np.std(y_test))\n",
    "        if false_discovery_control_method is not None:\n",
    "            p_list = stats.false_discovery_control(p_list, method=false_discovery_control_method)\n",
    "        \n",
    "        fdrs.append(subset_fdr(p_list))\n",
    "        \n",
    "    fdrs = np.array(fdrs)\n",
    "    if fdrs.mean() < 1:\n",
    "        print(len(bs), fdrs.mean())\n",
    "        fdr_data.append(fdrs)\n",
    "        \n",
    "fdr_data = np.array(fdr_data)"
   ]
  },
  {
   "cell_type": "code",
   "execution_count": 12,
   "id": "3d925fd9-48f9-4bdf-8ee5-6320f31c04b1",
   "metadata": {},
   "outputs": [
    {
     "name": "stdout",
     "output_type": "stream",
     "text": [
      "[0 0 0 0 1 0 1 2]\n",
      "[0 0 0 0 1 0 1 1]\n"
     ]
    }
   ],
   "source": [
    "from sklearn.cluster import AffinityPropagation, KMeans\n",
    "print(AffinityPropagation().fit(fdr_data).labels_)\n",
    "print(KMeans(n_clusters=2).fit(fdr_data).labels_)"
   ]
  },
  {
   "cell_type": "code",
   "execution_count": null,
   "id": "8bda11cb-3812-44c7-abef-29f4732ec9e3",
   "metadata": {},
   "outputs": [],
   "source": []
  },
  {
   "cell_type": "code",
   "execution_count": null,
   "id": "079125b3-d47c-41e8-bf43-1abb90bd7b15",
   "metadata": {},
   "outputs": [],
   "source": []
  },
  {
   "cell_type": "markdown",
   "id": "b1ab3b09-be3f-4e52-b1ed-31b90c5544d2",
   "metadata": {},
   "source": [
    "### Selective inference"
   ]
  },
  {
   "cell_type": "code",
   "execution_count": 13,
   "id": "c21413a4-4d23-4ed2-8bab-e1483b28c658",
   "metadata": {},
   "outputs": [
    {
     "name": "stdout",
     "output_type": "stream",
     "text": [
      "0.01\n",
      "0.05\n",
      "0.05\n",
      "0.1\n",
      "0.05\n",
      "0.01\n",
      "0.15\n",
      "0.05\n",
      "0.01\n",
      "0.3\n",
      "0.1\n",
      "0.01\n",
      "0.01\n",
      "0.05\n",
      "0.05\n",
      "0.01\n",
      "0.1\n",
      "0.2\n",
      "0.01\n",
      "0.05\n",
      "0.05\n",
      "0.05\n",
      "0.1\n",
      "0.1\n",
      "0.01\n",
      "0.01\n",
      "0.01\n",
      "0.1\n",
      "0.15\n",
      "0.05\n",
      "0.15\n",
      "0.01\n",
      "0.01\n",
      "0.01\n",
      "0.01\n",
      "0.01\n",
      "0.1\n",
      "0.01\n",
      "0.05\n",
      "0.01\n",
      "0.3\n",
      "0.1\n",
      "0.01\n",
      "0.01\n",
      "0.01\n",
      "0.05\n",
      "0.01\n",
      "0.15\n",
      "0.1\n",
      "0.1\n"
     ]
    },
    {
     "data": {
      "text/plain": [
       "0.06419999999999995"
      ]
     },
     "execution_count": 13,
     "metadata": {},
     "output_type": "execute_result"
    }
   ],
   "source": [
    "n_terms = 16\n",
    "max_complexity = 10\n",
    "alphas = [0.3, 0.25, 0.2, 0.15, 0.1, 0.05, 0.01]\n",
    "\n",
    "### OPTION-I ###\n",
    "_, lars_p, _ = lars_path(StandardScaler().fit_transform(X_pre), y_pre.flatten(), method='lasso', alpha_min=1e-6, max_iter=1000)\n",
    "lars_p = np.array(list(map(int, lars_p)))[:n_terms]\n",
    "\n",
    "### OPTION-II ###\n",
    "# nonzero = np.nonzero(AbessLinearRegression(s_min=1, s_max=n_terms, path_type='gs', fit_intercept=False, alpha=1e-9, max_iter=100).fit(X_pre, y_pre.flatten()).coef_)[0]\n",
    "# nonzero = np.nonzero(MIOSR(X_pre, y_pre, alpha=1e-9, non_zero=min(len(nonzero), n_terms)))[0]\n",
    "# _, lars_p, _ = lars_path(StandardScaler().fit_transform(X_pre[:, nonzero]), y_pre.flatten(), method='lasso', alpha_min=0)\n",
    "# lars_p = nonzero[np.array(list(map(int, lars_p)))][:n_terms]\n",
    "\n",
    "np.random.seed(1234)\n",
    "max_fdr = 0\n",
    "for _ in range(50):\n",
    "    sub_indices = sorted(np.random.random_integers(len(y_pre), size=10000))\n",
    "    X_test = X_pre[sub_indices, :][:, lars_p]\n",
    "    y_test = y_pre[sub_indices]\n",
    "    sigma = np.std(y_test-X_test@np.linalg.lstsq(X_test, y_test)[0], ddof=1)\n",
    "    manager = stepwise_selective_inference(support_size=len(lars_p))\n",
    "    _, p_list = manager.inference(X_test, y_test, sigma)\n",
    "    # print(lars_p, p_list, subset_fdr(p_list))\n",
    "    \n",
    "    for alpha in alphas:\n",
    "        adjusted_pvalues = p_list\n",
    "        stop_step, false_discovery_rates = forward_stop_rule(adjusted_pvalues, alpha)\n",
    "        adjusted_pvalues = adjusted_pvalues[:stop_step+1]\n",
    "        rejections = np.sort(lars_p[:stop_step+1])\n",
    "        if len(rejections) <= max_complexity: \n",
    "            break\n",
    "    print(alpha)\n",
    "    max_fdr += alpha\n",
    "\n",
    "max_fdr = max_fdr/50\n",
    "max_fdr"
   ]
  },
  {
   "cell_type": "code",
   "execution_count": null,
   "id": "13472bbe-1331-43de-afca-5587c1d540a7",
   "metadata": {},
   "outputs": [],
   "source": []
  },
  {
   "cell_type": "code",
   "execution_count": null,
   "id": "3fba9480-cfef-42cf-8175-1c69ae5ac065",
   "metadata": {},
   "outputs": [],
   "source": []
  }
 ],
 "metadata": {
  "kernelspec": {
   "display_name": "Python [conda env:sindy]",
   "language": "python",
   "name": "conda-env-sindy-py"
  },
  "language_info": {
   "codemirror_mode": {
    "name": "ipython",
    "version": 3
   },
   "file_extension": ".py",
   "mimetype": "text/x-python",
   "name": "python",
   "nbconvert_exporter": "python",
   "pygments_lexer": "ipython3",
   "version": "3.10.13"
  }
 },
 "nbformat": 4,
 "nbformat_minor": 5
}

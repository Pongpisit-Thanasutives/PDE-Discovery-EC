{
 "cells": [
  {
   "cell_type": "code",
   "execution_count": 1,
   "id": "6f83239b-bf12-480d-a091-268680d3344a",
   "metadata": {},
   "outputs": [
    {
     "name": "stdout",
     "output_type": "stream",
     "text": [
      "alibi is not installed in the environment.\n"
     ]
    }
   ],
   "source": [
    "%load_ext autoreload\n",
    "%autoreload 2\n",
    "%matplotlib inline\n",
    "import matplotlib.pyplot as plt\n",
    "import scienceplots\n",
    "\n",
    "import time\n",
    "import math\n",
    "import os\n",
    "import sys\n",
    "import random\n",
    "from functools import partial\n",
    "from decimal import Decimal\n",
    "import numpy as np\n",
    "import scipy.io as sio\n",
    "import pysindy as ps\n",
    "from tqdm import trange\n",
    "\n",
    "sys.path.insert(0, '../')\n",
    "from utils import *\n",
    "from solvel0 import solvel0, MIOSR\n",
    "from best_subset import backward_refinement, brute_force_all_subsets, brute_force\n",
    "from UBIC import *\n",
    "from bayesian_model_evidence import log_evidence\n",
    "\n",
    "from skimage.restoration import estimate_sigma\n",
    "import bm3d\n",
    "from kneed import KneeLocator\n",
    "\n",
    "from sklearn.gaussian_process import GaussianProcessRegressor\n",
    "from sklearn.gaussian_process.kernels import RBF, WhiteKernel\n",
    "\n",
    "from rdata import read_rds\n",
    "from selective_inference import forward_stop_rule\n",
    "\n",
    "from sklearn.preprocessing import StandardScaler\n",
    "from sklearn import covariance\n",
    "from sklearn.linear_model import lars_path\n",
    "from abess import LinearRegression as AbessLinearRegression\n",
    "from knockpy import KnockoffFilter, knockoff_stats, knockoffs\n",
    "from knockpy.utilities import estimate_covariance\n",
    "from scipy import stats\n",
    "from statsmodels.stats.multitest import multipletests\n",
    "from c2st.check import c2st # https://github.com/psteinb/c2st\n",
    "\n",
    "from mbic import mbic, mbic2, ebic\n",
    "\n",
    "from rdata import read_rds\n",
    "from selective_inference import forward_stop_rule, sfs_si, stepwise_selective_inference, subset_fdr\n",
    "import fpsample\n",
    "from dppy.finite_dpps import FiniteDPP\n",
    "\n",
    "from si4pipeline import (\n",
    "                        construct_pipelines, \n",
    "                        extract_features, \n",
    "                        initialize_dataset, \n",
    "                        intersection, \n",
    "                        lasso, \n",
    "                        marginal_screening, \n",
    "                        stepwise_feature_selection, \n",
    "                        union, \n",
    "                        PipelineManager\n",
    "                        )"
   ]
  },
  {
   "cell_type": "code",
   "execution_count": 2,
   "id": "96244a07-bc2f-47f3-8919-fd1ad48354a7",
   "metadata": {},
   "outputs": [],
   "source": [
    "target_name = 'v'\n",
    "X_pre = np.load(\"../Cache/X_pre_RD_2025.npy\")\n",
    "y_pre = np.load(\"../Cache/y_pre_RD_2025.npy\")\n",
    "uv_pre = y_pre.copy()\n",
    "if target_name == 'u':\n",
    "    y_pre = y_pre[:, 0:1]\n",
    "elif target_name == 'v':\n",
    "    y_pre = y_pre[:, 1:2]\n",
    "else:\n",
    "    raise ValueError(\"target_name is either 'u' or 'v'.\")\n",
    "feature_names = np.load(\"../Cache/feature_names_RD_2025.npy\", allow_pickle=True)\n",
    "# R\n",
    "fsInf = read_rds(f\"../R/R_data/fsInf_screening_RD_{target_name}.rds\")"
   ]
  },
  {
   "cell_type": "markdown",
   "id": "7f685491-c630-4b4f-b3ca-84a869299a23",
   "metadata": {},
   "source": [
    "### Knockoffs"
   ]
  },
  {
   "cell_type": "code",
   "execution_count": 3,
   "id": "d5511618-bcfd-4696-9eeb-1e82813038f9",
   "metadata": {},
   "outputs": [],
   "source": [
    "from hidimstat import (model_x_knockoff, \n",
    "                    model_x_knockoff_pvalue, \n",
    "                    model_x_knockoff_bootstrap_quantile, \n",
    "                    model_x_knockoff_bootstrap_e_value)\n",
    "\n",
    "from sklearn.preprocessing import StandardScaler\n",
    "from sklearn import covariance\n",
    "from abess import LinearRegression as AbessLinearRegression\n",
    "from knockpy import KnockoffFilter, knockoff_stats, knockoffs\n",
    "from knockpy.utilities import estimate_covariance\n",
    "from scipy import stats\n",
    "from statsmodels.stats.multitest import multipletests\n",
    "from c2st.check import c2st # https://github.com/psteinb/c2st\n",
    "\n",
    "X_scale = StandardScaler().fit_transform(X_pre)\n",
    "X_pre_top = X_scale.copy()\n",
    "y_pre = StandardScaler().fit_transform(uv_pre)\n",
    "if target_name == 'u':\n",
    "    y_pre = y_pre[:, 0:1]\n",
    "elif target_name == 'v':\n",
    "    y_pre = y_pre[:, 1:2]\n",
    "    \n",
    "lr = AbessLinearRegression(path_type='gs', s_max=12, fit_intercept=False, cv=5, screening_size=0)\n",
    "fstat = knockoff_stats.ShapStatistic(model=lr)\n",
    "kfilter = KnockoffFilter(ksampler='gaussian', fstat=fstat, knockoff_kwargs={'method':'ci'}) # sdp, ci\n",
    "# kfilter = KnockoffFilter(ksampler='gaussian', fstat='lasso', knockoff_kwargs={'method':'ci'})"
   ]
  },
  {
   "cell_type": "code",
   "execution_count": 4,
   "id": "3cbd230d-c724-47fa-a599-d49f4d0cb699",
   "metadata": {},
   "outputs": [
    {
     "name": "stderr",
     "output_type": "stream",
     "text": [
      "100%|████████████████████████████████████████████████████████████████████████████████████████| 50/50 [00:22<00:00,  2.19it/s]\n"
     ]
    }
   ],
   "source": [
    "fdr = 1/3\n",
    "rejections = []\n",
    "test_scores = []\n",
    "thresholds = []\n",
    "for _ in trange(50):\n",
    "    # tol = 1e-2, 1e-3, 1e-4\n",
    "    rejection = kfilter.forward(X=X_pre_top, y=y_pre.flatten(), fdr=fdr, shrinkage=\"ledoitwolf\", recycle_up_to=0.5, tol=1e-4)\n",
    "    rejection = sorted(set(np.where(rejection == 1)[0]))\n",
    "    if len(rejection) > 0:\n",
    "        rejections.append(rejection)\n",
    "        test_scores.append(kfilter.W)\n",
    "        thresholds.append(kfilter.threshold)"
   ]
  },
  {
   "cell_type": "code",
   "execution_count": 5,
   "id": "6c94a606-eb0c-4dba-b1b4-dc5a6e074cc6",
   "metadata": {},
   "outputs": [
    {
     "name": "stdout",
     "output_type": "stream",
     "text": [
      "['x0' 'x1' 'x0^3' 'x0 x1^2' 'x0_22' 'x1_22' 'x0_11' 'x1_11']\n",
      "['x0' 'x1' 'x0^3' 'x0^2 x1' 'x0 x1^2' 'x1^3' 'x0_22' 'x1_22' 'x0_11'\n",
      " 'x1_11']\n"
     ]
    }
   ],
   "source": [
    "aggregated_ko_selection, _, _ = model_x_knockoff_bootstrap_quantile(test_scores, \n",
    "                                                                    fdr=fdr, \n",
    "                                                                    adaptive_aggregation=False)\n",
    "print(feature_names[aggregated_ko_selection])\n",
    "\n",
    "eval_selection, _, _ = model_x_knockoff_bootstrap_e_value(test_scores, thresholds, fdr=fdr)\n",
    "print(feature_names[eval_selection])"
   ]
  },
  {
   "cell_type": "code",
   "execution_count": 6,
   "id": "0e5674b6-897b-4d40-8da1-21463c30f3f1",
   "metadata": {},
   "outputs": [],
   "source": [
    "rejections = eval_selection\n",
    "X_pre_top = X_pre_top[:, rejections]"
   ]
  },
  {
   "cell_type": "code",
   "execution_count": 7,
   "id": "7afe2675-0705-4628-9d8c-03715ad11d8a",
   "metadata": {},
   "outputs": [
    {
     "name": "stdout",
     "output_type": "stream",
     "text": [
      "[0.97725411 0.61266859 0.59749024 0.26961704 0.25873266 0.05638293\n",
      " 0.05567134 0.03732713]\n",
      "[ 1  8  5  6  7 12 18  0]\n"
     ]
    },
    {
     "name": "stderr",
     "output_type": "stream",
     "text": [
      "100%|████████████████████████████████████████████████████████████████████████████████████████| 50/50 [00:16<00:00,  3.11it/s]\n"
     ]
    },
    {
     "name": "stdout",
     "output_type": "stream",
     "text": [
      "binary classifier's acc: 0.5488254226885994\n",
      "P-value: 2.1092049715512695e-10\n"
     ]
    },
    {
     "name": "stderr",
     "output_type": "stream",
     "text": [
      "100%|████████████████████████████████████████████████████████████████████████████████████████| 50/50 [00:15<00:00,  3.17it/s]\n"
     ]
    },
    {
     "name": "stdout",
     "output_type": "stream",
     "text": [
      "binary classifier's acc: 0.6509722135507708\n",
      "P-value: 3.003088303983028e-10\n"
     ]
    },
    {
     "name": "stderr",
     "output_type": "stream",
     "text": [
      "100%|████████████████████████████████████████████████████████████████████████████████████████| 50/50 [00:16<00:00,  2.99it/s]\n"
     ]
    },
    {
     "name": "stdout",
     "output_type": "stream",
     "text": [
      "binary classifier's acc: 0.7529256636372242\n",
      "P-value: 3.728357464886364e-10\n"
     ]
    },
    {
     "name": "stderr",
     "output_type": "stream",
     "text": [
      "100%|████████████████████████████████████████████████████████████████████████████████████████| 50/50 [00:14<00:00,  3.41it/s]\n"
     ]
    },
    {
     "name": "stdout",
     "output_type": "stream",
     "text": [
      "binary classifier's acc: 0.5511074045986387\n",
      "P-value: 4.157860613279539e-12\n"
     ]
    },
    {
     "name": "stderr",
     "output_type": "stream",
     "text": [
      "100%|████████████████████████████████████████████████████████████████████████████████████████| 50/50 [00:16<00:00,  2.99it/s]\n"
     ]
    },
    {
     "name": "stdout",
     "output_type": "stream",
     "text": [
      "binary classifier's acc: 0.5529451967231706\n",
      "P-value: 2.8500802758204968e-11\n"
     ]
    },
    {
     "data": {
      "text/plain": [
       "array(['x0', 'x1', 'x0^3', 'x0^2 x1', 'x0 x1^2', 'x1^3', 'x1_22', 'x1_11'],\n",
       "      dtype='<U7')"
      ]
     },
     "execution_count": 7,
     "metadata": {},
     "output_type": "execute_result"
    }
   ],
   "source": [
    "alpha = 0.05\n",
    "classifier_threshold = 0.5\n",
    "while True:\n",
    "    non_null_indices, shap_values = shap_model_selection(X_pre_top, y_pre)\n",
    "    scale_shap_values = abs(shap_values).mean(axis=0)\n",
    "    rejections = rejections[non_null_indices]\n",
    "    X_pre_top = X_pre_top[:, non_null_indices]\n",
    "    # stop = -1\n",
    "    stop = knee_finder(-np.cumsum(scale_shap_values))\n",
    "    print(scale_shap_values)\n",
    "    print(rejections)\n",
    "\n",
    "    decision = True\n",
    "    Sigma, invSigma = estimate_covariance(X_pre_top, 1e-3, \"graphicallasso\")\n",
    "    for j in range(len(rejections)-1, stop, -1):\n",
    "        classifier_confidences = []\n",
    "        for _ in trange(50):\n",
    "            Xk = knockoffs.GaussianSampler(X_pre_top, Sigma=Sigma, invSigma=invSigma, \n",
    "                                           method='ci').sample_knockoffs()\n",
    "            Xn = X_pre_top.copy()\n",
    "            Xn[:, j] = Xk[:, j]\n",
    "            \n",
    "            swap_explainer = shap.explainers.Linear(linear_model.LinearRegression(fit_intercept=False).fit(Xn, y_pre),\n",
    "                                                    Xn)\n",
    "            swap_shap_values = swap_explainer(Xn).values\n",
    "            \n",
    "            classifier_confidences.append(c2st(shap_values[:, j:j+1], swap_shap_values[:, j:j+1], clf=linear_model.LogisticRegression()))\n",
    "    \n",
    "        classifier_confidences = np.array(classifier_confidences)\n",
    "        pv = stats.wilcoxon(classifier_confidences-classifier_threshold, alternative='greater').pvalue\n",
    "        \n",
    "        print(\"binary classifier's acc:\", classifier_confidences.mean())\n",
    "        print(\"P-value:\", pv)\n",
    "    \n",
    "        if not pv < alpha:\n",
    "            decision = False\n",
    "            break\n",
    "\n",
    "    if not decision:\n",
    "        # non_null_indices = list(solvel0(X_pre_top, y_pre, max_complexity=len(rejections)-1, miosr=True, refine=True)[-1])\n",
    "        non_null_indices = np.nonzero(brute_force(X_pre_top, y_pre, support_size=len(rejections)-1))[0]\n",
    "        rejections = rejections[non_null_indices]\n",
    "        X_pre_top = X_pre_top[:, non_null_indices]\n",
    "    else:\n",
    "        break\n",
    "\n",
    "# Optional\n",
    "nonzero_miosr = np.array([], dtype=np.int32)\n",
    "for _ in range(len(rejections)):\n",
    "    # nonzero_miosr = np.union1d(nonzero_miosr, np.nonzero(MIOSR(X_pre, y_pre, len(rejections)-_))[0])\n",
    "    nonzero_miosr = np.union1d(nonzero_miosr, np.nonzero(brute_force(X_pre, y_pre, len(rejections)-_))[0])\n",
    "rejections = np.intersect1d(rejections, nonzero_miosr)\n",
    "feature_names[rejections]"
   ]
  },
  {
   "cell_type": "code",
   "execution_count": 8,
   "id": "085e881f-13cc-4d74-bf70-f9235cfb539a",
   "metadata": {},
   "outputs": [],
   "source": [
    "X_pre_top = X_pre[:, rejections]\n",
    "X_pre_top = X_pre_top/np.linalg.norm(X_pre_top, 2, axis=0)\n",
    "if target_name == 'u':\n",
    "    y_pre = uv_pre[:, 0:1]\n",
    "elif target_name == 'v':\n",
    "    y_pre = uv_pre[:, 1:2]"
   ]
  },
  {
   "cell_type": "code",
   "execution_count": 9,
   "id": "272506c3-d613-43dd-88a6-a7aca5aec815",
   "metadata": {},
   "outputs": [
    {
     "name": "stderr",
     "output_type": "stream",
     "text": [
      "100%|██████████████████████████████████████████████████████████████████████████████████████████| 8/8 [00:00<00:00, 48.24it/s]\n"
     ]
    }
   ],
   "source": [
    "best_subsets = brute_force_all_subsets(X_pre_top, y_pre)[1]"
   ]
  },
  {
   "cell_type": "code",
   "execution_count": 10,
   "id": "a16e7275-fe9a-412b-9dd3-8f7e2aba9fdf",
   "metadata": {},
   "outputs": [
    {
     "name": "stdout",
     "output_type": "stream",
     "text": [
      "[-82424.56444233154, -83223.74344293166, -83766.01017868519, -86940.29390519515, -86953.56063221229, -90392.56639130309, -110009.03770778485, -110038.4104989222]\n",
      "[ 1.          1.90788412  3.5429682   4.7760623  10.14795121 27.35416168\n",
      "  6.42987821 17.03853747]\n",
      "threshold: 0.04\n",
      "max_lam: 3.95178098084337\n",
      "0 <---> 6 0.055777209646348476\n",
      "6 <---> 6 inf\n",
      "6 <---> 6 inf\n"
     ]
    },
    {
     "data": {
      "text/plain": [
       "(0.0,\n",
       " array([ -82415.35410196,  -83206.17118078,  -83733.37823568,\n",
       "         -86896.30474579,  -86860.09454751,  -90140.62525164,\n",
       "        -109949.81634096, -109881.47976935]),\n",
       " 6,\n",
       " 6)"
      ]
     },
     "execution_count": 10,
     "metadata": {},
     "output_type": "execute_result"
    }
   ],
   "source": [
    "tau = 3\n",
    "verbose = True\n",
    "# scale = 1 <- generalized UBIC\n",
    "scale = np.log(len(y_pre))\n",
    "per = 75 # 80\n",
    "\n",
    "post_means, b_bics, b_uns = baye_uncertainties(best_subsets, (X_pre_top, y_pre), \n",
    "                                               u_type='cv1', take_sqrt=True, \n",
    "                                               ridge_lambda=0, \n",
    "                                               threshold=0)\n",
    "# b_uns = ard_uns # USE ard_uns INSTEAD\n",
    "predictions = X_pre_top@post_means\n",
    "print(b_bics)\n",
    "print(b_uns)\n",
    "b_bics = np.array(b_bics)\n",
    "max_complexity = len(b_bics)\n",
    "complexities = np.arange(max_complexity)+1\n",
    "d_complexities = complexities[decreasing_values_indices(b_bics)]\n",
    "d_bics = b_bics[decreasing_values_indices(b_bics)]\n",
    "slopes = np.diff(d_bics)/(np.diff(d_complexities)*d_bics[:-1])\n",
    "try:\n",
    "    thres = np.percentile(np.abs(slopes), per)\n",
    "    thres = math.ceil(sci_format(thres)[0])*10**sci_format(thres)[1]\n",
    "except IndexError:\n",
    "    thres = 1/40\n",
    "min_thres = 1/40\n",
    "max_thres = 1/10\n",
    "thres = min(max(thres, min_thres), max_thres)\n",
    "print(\"threshold:\", thres)\n",
    "\n",
    "lower_bounds = []\n",
    "for k, efi in enumerate(best_subsets):\n",
    "    # assert len(efi) == np.count_nonzero(post_means[:, k:k+1])\n",
    "    com = len(efi)\n",
    "    lower_bound = 2*np.abs(log_like_value(predictions[:, k:k+1], y_pre))-np.log(len(y_pre))*com\n",
    "    lower_bounds.append(lower_bound)\n",
    "\n",
    "last_lam = np.log10(max(lower_bounds/(b_uns*scale)))\n",
    "print(\"max_lam:\", last_lam)\n",
    "delta = last_lam/tau\n",
    "now_lam = last_lam-delta\n",
    "last_ubic = UBIC(b_bics, b_uns, len(y_pre), hyp=10**last_lam, scale=scale)\n",
    "last_bc = np.argmin(last_ubic)\n",
    "bc_seq = [last_bc]\n",
    "while now_lam >= 0:\n",
    "    now_ubic = UBIC(b_bics, b_uns, len(y_pre), hyp=10**now_lam, scale=scale)\n",
    "    now_bc = np.argmin(now_ubic)\n",
    "    \n",
    "    diff_com = now_bc-last_bc\n",
    "    diff_bic = b_bics[now_bc]-b_bics[last_bc]\n",
    "    imp = np.nan\n",
    "    if diff_com != 0:\n",
    "        imp = abs(diff_bic/(b_bics[last_bc]*diff_com))\n",
    "    \n",
    "    if verbose:\n",
    "        print(min(last_bc, now_bc), '<--->', max(last_bc, now_bc), \n",
    "              np.nan_to_num(imp, nan=np.inf))\n",
    "    \n",
    "    if (diff_com > 0 and (diff_bic > 0 or imp < thres)) or \\\n",
    "        (diff_com < 0 and diff_bic > 0 and imp > thres):\n",
    "        break\n",
    "    \n",
    "    last_lam = now_lam\n",
    "    now_lam = round(last_lam-delta, 8)\n",
    "    last_ubic = now_ubic\n",
    "    last_bc = now_bc\n",
    "    if last_bc not in bc_seq:\n",
    "        bc_seq.append(last_bc)\n",
    "\n",
    "# best_bc = knee(range(len(last_ubic)), last_ubic, 0.95, 'linear', direction='decreasing')\n",
    "best_bc = knee_finder(last_ubic)\n",
    "if best_bc == 0 and last_bc != 0 and b_bics[last_bc] < b_bics[0] and \\\n",
    "                                    abs((b_bics[last_bc]-b_bics[0])/(b_bics[0]*last_bc)) > thres:\n",
    "    best_bc = knee(range(1, len(last_ubic)), last_ubic[1:], 0.95, 'linear')\n",
    "if best_bc < last_bc and abs((b_bics[last_bc]-b_bics[best_bc])/(b_bics[best_bc]*(last_bc-best_bc))) > thres:\n",
    "    best_bc = last_bc\n",
    "    \n",
    "last_lam = round(last_lam, 8)\n",
    "last_lam, last_ubic, last_bc, best_bc"
   ]
  },
  {
   "cell_type": "code",
   "execution_count": 11,
   "id": "77c76c81-8a68-41bb-8561-666b804249fe",
   "metadata": {},
   "outputs": [
    {
     "data": {
      "image/png": "[encoded data removed]",
      "text/plain": [
       "<Figure size 400x300 with 1 Axes>"
      ]
     },
     "metadata": {},
     "output_type": "display_data"
    }
   ],
   "source": [
    "fig, ax = plt.subplots(figsize=(4, 3))\n",
    "ax.plot([len(bs) for bs in best_subsets], last_ubic, '-o', c='black')\n",
    "plt.show()"
   ]
  },
  {
   "cell_type": "code",
   "execution_count": null,
   "id": "c84a31a5-1c42-4c17-9b31-178bd51530ef",
   "metadata": {},
   "outputs": [],
   "source": []
  },
  {
   "cell_type": "code",
   "execution_count": null,
   "id": "531e3627-9cc3-4fae-ad8b-4e82b540c4de",
   "metadata": {},
   "outputs": [],
   "source": []
  },
  {
   "cell_type": "markdown",
   "id": "b00cec3d-296e-42bf-8b07-2b8139133252",
   "metadata": {},
   "source": [
    "### Selective inference"
   ]
  },
  {
   "cell_type": "markdown",
   "id": "8f44590f-9424-41fe-a1ef-8df851db5bc6",
   "metadata": {},
   "source": [
    "### Python"
   ]
  },
  {
   "cell_type": "code",
   "execution_count": 3,
   "id": "416dd414-8d40-48e7-8672-187a706b0a50",
   "metadata": {},
   "outputs": [
    {
     "name": "stdout",
     "output_type": "stream",
     "text": [
      "Set parameter Username\n",
      "Academic license - for non-commercial use only - expires 2026-04-04\n",
      "[ 0 12 18  1  5  7  6  8 17 11] [0.0, 0.0, 0.0, 0.0, 0.0, 0.0, 0.0, 0.0, 3.9940661888948625e-10, 6.049417633491316e-10] 1.004348382501358e-10\n"
     ]
    },
    {
     "data": {
      "text/plain": [
       "(0.3,\n",
       " array(['x0', 'x1', 'x0^3', 'x0^2 x1', 'x0 x1^2', 'x1^3', 'x0_22', 'x1_22',\n",
       "        'x0_11', 'x1_11'], dtype='<U7'))"
      ]
     },
     "execution_count": 3,
     "metadata": {},
     "output_type": "execute_result"
    }
   ],
   "source": [
    "n_terms = 16\n",
    "max_complexity = 12\n",
    "alphas = [0.3, 0.25, 0.2, 0.15, 0.1, 0.05, 0.01]\n",
    "\n",
    "# _, lars_p, _ = lars_path(StandardScaler().fit_transform(X_pre), y_pre.flatten(), method='lasso', alpha_min=1e-6, max_iter=1000)\n",
    "# lars_p = np.array(list(map(int, lars_p)))[:n_terms]\n",
    "\n",
    "nonzero = np.nonzero(AbessLinearRegression(s_min=1, path_type='gs', fit_intercept=False, alpha=1e-9, max_iter=100).fit(X_pre, y_pre.flatten()).coef_)[0]\n",
    "nonzero = np.nonzero(MIOSR(X_pre, y_pre, alpha=1e-9, non_zero=min(len(nonzero), n_terms)))[0]\n",
    "_, lars_p, _ = lars_path(StandardScaler().fit_transform(X_pre[:, nonzero]), y_pre.flatten(), method='lasso', alpha_min=0)\n",
    "lars_p = nonzero[np.array(list(map(int, lars_p)))][:n_terms]\n",
    "\n",
    "X_test = X_pre[:, lars_p]\n",
    "sigma = np.std(y_pre-X_test@np.linalg.lstsq(X_test, y_pre)[0], ddof=1)\n",
    "manager = stepwise_selective_inference(support_size=len(lars_p))\n",
    "_, p_list = manager.inference(X_test, y_pre, sigma)\n",
    "print(lars_p, p_list, subset_fdr(p_list))\n",
    "\n",
    "for alpha in alphas:\n",
    "    adjusted_pvalues = p_list\n",
    "    stop_step, false_discovery_rates = forward_stop_rule(adjusted_pvalues, alpha)\n",
    "    adjusted_pvalues = adjusted_pvalues[:stop_step+1]\n",
    "    rejections = np.sort(lars_p[:stop_step+1])\n",
    "    if len(rejections) <= max_complexity: \n",
    "        break\n",
    "max_fdr = alpha\n",
    "max_fdr, feature_names[rejections]"
   ]
  },
  {
   "cell_type": "markdown",
   "id": "e18fb533-3ee7-403c-8b5c-0894827389ac",
   "metadata": {},
   "source": [
    "### R"
   ]
  },
  {
   "cell_type": "code",
   "execution_count": 4,
   "id": "93dc47a4-a735-4811-bf69-5d6a21319401",
   "metadata": {},
   "outputs": [],
   "source": [
    "# max_complexity = 12\n",
    "# alphas = [0.3, 0.2, 0.1, 0.05, 0.01]\n",
    "# for alpha in alphas:\n",
    "#     adjusted_pvalues = fsInf.get(\"pv\")\n",
    "#     stop_step, false_discovery_rates = forward_stop_rule(adjusted_pvalues, alpha)\n",
    "#     adjusted_pvalues = adjusted_pvalues[:stop_step+1]\n",
    "#     rejections = np.sort((fsInf.get(\"vars\")-1).astype(np.int32)[:stop_step+1])\n",
    "#     if len(rejections) <= max_complexity:\n",
    "#         break\n",
    "# max_fdr = alpha\n",
    "# feature_names[rejections]"
   ]
  },
  {
   "cell_type": "code",
   "execution_count": 5,
   "id": "e1daad6a-3b72-41de-973f-0a7482299969",
   "metadata": {},
   "outputs": [],
   "source": [
    "X_pre_top = X_pre[:, rejections]\n",
    "X_pre_top = X_pre_top/np.linalg.norm(X_pre_top, 2, axis=0)"
   ]
  },
  {
   "cell_type": "code",
   "execution_count": 6,
   "id": "6d3b61b4-e383-4499-9195-e23d2811c577",
   "metadata": {},
   "outputs": [
    {
     "name": "stderr",
     "output_type": "stream",
     "text": [
      "100%|██████████████████████████████████████████████████████████████████| 8/8 [00:00<00:00, 11.74it/s]\n"
     ]
    }
   ],
   "source": [
    "_, best_subsets = brute_force_all_subsets(X_pre_top, y_pre, max_support_size=8)\n",
    "ebics = []\n",
    "mbics = []\n",
    "for _ in best_subsets:\n",
    "    loglik = log_like_value(X_pre_top[:, _]@np.linalg.lstsq(X_pre_top[:, _], y_pre, rcond=None)[0], \n",
    "                            y_pre)\n",
    "    ebics.append(ebic(loglik, len(_), len(y_pre), X_pre_top.shape[-1], const=0))\n",
    "    mbics.append(mbic(loglik, len(_), len(y_pre), X_pre_top.shape[-1], const=2))\n",
    "ebics = np.array(ebics)\n",
    "mbics = np.array(mbics)"
   ]
  },
  {
   "cell_type": "code",
   "execution_count": 7,
   "id": "31d1e746-8c23-48c6-9f3f-9720f31bc229",
   "metadata": {},
   "outputs": [
    {
     "data": {
      "text/plain": [
       "7"
      ]
     },
     "execution_count": 7,
     "metadata": {},
     "output_type": "execute_result"
    }
   ],
   "source": [
    "complexities = np.array([len(_) for _ in best_subsets])\n",
    "complexities = complexities[decreasing_values_indices(mbics)]\n",
    "mbics = mbics[decreasing_values_indices(mbics)]\n",
    "if np.alltrue(np.array(mbics) >= np.array([max(mbics)+_*(min(mbics)-max(mbics))/(np.argmin(mbics)-np.argmax(mbics)) for _ in range(len(complexities))])):\n",
    "    knee = complexities.max()\n",
    "else:\n",
    "    decreasing_indices = np.array(mbics) <= np.array([max(mbics)+_*(min(mbics)-max(mbics))/(np.argmin(mbics)-np.argmax(mbics)) for _ in range(len(complexities))])\n",
    "    knee = knee_finder(mbics[decreasing_indices])\n",
    "    knee = (complexities[decreasing_indices])[knee]\n",
    "knee"
   ]
  },
  {
   "cell_type": "code",
   "execution_count": 8,
   "id": "0e27c59e-f740-4e66-92b7-e927a743b26b",
   "metadata": {},
   "outputs": [
    {
     "name": "stdout",
     "output_type": "stream",
     "text": [
      "1 0.0 0.03125\n",
      "2 0.3699443702239003 1.0\n",
      "3 0.7446585024217492 1.0\n",
      "4 0.6162490130062268 1.0\n",
      "5 0.9776028001536059 1.0\n",
      "6 0.5957461175365333 1.0\n",
      "7 0.02456466915205521 0.03125\n",
      "8 0.9348642616325978 1.0\n"
     ]
    }
   ],
   "source": [
    "np.random.seed(0); random.seed(0)\n",
    "n_samples = min(int(250*knee), len(y_pre))\n",
    "false_discovery_control_method = 'bh'\n",
    "fdr_data = []\n",
    "for bs in best_subsets:\n",
    "    fdrs = []\n",
    "    for _ in range(len(y_pre)//n_samples):\n",
    "        X_test = X_pre_top[:, bs]\n",
    "        y_test = y_pre.ravel()\n",
    "        \n",
    "        np.random.seed(random.randint(0, 100))\n",
    "        # sample_indices = sorted(set([np.random.randint(len(y_pre)) for _ in range(n_samples)]))\n",
    "        sample_indices = fpsample.bucket_fps_kdline_sampling(X_test, n_samples=n_samples, h=3) # Farthest Point Sampling (FPS) is better!!!\n",
    "        X_test = X_test[sample_indices]; y_test = y_test[sample_indices]\n",
    "        # FPS + k-DPP\n",
    "        DPP = FiniteDPP('likelihood', **{'L': X_test.dot(X_test.T)})\n",
    "        DPP.flush_samples()\n",
    "        for _ in range(n_samples//(len(bs))):\n",
    "            DPP.sample_exact_k_dpp(size=len(bs))\n",
    "        sample_indices = np.unique(np.ravel(DPP.list_of_samples))\n",
    "        X_test = X_test[sample_indices]; y_test = y_test[sample_indices]\n",
    "        \n",
    "        manager = stepwise_selective_inference(support_size=X_test.shape[1])\n",
    "        M, p_list = manager.inference(X_test, y_test, np.std(y_test))\n",
    "        if false_discovery_control_method is not None:\n",
    "            p_list = stats.false_discovery_control(p_list, method=false_discovery_control_method)\n",
    "        # print(M, p_list, np.array(p_list) < 0.05)\n",
    "        fdrs.append(subset_fdr(p_list))\n",
    "        \n",
    "    fdrs = np.array(fdrs)\n",
    "    if fdrs.mean() < 1:\n",
    "        print(len(bs), fdrs.mean(), stats.wilcoxon(fdrs-max_fdr, alternative='less').pvalue)\n",
    "        fdr_data.append(fdrs)\n",
    "        \n",
    "fdr_data = np.array(fdr_data)"
   ]
  },
  {
   "cell_type": "code",
   "execution_count": 9,
   "id": "8eb99aba-3815-4f8c-9033-291a7e35559a",
   "metadata": {},
   "outputs": [
    {
     "data": {
      "image/png": "[encoded data removed]",
      "text/plain": [
       "<Figure size 640x480 with 1 Axes>"
      ]
     },
     "metadata": {},
     "output_type": "display_data"
    }
   ],
   "source": [
    "plt.plot(mbics); plt.show()"
   ]
  },
  {
   "cell_type": "code",
   "execution_count": 10,
   "id": "f0d069aa-cbad-4e9c-955a-8a08c3ff3f33",
   "metadata": {},
   "outputs": [
    {
     "name": "stdout",
     "output_type": "stream",
     "text": [
      "[0 2 2 2 1 2 0 1]\n",
      "[1 0 0 0 0 0 1 0]\n"
     ]
    }
   ],
   "source": [
    "from sklearn.cluster import AffinityPropagation, KMeans\n",
    "print(AffinityPropagation().fit(fdr_data).labels_)\n",
    "print(KMeans(n_clusters=2).fit(fdr_data).labels_)\n",
    "# plt.plot([1, 2, 3, 4], fdr_data.mean(axis=-1), 'o'); plt.show()"
   ]
  },
  {
   "cell_type": "code",
   "execution_count": null,
   "id": "81e5df2e-01cb-4807-bff8-1e015af4ba0d",
   "metadata": {},
   "outputs": [],
   "source": []
  },
  {
   "cell_type": "code",
   "execution_count": null,
   "id": "afdac2d0-c808-4d69-a135-b6e2ec133686",
   "metadata": {},
   "outputs": [],
   "source": []
  }
 ],
 "metadata": {
  "kernelspec": {
   "display_name": "Python [conda env:sindy]",
   "language": "python",
   "name": "conda-env-sindy-py"
  },
  "language_info": {
   "codemirror_mode": {
    "name": "ipython",
    "version": 3
   },
   "file_extension": ".py",
   "mimetype": "text/x-python",
   "name": "python",
   "nbconvert_exporter": "python",
   "pygments_lexer": "ipython3",
   "version": "3.10.13"
  }
 },
 "nbformat": 4,
 "nbformat_minor": 5
}

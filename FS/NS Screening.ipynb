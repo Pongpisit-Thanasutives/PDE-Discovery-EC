{
 "cells": [
  {
   "cell_type": "code",
   "execution_count": 1,
   "id": "e8baf9c5-3594-4c54-acba-4643178771e7",
   "metadata": {},
   "outputs": [],
   "source": [
    "%matplotlib inline\n",
    "import matplotlib.pyplot as plt\n",
    "import os\n",
    "import math\n",
    "import random\n",
    "import numpy as np\n",
    "import scipy.io as sio\n",
    "from tqdm import trange\n",
    "import sys; sys.path.insert(0, '../')\n",
    "from selective_inference import forward_stop_rule, sfs_si, stepwise_selective_inference, subset_fdr\n",
    "from sklearn.linear_model import LassoLars, lars_path\n",
    "from abess import LinearRegression\n",
    "from sklearn.preprocessing import StandardScaler\n",
    "from best_subset import brute_force_all_subsets, brute_force\n",
    "# from okridge.solvel0 import okridge_solvel0, okridge_solvel0_full\n",
    "from solvel0 import solvel0\n",
    "import statsmodels.api as sm\n",
    "from scipy import stats\n",
    "import fpsample\n",
    "from dppy.finite_dpps import FiniteDPP\n",
    "from kneefinder import KneeFinder\n",
    "from weakident_python.weakindent_model import weak_ident\n",
    "from skimage.restoration import estimate_sigma\n",
    "import bm3d\n",
    "import pysindy as ps\n",
    "from utils import *\n",
    "from UBIC import *"
   ]
  },
  {
   "cell_type": "code",
   "execution_count": 2,
   "id": "a87a8ec6-1e30-48f6-a1c6-999fd7a74b3d",
   "metadata": {},
   "outputs": [],
   "source": [
    "X_pre = np.load(\"../Cache/X_poly_NS.npy\")\n",
    "y_pre = np.load(\"../Cache/y_poly_NS.npy\")\n",
    "feature_names = np.load(\"../Cache/feature_names_poly_NS.npy\", allow_pickle=True)\n",
    "\n",
    "y_pre = y_pre[:, 0:1]"
   ]
  },
  {
   "cell_type": "code",
   "execution_count": 3,
   "id": "94aeb4e0-eccd-4e9b-8f83-7157e4f0b384",
   "metadata": {},
   "outputs": [
    {
     "name": "stdout",
     "output_type": "stream",
     "text": [
      "alibi is not installed in the environment.\n"
     ]
    }
   ],
   "source": [
    "from hidimstat import (model_x_knockoff, \n",
    "                    model_x_knockoff_pvalue, \n",
    "                    model_x_knockoff_bootstrap_quantile, \n",
    "                    model_x_knockoff_bootstrap_e_value)\n",
    "\n",
    "# selected, test_scores, threshold, X_tildes = model_x_knockoff(X_pre, \n",
    "#                                                               y_pre, \n",
    "#                                                               centered=True, \n",
    "#                                                               n_bootstraps=25, \n",
    "#                                                               fdr=0.1, \n",
    "#                                                               n_jobs=-1)\n",
    "\n",
    "from sklearn.utils import resample\n",
    "from abess import LinearRegression as AbessLinearRegression\n",
    "from knockpy import KnockoffFilter, knockoff_stats, knockoffs\n",
    "from knockpy.utilities import estimate_covariance\n",
    "from scipy import stats\n",
    "from statsmodels.stats.multitest import multipletests\n",
    "from c2st.check import c2st # https://github.com/psteinb/c2st\n",
    "\n",
    "u_pre = y_pre.copy()\n",
    "X_pre_top = StandardScaler().fit_transform(X_pre)\n",
    "y_pre = StandardScaler().fit_transform(u_pre)\n",
    "\n",
    "lr = AbessLinearRegression(path_type='gs', s_max=10, fit_intercept=False, cv=5, screening_size=0)\n",
    "fstat = knockoff_stats.ShapStatistic(model=lr)\n",
    "kfilter = KnockoffFilter(ksampler='gaussian', fstat=fstat, knockoff_kwargs={'method':'ci'})\n",
    "\n",
    "# kfilter = KnockoffFilter(ksampler='gaussian', fstat='lasso', knockoff_kwargs={'method':'ci'})"
   ]
  },
  {
   "cell_type": "code",
   "execution_count": 4,
   "id": "8e6382fa-262f-4642-81ac-c662edb869bc",
   "metadata": {},
   "outputs": [
    {
     "name": "stderr",
     "output_type": "stream",
     "text": [
      "100%|███████████████████████████████████████████████████████████████████████████| 50/50 [00:21<00:00,  2.38it/s]\n"
     ]
    }
   ],
   "source": [
    "fdr = 1/3 # 1/4, 1/3, 1/2\n",
    "rejections = []\n",
    "test_scores = []\n",
    "thresholds = []\n",
    "for _ in trange(50):\n",
    "    np.random.seed(_)\n",
    "    X_resample, y_resample = resample(X_pre_top, y_pre.flatten(), n_samples=10000, replace=True, random_state=_)\n",
    "    rejection = kfilter.forward(X=X_resample, y=y_resample, fdr=fdr, shrinkage=\"ledoitwolf\", recycle_up_to=0.5, tol=1e-4)\n",
    "    # rejection = kfilter.forward(X=X_pre_top, y=y_pre.flatten(), fdr=fdr, shrinkage=\"ledoitwolf\", recycle_up_to=0.5, tol=1e-4)\n",
    "    rejection = sorted(set(np.where(rejection == 1)[0]))\n",
    "    if len(rejection) > 0:\n",
    "        rejections.append(rejection)\n",
    "        test_scores.append(kfilter.W)\n",
    "        thresholds.append(kfilter.threshold)\n",
    "del X_resample, y_resample"
   ]
  },
  {
   "cell_type": "code",
   "execution_count": 5,
   "id": "5df415bf-4e84-48cd-87ee-1489367a009d",
   "metadata": {},
   "outputs": [
    {
     "name": "stdout",
     "output_type": "stream",
     "text": [
      "['w' 'v' 'w_{xx}' 'w_{yy}' 'ww_{y}' 'uw_{x}' 'uw_{yy}' 'vw_{y}']\n",
      "['w' 'v' 'w_{x}' 'w_{xx}' 'w_{yy}' 'ww_{y}' 'ww_{xx}' 'uw_{x}' 'uw_{xx}'\n",
      " 'uw_{yy}' 'vw_{y}']\n"
     ]
    }
   ],
   "source": [
    "aggregated_ko_selection, _, _ = model_x_knockoff_bootstrap_quantile(test_scores, \n",
    "                                                                    fdr=fdr, \n",
    "                                                                    adaptive_aggregation=False)\n",
    "print(feature_names[aggregated_ko_selection])\n",
    "\n",
    "eval_selection, _, _ = model_x_knockoff_bootstrap_e_value(test_scores, thresholds, fdr=fdr)\n",
    "print(feature_names[eval_selection])"
   ]
  },
  {
   "cell_type": "code",
   "execution_count": 6,
   "id": "63aeb097-60c5-4e03-9027-9c8e83478655",
   "metadata": {},
   "outputs": [
    {
     "data": {
      "text/plain": [
       "array(['w', 'v', 'w_{x}', 'w_{xx}', 'w_{yy}', 'ww_{y}', 'ww_{xx}',\n",
       "       'uw_{x}', 'uw_{xx}', 'uw_{yy}', 'vw_{y}'], dtype='<U7')"
      ]
     },
     "execution_count": 6,
     "metadata": {},
     "output_type": "execute_result"
    }
   ],
   "source": [
    "rejections = np.array(eval_selection)\n",
    "X_pre_top = X_pre[:, rejections]\n",
    "feature_names[rejections]"
   ]
  },
  {
   "cell_type": "code",
   "execution_count": 7,
   "id": "0023a79d-570d-4ce4-bb9f-1daf16f2e6cb",
   "metadata": {},
   "outputs": [],
   "source": [
    "X_pre_top_norm  = np.linalg.norm(X_pre_top, 2, axis=0)\n",
    "X_pre_top = X_pre_top/X_pre_top_norm\n",
    "y_pre = u_pre.copy()"
   ]
  },
  {
   "cell_type": "code",
   "execution_count": 8,
   "id": "bd87754d-cf04-4a1f-b926-3e7448937fba",
   "metadata": {},
   "outputs": [
    {
     "name": "stderr",
     "output_type": "stream",
     "text": [
      "  0%|                                                                                     | 0/4 [00:00<?, ?it/s]"
     ]
    },
    {
     "name": "stdout",
     "output_type": "stream",
     "text": [
      "Set parameter Username\n",
      "Academic license - for non-commercial use only - expires 2026-04-04\n"
     ]
    },
    {
     "name": "stderr",
     "output_type": "stream",
     "text": [
      "100%|█████████████████████████████████████████████████████████████████████████████| 4/4 [00:09<00:00,  2.38s/it]\n"
     ]
    },
    {
     "data": {
      "text/plain": [
       "array(['w_{x}', 'w_{y}', 'ww_{x}', 'ww_{yy}'], dtype='<U7')"
      ]
     },
     "execution_count": 8,
     "metadata": {},
     "output_type": "execute_result"
    }
   ],
   "source": [
    "best_subsets = solvel0(X_pre_top, y_pre.flatten(), max_complexity=4)\n",
    "feature_names[np.array(best_subsets[-1])]"
   ]
  },
  {
   "cell_type": "code",
   "execution_count": null,
   "id": "1e7200b1-5486-4896-94bc-5f9f10a3f4d5",
   "metadata": {},
   "outputs": [],
   "source": []
  },
  {
   "cell_type": "code",
   "execution_count": null,
   "id": "9ee3193c-88b3-448c-9aa1-396c32de7835",
   "metadata": {},
   "outputs": [],
   "source": []
  },
  {
   "cell_type": "markdown",
   "id": "7a84ef21-dd4a-4d40-ad77-5e02b0e7c42b",
   "metadata": {},
   "source": [
    "### Slow"
   ]
  },
  {
   "cell_type": "code",
   "execution_count": 9,
   "id": "fa878cd5-c902-4a44-8283-80712dbf4aa2",
   "metadata": {},
   "outputs": [],
   "source": [
    "# best_subsets = brute_force_all_subsets(X_pre_top, y_pre)[1]\n",
    "# feature_names[rejections[list(best_subsets[3])]]\n",
    "\n",
    "# from l0bnb import fit_path\n",
    "\n",
    "# sols = fit_path(X_pre_top, y_pre.flatten(), lambda_2 = 1e-6, max_nonzeros = 8)\n",
    "\n",
    "# feature_names[rejections][np.nonzero(sols[4]['B'])[0]]"
   ]
  }
 ],
 "metadata": {
  "kernelspec": {
   "display_name": "Python [conda env:sindy]",
   "language": "python",
   "name": "conda-env-sindy-py"
  },
  "language_info": {
   "codemirror_mode": {
    "name": "ipython",
    "version": 3
   },
   "file_extension": ".py",
   "mimetype": "text/x-python",
   "name": "python",
   "nbconvert_exporter": "python",
   "pygments_lexer": "ipython3",
   "version": "3.10.13"
  }
 },
 "nbformat": 4,
 "nbformat_minor": 5
}

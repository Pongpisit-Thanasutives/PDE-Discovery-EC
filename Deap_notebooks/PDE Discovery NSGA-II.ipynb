{
 "cells": [
  {
   "cell_type": "code",
   "execution_count": 1,
   "id": "3950e543",
   "metadata": {},
   "outputs": [],
   "source": [
    "import os\n",
    "\n",
    "import random\n",
    "from functools import partial\n",
    "from decimal import Decimal\n",
    "\n",
    "from deap import base\n",
    "from deap import creator\n",
    "from deap import tools\n",
    "from deap_ga import *\n",
    "from utils import *\n",
    "\n",
    "import numpy as np\n",
    "import scipy.io as sio\n",
    "import pysindy as ps\n",
    "from tqdm import trange"
   ]
  },
  {
   "cell_type": "markdown",
   "id": "a12900bc",
   "metadata": {},
   "source": [
    "### GA"
   ]
  },
  {
   "cell_type": "code",
   "execution_count": 2,
   "id": "71bfdfab",
   "metadata": {},
   "outputs": [],
   "source": [
    "n_poly = 2\n",
    "n_derivatives = 3\n",
    "n_modules = 8"
   ]
  },
  {
   "cell_type": "markdown",
   "id": "257fe3c0",
   "metadata": {},
   "source": [
    "### Data"
   ]
  },
  {
   "cell_type": "code",
   "execution_count": 3,
   "id": "f5db69a2",
   "metadata": {},
   "outputs": [],
   "source": [
    "data_path = \"./Datasets/\"\n",
    "data = sio.loadmat(os.path.join(data_path, \"burgers.mat\"))\n",
    "u_clean = (data['usol']).real; u = u_clean.copy()\n",
    "x = (data['x'][0]).real\n",
    "t = (data['t'][:,0]).real\n",
    "dt = t[1]-t[0]; dx = x[2]-x[1]\n",
    "xt = np.array([x.reshape(-1, 1), t.reshape(1, -1)], dtype=object)\n",
    "X, T = np.meshgrid(x, t)\n",
    "XT = np.asarray([X, T]).T"
   ]
  },
  {
   "cell_type": "code",
   "execution_count": 4,
   "id": "6c2b08b5",
   "metadata": {},
   "outputs": [],
   "source": [
    "function_library = ps.PolynomialLibrary(degree=n_poly, include_bias=False)\n",
    "\n",
    "weak_lib = ps.WeakPDELibrary(\n",
    "    function_library=function_library,\n",
    "    derivative_order=n_derivatives,\n",
    "    spatiotemporal_grid=XT,\n",
    "    include_bias=True,\n",
    "    diff_kwargs={\"is_uniform\":True},\n",
    "    K=10000\n",
    ")\n",
    "\n",
    "X_pre = np.array(weak_lib.fit_transform(np.expand_dims(u, -1)))\n",
    "y_pre = weak_lib.convert_u_dot_integral(np.expand_dims(u, -1))"
   ]
  },
  {
   "cell_type": "code",
   "execution_count": 5,
   "id": "396803f6",
   "metadata": {},
   "outputs": [],
   "source": [
    "base_poly = np.array([[p, 0] for p in range(1, n_poly+1)])\n",
    "base_derivative = np.array([[0, d] for d in range(1, n_derivatives+1)])\n",
    "modules = [(0, 0)] if weak_lib.include_bias else []\n",
    "modules += [(p, 0) for p in range(1, n_poly+1)] + \\\n",
    "            [(0, d) for d in range(1, n_derivatives+1)] + \\\n",
    "            [tuple(p+d) for d in base_derivative for p in base_poly]\n",
    "assert len(modules) == len(weak_lib.get_feature_names())\n",
    "base_features = dict(zip(modules, X_pre.T))\n",
    "u_t = y_pre.copy()"
   ]
  },
  {
   "cell_type": "code",
   "execution_count": 6,
   "id": "99c2541a",
   "metadata": {},
   "outputs": [],
   "source": [
    "add_mutate = partial(add_mutate, n_poly=n_poly, n_derivatives=n_derivatives)\n",
    "order_mutate = partial(order_mutate, n_poly=n_poly, n_derivatives=n_derivatives)\n",
    "module_mutate = partial(module_mutate, n_poly=n_poly, n_derivatives=n_derivatives)\n",
    "\n",
    "creator.create(\"FitnessMin\", base.Fitness, weights=(-1.0, -1.0))\n",
    "creator.create(\"Individual\", frozenset, fitness=creator.FitnessMin)\n",
    "\n",
    "toolbox = base.Toolbox()\n",
    "toolbox.register(\"PdeModule\", generate_module, n_poly, n_derivatives)\n",
    "toolbox.register(\"individual\", myInitRepeat, \n",
    "                 creator.Individual, toolbox.PdeModule, n_modules)\n",
    "toolbox.register(\"population\", tools.initRepeat, \n",
    "                 set, toolbox.individual)\n",
    "\n",
    "mse = lambda _ : (partial(evaluate_genome, base_features=base_features, target=u_t, epsilon=0)(_)[0],)\n",
    "n_pop = 300\n",
    "pop = toolbox.population(n=n_pop)\n",
    "epi = 10**(sci_format(np.median([f[0] for f in list(map(mse, pop))]))[1])\n",
    "penalized_mse = partial(evaluate_genome, base_features=base_features, target=u_t, epsilon=epi)\n",
    "\n",
    "toolbox.register(\"evaluate\", penalized_mse)\n",
    "toolbox.register(\"cross\", crossover_permutation)\n",
    "toolbox.register(\"add_mutate\", add_mutate)\n",
    "toolbox.register(\"del_mutate\", del_mutate)\n",
    "toolbox.register(\"order_mutate\", module_mutate) # order_mutate\n",
    "toolbox.register(\"select\", tools.selNSGA2)\n",
    "\n",
    "for ind in pop:\n",
    "    ind.fitness.values = toolbox.evaluate(ind)"
   ]
  },
  {
   "cell_type": "code",
   "execution_count": 7,
   "id": "8a14bc4b",
   "metadata": {},
   "outputs": [
    {
     "name": "stdout",
     "output_type": "stream",
     "text": [
      "Learning PDEs...\n"
     ]
    },
    {
     "name": "stderr",
     "output_type": "stream",
     "text": [
      "100%|█████████████████████████████████████████| 100/100 [00:04<00:00, 22.59it/s]\n"
     ]
    },
    {
     "data": {
      "text/plain": [
       "(frozenset({(0, 2), (1, 1)}), 5.492652162115227e-10)"
      ]
     },
     "execution_count": 7,
     "metadata": {},
     "output_type": "execute_result"
    }
   ],
   "source": [
    "n_generations = 100\n",
    "MU = 100\n",
    "add_rate, del_rate, order_rate = 0.4, 0.5, 0.4\n",
    "pop = toolbox.select(pop, len(pop))\n",
    "\n",
    "print(\"Learning PDEs...\")\n",
    "for _ in trange(n_generations):\n",
    "    offspring = tools.selTournament(pop, len(pop), tournsize=2)\n",
    "    \n",
    "    for i in range(0, len(offspring)-1, 2):\n",
    "        offspring[i], offspring[i+1] = toolbox.cross(offspring[i], offspring[i+1])\n",
    "\n",
    "    for i in range(len(offspring)):\n",
    "        if random.random() < add_rate:\n",
    "            offspring[i], = toolbox.add_mutate(offspring[i])\n",
    "        if random.random() < del_rate:\n",
    "            offspring[i], = toolbox.del_mutate(offspring[i])\n",
    "        if random.random() < order_rate:\n",
    "            offspring[i], = toolbox.order_mutate(offspring[i])\n",
    "\n",
    "    for i in range(len(offspring)-1, -1, -1):\n",
    "        if len(offspring[i]) > 0:\n",
    "            offspring[i] = creator.Individual(offspring[i])\n",
    "            offspring[i].fitness.values = toolbox.evaluate(offspring[i])\n",
    "        else:\n",
    "            del offspring[i]\n",
    "    offspring = list(set(offspring))\n",
    "    \n",
    "    pop = toolbox.select(pop + offspring, MU)\n",
    "\n",
    "pop = sorted(set(pop), key=lambda _: sum(_.fitness.values))\n",
    "max_ss = max([len(p) for p in pop]) # for best subset selection\n",
    "pop[0], pop[0].fitness.values[0]"
   ]
  },
  {
   "cell_type": "code",
   "execution_count": null,
   "id": "3e2577a0",
   "metadata": {},
   "outputs": [],
   "source": []
  },
  {
   "cell_type": "code",
   "execution_count": null,
   "id": "2338187c",
   "metadata": {},
   "outputs": [],
   "source": []
  }
 ],
 "metadata": {
  "kernelspec": {
   "display_name": "Python [conda env:pysr_latest]",
   "language": "python",
   "name": "conda-env-pysr_latest-py"
  },
  "language_info": {
   "codemirror_mode": {
    "name": "ipython",
    "version": 3
   },
   "file_extension": ".py",
   "mimetype": "text/x-python",
   "name": "python",
   "nbconvert_exporter": "python",
   "pygments_lexer": "ipython3",
   "version": "3.11.11"
  }
 },
 "nbformat": 4,
 "nbformat_minor": 5
}

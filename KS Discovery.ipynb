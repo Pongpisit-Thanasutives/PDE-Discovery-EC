{
 "cells": [
  {
   "cell_type": "code",
   "execution_count": 1,
   "id": "d8401bd4",
   "metadata": {},
   "outputs": [
    {
     "name": "stdout",
     "output_type": "stream",
     "text": [
      "mrmr is not installed in the env you are using. This may cause an error in future if you try to use the (missing) lib.\n",
      "L0BnB is not installed.\n"
     ]
    }
   ],
   "source": [
    "%load_ext autoreload\n",
    "%autoreload 2\n",
    "%matplotlib inline\n",
    "import matplotlib.pyplot as plt\n",
    "import scienceplots\n",
    "\n",
    "import math\n",
    "import os\n",
    "import random\n",
    "from functools import partial\n",
    "from decimal import Decimal\n",
    "import numpy as np\n",
    "# from sklearnex import patch_sklearn; patch_sklearn()\n",
    "import scipy.io as sio\n",
    "import pysindy as ps\n",
    "from tqdm import trange\n",
    "\n",
    "from pymoo_ga import *\n",
    "# NSGA2, DNSGA2, SMSEMOA, AGEMOEA2\n",
    "from pymoo.algorithms.moo.nsga2 import NSGA2\n",
    "from pymoo.algorithms.moo.dnsga2 import DNSGA2\n",
    "from pymoo.algorithms.moo.sms import SMSEMOA\n",
    "from pymoo.algorithms.moo.age2 import AGEMOEA2\n",
    "from pymoo.core.duplicate import ElementwiseDuplicateElimination\n",
    "from pymoo.termination.default import DefaultMultiObjectiveTermination\n",
    "from pymoo.optimize import minimize\n",
    "\n",
    "from utils import *\n",
    "from skimage.restoration import estimate_sigma\n",
    "import bm3d\n",
    "# from okridge.solvel0 import *\n",
    "from solvel0 import solvel0, MIOSR\n",
    "from best_subset import backward_refinement, brute_force_all_subsets\n",
    "from UBIC import *\n",
    "from kneed import KneeLocator\n",
    "from bayesian_model_evidence import log_evidence\n",
    "\n",
    "from sklearn.gaussian_process import GaussianProcessRegressor\n",
    "from sklearn.gaussian_process.kernels import RBF, WhiteKernel\n",
    "from sklearn.preprocessing import StandardScaler\n",
    "from sklearn import covariance\n",
    "from sklearn.metrics import mean_absolute_percentage_error\n",
    "from sklearn.linear_model import ARDRegression, lars_path"
   ]
  },
  {
   "cell_type": "code",
   "execution_count": 2,
   "id": "5916f2d3",
   "metadata": {},
   "outputs": [],
   "source": [
    "n_poly = 6\n",
    "n_derivatives = 6\n",
    "n_modules = 8"
   ]
  },
  {
   "cell_type": "code",
   "execution_count": 3,
   "id": "8eaa96d0",
   "metadata": {},
   "outputs": [
    {
     "name": "stdout",
     "output_type": "stream",
     "text": [
      "['KdV_sine_rep_big.mat', 'kuramoto_sivishinky.mat', 'lorenz100.npy', 'Wave_equation', 'KdV_rudy.mat', 'lorenz10.npy', 'KG_Exp.mat', 'burgers.mat']\n"
     ]
    }
   ],
   "source": [
    "data_path = \"../PDE-Discovery-EC/Datasets/\"\n",
    "print(os.listdir(data_path))\n",
    "data = sio.loadmat(os.path.join(data_path, \"kuramoto_sivishinky.mat\"))\n",
    "u_clean = (data['uu']).real; u = u_clean.copy()\n",
    "x = data['x'].ravel()\n",
    "t = data['tt'].ravel()\n",
    "dt = t[1]-t[0]; dx = x[2]-x[1]"
   ]
  },
  {
   "cell_type": "markdown",
   "id": "3a1e0adc",
   "metadata": {},
   "source": [
    "### Add noise"
   ]
  },
  {
   "cell_type": "code",
   "execution_count": 4,
   "id": "888ee41f",
   "metadata": {},
   "outputs": [
    {
     "name": "stdout",
     "output_type": "stream",
     "text": [
      "Noise level: 50.0\n"
     ]
    }
   ],
   "source": [
    "np.random.seed(0)\n",
    "noise_type = \"gaussian\"\n",
    "noise_lv = float(50)\n",
    "print(\"Noise level:\", noise_lv)\n",
    "noise = 0.01*np.abs(noise_lv)*(u.std())*np.random.randn(u.shape[0],u.shape[1])\n",
    "u = u + noise"
   ]
  },
  {
   "cell_type": "markdown",
   "id": "2f675560",
   "metadata": {},
   "source": [
    "### Gaussian process\n",
    "    - removing entries in x that show high std"
   ]
  },
  {
   "cell_type": "code",
   "execution_count": 5,
   "id": "f3b809d1",
   "metadata": {},
   "outputs": [],
   "source": [
    "# import gpax\n",
    "\n",
    "# bm3d_file = f\"./Denoised_data/ks_{noise_type}{int(noise_lv)}_bm3d.npy\"\n",
    "# load_denoised_data = True\n",
    "# if load_denoised_data:\n",
    "#     print(\"Loading denoised data...\")\n",
    "#     u = np.load(bm3d_file)\n",
    "# else:\n",
    "#     print(\"Denoising\")\n",
    "#     n_sampled_t = 10\n",
    "#     xx = colvec(x)\n",
    "#     u_std = np.ones((u.shape[0], n_sampled_t))\n",
    "#     for i in range(n_sampled_t):\n",
    "#         rng_key_train, rng_key_predict = gpax.utils.get_keys()\n",
    "    \n",
    "#         gp_model = gpax.ExactGP(1, kernel='RBF')\n",
    "#         gp_model.fit(rng_key_train, xx, u[:, np.random.choice(len(t))], \n",
    "#                      num_warmup=5, num_samples=20, jitter=1e-6, \n",
    "#                      chain_method='parallel', print_summary=False)\n",
    "    \n",
    "#         posterior_mean, f_samples = gp_model.predict(rng_key_predict, xx)\n",
    "#         u_std[:, i] = np.std(f_samples[:, 0, :], axis=0)\n",
    "    \n",
    "#     print(u_std.mean(), u_std.max())\n",
    "#     est_sigma = u_std.mean() # max also works well\n",
    "\n",
    "#     u = bm3d.bm3d(u, sigma_psd=est_sigma, \n",
    "#                   stage_arg=bm3d.BM3DStages.ALL_STAGES, \n",
    "#                   blockmatches=(False, False))\n",
    "\n",
    "#     # np.save(bm3d_file, u)\n",
    "\n",
    "np.random.seed(0)\n",
    "fake_noise = np.random.normal(loc=0.0, scale=estimate_sigma(u), size=u.shape)\n",
    "sigmas = estimate_sigma(u+fake_noise)*np.arange(0.1, 2., 0.1)\n",
    "est_sigma = sigmas[np.argmin([((u-bm3d.bm3d(u+fake_noise, sigma_psd=sigma, stage_arg=bm3d.BM3DStages.ALL_STAGES, blockmatches=(False, False)))**2).mean() \\\n",
    "                              for sigma in sigmas])]\n",
    "u = bm3d.bm3d(u, sigma_psd=est_sigma, \n",
    "                  stage_arg=bm3d.BM3DStages.ALL_STAGES, \n",
    "                  blockmatches=(False, False))"
   ]
  },
  {
   "cell_type": "markdown",
   "id": "c5c890b0",
   "metadata": {},
   "source": [
    "### Denoise"
   ]
  },
  {
   "cell_type": "code",
   "execution_count": 6,
   "id": "05a04eb0",
   "metadata": {},
   "outputs": [],
   "source": [
    "xt = np.array([x.reshape(-1, 1), t.reshape(1, -1)], dtype=object)\n",
    "X, T = np.meshgrid(x, t)\n",
    "XT = np.asarray([X, T]).T"
   ]
  },
  {
   "cell_type": "code",
   "execution_count": 7,
   "id": "6aaf2666",
   "metadata": {},
   "outputs": [],
   "source": [
    "function_library = ps.PolynomialLibrary(degree=n_poly, include_bias=False)\n",
    "\n",
    "weak_lib = ps.WeakPDELibrary(\n",
    "    function_library=function_library,\n",
    "    derivative_order=n_derivatives,\n",
    "    spatiotemporal_grid=XT,\n",
    "    include_bias=True,\n",
    "    K=10000\n",
    ")\n",
    "\n",
    "X_pre = np.array(weak_lib.fit_transform(np.expand_dims(u, -1)))\n",
    "y_pre = weak_lib.convert_u_dot_integral(np.expand_dims(u, -1))\n",
    "feature_names = np.array(weak_lib.get_feature_names(), dtype=object)\n",
    "\n",
    "# R_path = \"./Cache/\"\n",
    "# np.save(os.path.join(R_path, f\"X_pre_ks_noise{int(noise_lv)}.npy\"), X_pre)\n",
    "# np.save(os.path.join(R_path, f\"y_pre_ks_noise{int(noise_lv)}.npy\"), y_pre)\n",
    "# np.save(os.path.join(R_path, f\"feature_names_ks.npy\"), feature_names)"
   ]
  },
  {
   "cell_type": "code",
   "execution_count": 8,
   "id": "6ad9a594",
   "metadata": {},
   "outputs": [],
   "source": [
    "base_poly = np.array([[p, 0] for p in range(1, n_poly+1)])\n",
    "base_derivative = np.array([[0, d] for d in range(1, n_derivatives+1)])\n",
    "modules = [(0, 0)] if weak_lib.include_bias else []\n",
    "modules += [(p, 0) for p in range(1, n_poly+1)] + \\\n",
    "            [(0, d) for d in range(1, n_derivatives+1)] + \\\n",
    "            [tuple(p+d) for d in base_derivative for p in base_poly]\n",
    "assert len(modules) == len(weak_lib.get_feature_names())\n",
    "base_features = dict(zip(modules, X_pre.T))\n",
    "u_t = y_pre.copy()"
   ]
  },
  {
   "cell_type": "code",
   "execution_count": 9,
   "id": "0f17d5b3-f19f-4e3c-97eb-fd58a0deb772",
   "metadata": {},
   "outputs": [],
   "source": [
    "# miosr_subsets = solvel0(X_pre, y_pre, miosr=True)"
   ]
  },
  {
   "cell_type": "markdown",
   "id": "bb73e146",
   "metadata": {},
   "source": [
    "### Genetic algorithm with NSGA-II"
   ]
  },
  {
   "cell_type": "code",
   "execution_count": 10,
   "id": "263f3258",
   "metadata": {},
   "outputs": [],
   "source": [
    "pop_size = 500\n",
    "problem = PdeDiscoveryProblem(n_poly, n_derivatives, n_modules, \n",
    "                              base_features, u_t, order_complexity=False)"
   ]
  },
  {
   "cell_type": "code",
   "execution_count": 11,
   "id": "296e4b3d",
   "metadata": {},
   "outputs": [
    {
     "name": "stdout",
     "output_type": "stream",
     "text": [
      "==========================================================\n",
      "n_gen  |  n_eval  | n_nds  |      eps      |   indicator  \n",
      "==========================================================\n",
      "     1 |      500 |      5 |             - |             -\n",
      "     2 |     1000 |      5 |  0.5952069350 |         ideal\n",
      "     3 |     1500 |      6 |  0.1666666667 |         nadir\n",
      "     4 |     2000 |      7 |  0.0238175951 |             f\n",
      "     5 |     2500 |      6 |  0.2000000000 |         nadir\n",
      "     6 |     3000 |      6 |  0.0421287300 |             f\n",
      "     7 |     3500 |      7 |  0.3750000000 |         nadir\n",
      "     8 |     4000 |      7 |  0.000000E+00 |             f\n",
      "     9 |     4500 |      8 |  0.1428571429 |         nadir\n",
      "    10 |     5000 |      7 |  7.917511E-06 |             f\n",
      "    11 |     5500 |      7 |  0.0133710151 |             f\n",
      "    12 |     6000 |      7 |  0.1666666667 |         nadir\n",
      "    13 |     6500 |      7 |  0.0238166167 |             f\n",
      "    14 |     7000 |      7 |  0.0000259582 |             f\n",
      "    15 |     7500 |      7 |  0.0000434771 |             f\n",
      "    16 |     8000 |      7 |  0.0000434771 |             f\n",
      "    17 |     8500 |      7 |  0.0000438310 |             f\n",
      "    18 |     9000 |      7 |  0.0000491374 |             f\n",
      "    19 |     9500 |      7 |  0.0000491374 |             f\n",
      "    20 |    10000 |      7 |  0.0000491374 |             f\n",
      "    21 |    10500 |      7 |  0.0000507796 |             f\n",
      "    22 |    11000 |      7 |  0.0000533749 |             f\n",
      "    23 |    11500 |      8 |  0.2500000000 |         nadir\n",
      "    24 |    12000 |      8 |  0.000000E+00 |             f\n",
      "    25 |    12500 |      7 |  0.0000212134 |             f\n",
      "    26 |    13000 |      7 |  0.1428571429 |         nadir\n",
      "    27 |    13500 |      8 |  0.0178571434 |             f\n",
      "    28 |    14000 |      9 |  0.3636363636 |         nadir\n",
      "    29 |    14500 |      9 |  0.000000E+00 |             f\n",
      "    30 |    15000 |      9 |  4.220244E-06 |             f\n",
      "    31 |    15500 |     10 |  0.0181869447 |             f\n",
      "    32 |    16000 |     10 |  0.000000E+00 |             f\n",
      "    33 |    16500 |     10 |  0.1000000000 |         nadir\n",
      "    34 |    17000 |     10 |  0.000000E+00 |             f\n",
      "    35 |    17500 |     10 |  0.0100000002 |             f\n",
      "    36 |    18000 |     10 |  0.000000E+00 |             f\n",
      "    37 |    18500 |     10 |  5.315995E-07 |             f\n",
      "    38 |    19000 |     11 |  0.0909090909 |         nadir\n",
      "    39 |    19500 |     10 |  5.072262E-06 |             f\n",
      "    40 |    20000 |     11 |  0.0082690743 |             f\n",
      "    41 |    20500 |     13 |  0.0833333333 |         nadir\n",
      "    42 |    21000 |     13 |  0.000000E+00 |             f\n",
      "    43 |    21500 |     11 |  0.0909090909 |         nadir\n",
      "    44 |    22000 |     11 |  1.986846E-06 |             f\n",
      "    45 |    22500 |     11 |  1.986846E-06 |             f\n",
      "    46 |    23000 |     12 |  0.0075775790 |             f\n",
      "    47 |    23500 |     12 |  9.580098E-08 |             f\n",
      "    48 |    24000 |     12 |  1.557995E-06 |             f\n",
      "    49 |    24500 |     11 |  0.1000000000 |         nadir\n",
      "    50 |    25000 |     12 |  0.0909090909 |         nadir\n",
      "    51 |    25500 |     12 |  2.937267E-06 |             f\n",
      "    52 |    26000 |     12 |  2.937267E-06 |             f\n",
      "    53 |    26500 |     12 |  2.937267E-06 |             f\n",
      "    54 |    27000 |     12 |  4.736430E-06 |             f\n",
      "    55 |    27500 |     12 |  0.0833333333 |         nadir\n",
      "    56 |    28000 |     12 |  0.000000E+00 |             f\n",
      "    57 |    28500 |     13 |  0.0064102565 |             f\n",
      "    58 |    29000 |     13 |  0.000000E+00 |             f\n",
      "    59 |    29500 |     13 |  0.000000E+00 |             f\n",
      "    60 |    30000 |     14 |  0.0769230769 |         nadir\n",
      "    61 |    30500 |     14 |  0.000000E+00 |             f\n",
      "    62 |    31000 |     12 |  0.1818181818 |         nadir\n",
      "    63 |    31500 |     12 |  0.000000E+00 |             f\n",
      "    64 |    32000 |     12 |  0.000000E+00 |             f\n",
      "    65 |    32500 |     12 |  0.000000E+00 |             f\n",
      "    66 |    33000 |     12 |  4.511072E-06 |             f\n",
      "    67 |    33500 |     12 |  7.403117E-06 |             f\n",
      "    68 |    34000 |     12 |  7.403117E-06 |             f\n",
      "    69 |    34500 |     12 |  7.403117E-06 |             f\n",
      "    70 |    35000 |     12 |  7.403117E-06 |             f\n",
      "    71 |    35500 |     12 |  8.142218E-06 |             f\n",
      "    72 |    36000 |     12 |  8.142218E-06 |             f\n",
      "    73 |    36500 |     12 |  0.0000113027 |             f\n",
      "    74 |    37000 |     12 |  0.0000113027 |             f\n",
      "    75 |    37500 |     13 |  0.0833333333 |         nadir\n",
      "    76 |    38000 |     13 |  0.000000E+00 |             f\n",
      "    77 |    38500 |     13 |  0.000000E+00 |             f\n",
      "    78 |    39000 |     14 |  0.0769230769 |         nadir\n",
      "    79 |    39500 |     14 |  6.743726E-07 |             f\n",
      "    80 |    40000 |     14 |  6.743726E-07 |             f\n",
      "    81 |    40500 |     14 |  6.743726E-07 |             f\n",
      "    82 |    41000 |     14 |  3.796255E-06 |             f\n",
      "    83 |    41500 |     14 |  3.993424E-06 |             f\n",
      "    84 |    42000 |     14 |  4.914988E-06 |             f\n",
      "    85 |    42500 |     15 |  0.1333333333 |         nadir\n",
      "    86 |    43000 |     14 |  1.083354E-06 |             f\n",
      "    87 |    43500 |     14 |  1.083354E-06 |             f\n",
      "    88 |    44000 |     13 |  0.2500000000 |         nadir\n",
      "    89 |    44500 |     13 |  0.000000E+00 |             f\n",
      "    90 |    45000 |     13 |  0.000000E+00 |             f\n",
      "    91 |    45500 |     13 |  0.000000E+00 |             f\n",
      "    92 |    46000 |     14 |  0.0769230769 |         nadir\n",
      "    93 |    46500 |     14 |  2.707086E-06 |             f\n",
      "    94 |    47000 |     14 |  3.712751E-06 |             f\n",
      "    95 |    47500 |     14 |  3.712751E-06 |             f\n",
      "    96 |    48000 |     14 |  3.712751E-06 |             f\n",
      "    97 |    48500 |     14 |  8.589801E-06 |             f\n",
      "    98 |    49000 |     14 |  8.589801E-06 |             f\n",
      "    99 |    49500 |     14 |  0.0000146564 |             f\n",
      "   100 |    50000 |     14 |  0.0000146564 |             f\n"
     ]
    }
   ],
   "source": [
    "load_pareto_front = False\n",
    "\n",
    "if not load_pareto_front:\n",
    "    termination = DefaultMultiObjectiveTermination(\n",
    "        xtol=1e-8,\n",
    "        cvtol=1e-6,\n",
    "        ftol=1e-8,\n",
    "        period=50,\n",
    "        n_max_gen=100,\n",
    "        n_max_evals=100000\n",
    "    )\n",
    "\n",
    "    from pymoo.algorithms.moo.sms import SMSEMOA\n",
    "\n",
    "    # algorithm = NSGA2(\n",
    "    #                 pop_size=pop_size, \n",
    "    #                 sampling=PopulationSampling(), \n",
    "    #                 crossover=GenomeCrossover(), \n",
    "    #                 mutation=GenomeMutation(), \n",
    "    #                 eliminate_duplicates=DuplicateElimination()\n",
    "    #                 )\n",
    "\n",
    "    # algorithm = DNSGA2(\n",
    "    #                 pop_size=pop_size,\n",
    "    #                 sampling=PopulationSampling(),\n",
    "    #                 crossover=GenomeCrossover(),\n",
    "    #                 mutation=GenomeMutation(),\n",
    "    #                 eliminate_duplicates=DuplicateElimination()\n",
    "    #                 )\n",
    "\n",
    "    algorithm = SMSEMOA(\n",
    "                    pop_size=pop_size,\n",
    "                    sampling=PopulationSampling(),\n",
    "                    crossover=GenomeCrossover(),\n",
    "                    mutation=GenomeMutation(),\n",
    "                    eliminate_duplicates=DuplicateElimination()\n",
    "                    )\n",
    "\n",
    "    res = minimize(problem, \n",
    "                   algorithm, \n",
    "                   termination=termination, \n",
    "                   verbose=True\n",
    "                  )\n",
    "    \n",
    "    pareto_optimal_models = res.X\n",
    "    # np.save(f\"./Cache/pf_ks_noise{int(noise_lv)}.npy\", pareto_optimal_models)\n",
    "\n",
    "else:\n",
    "    pareto_optimal_models = np.load(f\"./Cache/pf_ks_noise{int(noise_lv)}.npy\", allow_pickle=True)\n"
   ]
  },
  {
   "cell_type": "code",
   "execution_count": 12,
   "id": "da36801f-7447-406b-ba5e-234ea3f2f415",
   "metadata": {},
   "outputs": [
    {
     "data": {
      "text/plain": [
       "array([[frozenset({(5, 1)})],\n",
       "       [frozenset({(3, 1), (3, 0)})],\n",
       "       [frozenset({(1, 1), (0, 2), (0, 4)})],\n",
       "       [frozenset({(1, 1), (5, 3), (0, 2), (0, 4)})],\n",
       "       [frozenset({(0, 4), (1, 1), (4, 2), (0, 2), (5, 3)})],\n",
       "       [frozenset({(0, 4), (3, 4), (1, 1), (0, 2), (3, 6), (5, 3)})],\n",
       "       [frozenset({(0, 4), (3, 4), (1, 1), (4, 2), (0, 2), (3, 6), (5, 3)})],\n",
       "       [frozenset({(0, 4), (3, 4), (1, 1), (6, 4), (4, 2), (0, 2), (3, 6), (5, 3)})],\n",
       "       [frozenset({(6, 0), (0, 4), (3, 4), (4, 3), (1, 1), (4, 2), (0, 2), (3, 6), (5, 3)})],\n",
       "       [frozenset({(4, 0), (0, 4), (3, 4), (4, 3), (1, 1), (6, 4), (4, 2), (0, 2), (3, 6), (5, 3)})],\n",
       "       [frozenset({(4, 4), (6, 2), (0, 4), (3, 4), (1, 1), (4, 2), (0, 6), (0, 2), (3, 6), (2, 2), (5, 3)})],\n",
       "       [frozenset({(4, 4), (6, 2), (0, 4), (3, 4), (1, 1), (4, 2), (0, 6), (0, 2), (5, 0), (3, 6), (2, 2), (5, 3)})],\n",
       "       [frozenset({(4, 4), (6, 2), (6, 0), (0, 4), (3, 4), (4, 3), (1, 1), (4, 2), (0, 6), (0, 2), (3, 6), (2, 2), (5, 3)})],\n",
       "       [frozenset({(4, 4), (6, 2), (4, 0), (0, 4), (3, 4), (6, 0), (4, 3), (1, 1), (4, 2), (0, 6), (0, 2), (3, 6), (2, 2), (5, 3)})]],\n",
       "      dtype=object)"
      ]
     },
     "execution_count": 12,
     "metadata": {},
     "output_type": "execute_result"
    }
   ],
   "source": [
    "### OPTIONAL ###\n",
    "from operator import itemgetter\n",
    "\n",
    "effective_candidates = frozenset()\n",
    "for i in range(len(pareto_optimal_models)):\n",
    "    effective_candidates = effective_candidates.union(pareto_optimal_models[i][0])\n",
    "effective_candidates = sorted(effective_candidates)\n",
    "\n",
    "new_pareto_optimal_models = []\n",
    "for bs in backward_refinement([sorted([effective_candidates.index(_) for _ in list(pm[0])]) for pm in pareto_optimal_models], \n",
    "                              (problem.numericalize_genome(effective_candidates), y_pre)).get_best_subsets():\n",
    "    bs = itemgetter(*bs)(effective_candidates)\n",
    "    if type(bs[0]) is not tuple:\n",
    "        bs = (bs,)\n",
    "    new_pareto_optimal_models.append([frozenset(bs)])\n",
    "pareto_optimal_models = np.array(new_pareto_optimal_models)\n",
    "del new_pareto_optimal_models\n",
    "pareto_optimal_models"
   ]
  },
  {
   "cell_type": "markdown",
   "id": "003ec6c4-871e-45b8-bc00-aaf3f49165aa",
   "metadata": {},
   "source": [
    "### Top candidates by SHAP or Lasso/Lars path"
   ]
  },
  {
   "cell_type": "code",
   "execution_count": 13,
   "id": "ce8c5ef3-16ff-4e22-ae3c-2f30bad5b663",
   "metadata": {},
   "outputs": [
    {
     "data": {
      "text/plain": [
       "[[1, 1],\n",
       " [0, 2],\n",
       " [0, 4],\n",
       " [5, 3],\n",
       " [3, 6],\n",
       " [2, 3],\n",
       " [6, 4],\n",
       " [3, 4],\n",
       " [4, 2],\n",
       " [4, 0],\n",
       " [4, 3],\n",
       " [6, 0],\n",
       " [5, 0],\n",
       " [0, 6],\n",
       " [4, 4],\n",
       " [5, 1],\n",
       " [2, 2],\n",
       " [3, 0],\n",
       " [6, 2],\n",
       " [3, 1]]"
      ]
     },
     "execution_count": 13,
     "metadata": {},
     "output_type": "execute_result"
    }
   ],
   "source": [
    "# feature_importance = dict(zip(effective_candidates, [0.0 for _ in range(len(effective_candidates))]))\n",
    "\n",
    "# for bs in pareto_optimal_models[1:]:\n",
    "#     bs = list(bs[0])\n",
    "#     shap_importance = shap_linear_importance(problem.numericalize_genome(bs), y_pre, scale=False)\n",
    "#     for i, _ in enumerate(bs):\n",
    "#         feature_importance[_] += shap_importance[i]\n",
    "\n",
    "# top_candidates = sorted([(v, k) for k, v in feature_importance.items()], reverse=True)\n",
    "# top_candidates = [v for k, v in top_candidates[:16]]\n",
    "\n",
    "_, lars_p, _ = lars_path(StandardScaler().fit_transform(problem.numericalize_genome(effective_candidates)), \n",
    "                         y_pre.ravel(), method='lasso', alpha_min=1e-5)\n",
    "top_candidates = np.array(effective_candidates)[lars_p].tolist()\n",
    "\n",
    "top_candidates"
   ]
  },
  {
   "cell_type": "markdown",
   "id": "b73cbdaf-a7ca-4c67-8542-0960ac0b99b1",
   "metadata": {},
   "source": [
    "### Best-subset selections (Optional)"
   ]
  },
  {
   "cell_type": "code",
   "execution_count": 14,
   "id": "dc2fb3e8-5a81-4969-94ad-b10833e5d5af",
   "metadata": {},
   "outputs": [
    {
     "name": "stderr",
     "output_type": "stream",
     "text": [
      "  0%|                                                    | 0/20 [00:00<?, ?it/s]"
     ]
    },
    {
     "name": "stdout",
     "output_type": "stream",
     "text": [
      "Set parameter Username\n",
      "Academic license - for non-commercial use only - expires 2026-04-04\n"
     ]
    },
    {
     "name": "stderr",
     "output_type": "stream",
     "text": [
      "100%|███████████████████████████████████████████| 20/20 [00:00<00:00, 60.41it/s]\n"
     ]
    }
   ],
   "source": [
    "X_pre_top = problem.numericalize_genome(top_candidates)\n",
    "X_pre_top_norm = np.linalg.norm(X_pre_top, 2, axis=0)\n",
    "X_pre_top = X_pre_top/X_pre_top_norm\n",
    "\n",
    "best_subsets = solvel0(X_pre_top, y_pre, miosr=True, refine=True)\n",
    "pareto_optimal_models = [[np.array(top_candidates)[list(bs)]] for bs in best_subsets]"
   ]
  },
  {
   "cell_type": "markdown",
   "id": "545135d4-f8b5-4dac-9866-dc936063226f",
   "metadata": {},
   "source": [
    "### Uncertainty quantification"
   ]
  },
  {
   "cell_type": "code",
   "execution_count": 15,
   "id": "229be22d-0a6a-443b-9566-07383aea4fcb",
   "metadata": {},
   "outputs": [
    {
     "name": "stdout",
     "output_type": "stream",
     "text": [
      "[7.68949894 5.8460637  1.         1.         1.         1.\n",
      " 1.         1.         1.         1.         1.         1.\n",
      " 1.         1.         1.         1.         1.         1.\n",
      " 1.         1.        ]\n"
     ]
    },
    {
     "data": {
      "image/png": "[encoded data removed]",
      "text/plain": [
       "<Figure size 640x480 with 1 Axes>"
      ]
     },
     "metadata": {},
     "output_type": "display_data"
    }
   ],
   "source": [
    "pde_uncertainties = []\n",
    "\n",
    "for bs in pareto_optimal_models:\n",
    "    # um = BayesianRidge(fit_intercept=False, compute_score=True, max_iter=1000)\n",
    "    um = ARDRegression(fit_intercept=False, compute_score=True, max_iter=1000)\n",
    "    um.fit(problem.numericalize_genome(bs[0]), y_pre.ravel())\n",
    "    \n",
    "    pde_uncertainty = np.sqrt(np.diag(um.sigma_)).sum()/abs(um.coef_).sum()\n",
    "    pde_uncertainties.append(pde_uncertainty)\n",
    "\n",
    "pde_uncertainties = np.array(pde_uncertainties)/min(pde_uncertainties)\n",
    "print(pde_uncertainties)\n",
    "\n",
    "plt.plot(pde_uncertainties); plt.show()"
   ]
  },
  {
   "cell_type": "markdown",
   "id": "e9ec274e-bccb-4e0a-8411-2dec77b1855f",
   "metadata": {},
   "source": [
    "### MCDM/MCDA programming"
   ]
  },
  {
   "cell_type": "code",
   "execution_count": 16,
   "id": "a054f36e",
   "metadata": {},
   "outputs": [
    {
     "name": "stdout",
     "output_type": "stream",
     "text": [
      "Weights: [0.4903407 0.2289683 0.280691 ]\n",
      "[[0.86740593 1.         7.68949894]\n",
      " [0.64748871 2.         5.8460637 ]\n",
      " [0.03144628 3.         1.        ]] [(2, 4)]\n"
     ]
    }
   ],
   "source": [
    "from collections import Counter\n",
    "from pymcdm import weights as obj_w\n",
    "from compromise_programming import mcdm\n",
    "from bayesian_model_evidence import log_evidence\n",
    "\n",
    "include_uncertainty = True\n",
    "types = np.array([-1, -1])\n",
    "assert len(pareto_optimal_models) > 2\n",
    "F = problem.evaluate(pareto_optimal_models)\n",
    "# 2 criteria: acc, complexity / 3 criteria: acc, complexity, uncertainty\n",
    "if include_uncertainty:\n",
    "    F = np.hstack((F, pde_uncertainties.reshape(-1, 1)))\n",
    "    types = np.array([-1, -1, -1])\n",
    "\n",
    "ic = np.array([sm.OLS(y_pre, problem.numericalize_genome(bs[0])).fit().bic for bs in pareto_optimal_models])\n",
    "# ic = np.array([-log_evidence(problem.numericalize_genome(bs[0]), y_pre) for bs in pareto_optimal_models])\n",
    "max_ss = np.argmin(ic)+1\n",
    "F = F[:max_ss]\n",
    "\n",
    "obj_weights = obj_w.gini_weights(F, types=types)\n",
    "print(\"Weights:\", obj_weights)\n",
    "\n",
    "# mcdm\n",
    "filtered_F = F.copy()\n",
    "filtered_F[:, 0:1] = ic[:max_ss].reshape(-1, 1)\n",
    "while len(filtered_F) > 2:\n",
    "    ranks, prefs = mcdm(filtered_F, obj_weights, types)\n",
    "    most_common = Counter(np.argmin(ranks, axis=1)).most_common()\n",
    "    filtered_F = F[:most_common[0][0]+1]\n",
    "    print(filtered_F, most_common)\n",
    "    if len(most_common) == 1:\n",
    "        break"
   ]
  },
  {
   "cell_type": "code",
   "execution_count": null,
   "id": "edd16124-7da7-47f9-b3aa-5f7eedd5997a",
   "metadata": {},
   "outputs": [],
   "source": []
  },
  {
   "cell_type": "code",
   "execution_count": null,
   "id": "a31c8378-1536-43e3-8be9-7849bd772a4d",
   "metadata": {},
   "outputs": [],
   "source": []
  },
  {
   "cell_type": "markdown",
   "id": "49cd6196-0d2a-4edc-bd1e-a38d29c4c861",
   "metadata": {},
   "source": [
    "### Intercept or NO Intercept? ###"
   ]
  },
  {
   "cell_type": "code",
   "execution_count": 17,
   "id": "ad6f873b-2fdc-4269-ba11-314a37f001c5",
   "metadata": {},
   "outputs": [],
   "source": [
    "# true_indices = [8, 10, 13]\n",
    "# true_coefficients = [-1, -1, -1]\n",
    "# true_ols = sm.OLS(y_pre, X_pre[:, true_indices]).fit()\n",
    "# estimated_coefficients = true_ols.params\n",
    "# print(estimated_coefficients, mean_absolute_percentage_error(true_coefficients, estimated_coefficients))\n",
    "# true_ols.bic, sm.OLS(y_pre, X_pre[:, [0] + true_indices]).fit().bic"
   ]
  }
 ],
 "metadata": {
  "kernelspec": {
   "display_name": "Python [conda env:econ]",
   "language": "python",
   "name": "conda-env-econ-py"
  },
  "language_info": {
   "codemirror_mode": {
    "name": "ipython",
    "version": 3
   },
   "file_extension": ".py",
   "mimetype": "text/x-python",
   "name": "python",
   "nbconvert_exporter": "python",
   "pygments_lexer": "ipython3",
   "version": "3.10.9"
  }
 },
 "nbformat": 4,
 "nbformat_minor": 5
}

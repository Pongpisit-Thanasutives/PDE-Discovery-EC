{
 "cells": [
  {
   "cell_type": "code",
   "execution_count": 1,
   "id": "d8401bd4",
   "metadata": {},
   "outputs": [
    {
     "name": "stdout",
     "output_type": "stream",
     "text": [
      "mrmr is not installed in the env you are using. This may cause an error in future if you try to use the (missing) lib.\n",
      "L0BnB is not installed.\n"
     ]
    }
   ],
   "source": [
    "%load_ext autoreload\n",
    "%autoreload 2\n",
    "%matplotlib inline\n",
    "import matplotlib.pyplot as plt\n",
    "import scienceplots\n",
    "\n",
    "import math\n",
    "import os\n",
    "import random\n",
    "from functools import partial\n",
    "from decimal import Decimal\n",
    "import numpy as np\n",
    "# from sklearnex import patch_sklearn; patch_sklearn()\n",
    "import scipy.io as sio\n",
    "import pysindy as ps\n",
    "from tqdm import trange\n",
    "\n",
    "from pymoo_ga import *\n",
    "# NSGA2, DNSGA2, SMSEMOA, AGEMOEA2\n",
    "from pymoo.algorithms.moo.nsga2 import NSGA2\n",
    "from pymoo.algorithms.moo.dnsga2 import DNSGA2\n",
    "from pymoo.algorithms.moo.sms import SMSEMOA\n",
    "from pymoo.algorithms.moo.age2 import AGEMOEA2\n",
    "from pymoo.core.duplicate import ElementwiseDuplicateElimination\n",
    "from pymoo.termination.default import DefaultMultiObjectiveTermination\n",
    "from pymoo.optimize import minimize\n",
    "\n",
    "from utils import *\n",
    "from skimage.restoration import estimate_sigma\n",
    "import bm3d\n",
    "# from okridge.solvel0 import *\n",
    "from solvel0 import solvel0, MIOSR\n",
    "from best_subset import backward_refinement, brute_force_all_subsets\n",
    "from UBIC import *\n",
    "from kneed import KneeLocator\n",
    "from bayesian_model_evidence import log_evidence\n",
    "\n",
    "from sklearn.gaussian_process import GaussianProcessRegressor\n",
    "from sklearn.gaussian_process.kernels import RBF, WhiteKernel\n",
    "from sklearn.preprocessing import StandardScaler\n",
    "from sklearn import covariance\n",
    "from sklearn.metrics import mean_absolute_percentage_error"
   ]
  },
  {
   "cell_type": "code",
   "execution_count": 2,
   "id": "5916f2d3",
   "metadata": {},
   "outputs": [],
   "source": [
    "n_poly = 6\n",
    "n_derivatives = 6\n",
    "n_modules = 8"
   ]
  },
  {
   "cell_type": "code",
   "execution_count": 3,
   "id": "8eaa96d0",
   "metadata": {},
   "outputs": [
    {
     "name": "stdout",
     "output_type": "stream",
     "text": [
      "['KdV_sine_rep_big.mat', 'kuramoto_sivishinky.mat', 'lorenz100.npy', 'Wave_equation', 'KdV_rudy.mat', 'lorenz10.npy', 'KG_Exp.mat', 'burgers.mat']\n"
     ]
    }
   ],
   "source": [
    "data_path = \"../PDE-Discovery-EC/Datasets/\"\n",
    "print(os.listdir(data_path))\n",
    "data = sio.loadmat(os.path.join(data_path, \"kuramoto_sivishinky.mat\"))\n",
    "u_clean = (data['uu']).real; u = u_clean.copy()\n",
    "x = data['x'].ravel()\n",
    "t = data['tt'].ravel()\n",
    "dt = t[1]-t[0]; dx = x[2]-x[1]"
   ]
  },
  {
   "cell_type": "markdown",
   "id": "3a1e0adc",
   "metadata": {},
   "source": [
    "### Add noise"
   ]
  },
  {
   "cell_type": "code",
   "execution_count": 4,
   "id": "888ee41f",
   "metadata": {},
   "outputs": [
    {
     "name": "stdout",
     "output_type": "stream",
     "text": [
      "Noise level: 50.0\n"
     ]
    }
   ],
   "source": [
    "np.random.seed(0)\n",
    "noise_type = \"gaussian\"\n",
    "noise_lv = float(50)\n",
    "print(\"Noise level:\", noise_lv)\n",
    "noise = 0.01*np.abs(noise_lv)*(u.std())*np.random.randn(u.shape[0],u.shape[1])\n",
    "u = u + noise"
   ]
  },
  {
   "cell_type": "markdown",
   "id": "2f675560",
   "metadata": {},
   "source": [
    "### Gaussian process\n",
    "    - removing entries in x that show high std"
   ]
  },
  {
   "cell_type": "code",
   "execution_count": 5,
   "id": "f3b809d1",
   "metadata": {},
   "outputs": [],
   "source": [
    "# import gpax\n",
    "\n",
    "# bm3d_file = f\"./Denoised_data/ks_{noise_type}{int(noise_lv)}_bm3d.npy\"\n",
    "# load_denoised_data = True\n",
    "# if load_denoised_data:\n",
    "#     print(\"Loading denoised data...\")\n",
    "#     u = np.load(bm3d_file)\n",
    "# else:\n",
    "#     print(\"Denoising\")\n",
    "#     n_sampled_t = 10\n",
    "#     xx = colvec(x)\n",
    "#     u_std = np.ones((u.shape[0], n_sampled_t))\n",
    "#     for i in range(n_sampled_t):\n",
    "#         rng_key_train, rng_key_predict = gpax.utils.get_keys()\n",
    "    \n",
    "#         gp_model = gpax.ExactGP(1, kernel='RBF')\n",
    "#         gp_model.fit(rng_key_train, xx, u[:, np.random.choice(len(t))], \n",
    "#                      num_warmup=5, num_samples=20, jitter=1e-6, \n",
    "#                      chain_method='parallel', print_summary=False)\n",
    "    \n",
    "#         posterior_mean, f_samples = gp_model.predict(rng_key_predict, xx)\n",
    "#         u_std[:, i] = np.std(f_samples[:, 0, :], axis=0)\n",
    "    \n",
    "#     print(u_std.mean(), u_std.max())\n",
    "#     est_sigma = u_std.mean() # max also works well\n",
    "\n",
    "#     u = bm3d.bm3d(u, sigma_psd=est_sigma, \n",
    "#                   stage_arg=bm3d.BM3DStages.ALL_STAGES, \n",
    "#                   blockmatches=(False, False))\n",
    "\n",
    "#     # np.save(bm3d_file, u)\n",
    "\n",
    "np.random.seed(0)\n",
    "fake_noise = np.random.normal(loc=0.0, scale=estimate_sigma(u), size=u.shape)\n",
    "sigmas = estimate_sigma(u+fake_noise)*np.arange(0.1, 2., 0.1)\n",
    "est_sigma = sigmas[np.argmin([((u-bm3d.bm3d(u+fake_noise, sigma_psd=sigma, stage_arg=bm3d.BM3DStages.ALL_STAGES, blockmatches=(False, False)))**2).mean() \\\n",
    "                              for sigma in sigmas])]\n",
    "u = bm3d.bm3d(u, sigma_psd=est_sigma, \n",
    "                  stage_arg=bm3d.BM3DStages.ALL_STAGES, \n",
    "                  blockmatches=(False, False))"
   ]
  },
  {
   "cell_type": "markdown",
   "id": "c5c890b0",
   "metadata": {},
   "source": [
    "### Denoise"
   ]
  },
  {
   "cell_type": "code",
   "execution_count": 6,
   "id": "05a04eb0",
   "metadata": {},
   "outputs": [],
   "source": [
    "xt = np.array([x.reshape(-1, 1), t.reshape(1, -1)], dtype=object)\n",
    "X, T = np.meshgrid(x, t)\n",
    "XT = np.asarray([X, T]).T"
   ]
  },
  {
   "cell_type": "code",
   "execution_count": 7,
   "id": "6aaf2666",
   "metadata": {},
   "outputs": [],
   "source": [
    "function_library = ps.PolynomialLibrary(degree=n_poly, include_bias=False)\n",
    "\n",
    "weak_lib = ps.WeakPDELibrary(\n",
    "    function_library=function_library,\n",
    "    derivative_order=n_derivatives,\n",
    "    spatiotemporal_grid=XT,\n",
    "    include_bias=True,\n",
    "    K=10000\n",
    ")\n",
    "\n",
    "X_pre = np.array(weak_lib.fit_transform(np.expand_dims(u, -1)))\n",
    "y_pre = weak_lib.convert_u_dot_integral(np.expand_dims(u, -1))\n",
    "feature_names = np.array(weak_lib.get_feature_names(), dtype=object)\n",
    "\n",
    "# R_path = \"./Cache/\"\n",
    "# np.save(os.path.join(R_path, f\"X_pre_ks_noise{int(noise_lv)}.npy\"), X_pre)\n",
    "# np.save(os.path.join(R_path, f\"y_pre_ks_noise{int(noise_lv)}.npy\"), y_pre)\n",
    "# np.save(os.path.join(R_path, f\"feature_names_ks.npy\"), feature_names)"
   ]
  },
  {
   "cell_type": "code",
   "execution_count": 8,
   "id": "6ad9a594",
   "metadata": {},
   "outputs": [],
   "source": [
    "base_poly = np.array([[p, 0] for p in range(1, n_poly+1)])\n",
    "base_derivative = np.array([[0, d] for d in range(1, n_derivatives+1)])\n",
    "modules = [(0, 0)] if weak_lib.include_bias else []\n",
    "modules += [(p, 0) for p in range(1, n_poly+1)] + \\\n",
    "            [(0, d) for d in range(1, n_derivatives+1)] + \\\n",
    "            [tuple(p+d) for d in base_derivative for p in base_poly]\n",
    "assert len(modules) == len(weak_lib.get_feature_names())\n",
    "base_features = dict(zip(modules, X_pre.T))\n",
    "u_t = y_pre.copy()"
   ]
  },
  {
   "cell_type": "code",
   "execution_count": 9,
   "id": "0f17d5b3-f19f-4e3c-97eb-fd58a0deb772",
   "metadata": {},
   "outputs": [],
   "source": [
    "# miosr_subsets = solvel0(X_pre, y_pre, miosr=True)"
   ]
  },
  {
   "cell_type": "markdown",
   "id": "bb73e146",
   "metadata": {},
   "source": [
    "### Genetic algorithm with NSGA-II"
   ]
  },
  {
   "cell_type": "code",
   "execution_count": 10,
   "id": "263f3258",
   "metadata": {},
   "outputs": [],
   "source": [
    "pop_size = 500\n",
    "problem = PdeDiscoveryProblem(n_poly, n_derivatives, n_modules, \n",
    "                              base_features, u_t, order_complexity=False)"
   ]
  },
  {
   "cell_type": "code",
   "execution_count": 11,
   "id": "296e4b3d",
   "metadata": {},
   "outputs": [
    {
     "name": "stdout",
     "output_type": "stream",
     "text": [
      "==========================================================\n",
      "n_gen  |  n_eval  | n_nds  |      eps      |   indicator  \n",
      "==========================================================\n",
      "     1 |      500 |      5 |             - |             -\n",
      "     2 |     1000 |      5 |  0.0691515728 |             f\n",
      "     3 |     1500 |      7 |  0.0045281622 |         ideal\n",
      "     4 |     2000 |      6 |  0.0316069190 |         ideal\n",
      "     5 |     2500 |      7 |  0.1349463036 |         ideal\n",
      "     6 |     3000 |      5 |  0.7500000000 |         nadir\n",
      "     7 |     3500 |      5 |  0.0313109605 |             f\n",
      "     8 |     4000 |      5 |  7.677469E-06 |             f\n",
      "     9 |     4500 |      6 |  0.2000000000 |         nadir\n",
      "    10 |     5000 |      7 |  0.1666666667 |         nadir\n",
      "    11 |     5500 |      7 |  0.3333333333 |         nadir\n",
      "    12 |     6000 |      7 |  0.000000E+00 |             f\n",
      "    13 |     6500 |      9 |  0.0246919370 |             f\n",
      "    14 |     7000 |      9 |  3.296001E-06 |             f\n",
      "    15 |     7500 |      9 |  5.120566E-06 |             f\n",
      "    16 |     8000 |      9 |  5.120566E-06 |             f\n",
      "    17 |     8500 |      9 |  0.0000289778 |             f\n",
      "    18 |     9000 |      8 |  0.2857142857 |         nadir\n",
      "    19 |     9500 |      9 |  0.3000000000 |         nadir\n",
      "    20 |    10000 |      9 |  4.064185E-07 |             f\n",
      "    21 |    10500 |      9 |  3.761988E-06 |             f\n",
      "    22 |    11000 |     10 |  0.0100033858 |             f\n",
      "    23 |    11500 |     10 |  0.000000E+00 |             f\n",
      "    24 |    12000 |     10 |  2.645064E-06 |             f\n",
      "    25 |    12500 |     10 |  6.096044E-06 |             f\n",
      "    26 |    13000 |     10 |  0.0000102515 |             f\n",
      "    27 |    13500 |      9 |  0.0000142029 |             f\n",
      "    28 |    14000 |     10 |  0.0000160239 |             f\n",
      "    29 |    14500 |     10 |  0.0000160239 |             f\n",
      "    30 |    15000 |     10 |  0.0000160239 |             f\n",
      "    31 |    15500 |     10 |  0.1111111111 |         nadir\n",
      "    32 |    16000 |     10 |  6.627263E-06 |             f\n",
      "    33 |    16500 |     10 |  8.123645E-06 |             f\n",
      "    34 |    17000 |     10 |  8.123645E-06 |             f\n",
      "    35 |    17500 |     10 |  0.0000110312 |             f\n",
      "    36 |    18000 |     11 |  0.1000000000 |         nadir\n",
      "    37 |    18500 |     11 |  0.000000E+00 |             f\n",
      "    38 |    19000 |     12 |  0.0909090909 |         nadir\n",
      "    39 |    19500 |     12 |  2.220583E-06 |             f\n",
      "    40 |    20000 |     12 |  2.220583E-06 |             f\n",
      "    41 |    20500 |     12 |  7.021205E-06 |             f\n",
      "    42 |    21000 |     11 |  0.0000111195 |             f\n",
      "    43 |    21500 |     11 |  0.0000123083 |             f\n",
      "    44 |    22000 |     11 |  0.0000214792 |             f\n",
      "    45 |    22500 |     10 |  0.0000320251 |             f\n",
      "    46 |    23000 |     10 |  0.0000320251 |             f\n",
      "    47 |    23500 |     11 |  0.0000447327 |             f\n",
      "    48 |    24000 |     11 |  0.0000455397 |             f\n",
      "    49 |    24500 |     10 |  0.1000000000 |         nadir\n",
      "    50 |    25000 |     10 |  3.238605E-06 |             f\n",
      "    51 |    25500 |     10 |  3.238605E-06 |             f\n",
      "    52 |    26000 |     10 |  9.218852E-06 |             f\n",
      "    53 |    26500 |     10 |  9.218852E-06 |             f\n",
      "    54 |    27000 |     11 |  0.0091023619 |             f\n",
      "    55 |    27500 |     11 |  0.000000E+00 |             f\n",
      "    56 |    28000 |     12 |  0.2307692308 |         nadir\n",
      "    57 |    28500 |     12 |  0.000000E+00 |             f\n",
      "    58 |    29000 |     12 |  6.113674E-06 |             f\n",
      "    59 |    29500 |     12 |  0.0000139527 |             f\n",
      "    60 |    30000 |     12 |  0.0000139527 |             f\n",
      "    61 |    30500 |     12 |  0.0000140080 |             f\n",
      "    62 |    31000 |     12 |  0.0000140080 |             f\n",
      "    63 |    31500 |     12 |  0.0000140080 |             f\n",
      "    64 |    32000 |     13 |  0.0059311119 |             f\n",
      "    65 |    32500 |     13 |  8.173158E-07 |             f\n",
      "    66 |    33000 |     13 |  5.645195E-06 |             f\n",
      "    67 |    33500 |     12 |  0.0833333333 |         nadir\n",
      "    68 |    34000 |     12 |  3.081245E-06 |             f\n",
      "    69 |    34500 |     12 |  9.668668E-06 |             f\n",
      "    70 |    35000 |     12 |  0.0000103660 |             f\n",
      "    71 |    35500 |     12 |  0.0000119279 |             f\n",
      "    72 |    36000 |     12 |  0.0000119279 |             f\n",
      "    73 |    36500 |     12 |  0.0000119279 |             f\n",
      "    74 |    37000 |     12 |  0.0000119279 |             f\n",
      "    75 |    37500 |     12 |  0.0000133958 |             f\n",
      "    76 |    38000 |     12 |  0.0000133958 |             f\n",
      "    77 |    38500 |     12 |  0.0000133958 |             f\n",
      "    78 |    39000 |     13 |  0.0064226217 |             f\n",
      "    79 |    39500 |     13 |  0.000000E+00 |             f\n",
      "    80 |    40000 |     13 |  0.000000E+00 |             f\n",
      "    81 |    40500 |     14 |  0.0769230769 |         nadir\n",
      "    82 |    41000 |     15 |  0.0714285714 |         nadir\n",
      "    83 |    41500 |     15 |  0.000000E+00 |             f\n",
      "    84 |    42000 |     15 |  0.000000E+00 |             f\n",
      "    85 |    42500 |     15 |  1.545865E-06 |             f\n",
      "    86 |    43000 |     15 |  2.680583E-06 |             f\n",
      "    87 |    43500 |     16 |  0.0666666667 |         nadir\n",
      "    88 |    44000 |     14 |  5.827322E-06 |             f\n",
      "    89 |    44500 |     14 |  5.827322E-06 |             f\n",
      "    90 |    45000 |     14 |  5.827322E-06 |             f\n",
      "    91 |    45500 |     15 |  7.403660E-06 |             f\n",
      "    92 |    46000 |     15 |  7.403660E-06 |             f\n",
      "    93 |    46500 |     15 |  7.403660E-06 |             f\n",
      "    94 |    47000 |     16 |  8.392692E-06 |             f\n",
      "    95 |    47500 |     16 |  8.392692E-06 |             f\n",
      "    96 |    48000 |     15 |  0.0000106546 |             f\n",
      "    97 |    48500 |     15 |  0.0000106546 |             f\n",
      "    98 |    49000 |     15 |  0.0000106546 |             f\n",
      "    99 |    49500 |     15 |  0.0000106546 |             f\n",
      "   100 |    50000 |     14 |  0.1538461538 |         nadir\n"
     ]
    }
   ],
   "source": [
    "load_pareto_front = False\n",
    "\n",
    "if not load_pareto_front:\n",
    "    termination = DefaultMultiObjectiveTermination(\n",
    "        xtol=1e-8,\n",
    "        cvtol=1e-6,\n",
    "        ftol=1e-8,\n",
    "        period=50,\n",
    "        n_max_gen=100,\n",
    "        n_max_evals=100000\n",
    "    )\n",
    "\n",
    "    from pymoo.algorithms.moo.sms import SMSEMOA\n",
    "\n",
    "    # algorithm = NSGA2(\n",
    "    #                 pop_size=pop_size, \n",
    "    #                 sampling=PopulationSampling(), \n",
    "    #                 crossover=GenomeCrossover(), \n",
    "    #                 mutation=GenomeMutation(), \n",
    "    #                 eliminate_duplicates=DuplicateElimination()\n",
    "    #                 )\n",
    "\n",
    "    # algorithm = DNSGA2(\n",
    "    #                 pop_size=pop_size,\n",
    "    #                 sampling=PopulationSampling(),\n",
    "    #                 crossover=GenomeCrossover(),\n",
    "    #                 mutation=GenomeMutation(),\n",
    "    #                 eliminate_duplicates=DuplicateElimination()\n",
    "    #                 )\n",
    "\n",
    "    algorithm = SMSEMOA(\n",
    "                    pop_size=pop_size,\n",
    "                    sampling=PopulationSampling(),\n",
    "                    crossover=GenomeCrossover(),\n",
    "                    mutation=GenomeMutation(),\n",
    "                    eliminate_duplicates=DuplicateElimination()\n",
    "                    )\n",
    "\n",
    "    res = minimize(problem, \n",
    "                   algorithm, \n",
    "                   termination=termination, \n",
    "                   verbose=True\n",
    "                  )\n",
    "    \n",
    "    pareto_optimal_models = res.X\n",
    "    # np.save(f\"./Cache/pf_ks_noise{int(noise_lv)}.npy\", pareto_optimal_models)\n",
    "\n",
    "else:\n",
    "    pareto_optimal_models = np.load(f\"./Cache/pf_ks_noise{int(noise_lv)}.npy\", allow_pickle=True)\n"
   ]
  },
  {
   "cell_type": "code",
   "execution_count": 12,
   "id": "da36801f-7447-406b-ba5e-234ea3f2f415",
   "metadata": {},
   "outputs": [
    {
     "data": {
      "text/plain": [
       "array([[frozenset({(5, 1)})],\n",
       "       [frozenset({(3, 1), (3, 0)})],\n",
       "       [frozenset({(1, 1), (0, 2), (0, 4)})],\n",
       "       [frozenset({(1, 1), (5, 3), (0, 2), (0, 4)})],\n",
       "       [frozenset({(0, 4), (1, 1), (4, 2), (0, 2), (5, 3)})],\n",
       "       [frozenset({(0, 4), (3, 4), (1, 1), (0, 2), (3, 6), (5, 3)})],\n",
       "       [frozenset({(0, 4), (3, 4), (1, 1), (4, 2), (0, 2), (3, 6), (5, 3)})],\n",
       "       [frozenset({(0, 4), (3, 4), (1, 1), (6, 4), (4, 2), (0, 2), (3, 6), (5, 3)})],\n",
       "       [frozenset({(6, 0), (0, 4), (3, 4), (4, 3), (1, 1), (4, 2), (0, 2), (3, 6), (5, 3)})],\n",
       "       [frozenset({(4, 4), (6, 0), (0, 4), (3, 4), (4, 3), (1, 1), (4, 2), (0, 2), (3, 6), (5, 3)})],\n",
       "       [frozenset({(4, 4), (6, 0), (0, 4), (3, 4), (1, 5), (4, 3), (1, 1), (4, 2), (0, 2), (3, 6), (5, 3)})],\n",
       "       [frozenset({(0, 4), (3, 4), (4, 3), (1, 1), (6, 6), (1, 4), (4, 2), (0, 2), (5, 0), (5, 6), (6, 0), (5, 3)})],\n",
       "       [frozenset({(6, 2), (6, 0), (0, 4), (4, 3), (1, 1), (5, 4), (4, 2), (0, 6), (0, 2), (3, 6), (2, 2), (5, 3), (3, 2)})],\n",
       "       [frozenset({(6, 2), (6, 0), (0, 4), (4, 3), (1, 1), (5, 4), (4, 2), (0, 6), (0, 2), (5, 0), (3, 6), (2, 2), (5, 3), (3, 2)})]],\n",
       "      dtype=object)"
      ]
     },
     "execution_count": 12,
     "metadata": {},
     "output_type": "execute_result"
    }
   ],
   "source": [
    "### OPTIONAL ###\n",
    "from operator import itemgetter\n",
    "\n",
    "effective_candidates = frozenset()\n",
    "for i in range(len(pareto_optimal_models)):\n",
    "    effective_candidates = effective_candidates.union(pareto_optimal_models[i][0])\n",
    "effective_candidates = sorted(effective_candidates)\n",
    "\n",
    "new_pareto_optimal_models = []\n",
    "for bs in backward_refinement([sorted([effective_candidates.index(_) for _ in list(pm[0])]) for pm in pareto_optimal_models], \n",
    "                              (problem.numericalize_genome(effective_candidates), y_pre)).get_best_subsets():\n",
    "    bs = itemgetter(*bs)(effective_candidates)\n",
    "    if type(bs[0]) is not tuple:\n",
    "        bs = (bs,)\n",
    "    new_pareto_optimal_models.append([frozenset(bs)])\n",
    "pareto_optimal_models = np.array(new_pareto_optimal_models)\n",
    "del new_pareto_optimal_models\n",
    "pareto_optimal_models"
   ]
  },
  {
   "cell_type": "code",
   "execution_count": 13,
   "id": "a054f36e",
   "metadata": {},
   "outputs": [
    {
     "data": {
      "text/plain": [
       "(array([0.03144628, 3.        ]),\n",
       " [(2, 4)],\n",
       " [array([14., 13.,  1.,  2.,  3.,  4.,  5.,  6.,  7.,  8.,  9., 10., 11.,\n",
       "         12.]),\n",
       "  array([14., 13.,  1.,  2.,  3.,  4.,  5.,  6.,  7.,  8.,  9., 10., 11.,\n",
       "         12.]),\n",
       "  array([14., 13.,  1.,  2.,  3.,  4.,  5.,  6.,  7.,  8.,  9., 10., 11.,\n",
       "         12.]),\n",
       "  array([14., 13.,  1.,  2.,  3.,  4.,  5.,  6.,  7.,  8.,  9., 10., 11.,\n",
       "         12.])],\n",
       " [array([0.1276571 , 0.28611639, 0.97810333, 0.96750144, 0.95709412,\n",
       "         0.94689505, 0.93689421, 0.92709623, 0.91749139, 0.908084  ,\n",
       "         0.89886435, 0.88983389, 0.88099883, 0.8723429 ]),\n",
       "  array([-0.66615702, -0.44671716,  0.18567592,  0.17609409,  0.16636991,\n",
       "          0.15670342,  0.14696151,  0.1372472 ,  0.12746889,  0.11771181,\n",
       "          0.10790148,  0.09808413,  0.08833291,  0.07852879]),\n",
       "  array([0.25      , 0.42787604, 0.96079012, 0.94176393, 0.92261535,\n",
       "         0.90351637, 0.88435255, 0.86521245, 0.84601733, 0.82684047,\n",
       "         0.80761782, 0.78838914, 0.76921731, 0.75      ]),\n",
       "  array([0.8723429 , 0.65290304, 0.02050997, 0.03009179, 0.03981598,\n",
       "         0.04948246, 0.05922437, 0.06893868, 0.07871699, 0.08847407,\n",
       "         0.09828441, 0.10810175, 0.11785297, 0.1276571 ])])"
      ]
     },
     "execution_count": 13,
     "metadata": {},
     "output_type": "execute_result"
    }
   ],
   "source": [
    "from collections import Counter\n",
    "from pymcdm import weights as obj_w\n",
    "from compromise_programming import mcdm, ranks2decision\n",
    "\n",
    "F = problem.evaluate(pareto_optimal_models)\n",
    "obj_weights = obj_w.entropy_weights(F)\n",
    "types = [-1, -1]\n",
    "\n",
    "ranks, prefs = mcdm(F, obj_weights, types)\n",
    "balance_point, most_common = ranks2decision(ranks)\n",
    "F[balance_point], most_common, ranks, prefs"
   ]
  },
  {
   "cell_type": "code",
   "execution_count": null,
   "id": "edd16124-7da7-47f9-b3aa-5f7eedd5997a",
   "metadata": {},
   "outputs": [],
   "source": []
  },
  {
   "cell_type": "code",
   "execution_count": null,
   "id": "a31c8378-1536-43e3-8be9-7849bd772a4d",
   "metadata": {},
   "outputs": [],
   "source": []
  },
  {
   "cell_type": "markdown",
   "id": "49cd6196-0d2a-4edc-bd1e-a38d29c4c861",
   "metadata": {},
   "source": [
    "### Intercept or NO Intercept? ###"
   ]
  },
  {
   "cell_type": "code",
   "execution_count": 14,
   "id": "ad6f873b-2fdc-4269-ba11-314a37f001c5",
   "metadata": {},
   "outputs": [],
   "source": [
    "# true_indices = [8, 10, 13]\n",
    "# true_coefficients = [-1, -1, -1]\n",
    "# true_ols = sm.OLS(y_pre, X_pre[:, true_indices]).fit()\n",
    "# estimated_coefficients = true_ols.params\n",
    "# print(estimated_coefficients, mean_absolute_percentage_error(true_coefficients, estimated_coefficients))\n",
    "# true_ols.bic, sm.OLS(y_pre, X_pre[:, [0] + true_indices]).fit().bic"
   ]
  }
 ],
 "metadata": {
  "kernelspec": {
   "display_name": "Python [conda env:econ]",
   "language": "python",
   "name": "conda-env-econ-py"
  },
  "language_info": {
   "codemirror_mode": {
    "name": "ipython",
    "version": 3
   },
   "file_extension": ".py",
   "mimetype": "text/x-python",
   "name": "python",
   "nbconvert_exporter": "python",
   "pygments_lexer": "ipython3",
   "version": "3.10.9"
  }
 },
 "nbformat": 4,
 "nbformat_minor": 5
}

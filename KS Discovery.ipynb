{
 "cells": [
  {
   "cell_type": "code",
   "execution_count": 1,
   "id": "d8401bd4",
   "metadata": {},
   "outputs": [
    {
     "name": "stdout",
     "output_type": "stream",
     "text": [
      "mrmr is not installed in the env you are using. This may cause an error in future if you try to use the (missing) lib.\n",
      "L0BnB is not installed.\n"
     ]
    }
   ],
   "source": [
    "%load_ext autoreload\n",
    "%autoreload 2\n",
    "%matplotlib inline\n",
    "import matplotlib.pyplot as plt\n",
    "import scienceplots\n",
    "\n",
    "import math\n",
    "import os\n",
    "import random\n",
    "from functools import partial\n",
    "from decimal import Decimal\n",
    "import numpy as np\n",
    "# from sklearnex import patch_sklearn; patch_sklearn()\n",
    "import scipy.io as sio\n",
    "import pysindy as ps\n",
    "from tqdm import trange\n",
    "\n",
    "from pymoo_ga import *\n",
    "# NSGA2, DNSGA2, SMSEMOA, AGEMOEA2\n",
    "from pymoo.algorithms.moo.nsga2 import NSGA2\n",
    "from pymoo.algorithms.moo.dnsga2 import DNSGA2\n",
    "from pymoo.algorithms.moo.sms import SMSEMOA\n",
    "from pymoo.algorithms.moo.age2 import AGEMOEA2\n",
    "from pymoo.core.duplicate import ElementwiseDuplicateElimination\n",
    "from pymoo.termination.default import DefaultMultiObjectiveTermination\n",
    "from pymoo.optimize import minimize\n",
    "\n",
    "from utils import *\n",
    "from skimage.restoration import estimate_sigma\n",
    "import bm3d\n",
    "# from okridge.solvel0 import *\n",
    "from solvel0 import solvel0, MIOSR\n",
    "from best_subset import backward_refinement, brute_force_all_subsets\n",
    "from UBIC import *\n",
    "from kneed import KneeLocator\n",
    "from bayesian_model_evidence import log_evidence\n",
    "\n",
    "from sklearn.gaussian_process import GaussianProcessRegressor\n",
    "from sklearn.gaussian_process.kernels import RBF, WhiteKernel\n",
    "from sklearn.preprocessing import StandardScaler\n",
    "from sklearn import covariance\n",
    "from sklearn.metrics import mean_absolute_percentage_error"
   ]
  },
  {
   "cell_type": "code",
   "execution_count": 2,
   "id": "5916f2d3",
   "metadata": {},
   "outputs": [],
   "source": [
    "n_poly = 6\n",
    "n_derivatives = 6\n",
    "n_modules = 8"
   ]
  },
  {
   "cell_type": "code",
   "execution_count": 3,
   "id": "8eaa96d0",
   "metadata": {},
   "outputs": [
    {
     "name": "stdout",
     "output_type": "stream",
     "text": [
      "['KdV_sine_rep_big.mat', 'kuramoto_sivishinky.mat', 'lorenz100.npy', 'Wave_equation', 'KdV_rudy.mat', 'lorenz10.npy', 'KG_Exp.mat', 'burgers.mat']\n"
     ]
    }
   ],
   "source": [
    "data_path = \"../PDE-Discovery-EC/Datasets/\"\n",
    "print(os.listdir(data_path))\n",
    "data = sio.loadmat(os.path.join(data_path, \"kuramoto_sivishinky.mat\"))\n",
    "u_clean = (data['uu']).real; u = u_clean.copy()\n",
    "x = data['x'].ravel()\n",
    "t = data['tt'].ravel()\n",
    "dt = t[1]-t[0]; dx = x[2]-x[1]"
   ]
  },
  {
   "cell_type": "markdown",
   "id": "3a1e0adc",
   "metadata": {},
   "source": [
    "### Add noise"
   ]
  },
  {
   "cell_type": "code",
   "execution_count": 4,
   "id": "888ee41f",
   "metadata": {},
   "outputs": [
    {
     "name": "stdout",
     "output_type": "stream",
     "text": [
      "Noise level: 50.0\n"
     ]
    }
   ],
   "source": [
    "np.random.seed(0)\n",
    "noise_type = \"gaussian\"\n",
    "noise_lv = float(50)\n",
    "print(\"Noise level:\", noise_lv)\n",
    "noise = 0.01*np.abs(noise_lv)*(u.std())*np.random.randn(u.shape[0],u.shape[1])\n",
    "u = u + noise"
   ]
  },
  {
   "cell_type": "markdown",
   "id": "2f675560",
   "metadata": {},
   "source": [
    "### Gaussian process\n",
    "    - removing entries in x that show high std"
   ]
  },
  {
   "cell_type": "code",
   "execution_count": 5,
   "id": "f3b809d1",
   "metadata": {},
   "outputs": [],
   "source": [
    "# import gpax\n",
    "\n",
    "# bm3d_file = f\"./Denoised_data/ks_{noise_type}{int(noise_lv)}_bm3d.npy\"\n",
    "# load_denoised_data = True\n",
    "# if load_denoised_data:\n",
    "#     print(\"Loading denoised data...\")\n",
    "#     u = np.load(bm3d_file)\n",
    "# else:\n",
    "#     print(\"Denoising\")\n",
    "#     n_sampled_t = 10\n",
    "#     xx = colvec(x)\n",
    "#     u_std = np.ones((u.shape[0], n_sampled_t))\n",
    "#     for i in range(n_sampled_t):\n",
    "#         rng_key_train, rng_key_predict = gpax.utils.get_keys()\n",
    "    \n",
    "#         gp_model = gpax.ExactGP(1, kernel='RBF')\n",
    "#         gp_model.fit(rng_key_train, xx, u[:, np.random.choice(len(t))], \n",
    "#                      num_warmup=5, num_samples=20, jitter=1e-6, \n",
    "#                      chain_method='parallel', print_summary=False)\n",
    "    \n",
    "#         posterior_mean, f_samples = gp_model.predict(rng_key_predict, xx)\n",
    "#         u_std[:, i] = np.std(f_samples[:, 0, :], axis=0)\n",
    "    \n",
    "#     print(u_std.mean(), u_std.max())\n",
    "#     est_sigma = u_std.mean() # max also works well\n",
    "\n",
    "#     u = bm3d.bm3d(u, sigma_psd=est_sigma, \n",
    "#                   stage_arg=bm3d.BM3DStages.ALL_STAGES, \n",
    "#                   blockmatches=(False, False))\n",
    "\n",
    "#     # np.save(bm3d_file, u)\n",
    "\n",
    "np.random.seed(0)\n",
    "fake_noise = np.random.normal(loc=0.0, scale=estimate_sigma(u), size=u.shape)\n",
    "sigmas = estimate_sigma(u+fake_noise)*np.arange(0.1, 2., 0.1)\n",
    "est_sigma = sigmas[np.argmin([((u-bm3d.bm3d(u+fake_noise, sigma_psd=sigma, stage_arg=bm3d.BM3DStages.ALL_STAGES, blockmatches=(False, False)))**2).mean() \\\n",
    "                              for sigma in sigmas])]\n",
    "u = bm3d.bm3d(u, sigma_psd=est_sigma, \n",
    "                  stage_arg=bm3d.BM3DStages.ALL_STAGES, \n",
    "                  blockmatches=(False, False))"
   ]
  },
  {
   "cell_type": "markdown",
   "id": "c5c890b0",
   "metadata": {},
   "source": [
    "### Denoise"
   ]
  },
  {
   "cell_type": "code",
   "execution_count": 6,
   "id": "05a04eb0",
   "metadata": {},
   "outputs": [],
   "source": [
    "xt = np.array([x.reshape(-1, 1), t.reshape(1, -1)], dtype=object)\n",
    "X, T = np.meshgrid(x, t)\n",
    "XT = np.asarray([X, T]).T"
   ]
  },
  {
   "cell_type": "code",
   "execution_count": 7,
   "id": "6aaf2666",
   "metadata": {},
   "outputs": [],
   "source": [
    "function_library = ps.PolynomialLibrary(degree=n_poly, include_bias=False)\n",
    "\n",
    "weak_lib = ps.WeakPDELibrary(\n",
    "    function_library=function_library,\n",
    "    derivative_order=n_derivatives,\n",
    "    spatiotemporal_grid=XT,\n",
    "    include_bias=True,\n",
    "    K=10000\n",
    ")\n",
    "\n",
    "X_pre = np.array(weak_lib.fit_transform(np.expand_dims(u, -1)))\n",
    "y_pre = weak_lib.convert_u_dot_integral(np.expand_dims(u, -1))\n",
    "feature_names = np.array(weak_lib.get_feature_names(), dtype=object)\n",
    "\n",
    "# R_path = \"./Cache/\"\n",
    "# np.save(os.path.join(R_path, f\"X_pre_ks_noise{int(noise_lv)}.npy\"), X_pre)\n",
    "# np.save(os.path.join(R_path, f\"y_pre_ks_noise{int(noise_lv)}.npy\"), y_pre)\n",
    "# np.save(os.path.join(R_path, f\"feature_names_ks.npy\"), feature_names)"
   ]
  },
  {
   "cell_type": "code",
   "execution_count": 8,
   "id": "6ad9a594",
   "metadata": {},
   "outputs": [],
   "source": [
    "base_poly = np.array([[p, 0] for p in range(1, n_poly+1)])\n",
    "base_derivative = np.array([[0, d] for d in range(1, n_derivatives+1)])\n",
    "modules = [(0, 0)] if weak_lib.include_bias else []\n",
    "modules += [(p, 0) for p in range(1, n_poly+1)] + \\\n",
    "            [(0, d) for d in range(1, n_derivatives+1)] + \\\n",
    "            [tuple(p+d) for d in base_derivative for p in base_poly]\n",
    "assert len(modules) == len(weak_lib.get_feature_names())\n",
    "base_features = dict(zip(modules, X_pre.T))\n",
    "u_t = y_pre.copy()"
   ]
  },
  {
   "cell_type": "code",
   "execution_count": 9,
   "id": "0f17d5b3-f19f-4e3c-97eb-fd58a0deb772",
   "metadata": {},
   "outputs": [],
   "source": [
    "# miosr_subsets = solvel0(X_pre, y_pre, miosr=True)"
   ]
  },
  {
   "cell_type": "markdown",
   "id": "bb73e146",
   "metadata": {},
   "source": [
    "### Genetic algorithm with NSGA-II"
   ]
  },
  {
   "cell_type": "code",
   "execution_count": 10,
   "id": "263f3258",
   "metadata": {},
   "outputs": [],
   "source": [
    "pop_size = 500\n",
    "problem = PdeDiscoveryProblem(n_poly, n_derivatives, n_modules, \n",
    "                              base_features, u_t, order_complexity=False)"
   ]
  },
  {
   "cell_type": "code",
   "execution_count": 11,
   "id": "296e4b3d",
   "metadata": {},
   "outputs": [
    {
     "name": "stdout",
     "output_type": "stream",
     "text": [
      "==========================================================\n",
      "n_gen  |  n_eval  | n_nds  |      eps      |   indicator  \n",
      "==========================================================\n",
      "     1 |      500 |      5 |             - |             -\n",
      "     2 |     1000 |      6 |  0.0027812566 |         nadir\n",
      "     3 |     1500 |      6 |  0.0560823698 |             f\n",
      "     4 |     2000 |      6 |  0.000000E+00 |             f\n",
      "     5 |     2500 |      6 |  0.0683289588 |             f\n",
      "     6 |     3000 |      7 |  0.0325106768 |             f\n",
      "     7 |     3500 |      7 |  2.043582E-07 |             f\n",
      "     8 |     4000 |      6 |  0.4000000000 |         nadir\n",
      "     9 |     4500 |      6 |  0.0405941762 |             f\n",
      "    10 |     5000 |      5 |  0.2500000000 |         nadir\n",
      "    11 |     5500 |      5 |  0.000000E+00 |             f\n",
      "    12 |     6000 |      5 |  0.0932955159 |             f\n",
      "    13 |     6500 |      6 |  0.3333333333 |         nadir\n",
      "    14 |     7000 |      6 |  0.000000E+00 |             f\n",
      "    15 |     7500 |      6 |  0.0000399016 |             f\n",
      "    16 |     8000 |      7 |  0.0238437256 |             f\n",
      "    17 |     8500 |      8 |  0.2500000000 |         nadir\n",
      "    18 |     9000 |      9 |  0.1111111111 |         nadir\n",
      "    19 |     9500 |      9 |  2.542793E-06 |             f\n",
      "    20 |    10000 |      9 |  2.542793E-06 |             f\n",
      "    21 |    10500 |      8 |  0.2857142857 |         nadir\n",
      "    22 |    11000 |      7 |  0.1666666667 |         nadir\n",
      "    23 |    11500 |      7 |  3.118827E-06 |             f\n",
      "    24 |    12000 |      8 |  0.1428571429 |         nadir\n",
      "    25 |    12500 |      9 |  0.1250000000 |         nadir\n",
      "    26 |    13000 |      9 |  0.000000E+00 |             f\n",
      "    27 |    13500 |      7 |  0.0000273253 |             f\n",
      "    28 |    14000 |      8 |  0.2727272727 |         nadir\n",
      "    29 |    14500 |      9 |  0.0833333333 |         nadir\n",
      "    30 |    15000 |      9 |  0.000000E+00 |             f\n",
      "    31 |    15500 |      9 |  0.000000E+00 |             f\n",
      "    32 |    16000 |     10 |  0.0083333351 |             f\n",
      "    33 |    16500 |     10 |  0.000000E+00 |             f\n",
      "    34 |    17000 |     11 |  0.0075770471 |             f\n",
      "    35 |    17500 |     11 |  0.000000E+00 |             f\n",
      "    36 |    18000 |     11 |  0.000000E+00 |             f\n",
      "    37 |    18500 |     12 |  0.0069444471 |             f\n",
      "    38 |    19000 |     11 |  8.880269E-06 |             f\n",
      "    39 |    19500 |     11 |  0.0000120737 |             f\n",
      "    40 |    20000 |     11 |  0.0075940579 |             f\n",
      "    41 |    20500 |     11 |  0.000000E+00 |             f\n",
      "    42 |    21000 |     11 |  0.000000E+00 |             f\n",
      "    43 |    21500 |     11 |  0.000000E+00 |             f\n",
      "    44 |    22000 |     11 |  0.000000E+00 |             f\n",
      "    45 |    22500 |     13 |  0.0128244622 |             f\n",
      "    46 |    23000 |     13 |  1.542611E-06 |             f\n",
      "    47 |    23500 |     13 |  1.542611E-06 |             f\n",
      "    48 |    24000 |     13 |  3.401303E-06 |             f\n",
      "    49 |    24500 |     13 |  3.401303E-06 |             f\n",
      "    50 |    25000 |     13 |  5.362943E-06 |             f\n",
      "    51 |    25500 |     13 |  5.362943E-06 |             f\n",
      "    52 |    26000 |     13 |  5.362943E-06 |             f\n",
      "    53 |    26500 |     13 |  0.0000111229 |             f\n",
      "    54 |    27000 |     13 |  0.0000111229 |             f\n",
      "    55 |    27500 |     13 |  0.0000111229 |             f\n",
      "    56 |    28000 |     13 |  0.0000121565 |             f\n",
      "    57 |    28500 |     13 |  0.0000121565 |             f\n",
      "    58 |    29000 |     13 |  0.0000157059 |             f\n",
      "    59 |    29500 |     13 |  0.0000157059 |             f\n",
      "    60 |    30000 |     13 |  0.0000157059 |             f\n",
      "    61 |    30500 |     13 |  0.0000157059 |             f\n",
      "    62 |    31000 |     13 |  0.0000157059 |             f\n",
      "    63 |    31500 |     13 |  0.0000157059 |             f\n",
      "    64 |    32000 |     13 |  0.0000158868 |             f\n",
      "    65 |    32500 |     13 |  0.0000174691 |             f\n",
      "    66 |    33000 |     13 |  0.0000180982 |             f\n",
      "    67 |    33500 |     13 |  0.0000180982 |             f\n",
      "    68 |    34000 |     14 |  0.2500000000 |         nadir\n",
      "    69 |    34500 |     13 |  2.041117E-06 |             f\n",
      "    70 |    35000 |     13 |  2.041117E-06 |             f\n",
      "    71 |    35500 |     12 |  0.4545454545 |         nadir\n",
      "    72 |    36000 |     13 |  0.0833333333 |         nadir\n",
      "    73 |    36500 |     13 |  1.651375E-07 |             f\n",
      "    74 |    37000 |     13 |  1.651375E-07 |             f\n",
      "    75 |    37500 |     14 |  0.2000000000 |         nadir\n",
      "    76 |    38000 |     14 |  0.1538461538 |         nadir\n",
      "    77 |    38500 |     14 |  0.000000E+00 |             f\n",
      "    78 |    39000 |     13 |  0.0833333333 |         nadir\n",
      "    79 |    39500 |     13 |  5.833780E-06 |             f\n",
      "    80 |    40000 |     13 |  7.294131E-06 |             f\n",
      "    81 |    40500 |     14 |  0.1428571429 |         nadir\n",
      "    82 |    41000 |     14 |  0.000000E+00 |             f\n",
      "    83 |    41500 |     14 |  8.133816E-07 |             f\n",
      "    84 |    42000 |     14 |  2.682642E-06 |             f\n",
      "    85 |    42500 |     14 |  4.516220E-06 |             f\n",
      "    86 |    43000 |     14 |  5.831558E-06 |             f\n",
      "    87 |    43500 |     14 |  9.182408E-06 |             f\n",
      "    88 |    44000 |     14 |  9.182408E-06 |             f\n",
      "    89 |    44500 |     14 |  0.0000128407 |             f\n",
      "    90 |    45000 |     14 |  0.0000128407 |             f\n",
      "    91 |    45500 |     14 |  0.0000128407 |             f\n",
      "    92 |    46000 |     14 |  0.0000139267 |             f\n",
      "    93 |    46500 |     14 |  0.0000139267 |             f\n",
      "    94 |    47000 |     14 |  0.0000139267 |             f\n",
      "    95 |    47500 |     14 |  0.0000139267 |             f\n",
      "    96 |    48000 |     15 |  0.0047749031 |             f\n",
      "    97 |    48500 |     15 |  0.000000E+00 |             f\n",
      "    98 |    49000 |     15 |  1.096262E-07 |             f\n",
      "    99 |    49500 |     15 |  1.096262E-07 |             f\n",
      "   100 |    50000 |     15 |  1.096262E-07 |             f\n"
     ]
    }
   ],
   "source": [
    "load_pareto_front = False\n",
    "\n",
    "if not load_pareto_front:\n",
    "    termination = DefaultMultiObjectiveTermination(\n",
    "        xtol=1e-8,\n",
    "        cvtol=1e-6,\n",
    "        ftol=1e-8,\n",
    "        period=50,\n",
    "        n_max_gen=100,\n",
    "        n_max_evals=100000\n",
    "    )\n",
    "\n",
    "    from pymoo.algorithms.moo.sms import SMSEMOA\n",
    "\n",
    "    # algorithm = NSGA2(\n",
    "    #                 pop_size=pop_size, \n",
    "    #                 sampling=PopulationSampling(), \n",
    "    #                 crossover=GenomeCrossover(), \n",
    "    #                 mutation=GenomeMutation(), \n",
    "    #                 eliminate_duplicates=DuplicateElimination()\n",
    "    #                 )\n",
    "\n",
    "    # algorithm = DNSGA2(\n",
    "    #                 pop_size=pop_size,\n",
    "    #                 sampling=PopulationSampling(),\n",
    "    #                 crossover=GenomeCrossover(),\n",
    "    #                 mutation=GenomeMutation(),\n",
    "    #                 eliminate_duplicates=DuplicateElimination()\n",
    "    #                 )\n",
    "\n",
    "    algorithm = SMSEMOA(\n",
    "                    pop_size=pop_size,\n",
    "                    sampling=PopulationSampling(),\n",
    "                    crossover=GenomeCrossover(),\n",
    "                    mutation=GenomeMutation(),\n",
    "                    eliminate_duplicates=DuplicateElimination()\n",
    "                    )\n",
    "\n",
    "    res = minimize(problem, \n",
    "                   algorithm, \n",
    "                   termination=termination, \n",
    "                   verbose=True\n",
    "                  )\n",
    "    \n",
    "    pareto_optimal_models = res.X\n",
    "    # np.save(f\"./Cache/pf_ks_noise{int(noise_lv)}.npy\", pareto_optimal_models)\n",
    "\n",
    "else:\n",
    "    pareto_optimal_models = np.load(f\"./Cache/pf_ks_noise{int(noise_lv)}.npy\", allow_pickle=True)\n"
   ]
  },
  {
   "cell_type": "code",
   "execution_count": 12,
   "id": "da36801f-7447-406b-ba5e-234ea3f2f415",
   "metadata": {},
   "outputs": [
    {
     "data": {
      "text/plain": [
       "array([[frozenset({(5, 1)})],\n",
       "       [frozenset({(3, 1), (3, 0)})],\n",
       "       [frozenset({(1, 1), (0, 2), (0, 4)})],\n",
       "       [frozenset({(1, 1), (5, 3), (0, 2), (0, 4)})],\n",
       "       [frozenset({(0, 4), (1, 1), (4, 2), (0, 2), (5, 3)})],\n",
       "       [frozenset({(0, 4), (3, 4), (1, 1), (0, 2), (3, 6), (5, 3)})],\n",
       "       [frozenset({(0, 4), (3, 4), (1, 1), (4, 2), (0, 2), (3, 6), (5, 3)})],\n",
       "       [frozenset({(0, 4), (3, 4), (1, 1), (6, 4), (4, 2), (0, 2), (3, 6), (5, 3)})],\n",
       "       [frozenset({(0, 4), (3, 4), (1, 1), (6, 4), (4, 2), (0, 2), (5, 0), (3, 6), (5, 3)})],\n",
       "       [frozenset({(4, 0), (0, 4), (3, 4), (4, 3), (1, 1), (6, 4), (4, 2), (0, 2), (3, 6), (5, 3)})],\n",
       "       [frozenset({(4, 0), (0, 4), (3, 4), (4, 3), (1, 1), (6, 4), (4, 2), (0, 6), (0, 2), (3, 6), (5, 3)})],\n",
       "       [frozenset({(4, 0), (0, 4), (3, 4), (6, 1), (1, 1), (6, 4), (4, 2), (0, 2), (4, 5), (3, 6), (5, 3), (3, 2)})],\n",
       "       [frozenset({(4, 0), (0, 4), (3, 4), (6, 1), (1, 1), (6, 4), (4, 2), (0, 2), (4, 5), (5, 0), (3, 6), (5, 3), (3, 2)})],\n",
       "       [frozenset({(4, 0), (0, 4), (3, 4), (6, 1), (1, 1), (4, 6), (6, 4), (4, 2), (0, 2), (4, 5), (5, 0), (3, 6), (5, 3), (3, 2)})],\n",
       "       [frozenset({(4, 0), (0, 4), (3, 4), (6, 1), (1, 1), (4, 6), (6, 4), (4, 2), (0, 2), (4, 5), (5, 0), (3, 6), (5, 3), (3, 2), (6, 3)})]],\n",
       "      dtype=object)"
      ]
     },
     "execution_count": 12,
     "metadata": {},
     "output_type": "execute_result"
    }
   ],
   "source": [
    "### OPTIONAL ###\n",
    "from operator import itemgetter\n",
    "\n",
    "effective_candidates = frozenset()\n",
    "for i in range(len(pareto_optimal_models)):\n",
    "    effective_candidates = effective_candidates.union(pareto_optimal_models[i][0])\n",
    "effective_candidates = sorted(effective_candidates)\n",
    "\n",
    "new_pareto_optimal_models = []\n",
    "for bs in backward_refinement([sorted([effective_candidates.index(_) for _ in list(pm[0])]) for pm in pareto_optimal_models], \n",
    "                              (problem.numericalize_genome(effective_candidates), y_pre)).get_best_subsets():\n",
    "    bs = itemgetter(*bs)(effective_candidates)\n",
    "    if type(bs[0]) is not tuple:\n",
    "        bs = (bs,)\n",
    "    new_pareto_optimal_models.append([frozenset(bs)])\n",
    "pareto_optimal_models = np.array(new_pareto_optimal_models)\n",
    "del new_pareto_optimal_models\n",
    "pareto_optimal_models"
   ]
  },
  {
   "cell_type": "code",
   "execution_count": 13,
   "id": "a054f36e",
   "metadata": {},
   "outputs": [
    {
     "data": {
      "text/plain": [
       "(array([0.03144628, 3.        ]), [(2, 4)])"
      ]
     },
     "execution_count": 13,
     "metadata": {},
     "output_type": "execute_result"
    }
   ],
   "source": [
    "from collections import Counter\n",
    "from pymcdm import weights as obj_w\n",
    "from compromise_programming import mcdm\n",
    "\n",
    "F = problem.evaluate(pareto_optimal_models)\n",
    "obj_weights = obj_w.entropy_weights(F)\n",
    "types = [-1, -1]\n",
    "\n",
    "ranks = mcdm(F, obj_weights, types)\n",
    "ranks = Counter(np.argmin(ranks, axis=1)).most_common()\n",
    "balance_point = F[ranks[0][0]]\n",
    "balance_point, ranks"
   ]
  },
  {
   "cell_type": "code",
   "execution_count": null,
   "id": "edd16124-7da7-47f9-b3aa-5f7eedd5997a",
   "metadata": {},
   "outputs": [],
   "source": []
  },
  {
   "cell_type": "code",
   "execution_count": null,
   "id": "a31c8378-1536-43e3-8be9-7849bd772a4d",
   "metadata": {},
   "outputs": [],
   "source": []
  },
  {
   "cell_type": "markdown",
   "id": "49cd6196-0d2a-4edc-bd1e-a38d29c4c861",
   "metadata": {},
   "source": [
    "### Intercept or NO Intercept? ###"
   ]
  },
  {
   "cell_type": "code",
   "execution_count": 14,
   "id": "ad6f873b-2fdc-4269-ba11-314a37f001c5",
   "metadata": {},
   "outputs": [],
   "source": [
    "# true_indices = [8, 10, 13]\n",
    "# true_coefficients = [-1, -1, -1]\n",
    "# true_ols = sm.OLS(y_pre, X_pre[:, true_indices]).fit()\n",
    "# estimated_coefficients = true_ols.params\n",
    "# print(estimated_coefficients, mean_absolute_percentage_error(true_coefficients, estimated_coefficients))\n",
    "# true_ols.bic, sm.OLS(y_pre, X_pre[:, [0] + true_indices]).fit().bic"
   ]
  }
 ],
 "metadata": {
  "kernelspec": {
   "display_name": "Python [conda env:econ]",
   "language": "python",
   "name": "conda-env-econ-py"
  },
  "language_info": {
   "codemirror_mode": {
    "name": "ipython",
    "version": 3
   },
   "file_extension": ".py",
   "mimetype": "text/x-python",
   "name": "python",
   "nbconvert_exporter": "python",
   "pygments_lexer": "ipython3",
   "version": "3.10.9"
  }
 },
 "nbformat": 4,
 "nbformat_minor": 5
}

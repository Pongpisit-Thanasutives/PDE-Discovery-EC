{
 "cells": [
  {
   "cell_type": "code",
   "execution_count": 1,
   "id": "d8401bd4",
   "metadata": {},
   "outputs": [
    {
     "name": "stderr",
     "output_type": "stream",
     "text": [
      "/opt/anaconda3/envs/sindy/lib/python3.10/site-packages/tqdm/auto.py:21: TqdmWarning: IProgress not found. Please update jupyter and ipywidgets. See https://ipywidgets.readthedocs.io/en/stable/user_install.html\n",
      "  from .autonotebook import tqdm as notebook_tqdm\n"
     ]
    },
    {
     "name": "stdout",
     "output_type": "stream",
     "text": [
      "Sklearn's version: 1.6.1\n"
     ]
    }
   ],
   "source": [
    "%load_ext autoreload\n",
    "%autoreload 2\n",
    "%matplotlib inline\n",
    "import matplotlib.pyplot as plt\n",
    "import scienceplots\n",
    "\n",
    "import math\n",
    "import os\n",
    "import random\n",
    "from functools import partial\n",
    "from decimal import Decimal\n",
    "import numpy as np\n",
    "import scipy.io as sio\n",
    "import pysindy as ps\n",
    "from tqdm import trange\n",
    "\n",
    "# NSGA2, DNSGA2, SMSEMOA, AGEMOEA2\n",
    "from pymoo.algorithms.moo.nsga2 import NSGA2\n",
    "from pymoo.algorithms.moo.dnsga2 import DNSGA2\n",
    "from pymoo.algorithms.moo.sms import SMSEMOA\n",
    "from pymoo.algorithms.moo.age2 import AGEMOEA2\n",
    "from pymoo.core.problem import ElementwiseProblem\n",
    "from pymoo.core.sampling import Sampling\n",
    "from pymoo.core.crossover import Crossover\n",
    "from pymoo.core.mutation import Mutation\n",
    "from pymoo.core.duplicate import ElementwiseDuplicateElimination\n",
    "from pymoo.termination.default import DefaultMultiObjectiveTermination\n",
    "from pymoo.optimize import minimize\n",
    "from pymoo.visualization.scatter import Scatter\n",
    "\n",
    "from utils import *\n",
    "from skimage.restoration import estimate_sigma\n",
    "import bm3d\n",
    "from okridge.solvel0 import *\n",
    "from solvel0 import solvel0\n",
    "from best_subset import backward_refinement, brute_force_all_subsets\n",
    "from UBIC import *\n",
    "from kneed import KneeLocator\n",
    "\n",
    "from sklearn.gaussian_process import GaussianProcessRegressor\n",
    "from sklearn.gaussian_process.kernels import RBF, WhiteKernel"
   ]
  },
  {
   "cell_type": "code",
   "execution_count": 2,
   "id": "5916f2d3",
   "metadata": {},
   "outputs": [],
   "source": [
    "n_poly = 6\n",
    "n_derivatives = 6\n",
    "n_modules = 8"
   ]
  },
  {
   "cell_type": "code",
   "execution_count": 3,
   "id": "8eaa96d0",
   "metadata": {},
   "outputs": [
    {
     "name": "stdout",
     "output_type": "stream",
     "text": [
      "['KdV_sine_rep_big.mat', 'kuramoto_sivishinky.mat', 'lorenz100.npy', 'KdV_rudy.mat', 'lorenz10.npy', 'burgers.mat']\n"
     ]
    }
   ],
   "source": [
    "data_path = \"../PDE-Discovery-EC/Datasets/\"\n",
    "print(os.listdir(data_path))\n",
    "data = sio.loadmat(os.path.join(data_path, \"KdV_rudy.mat\"))\n",
    "u_clean = (data['usol']).real; u = u_clean.copy()\n",
    "x = data['x'].ravel()\n",
    "t = data['t'].ravel()\n",
    "dt = t[1]-t[0]; dx = x[2]-x[1]"
   ]
  },
  {
   "cell_type": "markdown",
   "id": "3a1e0adc",
   "metadata": {},
   "source": [
    "### Add noise"
   ]
  },
  {
   "cell_type": "code",
   "execution_count": 5,
   "id": "888ee41f",
   "metadata": {},
   "outputs": [
    {
     "name": "stdout",
     "output_type": "stream",
     "text": [
      "Noise level: 50.0\n"
     ]
    }
   ],
   "source": [
    "np.random.seed(0)\n",
    "noise_lv = float(50)\n",
    "print(\"Noise level:\", noise_lv)\n",
    "noise = 0.01*np.abs(noise_lv)*(u.std())*np.random.randn(u.shape[0],u.shape[1])\n",
    "u = u + noise"
   ]
  },
  {
   "cell_type": "code",
   "execution_count": 6,
   "id": "d9754901",
   "metadata": {},
   "outputs": [
    {
     "name": "stderr",
     "output_type": "stream",
     "text": [
      "100%|█████████████████████████████████████████████████████████████| 30/30 [02:28<00:00,  4.95s/it]\n"
     ]
    }
   ],
   "source": [
    "n_sampled_t = 30\n",
    "\n",
    "kernel = RBF(length_scale=1, length_scale_bounds=(1e-2, 1e3)) + \\\n",
    "        WhiteKernel(noise_level=1, noise_level_bounds=(1e-10, 1e10))\n",
    "\n",
    "xx = colvec(x)\n",
    "u_std = np.ones((u.shape[0], n_sampled_t))\n",
    "for i in trange(n_sampled_t):    \n",
    "    gpr = GaussianProcessRegressor(kernel=kernel, alpha=0.0, \n",
    "                                   n_restarts_optimizer=10 # 20\n",
    "                                  )\n",
    "\n",
    "    gpr.fit(xx, u[:, np.random.choice(len(t))])\n",
    "    _, ustd = gpr.predict(xx, return_std=True)\n",
    "    u_std[:, i] = ustd"
   ]
  },
  {
   "cell_type": "markdown",
   "id": "c5c890b0",
   "metadata": {},
   "source": [
    "### Denoise"
   ]
  },
  {
   "cell_type": "code",
   "execution_count": 8,
   "id": "3f3d31a5",
   "metadata": {},
   "outputs": [],
   "source": [
    "est_sigma = u_std.mean() # max also works well\n",
    "# est_sigma = (est_sigma+estimate_sigma(u))/2\n",
    "u = bm3d.bm3d(u, sigma_psd=est_sigma, \n",
    "              stage_arg=bm3d.BM3DStages.ALL_STAGES, \n",
    "              blockmatches=(False, False))"
   ]
  },
  {
   "cell_type": "code",
   "execution_count": 9,
   "id": "94a61f6f-66b5-491f-9096-8fe47f0ef8a5",
   "metadata": {},
   "outputs": [],
   "source": [
    "xt = np.array([x.reshape(-1, 1), t.reshape(1, -1)], dtype=object)\n",
    "X, T = np.meshgrid(x, t)\n",
    "XT = np.asarray([X, T]).T"
   ]
  },
  {
   "cell_type": "code",
   "execution_count": 10,
   "id": "6aaf2666",
   "metadata": {},
   "outputs": [],
   "source": [
    "function_library = ps.PolynomialLibrary(degree=n_poly, include_bias=False)\n",
    "\n",
    "weak_lib = ps.WeakPDELibrary(\n",
    "    function_library=function_library,\n",
    "    derivative_order=n_derivatives,\n",
    "    p=n_derivatives,\n",
    "    spatiotemporal_grid=XT,\n",
    "    include_bias=True,\n",
    "    K=2000, # 2000, 5000, 10000\n",
    "    diff_kwargs={\"is_uniform\":True}\n",
    ")\n",
    "\n",
    "X_pre = np.array(weak_lib.fit_transform(np.expand_dims(u, -1)))\n",
    "y_pre = weak_lib.convert_u_dot_integral(np.expand_dims(u, -1))"
   ]
  },
  {
   "cell_type": "code",
   "execution_count": 11,
   "id": "6ad9a594",
   "metadata": {},
   "outputs": [],
   "source": [
    "base_poly = np.array([[p, 0] for p in range(1, n_poly+1)])\n",
    "base_derivative = np.array([[0, d] for d in range(1, n_derivatives+1)])\n",
    "modules = [(0, 0)] if weak_lib.include_bias else []\n",
    "modules += [(p, 0) for p in range(1, n_poly+1)] + \\\n",
    "            [(0, d) for d in range(1, n_derivatives+1)] + \\\n",
    "            [tuple(p+d) for d in base_derivative for p in base_poly]\n",
    "assert len(modules) == len(weak_lib.get_feature_names())\n",
    "base_features = dict(zip(modules, X_pre.T))\n",
    "u_t = y_pre.copy()"
   ]
  },
  {
   "cell_type": "markdown",
   "id": "bb73e146",
   "metadata": {},
   "source": [
    "### Genetic algorithm with NSGA-II"
   ]
  },
  {
   "cell_type": "code",
   "execution_count": 13,
   "id": "0fa61c51",
   "metadata": {},
   "outputs": [],
   "source": [
    "class PdeDiscoveryProblem(ElementwiseProblem):\n",
    "    def __init__(self, n_poly, n_derivatives, n_modules, \n",
    "                 base_features, u_t, order_complexity=False):\n",
    "        super().__init__(n_var=1, n_obj=2, n_ieq_constr=0)\n",
    "        self.n_poly = n_poly\n",
    "        self.n_derivatives = n_derivatives\n",
    "        self.n_modules = n_modules\n",
    "        self.base_features = base_features\n",
    "        self.u_t = u_t\n",
    "        self.sample_size = np.prod(self.u_t.shape)\n",
    "        self.order_complexity = order_complexity\n",
    "\n",
    "    def _evaluate(self, X, out, *args, **kwargs):\n",
    "        genome = X[0]\n",
    "        coeff, mse = self.compute_genome_coefficient(genome)\n",
    "        mse = mse/self.sample_size\n",
    "        complexity_penalty = len(genome)\n",
    "        if self.order_complexity:\n",
    "            complexity_penalty += sum(sum(_) for _ in genome)\n",
    "        out[\"F\"] = [mse, complexity_penalty]\n",
    "        \n",
    "    def numericalize_genome(self, genome):\n",
    "        return np.stack([self.base_features[tuple(module)] \n",
    "                         for module in genome], axis=-1)\n",
    "\n",
    "    def compute_genome_coefficient(self, genome):\n",
    "        features = self.numericalize_genome(genome)\n",
    "        features = features.reshape(-1, features.shape[-1])\n",
    "        coeff, error, _, _ = np.linalg.lstsq(features, self.u_t, rcond=None)\n",
    "        return coeff, error[0]\n",
    "    \n",
    "    def generate_module(self):\n",
    "        return (random.randint(0, self.n_poly), random.randint(0, self.n_derivatives))\n",
    "    \n",
    "    def set_epsilon(self, epsilon):\n",
    "        self.epsilon = epsilon\n",
    "    \n",
    "class PopulationSampling(Sampling):\n",
    "    def _do(self, problem, n_samples, **kwargs):\n",
    "        X = np.full((n_samples, 1), None, dtype=object)\n",
    "        X_set = set()\n",
    "        i = 0\n",
    "        while i < n_samples:\n",
    "            n_modules = random.randint(1, problem.n_modules)\n",
    "            genome = frozenset(problem.generate_module() for _ in range(n_modules))\n",
    "            if len(genome) > 0 and genome not in X_set:\n",
    "                X_set.add(genome)\n",
    "                X[i, 0] = genome\n",
    "                i += 1\n",
    "        return X\n",
    "    \n",
    "class DuplicateElimination(ElementwiseDuplicateElimination):\n",
    "    def is_equal(self, g1, g2):\n",
    "        return g1.X[0] == g2.X[0]"
   ]
  },
  {
   "cell_type": "code",
   "execution_count": 14,
   "id": "2dea1072",
   "metadata": {},
   "outputs": [],
   "source": [
    "class GenomeCrossover(Crossover):\n",
    "    def __init__(self):\n",
    "        # define the crossover: number of parents and number of offsprings\n",
    "        super().__init__(2, 2)\n",
    "\n",
    "    def _do(self, problem, X, **kwargs):\n",
    "        # The input of has the following shape (n_parents, n_matings, n_var)\n",
    "        _, n_matings, n_var = X.shape\n",
    "\n",
    "        # The output owith the shape (n_offsprings, n_matings, n_var)\n",
    "        # Because there the number of parents and offsprings are equal it keeps the shape of X\n",
    "        Y = np.full_like(X, None, dtype=object)\n",
    "        \n",
    "        # for each mating provided\n",
    "        for k in range(n_matings):\n",
    "            # get the first and the second parent          \n",
    "            Y[0, k, 0], Y[1, k, 0] = self.crossover_permutation(X[0, k, 0], X[1, k, 0])\n",
    "            \n",
    "        return Y\n",
    "    \n",
    "    def crossover_permutation(self, genome1, genome2):\n",
    "        collection = list(genome1) + list(genome2)\n",
    "        random.shuffle(collection)\n",
    "        return frozenset(collection[:len(genome1)]), frozenset(collection[len(genome1):])\n",
    "    \n",
    "class GenomeMutation(Mutation):\n",
    "    def __init__(self, add_rate=0.4, del_rate=0.5, order_rate=0.4):\n",
    "        super().__init__()\n",
    "        self.add_rate = add_rate\n",
    "        self.del_rate = del_rate\n",
    "        self.order_rate = order_rate\n",
    "\n",
    "    def _do(self, problem, X, **kwargs):\n",
    "        for i in range(len(X)):\n",
    "            if random.random() < self.add_rate:\n",
    "                X[i, 0] = self.add_mutate(problem, X[i, 0])\n",
    "            if random.random() < self.del_rate:\n",
    "                X[i, 0] = self.del_mutate(problem, X[i, 0])\n",
    "            if random.random() < self.order_rate:\n",
    "                X[i, 0] = self.module_mutate(problem, X[i, 0])\n",
    "        return X\n",
    "    \n",
    "    def add_mutate(self, problem, genome, max_iter=3):\n",
    "        for _ in range(max_iter):\n",
    "            new_module = problem.generate_module()\n",
    "            if new_module not in genome:\n",
    "                return genome.union(frozenset({new_module}))\n",
    "        return genome\n",
    "    \n",
    "    def del_mutate(self, problem, genome, max_iter=3):\n",
    "        genome = list(genome)\n",
    "        lg = len(genome)\n",
    "        if lg > 0:\n",
    "            if lg == 1:\n",
    "                for _ in range(max_iter):\n",
    "                    new_module = problem.generate_module()\n",
    "                    if new_module != genome[0]:\n",
    "                        return frozenset({new_module})\n",
    "            else:\n",
    "                genome.pop(random.randint(0, lg-1))\n",
    "        return frozenset(genome)\n",
    "    \n",
    "    def module_mutate(self, problem, genome):\n",
    "        if len(genome) == 0:\n",
    "            return genome\n",
    "        genome = set(genome)\n",
    "        genome.remove(random.choice(list(genome)))\n",
    "        for _ in range(3):\n",
    "            new_module = problem.generate_module()\n",
    "            if new_module not in genome:\n",
    "                genome.add(new_module)\n",
    "                return frozenset(genome)\n",
    "        return frozenset(genome)"
   ]
  },
  {
   "cell_type": "code",
   "execution_count": 15,
   "id": "263f3258",
   "metadata": {},
   "outputs": [],
   "source": [
    "pop_size = 500\n",
    "problem = PdeDiscoveryProblem(n_poly, n_derivatives, n_modules, \n",
    "                              base_features, u_t, order_complexity=False)"
   ]
  },
  {
   "cell_type": "code",
   "execution_count": 16,
   "id": "296e4b3d",
   "metadata": {},
   "outputs": [
    {
     "name": "stdout",
     "output_type": "stream",
     "text": [
      "==========================================================\n",
      "n_gen  |  n_eval  | n_nds  |      eps      |   indicator  \n",
      "==========================================================\n",
      "     1 |      500 |      5 |             - |             -\n",
      "     2 |     1550 |      6 |  0.0343741377 |             f\n",
      "     3 |     2600 |      7 |  0.1243113691 |             f\n",
      "     4 |     3650 |      7 |  0.0188112479 |         ideal\n",
      "     5 |     4700 |      7 |  0.0217727746 |         ideal\n",
      "     6 |     5750 |      7 |  0.0001427977 |             f\n",
      "     7 |     6800 |      7 |  0.2500000000 |         nadir\n",
      "     8 |     7850 |      8 |  0.2000000000 |         nadir\n",
      "     9 |     8900 |      9 |  0.0162162953 |         ideal\n",
      "    10 |     9950 |     10 |  0.0126765732 |             f\n",
      "    11 |    11000 |      8 |  0.0056352983 |         ideal\n",
      "    12 |    12050 |      8 |  0.0024461239 |             f\n",
      "    13 |    13100 |      8 |  0.0025269602 |             f\n",
      "    14 |    14150 |      8 |  0.0007468315 |             f\n",
      "    15 |    15200 |      8 |  0.0032699520 |             f\n",
      "    16 |    16250 |      8 |  0.0001250233 |             f\n",
      "    17 |    17300 |      8 |  0.0021589659 |             f\n",
      "    18 |    18350 |      9 |  0.3000000000 |         nadir\n",
      "    19 |    19400 |     11 |  0.0091021104 |         ideal\n",
      "    20 |    20450 |     11 |  0.000000E+00 |             f\n",
      "    21 |    21500 |     10 |  0.0007807933 |             f\n",
      "    22 |    22550 |     10 |  0.0016487766 |             f\n",
      "    23 |    23600 |     11 |  0.0022773917 |             f\n",
      "    24 |    24650 |     11 |  0.0022773917 |             f\n",
      "    25 |    25700 |     11 |  0.0022773917 |             f\n",
      "    26 |    26750 |     11 |  0.0022773917 |             f\n",
      "    27 |    27800 |     11 |  0.0022773917 |             f\n",
      "    28 |    28850 |     12 |  0.0096633701 |             f\n",
      "    29 |    29900 |     12 |  0.0000261605 |             f\n",
      "    30 |    30950 |     12 |  0.0000261605 |             f\n",
      "    31 |    32000 |     12 |  0.0000966335 |             f\n",
      "    32 |    33050 |     12 |  0.0001453653 |             f\n",
      "    33 |    34100 |     12 |  0.0001453653 |             f\n",
      "    34 |    35150 |     12 |  0.0001969894 |             f\n",
      "    35 |    36200 |     11 |  0.0005115577 |             f\n",
      "    36 |    37250 |     13 |  0.2666666667 |         nadir\n",
      "    37 |    38300 |     13 |  1.131602E-06 |             f\n",
      "    38 |    39350 |     13 |  0.0000457829 |             f\n",
      "    39 |    40400 |     14 |  0.0048047717 |             f\n",
      "    40 |    41450 |     14 |  0.0048691106 |             f\n",
      "    41 |    42500 |     14 |  0.0714285714 |         nadir\n",
      "    42 |    43550 |     14 |  0.000000E+00 |             f\n",
      "    43 |    44600 |     14 |  0.000000E+00 |             f\n",
      "    44 |    45650 |     16 |  0.0666666667 |         nadir\n",
      "    45 |    46700 |     15 |  0.0000652279 |             f\n",
      "    46 |    47750 |     15 |  0.0001937021 |             f\n",
      "    47 |    48800 |     15 |  0.0002189299 |             f\n",
      "    48 |    49850 |     16 |  0.0003784574 |             f\n",
      "    49 |    50900 |     16 |  0.0003784574 |             f\n",
      "    50 |    51950 |     16 |  0.0004098793 |             f\n",
      "    51 |    53000 |     16 |  0.0005000414 |             f\n",
      "    52 |    54050 |     16 |  0.0005000414 |             f\n",
      "    53 |    55100 |     17 |  0.0625000000 |         nadir\n",
      "    54 |    56150 |     17 |  0.0001298096 |             f\n",
      "    55 |    57200 |     18 |  0.0588235294 |         nadir\n",
      "    56 |    58250 |     18 |  0.0000125812 |             f\n",
      "    57 |    59300 |     18 |  0.0000924292 |             f\n",
      "    58 |    60350 |     18 |  0.0000924292 |             f\n",
      "    59 |    61400 |     18 |  0.0000924292 |             f\n",
      "    60 |    62450 |     18 |  0.0000924292 |             f\n",
      "    61 |    63500 |     18 |  0.0001963649 |             f\n",
      "    62 |    64550 |     18 |  0.0001963649 |             f\n",
      "    63 |    65600 |     18 |  0.0001963649 |             f\n",
      "    64 |    66650 |     18 |  0.0002676839 |             f\n",
      "    65 |    67700 |     18 |  0.0002676839 |             f\n",
      "    66 |    68750 |     18 |  0.0002676839 |             f\n",
      "    67 |    69800 |     18 |  0.0002676839 |             f\n",
      "    68 |    70850 |     18 |  0.0002676839 |             f\n",
      "    69 |    71900 |     18 |  0.0002699518 |             f\n",
      "    70 |    72950 |     18 |  0.0002699518 |             f\n",
      "    71 |    74000 |     18 |  0.0002985231 |             f\n",
      "    72 |    75050 |     18 |  0.0002988732 |             f\n",
      "    73 |    76100 |     18 |  0.0003028806 |             f\n",
      "    74 |    77150 |     18 |  0.0003028806 |             f\n",
      "    75 |    78200 |     18 |  0.0003038331 |             f\n",
      "    76 |    79250 |     18 |  0.0003038331 |             f\n",
      "    77 |    80300 |     18 |  0.0003038331 |             f\n",
      "    78 |    81350 |     18 |  0.0003038331 |             f\n",
      "    79 |    82400 |     18 |  0.0003038331 |             f\n",
      "    80 |    83450 |     19 |  0.0555555556 |         nadir\n",
      "    81 |    84500 |     19 |  6.739854E-07 |             f\n",
      "    82 |    85550 |     19 |  0.0000616919 |             f\n",
      "    83 |    86600 |     19 |  0.0000631487 |             f\n",
      "    84 |    87650 |     19 |  0.0000631487 |             f\n",
      "    85 |    88700 |     20 |  0.0526315789 |         nadir\n",
      "    86 |    89750 |     20 |  7.927530E-06 |             f\n",
      "    87 |    90800 |     20 |  7.927530E-06 |             f\n",
      "    88 |    91850 |     20 |  0.0000245219 |             f\n",
      "    89 |    92900 |     20 |  0.0000424805 |             f\n",
      "    90 |    93950 |     20 |  0.0000424805 |             f\n",
      "    91 |    95000 |     20 |  0.0000424805 |             f\n",
      "    92 |    96050 |     20 |  0.0000495975 |             f\n",
      "    93 |    97100 |     20 |  0.0000495975 |             f\n",
      "    94 |    98150 |     20 |  0.0000495975 |             f\n",
      "    95 |    99200 |     20 |  0.0000808362 |             f\n",
      "    96 |   100250 |     20 |  0.0000808362 |             f\n"
     ]
    }
   ],
   "source": [
    "termination = DefaultMultiObjectiveTermination(\n",
    "    xtol=1e-8,\n",
    "    cvtol=1e-6,\n",
    "    ftol=1e-8,\n",
    "    period=50,\n",
    "    n_max_gen=100,\n",
    "    n_max_evals=100000\n",
    ")\n",
    "\n",
    "algorithm = DNSGA2( \n",
    "                   pop_size=pop_size,\n",
    "                   sampling=PopulationSampling(),\n",
    "                   crossover=GenomeCrossover(),\n",
    "                   mutation=GenomeMutation(),\n",
    "                   eliminate_duplicates=DuplicateElimination())\n",
    "\n",
    "res = minimize(problem,\n",
    "               algorithm,\n",
    "               termination=termination,\n",
    "               verbose=True)"
   ]
  },
  {
   "cell_type": "code",
   "execution_count": 17,
   "id": "62878a80-5f6d-4530-8b73-77648dab775b",
   "metadata": {},
   "outputs": [
    {
     "data": {
      "text/plain": [
       "([(2, 3), (3, 2), (4, 2), (5, 1), (6, 1)],\n",
       " array([[frozenset({(1, 1), (0, 3)})],\n",
       "        [frozenset({(0, 1), (1, 1), (0, 3)})],\n",
       "        [frozenset({(1, 1), (0, 3), (1, 3), (0, 5)})],\n",
       "        [frozenset({(0, 1), (2, 1), (6, 1), (0, 3), (0, 5)})],\n",
       "        [frozenset({(2, 1), (3, 1), (1, 1), (0, 3), (0, 5), (4, 1)})],\n",
       "        [frozenset({(3, 1), (6, 1), (1, 1), (0, 3), (5, 1), (0, 5), (4, 1)})]],\n",
       "       dtype=object))"
      ]
     },
     "execution_count": 17,
     "metadata": {},
     "output_type": "execute_result"
    }
   ],
   "source": [
    "from pymoo.decomposition.asf import ASF\n",
    "\n",
    "est_complexities = {}\n",
    "for weights in np.arange(0.1, 1, 0.1):\n",
    "    decomp = ASF()\n",
    "    F = res.F\n",
    "    nF = (F - F.min(axis=0))/(F.max(axis=0) - F.min(axis=0))\n",
    "    est_complexity = int(F[decomp.do(nF, 1/np.array([1-weights, weights])).argmin()][1])\n",
    "    if est_complexity not in est_complexities:\n",
    "        est_complexities[est_complexity] = 1\n",
    "    else:\n",
    "        est_complexities[est_complexity] += 1\n",
    "est_complexities = sorted(est_complexities.items(), key=lambda _: (_[1], -_[0]), reverse=True)\n",
    "\n",
    "min_ss = min(est_complexities)[0]\n",
    "max_ss = max(est_complexities)[0]\n",
    "epsilon = 10**sci_format(np.median(res.F[:, 0:1]))[1]\n",
    "pareto_optimal_models = res.X[np.argsort(res.F[:, 0]+epsilon*res.F[:, 1])][:max_ss]\n",
    "\n",
    "est_complexities, pareto_optimal_models[:max_ss]"
   ]
  },
  {
   "cell_type": "code",
   "execution_count": 18,
   "id": "1e54ed14-bcc4-43bf-a345-f02f3d4da828",
   "metadata": {},
   "outputs": [
    {
     "data": {
      "text/plain": [
       "array([[frozenset({(0, 1)})],\n",
       "       [frozenset({(1, 1), (0, 3)})],\n",
       "       [frozenset({(0, 1), (1, 1), (0, 3)})],\n",
       "       [frozenset({(1, 1), (0, 3), (1, 3), (0, 5)})],\n",
       "       [frozenset({(0, 1), (2, 1), (6, 1), (0, 3), (0, 5)})],\n",
       "       [frozenset({(2, 1), (3, 1), (1, 1), (0, 3), (0, 5), (4, 1)})],\n",
       "       [frozenset({(3, 1), (6, 1), (1, 1), (0, 3), (5, 1), (0, 5), (4, 1)})]],\n",
       "      dtype=object)"
      ]
     },
     "execution_count": 18,
     "metadata": {},
     "output_type": "execute_result"
    }
   ],
   "source": [
    "### OPTIONAL ###\n",
    "from operator import itemgetter\n",
    "\n",
    "effective_candidates = frozenset()\n",
    "for i in range(len(pareto_optimal_models)):\n",
    "    effective_candidates = effective_candidates.union(pareto_optimal_models[i][0])\n",
    "effective_candidates = sorted(effective_candidates)\n",
    "\n",
    "new_pareto_optimal_models = []\n",
    "for bs in backward_refinement([sorted([effective_candidates.index(_) for _ in list(pm[0])]) for pm in pareto_optimal_models], \n",
    "                              (problem.numericalize_genome(effective_candidates), y_pre)).get_best_subsets():\n",
    "    bs = itemgetter(*bs)(effective_candidates)\n",
    "    if type(bs[0]) is not tuple:\n",
    "        bs = (bs,)\n",
    "    new_pareto_optimal_models.append([frozenset(bs)])\n",
    "pareto_optimal_models = np.array(new_pareto_optimal_models)\n",
    "del new_pareto_optimal_models\n",
    "pareto_optimal_models"
   ]
  },
  {
   "cell_type": "code",
   "execution_count": 19,
   "id": "9fe7f4e0",
   "metadata": {},
   "outputs": [
    {
     "data": {
      "text/plain": [
       "[(1, 1), (0, 1), (0, 3), (2, 1), (4, 1)]"
      ]
     },
     "execution_count": 19,
     "metadata": {},
     "output_type": "execute_result"
    }
   ],
   "source": [
    "significance_threshold = None\n",
    "\n",
    "effective_candidates = frozenset()\n",
    "for i in range(len(pareto_optimal_models)):\n",
    "    effective_candidates = effective_candidates.union(pareto_optimal_models[i][0])\n",
    "    \n",
    "effective_candidates = {_: 0.0 for _ in effective_candidates}\n",
    "for i in range(len(pareto_optimal_models)):\n",
    "    potential_pde = list(pareto_optimal_models[i][0])\n",
    "    important_scores = shap_linear_importance(problem.numericalize_genome(potential_pde), \n",
    "                                              y_pre, scale=True)\n",
    "    for j in range(len(potential_pde)):\n",
    "        effective_candidates[potential_pde[j]] += important_scores[j]\n",
    "        \n",
    "total_score = sum(effective_candidates.values())\n",
    "for _ in effective_candidates:\n",
    "    effective_candidates[_] = effective_candidates[_]/total_score\n",
    "    \n",
    "effective_candidates = sorted(effective_candidates.items(), key=lambda _: _[1], reverse=True)\n",
    "cum_sum = 0\n",
    "cum_sums = []\n",
    "top_candidates = []\n",
    "for i in range(len(effective_candidates)):\n",
    "    cum_sum += effective_candidates[i][1]\n",
    "    cum_sums.append(cum_sum)\n",
    "    top_candidates.append(effective_candidates[i][0])\n",
    "if significance_threshold is not None:\n",
    "    top_candidates = top_candidates[:np.argmax((np.array(cum_sums) > significance_threshold).astype(np.int8))+1]\n",
    "else:\n",
    "    top_candidates = top_candidates[:knee(range(0, len(cum_sums)), cum_sums, direction='increasing')+1]\n",
    "\n",
    "if len(top_candidates) > max_ss:\n",
    "    top_candidates = np.array(top_candidates)[np.nonzero(linear_model.ARDRegression(max_iter=500, fit_intercept=False).fit(problem.numericalize_genome(top_candidates), y_pre.ravel()).coef_)[0]]\n",
    "X_pre_top = problem.numericalize_genome(top_candidates)\n",
    "\n",
    "top_candidates"
   ]
  },
  {
   "cell_type": "markdown",
   "id": "d8757b32",
   "metadata": {},
   "source": [
    "### Best-subset selection"
   ]
  },
  {
   "cell_type": "code",
   "execution_count": 21,
   "id": "5dc727d0",
   "metadata": {},
   "outputs": [
    {
     "name": "stderr",
     "output_type": "stream",
     "text": [
      "  0%|                                                                       | 0/5 [00:00<?, ?it/s]"
     ]
    },
    {
     "name": "stdout",
     "output_type": "stream",
     "text": [
      "Set parameter Username\n",
      "Academic license - for non-commercial use only - expires 2025-10-17\n"
     ]
    },
    {
     "name": "stderr",
     "output_type": "stream",
     "text": [
      "100%|██████████████████████████████████████████████████████████████| 5/5 [00:00<00:00, 125.66it/s]\n",
      "100%|██████████████████████████████████████████████████████████████| 5/5 [00:00<00:00, 876.70it/s]\n"
     ]
    },
    {
     "data": {
      "text/plain": [
       "[(1,), (0, 2), (0, 1, 2), (1, 2, 3, 4), (0, 1, 2, 3, 4)]"
      ]
     },
     "execution_count": 21,
     "metadata": {},
     "output_type": "execute_result"
    }
   ],
   "source": [
    "best_subsets = solvel0(X_pre_top, y_pre, miosr=True, refine=True)\n",
    "\n",
    "# _, best_subsets = okridge_solvel0_full(X_pre_top, y_pre, \n",
    "#                                        k=X_pre_top.shape[-1], norm='l2')\n",
    "# best_subsets = backward_refinement(best_subsets, (X_pre_top, y_pre), \n",
    "#                                    ic_type='bic', verbose=False).get_best_subsets()\n",
    "\n",
    "best_subsets = [tuple(range(X_pre_top.shape[1])[_] for _ in bs) \n",
    "                for bs in brute_force_all_subsets(X_pre_top, y_pre)[1]]\n",
    "best_subsets"
   ]
  },
  {
   "cell_type": "markdown",
   "id": "259fb918",
   "metadata": {},
   "source": [
    "### Model selection using UBIC"
   ]
  },
  {
   "cell_type": "code",
   "execution_count": 23,
   "id": "96a6c77f",
   "metadata": {},
   "outputs": [
    {
     "name": "stdout",
     "output_type": "stream",
     "text": [
      "1, 2, 3, 4, 5, "
     ]
    },
    {
     "data": {
      "text/plain": [
       "array([1.00000000e+00, 7.46891221e+00, 2.02403871e+01, 6.31720685e+02,\n",
       "       2.10025689e+03])"
      ]
     },
     "execution_count": 23,
     "metadata": {},
     "output_type": "execute_result"
    }
   ],
   "source": [
    "# TODO: Calculate post_means for ARDRegression as well (Implement the ard_uncertainties function)\n",
    "ard_uns = []\n",
    "threshold_lambda = 5e5 # must pass assert \n",
    "for bs in best_subsets:\n",
    "    ard = linear_model.ARDRegression(fit_intercept=False, \n",
    "                                     compute_score=True,\n",
    "                                     threshold_lambda=threshold_lambda)\n",
    "    ard.fit(X_pre_top[:, bs], y_pre.ravel())\n",
    "    print(len(bs), end=', ')\n",
    "    assert len(bs) == len(np.nonzero(ard.coef_)[0])\n",
    "    pde_uncert = np.sqrt(np.diag(ard.sigma_)).sum()\n",
    "    ard_uns.append(pde_uncert)\n",
    "ard_uns = np.array(ard_uns)\n",
    "ard_uns = ard_uns/min(ard_uns)\n",
    "ard_uns"
   ]
  },
  {
   "cell_type": "code",
   "execution_count": 24,
   "id": "548e4fa8",
   "metadata": {},
   "outputs": [
    {
     "name": "stdout",
     "output_type": "stream",
     "text": [
      "[-11878.018760521914, -14088.80639310479, -14305.585251524699, -14485.76246125687, -14532.2108802695]\n",
      "[1.         1.01008128 3.21483898 2.82129785 2.09643713]\n",
      "threshold: 0.06\n",
      "max_lam: 3.2636527173138816\n",
      "1 ---> 1 inf\n",
      "1 ---> 4 0.010490703867852565\n"
     ]
    },
    {
     "data": {
      "text/plain": [
       "(2.17576848,\n",
       " array([-10738.73045999, -12938.03260261, -10642.95680952, -11271.49083026,\n",
       "        -12143.76458157]),\n",
       " 1,\n",
       " 1)"
      ]
     },
     "execution_count": 24,
     "metadata": {},
     "output_type": "execute_result"
    }
   ],
   "source": [
    "tau = 3\n",
    "verbose = True\n",
    "# scale = 1 <- generalized UBIC\n",
    "scale = np.log(len(y_pre))\n",
    "per = 75 # 80\n",
    "\n",
    "post_means, b_bics, b_uns = baye_uncertainties(best_subsets, (X_pre_top, y_pre), \n",
    "                                               u_type='cv1', take_sqrt=True, \n",
    "                                               ridge_lambda=0, \n",
    "                                               threshold=0)\n",
    "# b_uns = ard_uns # USE ard_uns INSTEAD\n",
    "predictions = X_pre_top@post_means\n",
    "print(b_bics)\n",
    "print(b_uns)\n",
    "b_bics = np.array(b_bics)\n",
    "max_complexity = len(b_bics)\n",
    "complexities = np.arange(max_complexity)+1\n",
    "d_complexities = complexities[decreasing_values_indices(b_bics)]\n",
    "d_bics = b_bics[decreasing_values_indices(b_bics)]\n",
    "slopes = np.diff(b_bics)/(np.diff(complexities)*b_bics[:-1])\n",
    "try:\n",
    "    thres = np.percentile(np.abs(np.diff(d_bics)/(np.diff(d_complexities)*d_bics[:-1])), per)\n",
    "    thres = math.ceil(sci_format(thres)[0])*10**sci_format(thres)[1]\n",
    "except IndexError:\n",
    "    thres = 1/40\n",
    "min_thres = 1/40\n",
    "thres = max(thres, min_thres)\n",
    "print(\"threshold:\", thres)\n",
    "\n",
    "lower_bounds = []\n",
    "for k, efi in enumerate(best_subsets):\n",
    "    # assert len(efi) == np.count_nonzero(post_means[:, k:k+1])\n",
    "    com = len(efi)\n",
    "    lower_bound = 2*np.abs(log_like_value(predictions[:, k:k+1], y_pre))-np.log(len(y_pre))*com\n",
    "    lower_bounds.append(lower_bound)\n",
    "\n",
    "last_lam = np.log10(max(lower_bounds/(b_uns*scale)))\n",
    "print(\"max_lam:\", last_lam)\n",
    "delta = last_lam/tau\n",
    "now_lam = last_lam-delta\n",
    "last_ubic = UBIC(b_bics, b_uns, len(y_pre), hyp=10**last_lam, scale=scale)\n",
    "last_bc = np.argmin(last_ubic)\n",
    "bc_seq = [last_bc]\n",
    "while now_lam >= 0:\n",
    "    now_ubic = UBIC(b_bics, b_uns, len(y_pre), hyp=10**now_lam, scale=scale)\n",
    "    now_bc = np.argmin(now_ubic)\n",
    "    \n",
    "    diff_com = now_bc-last_bc\n",
    "    diff_bic = b_bics[now_bc]-b_bics[last_bc]\n",
    "    imp = np.nan\n",
    "    if diff_com != 0:\n",
    "        # imp = abs(diff_bic/(max(b_bics[last_bc], b_bics[now_bc])*diff_com))\n",
    "        imp = abs(diff_bic/(b_bics[last_bc]*diff_com))\n",
    "    \n",
    "    if verbose:\n",
    "        print(last_bc, '--->', now_bc, \n",
    "              np.nan_to_num(imp, nan=np.inf))\n",
    "\n",
    "    if (diff_com > 0 and (diff_bic > 0 or imp < thres)) or \\\n",
    "        (diff_com < 0 and diff_bic > 0 and imp > thres):\n",
    "        break\n",
    "    \n",
    "    last_lam = now_lam\n",
    "    now_lam = round(last_lam-delta, 8)\n",
    "    last_ubic = now_ubic\n",
    "    last_bc = now_bc\n",
    "    if last_bc not in bc_seq:\n",
    "        bc_seq.append(last_bc)\n",
    "\n",
    "# best_bc = knee_finder(last_ubic)\n",
    "best_bc = knee(range(0, len(last_ubic)), last_ubic, 'linear')\n",
    "if best_bc == 0 and last_bc != 0 and b_bics[last_bc] < b_bics[0] and \\\n",
    "                                    abs((b_bics[last_bc]-b_bics[0])/(b_bics[0]*last_bc)) > thres:\n",
    "    best_bc = knee(range(1, len(last_ubic)), last_ubic[1:], 'linear')\n",
    "if best_bc is None:\n",
    "    best_bc = knee_finder(last_ubic)\n",
    "    \n",
    "last_lam = abs(round(last_lam, 8))\n",
    "last_lam, last_ubic, last_bc, best_bc"
   ]
  },
  {
   "cell_type": "code",
   "execution_count": 25,
   "id": "9ea07764",
   "metadata": {},
   "outputs": [
    {
     "data": {
      "image/png": "[encoded data removed]",
      "text/plain": [
       "<Figure size 350x262.5 with 2 Axes>"
      ]
     },
     "metadata": {},
     "output_type": "display_data"
    }
   ],
   "source": [
    "complexity_axis = [len(bs) for bs in best_subsets]\n",
    "with plt.style.context(['science']):\n",
    "    fig, ax = plt.subplots()\n",
    "    ax2 = ax.twinx()\n",
    "    ax.set_zorder(ax2.get_zorder()+1)\n",
    "    ax.patch.set_visible(False)\n",
    "    \n",
    "    l1, = ax.plot(complexity_axis, last_ubic, 'o-', c='black', markerfacecolor='none', label=f\"$\\lambda = {abs(last_lam)}$\")\n",
    "    ax.set_xticks(complexity_axis)\n",
    "    ax.set_ylabel(\"$\\\\textrm{UBIC}$\", fontsize=12)\n",
    "    ax.set_xlabel(\"Support size\", fontsize=12)\n",
    "    ax.vlines(best_bc+1, min(last_ubic), max(last_ubic), color='red')\n",
    "    \n",
    "    l2, = ax2.plot(complexity_axis, b_uns, 'o--', c='blue', markerfacecolor='none', label=\"Uncertainty $\\\\textrm{U}^{k}$\")\n",
    "    s1 = ax2.scatter(complexity_axis[np.argmin(b_uns)], b_uns[np.argmin(b_uns)], c='blue')\n",
    "    ax2.tick_params(axis='y', labelcolor='blue')\n",
    "\n",
    "    ax.legend([l1, l2, s1], [f\"UBIC with $\\lambda = {round(abs(last_lam), 2)}$\", \"Uncertainty $\\\\textrm{U}^{k}$\", \"Min $\\\\textrm{U}^{k}$\"], \n",
    "              labelcolor='linecolor', loc='upper center', fontsize=12)\n",
    "    \n",
    "    plt.show()"
   ]
  },
  {
   "cell_type": "code",
   "execution_count": 26,
   "id": "aa3a233a",
   "metadata": {},
   "outputs": [
    {
     "name": "stdout",
     "output_type": "stream",
     "text": [
      "1\n",
      "2\n",
      "2\n",
      "1\n"
     ]
    },
    {
     "data": {
      "text/plain": [
       "0.015386602127345834"
      ]
     },
     "execution_count": 26,
     "metadata": {},
     "output_type": "execute_result"
    }
   ],
   "source": [
    "# Some ideas\n",
    "# Better knee detection algorithm\n",
    "\n",
    "import kneeliverse.kneedle as kneedle\n",
    "import kneeliverse.lmethod as lmethod\n",
    "import kneeliverse.menger as menger\n",
    "import kneeliverse.zmethod as zmethod\n",
    "\n",
    "print(kneedle.knee(np.vstack([range(0, len(last_ubic)), \n",
    "                              last_ubic]).T, t=0.1))\n",
    "\n",
    "print(lmethod.knee(np.vstack([range(0, len(last_ubic)), \n",
    "                              last_ubic]).T))\n",
    "\n",
    "print(menger.knee(np.vstack([range(0, len(last_ubic)), \n",
    "                             last_ubic]).T))\n",
    "\n",
    "print(knee_finder(last_ubic))\n",
    "\n",
    "abs((b_bics[2]-b_bics[1])/(b_bics[1]))"
   ]
  },
  {
   "cell_type": "code",
   "execution_count": null,
   "id": "73bc4f2f",
   "metadata": {},
   "outputs": [],
   "source": []
  },
  {
   "cell_type": "code",
   "execution_count": null,
   "id": "2423380f",
   "metadata": {},
   "outputs": [],
   "source": []
  }
 ],
 "metadata": {
  "kernelspec": {
   "display_name": "Python [conda env:sindy]",
   "language": "python",
   "name": "conda-env-sindy-py"
  },
  "language_info": {
   "codemirror_mode": {
    "name": "ipython",
    "version": 3
   },
   "file_extension": ".py",
   "mimetype": "text/x-python",
   "name": "python",
   "nbconvert_exporter": "python",
   "pygments_lexer": "ipython3",
   "version": "3.10.13"
  }
 },
 "nbformat": 4,
 "nbformat_minor": 5
}

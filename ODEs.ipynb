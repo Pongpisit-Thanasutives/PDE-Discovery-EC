{
 "cells": [
  {
   "cell_type": "code",
   "execution_count": 1,
   "id": "8ee27ec7",
   "metadata": {},
   "outputs": [
    {
     "name": "stderr",
     "output_type": "stream",
     "text": [
      "Intel(R) Extension for Scikit-learn* enabled (https://github.com/intel/scikit-learn-intelex)\n",
      "/Users/pongpisit/anaconda3/envs/pysr_latest/lib/python3.11/site-packages/tqdm/auto.py:21: TqdmWarning: IProgress not found. Please update jupyter and ipywidgets. See https://ipywidgets.readthedocs.io/en/stable/user_install.html\n",
      "  from .autonotebook import tqdm as notebook_tqdm\n"
     ]
    }
   ],
   "source": [
    "%load_ext autoreload\n",
    "%autoreload 2\n",
    "%matplotlib inline\n",
    "import matplotlib.pyplot as plt\n",
    "\n",
    "import math\n",
    "import os\n",
    "import random\n",
    "from functools import partial\n",
    "from decimal import Decimal\n",
    "import numpy as np\n",
    "from sklearnex import patch_sklearn; patch_sklearn()\n",
    "import scipy.io as sio\n",
    "from scipy.integrate import solve_ivp\n",
    "from scipy.signal import savgol_filter\n",
    "import pysindy as ps\n",
    "from pysindy.utils import lorenz\n",
    "from tqdm import trange\n",
    "\n",
    "# NSGA2, DNSGA2, SMSEMOA, AGEMOEA2\n",
    "from pymoo.algorithms.moo.nsga2 import NSGA2\n",
    "from pymoo.algorithms.moo.dnsga2 import DNSGA2\n",
    "from pymoo.algorithms.moo.sms import SMSEMOA\n",
    "from pymoo.algorithms.moo.age2 import AGEMOEA2\n",
    "from pymoo.core.problem import ElementwiseProblem\n",
    "from pymoo.core.sampling import Sampling\n",
    "from pymoo.core.crossover import Crossover\n",
    "from pymoo.core.mutation import Mutation\n",
    "from pymoo.core.duplicate import ElementwiseDuplicateElimination\n",
    "from pymoo.termination.default import DefaultMultiObjectiveTermination\n",
    "from pymoo.optimize import minimize\n",
    "from pymoo.visualization.scatter import Scatter\n",
    "\n",
    "from utils import *\n",
    "from skimage.restoration import estimate_sigma\n",
    "import bm3d\n",
    "from okridge.solvel0 import *\n",
    "from best_subset import backward_refinement, brute_force_all_subsets\n",
    "from UBIC import *\n",
    "from kneed import KneeLocator\n",
    "\n",
    "from sklearn.gaussian_process import GaussianProcessRegressor\n",
    "from sklearn.gaussian_process.kernels import RBF, WhiteKernel"
   ]
  },
  {
   "cell_type": "code",
   "execution_count": 2,
   "id": "248f09c7",
   "metadata": {},
   "outputs": [],
   "source": [
    "# Integrator keywords for solve_ivp\n",
    "integrator_keywords = {}\n",
    "integrator_keywords['rtol'] = 1e-12\n",
    "integrator_keywords['method'] = 'LSODA'\n",
    "integrator_keywords['atol'] = 1e-12\n",
    "\n",
    "dt = 0.001\n",
    "t_train = np.arange(0, 100, dt)\n",
    "x0_train = [-8, 8, 27]\n",
    "x_train = solve_ivp(lorenz, (t_train[0], t_train[-1]), \n",
    "                    x0_train, t_eval=t_train, **integrator_keywords).y.T\n",
    "x_dot_train_measured = np.array(\n",
    "    [lorenz(0, x_train[i]) for i in range(t_train.size)]\n",
    ")\n",
    "true_complexities = [2, 3, 2]"
   ]
  },
  {
   "cell_type": "code",
   "execution_count": 3,
   "id": "faeef246",
   "metadata": {},
   "outputs": [],
   "source": [
    "noise_level = 1e-2\n",
    "noise = np.zeros(x_train.shape)\n",
    "x_train_clean = x_train.copy()\n",
    "if noise_level > 0:\n",
    "    noise = np.random.normal(scale=noise_level, size=x_train.shape)\n",
    "    x_train = x_train_clean + noise"
   ]
  },
  {
   "cell_type": "code",
   "execution_count": 4,
   "id": "70e0b5d4",
   "metadata": {},
   "outputs": [],
   "source": [
    "x_train = savgol_filter(x_train, 11, 3, axis=0)"
   ]
  },
  {
   "cell_type": "code",
   "execution_count": 5,
   "id": "ef97d4d1",
   "metadata": {},
   "outputs": [],
   "source": [
    "# TODO: Implement TVDiff\n",
    "poly_order = 4\n",
    "differentiation_method = ps.differentiation.FiniteDifference()\n",
    "differentiation_method = ps.differentiation.SmoothedFiniteDifference()"
   ]
  },
  {
   "cell_type": "code",
   "execution_count": 6,
   "id": "8f7f6515",
   "metadata": {},
   "outputs": [],
   "source": [
    "ode_lib = ps.WeakPDELibrary(function_library=ps.PolynomialLibrary(degree=poly_order, include_bias=False), \n",
    "                            spatiotemporal_grid=t_train,\n",
    "                            include_bias=True,\n",
    "                            K=5000,\n",
    "                            differentiation_method=differentiation_method,\n",
    "                            diff_kwargs={\"is_uniform\":True})"
   ]
  },
  {
   "cell_type": "code",
   "execution_count": 7,
   "id": "c7e4e184",
   "metadata": {},
   "outputs": [
    {
     "name": "stderr",
     "output_type": "stream",
     "text": [
      "/Users/pongpisit/pysindy_latest/pysindy/pysindy/utils/axes.py:126: AxesWarning: 2 axes labeled for array with 1 axes\n",
      "  warnings.warn(\n"
     ]
    }
   ],
   "source": [
    "normalize = False\n",
    "X_pre = np.array(ode_lib.fit_transform(x_train))\n",
    "y_pre = np.array(ode_lib.convert_u_dot_integral(x_train))\n",
    "max_features = np.ones((1, X_pre.shape[-1]))\n",
    "if normalize:\n",
    "    max_features = X_pre.max(axis=0)\n",
    "    X_pre = X_pre / max_features"
   ]
  },
  {
   "cell_type": "code",
   "execution_count": 8,
   "id": "e8ccbd99",
   "metadata": {},
   "outputs": [],
   "source": [
    "# from joblib import Parallel, delayed\n",
    "# res = Parallel(n_jobs=3)(delayed(okridge_solvel0_full)(\n",
    "#     X_pre, select_column(y_pre, i), k=8) for i in range(3)\n",
    "#                         )"
   ]
  },
  {
   "cell_type": "code",
   "execution_count": 9,
   "id": "e0c22cc5",
   "metadata": {},
   "outputs": [],
   "source": [
    "# GA\n",
    "# generate (a, b, c) where a, b, c are integers greater than or equal to 0 and a+b+c <= poly_order"
   ]
  },
  {
   "cell_type": "code",
   "execution_count": null,
   "id": "6f3faf94",
   "metadata": {},
   "outputs": [],
   "source": []
  },
  {
   "cell_type": "code",
   "execution_count": null,
   "id": "d470716e",
   "metadata": {},
   "outputs": [],
   "source": []
  },
  {
   "cell_type": "code",
   "execution_count": null,
   "id": "936d6578",
   "metadata": {},
   "outputs": [],
   "source": [
    "def generate_ode_module(n_poly, n_vars):\n",
    "    module = [0 for _ in range(n_vars)]\n",
    "    for i in range(n_vars):\n",
    "        deg = random.randint(0, n_poly)\n",
    "        module[i] = deg\n",
    "        n_poly -= deg\n",
    "        if n_poly <= 0:\n",
    "            break\n",
    "    return tuple(module)"
   ]
  },
  {
   "cell_type": "code",
   "execution_count": null,
   "id": "1b563d55",
   "metadata": {},
   "outputs": [],
   "source": [
    "set(frozenset(generate_module(poly_order, 3) for _ in range(8)) for _ in range(10))"
   ]
  }
 ],
 "metadata": {
  "kernelspec": {
   "display_name": "Python [conda env:pysr_latest]",
   "language": "python",
   "name": "conda-env-pysr_latest-py"
  },
  "language_info": {
   "codemirror_mode": {
    "name": "ipython",
    "version": 3
   },
   "file_extension": ".py",
   "mimetype": "text/x-python",
   "name": "python",
   "nbconvert_exporter": "python",
   "pygments_lexer": "ipython3",
   "version": "3.11.11"
  }
 },
 "nbformat": 4,
 "nbformat_minor": 5
}

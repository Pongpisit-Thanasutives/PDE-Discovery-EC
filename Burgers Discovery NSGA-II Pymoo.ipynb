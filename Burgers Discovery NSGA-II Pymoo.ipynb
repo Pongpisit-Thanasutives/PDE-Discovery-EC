{
 "cells": [
  {
   "cell_type": "code",
   "execution_count": 1,
   "id": "d8401bd4",
   "metadata": {},
   "outputs": [
    {
     "name": "stdout",
     "output_type": "stream",
     "text": [
      "Sklearn's version: 1.6.1\n"
     ]
    }
   ],
   "source": [
    "%load_ext autoreload\n",
    "%autoreload 2\n",
    "%matplotlib inline\n",
    "import matplotlib.pyplot as plt\n",
    "import scienceplots\n",
    "\n",
    "import math\n",
    "import os\n",
    "import random\n",
    "from functools import partial\n",
    "from decimal import Decimal\n",
    "import numpy as np\n",
    "import scipy.io as sio\n",
    "import pysindy as ps\n",
    "from tqdm import trange\n",
    "\n",
    "from pymoo.algorithms.moo.nsga2 import NSGA2\n",
    "from pymoo.algorithms.moo.dnsga2 import DNSGA2\n",
    "from pymoo.core.problem import ElementwiseProblem\n",
    "from pymoo.core.sampling import Sampling\n",
    "from pymoo.core.crossover import Crossover\n",
    "from pymoo.core.mutation import Mutation\n",
    "from pymoo.core.duplicate import ElementwiseDuplicateElimination\n",
    "from pymoo.termination.default import DefaultMultiObjectiveTermination\n",
    "from pymoo.optimize import minimize\n",
    "from pymoo.visualization.scatter import Scatter\n",
    "\n",
    "from utils import *\n",
    "from skimage.restoration import estimate_sigma\n",
    "import bm3d\n",
    "from okridge.solvel0 import *\n",
    "from solvel0 import solvel0\n",
    "from best_subset import backward_refinement, brute_force_all_subsets\n",
    "from UBIC import *\n",
    "from kneed import KneeLocator\n",
    "\n",
    "from sklearn.gaussian_process import GaussianProcessRegressor\n",
    "from sklearn.gaussian_process.kernels import RBF, WhiteKernel"
   ]
  },
  {
   "cell_type": "code",
   "execution_count": 2,
   "id": "5916f2d3",
   "metadata": {},
   "outputs": [],
   "source": [
    "n_poly = 6\n",
    "n_derivatives = 6\n",
    "n_modules = 8"
   ]
  },
  {
   "cell_type": "code",
   "execution_count": 3,
   "id": "8eaa96d0",
   "metadata": {},
   "outputs": [],
   "source": [
    "data_path = \"../PDE-Discovery-EC/Datasets/\"\n",
    "data = sio.loadmat(os.path.join(data_path, \"burgers.mat\"))\n",
    "u_clean = (data['usol']).real; u = u_clean.copy()\n",
    "x = (data['x'][0]).real\n",
    "t = (data['t'][:,0]).real\n",
    "dt = t[1]-t[0]; dx = x[2]-x[1]"
   ]
  },
  {
   "cell_type": "markdown",
   "id": "3a1e0adc",
   "metadata": {},
   "source": [
    "### Add noise"
   ]
  },
  {
   "cell_type": "code",
   "execution_count": 4,
   "id": "888ee41f",
   "metadata": {},
   "outputs": [
    {
     "name": "stdout",
     "output_type": "stream",
     "text": [
      "Noise level: 50.0\n"
     ]
    }
   ],
   "source": [
    "np.random.seed(0)\n",
    "noise_type = \"gaussian\"\n",
    "noise_lv = float(50)\n",
    "print(\"Noise level:\", noise_lv)\n",
    "noise = 0.01*np.abs(noise_lv)*(u.std())*np.random.randn(u.shape[0],u.shape[1])\n",
    "u = u + noise"
   ]
  },
  {
   "cell_type": "markdown",
   "id": "c5c890b0",
   "metadata": {},
   "source": [
    "### Denoise"
   ]
  },
  {
   "cell_type": "code",
   "execution_count": 5,
   "id": "d9754901",
   "metadata": {},
   "outputs": [
    {
     "name": "stdout",
     "output_type": "stream",
     "text": [
      "Loading denoised data...\n"
     ]
    }
   ],
   "source": [
    "load_denoised_data = True\n",
    "if load_denoised_data:\n",
    "    print(\"Loading denoised data...\")\n",
    "    u = np.load(f\"./Denoised_data/burgers_{noise_type}{int(noise_lv)}_bm3d.npy\")\n",
    "else:\n",
    "    kernel = RBF(length_scale=1, length_scale_bounds=(1e-2, 1e3)) + \\\n",
    "                    WhiteKernel(noise_level=1, noise_level_bounds=(1e-10, 1e10))\n",
    "    \n",
    "    xx = colvec(x)\n",
    "    u_mean = np.copy(u)\n",
    "    u_std = np.ones(u.shape)\n",
    "    for i in trange(len(t)):    \n",
    "        gpr = GaussianProcessRegressor(kernel=kernel, alpha=0.0, \n",
    "                                       n_restarts_optimizer=10 # 20\n",
    "                                      )\n",
    "    \n",
    "        gpr.fit(xx, u_mean[:, i])\n",
    "        um, ustd = gpr.predict(xx, return_std=True)\n",
    "        u_mean[:, i] = um\n",
    "        u_std[:, i] = ustd\n",
    "    \n",
    "    est_sigma = u_std.mean() # max also works well\n",
    "    # est_sigma = (est_sigma+estimate_sigma(u))/2\n",
    "    u = bm3d.bm3d(u, sigma_psd=est_sigma, \n",
    "                  stage_arg=bm3d.BM3DStages.ALL_STAGES, \n",
    "                  blockmatches=(False, False))\n",
    "\n",
    "    np.save(f\"./Denoised_data/burgers_{noise_type}{int(noise_lv)}_bm3d.npy\", u)"
   ]
  },
  {
   "cell_type": "code",
   "execution_count": 6,
   "id": "9921db4e-3de7-42e2-836a-64a85cea979e",
   "metadata": {},
   "outputs": [],
   "source": [
    "xt = np.array([x.reshape(-1, 1), t.reshape(1, -1)], dtype=object)\n",
    "X, T = np.meshgrid(x, t)\n",
    "XT = np.asarray([X, T]).T"
   ]
  },
  {
   "cell_type": "code",
   "execution_count": 7,
   "id": "6aaf2666",
   "metadata": {},
   "outputs": [],
   "source": [
    "function_library = ps.PolynomialLibrary(degree=n_poly, include_bias=False)\n",
    "\n",
    "weak_lib = ps.WeakPDELibrary(\n",
    "    function_library=function_library,\n",
    "    derivative_order=n_derivatives,\n",
    "    spatiotemporal_grid=XT,\n",
    "    include_bias=True,\n",
    "    diff_kwargs={\"is_uniform\":True},\n",
    "    K=10000\n",
    ")\n",
    "\n",
    "X_pre = np.array(weak_lib.fit_transform(np.expand_dims(u, -1)))\n",
    "y_pre = weak_lib.convert_u_dot_integral(np.expand_dims(u, -1))"
   ]
  },
  {
   "cell_type": "code",
   "execution_count": 8,
   "id": "6ad9a594",
   "metadata": {},
   "outputs": [],
   "source": [
    "base_poly = np.array([[p, 0] for p in range(1, n_poly+1)])\n",
    "base_derivative = np.array([[0, d] for d in range(1, n_derivatives+1)])\n",
    "modules = [(0, 0)] if weak_lib.include_bias else []\n",
    "modules += [(p, 0) for p in range(1, n_poly+1)] + \\\n",
    "            [(0, d) for d in range(1, n_derivatives+1)] + \\\n",
    "            [tuple(p+d) for d in base_derivative for p in base_poly]\n",
    "assert len(modules) == len(weak_lib.get_feature_names())\n",
    "base_features = dict(zip(modules, X_pre.T))\n",
    "u_t = y_pre.copy()"
   ]
  },
  {
   "cell_type": "markdown",
   "id": "16bede4c-0838-41ab-9dcb-629f03e4f564",
   "metadata": {},
   "source": [
    "### Straightforward best-subset selection"
   ]
  },
  {
   "cell_type": "code",
   "execution_count": 9,
   "id": "acf9148f-099b-4576-872a-50180f02dbb6",
   "metadata": {},
   "outputs": [],
   "source": [
    "# over 30 minutes for n_poly = 6 and n_derivatives = 6\n",
    "# miosr_subsets = solvel0(X_pre, y_pre, miosr=True)"
   ]
  },
  {
   "cell_type": "code",
   "execution_count": 10,
   "id": "edfd6955-926c-4674-ab94-4378b6c81e01",
   "metadata": {},
   "outputs": [],
   "source": [
    "# tau = 3\n",
    "# verbose = True\n",
    "# # scale = 1 <- generalized UBIC\n",
    "# scale = np.log(len(y_pre))\n",
    "# per = 75 # 80\n",
    "\n",
    "# post_means, b_bics, b_uns = baye_uncertainties(miosr_subsets, (X_pre, y_pre), \n",
    "#                                                u_type='cv1', take_sqrt=True, \n",
    "#                                                ridge_lambda=0, \n",
    "#                                                threshold=0)\n",
    "# # b_uns = ard_uns # USE ard_uns INSTEAD\n",
    "# predictions = X_pre@post_means\n",
    "# print(b_bics)\n",
    "# print(b_uns)\n",
    "# b_bics = np.array(b_bics)\n",
    "# max_complexity = len(b_bics)\n",
    "# complexities = np.arange(max_complexity)+1\n",
    "# d_complexities = complexities[decreasing_values_indices(b_bics)]\n",
    "# d_bics = b_bics[decreasing_values_indices(b_bics)]\n",
    "# slopes = np.diff(b_bics)/(np.diff(complexities)*b_bics[:-1])\n",
    "# try:\n",
    "#     thres = np.percentile(np.abs(np.diff(d_bics)/(np.diff(d_complexities)*d_bics[:-1])), per)\n",
    "#     thres = math.ceil(sci_format(thres)[0])*10**sci_format(thres)[1]\n",
    "# except IndexError:\n",
    "#     thres = 1/40\n",
    "# min_thres = 1/40\n",
    "# thres = max(thres, min_thres)\n",
    "# print(\"threshold:\", thres)\n",
    "\n",
    "# lower_bounds = []\n",
    "# for k, efi in enumerate(miosr_subsets):\n",
    "#     # assert len(efi) == np.count_nonzero(post_means[:, k:k+1])\n",
    "#     com = len(efi)\n",
    "#     lower_bound = 2*np.abs(log_like_value(predictions[:, k:k+1], y_pre))-np.log(len(y_pre))*com\n",
    "#     lower_bounds.append(lower_bound)\n",
    "\n",
    "# last_lam = np.log10(max(lower_bounds/(b_uns*scale)))\n",
    "# print(\"max_lam:\", last_lam)\n",
    "# delta = last_lam/tau\n",
    "# now_lam = last_lam-delta\n",
    "# last_ubic = UBIC(b_bics, b_uns, len(y_pre), hyp=10**last_lam, scale=scale)\n",
    "# last_bc = np.argmin(last_ubic)\n",
    "# bc_seq = [last_bc]\n",
    "# while now_lam >= 0:\n",
    "#     now_ubic = UBIC(b_bics, b_uns, len(y_pre), hyp=10**now_lam, scale=scale)\n",
    "#     now_bc = np.argmin(now_ubic)\n",
    "    \n",
    "#     diff_com = now_bc-last_bc\n",
    "#     diff_bic = b_bics[now_bc]-b_bics[last_bc]\n",
    "#     imp = np.nan\n",
    "#     if diff_com != 0:\n",
    "#         imp = abs(diff_bic/(b_bics[last_bc]*diff_com))\n",
    "    \n",
    "#     if verbose:\n",
    "#         print(min(last_bc, now_bc), '<--->', max(last_bc, now_bc), \n",
    "#               np.nan_to_num(imp, nan=np.inf))\n",
    "    \n",
    "#     if (diff_com > 0 and (diff_bic > 0 or imp < thres)) or \\\n",
    "#         (diff_com < 0 and diff_bic > 0 and imp > thres):\n",
    "#         break\n",
    "    \n",
    "#     last_lam = now_lam\n",
    "#     now_lam = round(last_lam-delta, 8)\n",
    "#     last_ubic = now_ubic\n",
    "#     last_bc = now_bc\n",
    "#     if last_bc not in bc_seq:\n",
    "#         bc_seq.append(last_bc)\n",
    "\n",
    "# # best_bc = knee_finder(last_ubic)\n",
    "# best_bc = knee(range(len(last_ubic)), last_ubic, 'linear')\n",
    "# if best_bc == 0 and last_bc != 0 and abs((b_bics[last_bc]-b_bics[0])/(b_bics[0]*last_bc)) > thres:\n",
    "#     best_bc = knee(range(1, len(last_ubic)), last_ubic[1:], 'linear')\n",
    "\n",
    "# if best_bc is None:\n",
    "#     best_bc = last_bc\n",
    "#     alt_bc = bc_seq[-2] if len(bc_seq) > 1 else last_bc-10\n",
    "#     cond = abs((b_bics[last_bc]-b_bics[last_bc-1])/b_bics[last_bc-1]) or \\\n",
    "#             abs((b_bics[last_bc]-b_bics[alt_bc])/(b_bics[alt_bc]*(last_bc-alt_bc)))\n",
    "#     if cond < thres: \n",
    "#         best_bc = np.argmin(last_ubic[:alt_bc+1])\n",
    "    \n",
    "# last_lam = round(last_lam, 8)\n",
    "# print(last_lam, last_ubic, last_bc, best_bc)\n",
    "\n",
    "# plt.plot(last_ubic)\n",
    "# plt.show()"
   ]
  },
  {
   "cell_type": "markdown",
   "id": "bb73e146",
   "metadata": {},
   "source": [
    "### Genetic algorithm with NSGA-II"
   ]
  },
  {
   "cell_type": "code",
   "execution_count": 11,
   "id": "0fa61c51",
   "metadata": {},
   "outputs": [],
   "source": [
    "class PdeDiscoveryProblem(ElementwiseProblem):\n",
    "    def __init__(self, n_poly, n_derivatives, n_modules, \n",
    "                 base_features, u_t, order_complexity=False):\n",
    "        super().__init__(n_var=1, n_obj=2, n_ieq_constr=0)\n",
    "        self.n_poly = n_poly\n",
    "        self.n_derivatives = n_derivatives\n",
    "        self.n_modules = n_modules\n",
    "        self.base_features = base_features\n",
    "        self.u_t = u_t\n",
    "        self.sample_size = np.prod(self.u_t.shape)\n",
    "        self.order_complexity = order_complexity\n",
    "\n",
    "    def _evaluate(self, X, out, *args, **kwargs):\n",
    "        genome = X[0]\n",
    "        coeff, mse = self.compute_genome_coefficient(genome)\n",
    "        mse = mse/self.sample_size\n",
    "        complexity_penalty = len(genome)\n",
    "        if self.order_complexity:\n",
    "            complexity_penalty += sum(sum(_) for _ in genome)\n",
    "        out[\"F\"] = [mse, complexity_penalty]\n",
    "        \n",
    "    def numericalize_genome(self, genome):\n",
    "        return np.stack([self.base_features[tuple(module)] \n",
    "                         for module in genome], axis=-1)\n",
    "\n",
    "    def compute_genome_coefficient(self, genome):\n",
    "        features = self.numericalize_genome(genome)\n",
    "        features = features.reshape(-1, features.shape[-1])\n",
    "        coeff, error, _, _ = np.linalg.lstsq(features, self.u_t, rcond=None)\n",
    "        return coeff, error[0]\n",
    "    \n",
    "    def generate_module(self):\n",
    "        return (random.randint(0, self.n_poly), random.randint(0, self.n_derivatives))\n",
    "    \n",
    "    def set_epsilon(self, epsilon):\n",
    "        self.epsilon = epsilon\n",
    "    \n",
    "class PopulationSampling(Sampling):\n",
    "    def _do(self, problem, n_samples, **kwargs):\n",
    "        X = np.full((n_samples, 1), None, dtype=object)\n",
    "        X_set = set()\n",
    "        i = 0\n",
    "        while i < n_samples:\n",
    "            n_modules = random.randint(1, problem.n_modules)\n",
    "            genome = frozenset(problem.generate_module() for _ in range(n_modules))\n",
    "            if len(genome) > 0 and genome not in X_set:\n",
    "                X_set.add(genome)\n",
    "                X[i, 0] = genome\n",
    "                i += 1\n",
    "        return X\n",
    "    \n",
    "class DuplicateElimination(ElementwiseDuplicateElimination):\n",
    "    def is_equal(self, g1, g2):\n",
    "        return g1.X[0] == g2.X[0]"
   ]
  },
  {
   "cell_type": "code",
   "execution_count": 12,
   "id": "2dea1072",
   "metadata": {},
   "outputs": [],
   "source": [
    "class GenomeCrossover(Crossover):\n",
    "    def __init__(self):\n",
    "        # define the crossover: number of parents and number of offsprings\n",
    "        super().__init__(2, 2)\n",
    "\n",
    "    def _do(self, problem, X, **kwargs):\n",
    "        # The input of has the following shape (n_parents, n_matings, n_var)\n",
    "        _, n_matings, n_var = X.shape\n",
    "\n",
    "        # The output owith the shape (n_offsprings, n_matings, n_var)\n",
    "        # Because there the number of parents and offsprings are equal it keeps the shape of X\n",
    "        Y = np.full_like(X, None, dtype=object)\n",
    "        \n",
    "        # for each mating provided\n",
    "        for k in range(n_matings):\n",
    "            # get the first and the second parent          \n",
    "            Y[0, k, 0], Y[1, k, 0] = self.crossover_permutation(X[0, k, 0], X[1, k, 0])\n",
    "            \n",
    "        return Y\n",
    "    \n",
    "    def crossover_permutation(self, genome1, genome2):\n",
    "        collection = list(genome1) + list(genome2)\n",
    "        random.shuffle(collection)\n",
    "        return frozenset(collection[:len(genome1)]), frozenset(collection[len(genome1):])\n",
    "    \n",
    "class GenomeMutation(Mutation):\n",
    "    def __init__(self, add_rate=0.4, del_rate=0.5, order_rate=0.4):\n",
    "        super().__init__()\n",
    "        self.add_rate = add_rate\n",
    "        self.del_rate = del_rate\n",
    "        self.order_rate = order_rate\n",
    "\n",
    "    def _do(self, problem, X, **kwargs):\n",
    "        for i in range(len(X)):\n",
    "            if random.random() < self.add_rate:\n",
    "                X[i, 0] = self.add_mutate(problem, X[i, 0])\n",
    "            if random.random() < self.del_rate:\n",
    "                X[i, 0] = self.del_mutate(problem, X[i, 0])\n",
    "            if random.random() < self.order_rate:\n",
    "                X[i, 0] = self.module_mutate(problem, X[i, 0])\n",
    "        return X\n",
    "    \n",
    "    def add_mutate(self, problem, genome, max_iter=3):\n",
    "        for _ in range(max_iter):\n",
    "            new_module = problem.generate_module()\n",
    "            if new_module not in genome:\n",
    "                return genome.union(frozenset({new_module}))\n",
    "        return genome\n",
    "    \n",
    "    def del_mutate(self, problem, genome, max_iter=3):\n",
    "        genome = list(genome)\n",
    "        lg = len(genome)\n",
    "        if lg > 0:\n",
    "            if lg == 1:\n",
    "                for _ in range(max_iter):\n",
    "                    new_module = problem.generate_module()\n",
    "                    if new_module != genome[0]:\n",
    "                        return frozenset({new_module})\n",
    "            else:\n",
    "                genome.pop(random.randint(0, lg-1))\n",
    "        return frozenset(genome)\n",
    "    \n",
    "    def module_mutate(self, problem, genome):\n",
    "        if len(genome) == 0:\n",
    "            return genome\n",
    "        genome = set(genome)\n",
    "        genome.remove(random.choice(list(genome)))\n",
    "        for _ in range(3):\n",
    "            new_module = problem.generate_module()\n",
    "            if new_module not in genome:\n",
    "                genome.add(new_module)\n",
    "                return frozenset(genome)\n",
    "        return frozenset(genome)"
   ]
  },
  {
   "cell_type": "code",
   "execution_count": 13,
   "id": "263f3258",
   "metadata": {},
   "outputs": [],
   "source": [
    "pop_size = 500\n",
    "problem = PdeDiscoveryProblem(n_poly, n_derivatives, n_modules, \n",
    "                              base_features, u_t, order_complexity=False)"
   ]
  },
  {
   "cell_type": "code",
   "execution_count": 14,
   "id": "296e4b3d",
   "metadata": {},
   "outputs": [
    {
     "name": "stdout",
     "output_type": "stream",
     "text": [
      "==========================================================\n",
      "n_gen  |  n_eval  | n_nds  |      eps      |   indicator  \n",
      "==========================================================\n",
      "     1 |      500 |      5 |             - |             -\n",
      "     2 |     1550 |      6 |  0.0032378964 |         ideal\n",
      "     3 |     2600 |      7 |  0.0578452981 |             f\n",
      "     4 |     3650 |      8 |  0.0250072850 |         ideal\n",
      "     5 |     4700 |      5 |  0.0329249647 |         ideal\n",
      "     6 |     5750 |      7 |  0.2222222222 |         nadir\n",
      "     7 |     6800 |      8 |  0.0290238988 |             f\n",
      "     8 |     7850 |      8 |  0.0071658588 |         ideal\n",
      "     9 |     8900 |      7 |  0.1428571429 |         nadir\n",
      "    10 |     9950 |      7 |  0.0232452599 |             f\n",
      "    11 |    11000 |      8 |  0.0208685795 |             f\n",
      "    12 |    12050 |      9 |  0.0030982386 |         ideal\n",
      "    13 |    13100 |      9 |  0.0007947900 |             f\n",
      "    14 |    14150 |     10 |  0.0043239429 |         ideal\n",
      "    15 |    15200 |     12 |  0.0059755270 |         ideal\n",
      "    16 |    16250 |     12 |  0.0000537012 |             f\n",
      "    17 |    17300 |     13 |  0.0769230769 |         nadir\n",
      "    18 |    18350 |     12 |  0.0001058878 |             f\n",
      "    19 |    19400 |     12 |  0.0042316661 |         ideal\n",
      "    20 |    20450 |     13 |  0.0124001363 |             f\n",
      "    21 |    21500 |     14 |  0.0055679813 |             f\n",
      "    22 |    22550 |     14 |  0.000000E+00 |             f\n",
      "    23 |    23600 |     14 |  0.0009261672 |             f\n",
      "    24 |    24650 |     14 |  0.0009261672 |             f\n",
      "    25 |    25700 |     13 |  0.0011240278 |             f\n",
      "    26 |    26750 |     14 |  0.0714285714 |         nadir\n",
      "    27 |    27800 |     14 |  0.000000E+00 |             f\n",
      "    28 |    28850 |     15 |  0.0048824684 |             f\n",
      "    29 |    29900 |     15 |  0.0004227545 |             f\n",
      "    30 |    30950 |     13 |  0.0060089599 |         ideal\n",
      "    31 |    32000 |     14 |  0.0769230769 |         nadir\n",
      "    32 |    33050 |     14 |  0.000000E+00 |             f\n",
      "    33 |    34100 |     14 |  6.203206E-07 |             f\n",
      "    34 |    35150 |     14 |  6.203206E-07 |             f\n",
      "    35 |    36200 |     14 |  6.203206E-07 |             f\n",
      "    36 |    37250 |     14 |  0.0000622105 |             f\n",
      "    37 |    38300 |     13 |  0.0003214454 |             f\n",
      "    38 |    39350 |     14 |  0.3157894737 |         nadir\n",
      "    39 |    40400 |     14 |  0.0001396537 |             f\n",
      "    40 |    41450 |     14 |  0.0002013005 |             f\n",
      "    41 |    42500 |     14 |  0.0002013005 |             f\n",
      "    42 |    43550 |     14 |  0.0003083336 |             f\n",
      "    43 |    44600 |     15 |  0.0057955942 |         ideal\n",
      "    44 |    45650 |     16 |  0.0034761992 |             f\n",
      "    45 |    46700 |     16 |  0.0000199714 |             f\n",
      "    46 |    47750 |     16 |  0.0000347270 |             f\n",
      "    47 |    48800 |     17 |  0.0033103003 |             f\n",
      "    48 |    49850 |     17 |  0.000000E+00 |             f\n",
      "    49 |    50900 |     17 |  0.000000E+00 |             f\n",
      "    50 |    51950 |     18 |  0.0030868667 |             f\n",
      "    51 |    53000 |     19 |  0.0029246322 |             f\n",
      "    52 |    54050 |     19 |  1.089876E-06 |             f\n",
      "    53 |    55100 |     19 |  0.0000608427 |             f\n",
      "    54 |    56150 |     17 |  0.0526315789 |         nadir\n",
      "    55 |    57200 |     17 |  0.0000551749 |             f\n",
      "    56 |    58250 |     17 |  0.0000867212 |             f\n",
      "    57 |    59300 |     17 |  0.0001320979 |             f\n",
      "    58 |    60350 |     17 |  0.0001320979 |             f\n",
      "    59 |    61400 |     18 |  0.0050613678 |         ideal\n",
      "    60 |    62450 |     18 |  0.000000E+00 |             f\n",
      "    61 |    63500 |     19 |  0.0053263254 |             f\n",
      "    62 |    64550 |     19 |  0.0000255596 |             f\n",
      "    63 |    65600 |     19 |  0.0001165370 |             f\n",
      "    64 |    66650 |     18 |  0.0002897993 |             f\n",
      "    65 |    67700 |     18 |  0.0002897993 |             f\n",
      "    66 |    68750 |     20 |  0.0476190476 |         nadir\n",
      "    67 |    69800 |     20 |  0.0000471225 |             f\n",
      "    68 |    70850 |     21 |  0.0023910237 |             f\n",
      "    69 |    71900 |     20 |  0.0027286730 |             f\n",
      "    70 |    72950 |     20 |  0.000000E+00 |             f\n",
      "    71 |    74000 |     20 |  0.0024413501 |             f\n",
      "    72 |    75050 |     20 |  0.0024775081 |             f\n",
      "    73 |    76100 |     21 |  0.0023696618 |             f\n",
      "    74 |    77150 |     21 |  0.0025524466 |             f\n",
      "    75 |    78200 |     21 |  0.000000E+00 |             f\n",
      "    76 |    79250 |     21 |  0.0000244061 |             f\n",
      "    77 |    80300 |     19 |  0.1052631579 |         nadir\n",
      "    78 |    81350 |     19 |  8.913398E-06 |             f\n",
      "    79 |    82400 |     20 |  0.0952380952 |         nadir\n",
      "    80 |    83450 |     20 |  0.000000E+00 |             f\n",
      "    81 |    84500 |     20 |  0.000000E+00 |             f\n",
      "    82 |    85550 |     20 |  0.0000554798 |             f\n",
      "    83 |    86600 |     20 |  0.0002696704 |             f\n",
      "    84 |    87650 |     21 |  0.0454545455 |         nadir\n",
      "    85 |    88700 |     21 |  0.0476190476 |         nadir\n",
      "    86 |    89750 |     21 |  0.000000E+00 |             f\n",
      "    87 |    90800 |     21 |  0.000000E+00 |             f\n",
      "    88 |    91850 |     22 |  0.0454545455 |         nadir\n",
      "    89 |    92900 |     21 |  0.0001008996 |             f\n",
      "    90 |    93950 |     21 |  0.0001008996 |             f\n",
      "    91 |    95000 |     21 |  0.0001008996 |             f\n",
      "    92 |    96050 |     21 |  0.0001008996 |             f\n",
      "    93 |    97100 |     21 |  0.0001347625 |             f\n",
      "    94 |    98150 |     22 |  0.0002322286 |             f\n",
      "    95 |    99200 |     22 |  0.0002322286 |             f\n",
      "    96 |   100250 |     22 |  0.0002322286 |             f\n"
     ]
    }
   ],
   "source": [
    "termination = DefaultMultiObjectiveTermination(\n",
    "    xtol=1e-8,\n",
    "    cvtol=1e-6,\n",
    "    ftol=1e-8,\n",
    "    period=50,\n",
    "    n_max_gen=100,\n",
    "    n_max_evals=100000\n",
    ")\n",
    "\n",
    "algorithm = DNSGA2(pop_size=pop_size,\n",
    "                   sampling=PopulationSampling(),\n",
    "                   crossover=GenomeCrossover(),\n",
    "                   mutation=GenomeMutation(),\n",
    "                   eliminate_duplicates=DuplicateElimination())\n",
    "\n",
    "res = minimize(problem,\n",
    "               algorithm,\n",
    "               termination=termination,\n",
    "               verbose=True)"
   ]
  },
  {
   "cell_type": "code",
   "execution_count": 15,
   "id": "0a22d25e-5a89-4f10-bcd9-d63d7165998c",
   "metadata": {},
   "outputs": [],
   "source": [
    "np.random.seed(0)\n",
    "pareto_optimal_models = res.X"
   ]
  },
  {
   "cell_type": "code",
   "execution_count": 16,
   "id": "66468fa3-d3a1-45f6-9c8f-d89b0d723713",
   "metadata": {},
   "outputs": [],
   "source": [
    "### OPTIONAL ###\n",
    "from operator import itemgetter\n",
    "\n",
    "effective_candidates = frozenset()\n",
    "for i in range(len(pareto_optimal_models)):\n",
    "    effective_candidates = effective_candidates.union(pareto_optimal_models[i][0])\n",
    "effective_candidates = sorted(effective_candidates)\n",
    "\n",
    "new_pareto_optimal_models = []\n",
    "for bs in backward_refinement([sorted([effective_candidates.index(_) for _ in list(pm[0])]) for pm in pareto_optimal_models], \n",
    "                              (problem.numericalize_genome(effective_candidates), y_pre)).get_best_subsets():\n",
    "    bs = itemgetter(*bs)(effective_candidates)\n",
    "    if type(bs[0]) is not tuple:\n",
    "        bs = (bs,)\n",
    "    new_pareto_optimal_models.append([frozenset(bs)])\n",
    "pareto_optimal_models = np.array(new_pareto_optimal_models)\n",
    "del new_pareto_optimal_models\n",
    "# pareto_optimal_models"
   ]
  },
  {
   "cell_type": "code",
   "execution_count": 17,
   "id": "93233d48-b471-4484-8819-2c3f03f474d7",
   "metadata": {},
   "outputs": [
    {
     "data": {
      "text/plain": [
       "([(3, 5), (2, 2), (5, 2)],\n",
       " array([[frozenset({(1, 1), (0, 2)})],\n",
       "        [frozenset({(1, 1), (0, 2), (0, 4)})],\n",
       "        [frozenset({(1, 1), (0, 2), (0, 4), (3, 6)})],\n",
       "        [frozenset({(0, 4), (1, 1), (0, 2), (3, 6), (6, 3)})]],\n",
       "       dtype=object))"
      ]
     },
     "execution_count": 17,
     "metadata": {},
     "output_type": "execute_result"
    }
   ],
   "source": [
    "from pymoo.decomposition.asf import ASF\n",
    "import mcdm\n",
    "\n",
    "est_complexities = {}\n",
    "F = problem.evaluate(pareto_optimal_models)\n",
    "nF = (F - F.min(axis=0))/(F.max(axis=0) - F.min(axis=0))\n",
    "for weights in np.arange(0.1, 1, 0.1):\n",
    "    decomp = ASF()\n",
    "    # est_complexity = int(F[decomp.do(nF, 1/np.array([1-weights, weights])).argmin()][1])\n",
    "    # est_complexity = mcdm.rank(nF, alt_names=list(map(int, F[:, 1].astype(np.int32))), is_benefit_x=[False, False], \n",
    "    #                            n_method=None, w_vector=[1-weights, weights], s_method=\"mTOPSIS\")[0][0]    \n",
    "    est_complexity = mcdm.rank(F, alt_names=list(map(int, F[:, 1].astype(np.int32))), is_benefit_x=[False, False], \n",
    "                               n_method=\"linear2\", w_vector=[1-weights, weights], s_method=\"mTOPSIS\")[0][0]\n",
    "    if est_complexity not in est_complexities:\n",
    "        est_complexities[est_complexity] = 1\n",
    "    else:\n",
    "        est_complexities[est_complexity] += 1\n",
    "est_complexities = sorted(est_complexities.items(), key=lambda _: (_[1], -_[0]), reverse=True)\n",
    "\n",
    "min_ss = min(est_complexities)[0]\n",
    "max_ss = max(est_complexities)[0]\n",
    "if max_ss == min_ss:\n",
    "    max_ss += 1\n",
    "# epsilon = 10**sci_format(np.median(res.F[:, 0:1]))[1]\n",
    "# pareto_optimal_models = res.X[np.argsort(res.F[:, 0]+epsilon*res.F[:, 1])]\n",
    "keep_indices = [i for i in range(len(pareto_optimal_models)) if min_ss <= len(pareto_optimal_models[i][0]) <= max_ss]\n",
    "pareto_optimal_models = pareto_optimal_models[keep_indices]\n",
    "\n",
    "est_complexities, pareto_optimal_models"
   ]
  },
  {
   "cell_type": "code",
   "execution_count": 18,
   "id": "9fe7f4e0",
   "metadata": {},
   "outputs": [
    {
     "data": {
      "text/plain": [
       "array([[1, 1],\n",
       "       [0, 2]])"
      ]
     },
     "execution_count": 18,
     "metadata": {},
     "output_type": "execute_result"
    }
   ],
   "source": [
    "significance_threshold = None # 0.95\n",
    "\n",
    "effective_candidates = frozenset()\n",
    "for i in range(len(pareto_optimal_models)):\n",
    "    effective_candidates = effective_candidates.union(pareto_optimal_models[i][0])\n",
    "effective_candidates = sorted(effective_candidates)\n",
    "\n",
    "effective_candidates = {_: 0.0 for _ in effective_candidates}\n",
    "for i in range(len(pareto_optimal_models)):\n",
    "    potential_pde = list(pareto_optimal_models[i][0])\n",
    "    important_scores = shap_linear_importance(problem.numericalize_genome(potential_pde), \n",
    "                                              y_pre, scale=True)\n",
    "    for j in range(len(potential_pde)):\n",
    "        effective_candidates[potential_pde[j]] += important_scores[j]\n",
    "        \n",
    "total_score = sum(effective_candidates.values())\n",
    "for _ in effective_candidates:\n",
    "    effective_candidates[_] = effective_candidates[_]/total_score\n",
    "    \n",
    "effective_candidates = sorted(effective_candidates.items(), key=lambda _: _[1], reverse=True)\n",
    "cum_sum = 0\n",
    "cum_sums = []\n",
    "top_candidates = []\n",
    "for i in range(len(effective_candidates)):\n",
    "    cum_sum += effective_candidates[i][1]\n",
    "    cum_sums.append(cum_sum)\n",
    "    top_candidates.append(effective_candidates[i][0])\n",
    "if significance_threshold is not None:\n",
    "    top_candidates = top_candidates[:np.argmax((np.array(cum_sums) > significance_threshold).astype(np.int8))+1]\n",
    "else:\n",
    "    top_candidates = top_candidates[:knee(range(0, len(cum_sums)), cum_sums, S=1, direction='increasing')+1]\n",
    "\n",
    "if len(top_candidates) > max_ss:\n",
    "    top_candidates = np.array(top_candidates)[np.nonzero(linear_model.ARDRegression(max_iter=500, fit_intercept=False).fit(problem.numericalize_genome(top_candidates), y_pre.ravel()).coef_)[0]]\n",
    "else:\n",
    "    top_candidates = np.array(top_candidates)\n",
    "X_pre_top = problem.numericalize_genome(top_candidates)\n",
    "\n",
    "top_candidates"
   ]
  },
  {
   "cell_type": "markdown",
   "id": "d8757b32",
   "metadata": {},
   "source": [
    "### Best-subset selection"
   ]
  },
  {
   "cell_type": "code",
   "execution_count": 19,
   "id": "5dc727d0",
   "metadata": {},
   "outputs": [
    {
     "name": "stderr",
     "output_type": "stream",
     "text": [
      "  0%|                                                              | 0/2 [00:00<?, ?it/s]"
     ]
    },
    {
     "name": "stdout",
     "output_type": "stream",
     "text": [
      "Set parameter Username\n",
      "Academic license - for non-commercial use only - expires 2026-04-04\n"
     ]
    },
    {
     "name": "stderr",
     "output_type": "stream",
     "text": [
      "100%|██████████████████████████████████████████████████████| 2/2 [00:00<00:00, 26.24it/s]\n",
      "100%|████████████████████████████████████████████████████| 2/2 [00:00<00:00, 1619.74it/s]\n"
     ]
    }
   ],
   "source": [
    "best_subsets = solvel0(X_pre_top, y_pre, miosr=True, refine=True)\n",
    "\n",
    "# _, best_subsets = okridge_solvel0_full(X_pre_top, y_pre, \n",
    "#                                        k=X_pre_top.shape[-1], norm='l2')\n",
    "# best_subsets = backward_refinement(best_subsets, (X_pre_top, y_pre), \n",
    "#                                    ic_type='bic', verbose=False).get_best_subsets()\n",
    "\n",
    "best_subsets = [tuple(best_subsets[-1][_] for _ in bs) \n",
    "                for bs in brute_force_all_subsets(X_pre_top[:, best_subsets[-1]], y_pre)[1]]"
   ]
  },
  {
   "cell_type": "markdown",
   "id": "259fb918",
   "metadata": {},
   "source": [
    "### Model selection using UBIC"
   ]
  },
  {
   "cell_type": "code",
   "execution_count": 20,
   "id": "96a6c77f",
   "metadata": {},
   "outputs": [
    {
     "name": "stdout",
     "output_type": "stream",
     "text": [
      "1, 2, "
     ]
    },
    {
     "data": {
      "text/plain": [
       "array([1.33323565, 1.        ])"
      ]
     },
     "execution_count": 20,
     "metadata": {},
     "output_type": "execute_result"
    }
   ],
   "source": [
    "# TODO: Calculate post_means for ARDRegression as well (Implement the ard_uncertainties function)\n",
    "ard_uns = []\n",
    "threshold_lambda = 5e5 # must pass assert \n",
    "for bs in best_subsets:\n",
    "    ard = linear_model.ARDRegression(fit_intercept=False, \n",
    "                                     compute_score=True,\n",
    "                                     threshold_lambda=threshold_lambda)\n",
    "    ard.fit(X_pre_top[:, bs], y_pre.ravel())\n",
    "    print(len(bs), end=', ')\n",
    "    assert len(bs) == len(np.nonzero(ard.coef_)[0])\n",
    "    pde_uncert = np.sqrt(np.diag(ard.sigma_)).sum()\n",
    "    ard_uns.append(pde_uncert)\n",
    "ard_uns = np.array(ard_uns)\n",
    "ard_uns = ard_uns/min(ard_uns)\n",
    "ard_uns"
   ]
  },
  {
   "cell_type": "code",
   "execution_count": 21,
   "id": "548e4fa8",
   "metadata": {},
   "outputs": [
    {
     "name": "stdout",
     "output_type": "stream",
     "text": [
      "[-79555.66805059963, -89773.43439679421]\n",
      "[1.60628311 1.        ]\n",
      "threshold: 0.2\n",
      "max_lam: 3.988872159961028\n",
      "1 <---> 1 inf\n",
      "1 <---> 1 inf\n",
      "1 <---> 1 inf\n"
     ]
    },
    {
     "data": {
      "text/plain": [
       "(-0.0, array([-79540.87363639, -89764.22405642]), 1, 1)"
      ]
     },
     "execution_count": 21,
     "metadata": {},
     "output_type": "execute_result"
    }
   ],
   "source": [
    "tau = 3\n",
    "verbose = True\n",
    "# scale = 1 <- generalized UBIC\n",
    "scale = np.log(len(y_pre))\n",
    "per = 75 # 80\n",
    "\n",
    "post_means, b_bics, b_uns = baye_uncertainties(best_subsets, (X_pre_top, y_pre), \n",
    "                                               u_type='cv1', take_sqrt=True, \n",
    "                                               ridge_lambda=0, \n",
    "                                               threshold=0)\n",
    "# b_uns = ard_uns # USE ard_uns INSTEAD\n",
    "predictions = X_pre_top@post_means\n",
    "print(b_bics)\n",
    "print(b_uns)\n",
    "b_bics = np.array(b_bics)\n",
    "max_complexity = len(b_bics)\n",
    "complexities = np.arange(max_complexity)+1\n",
    "d_complexities = complexities[decreasing_values_indices(b_bics)]\n",
    "d_bics = b_bics[decreasing_values_indices(b_bics)]\n",
    "slopes = np.diff(b_bics)/(np.diff(complexities)*b_bics[:-1])\n",
    "try:\n",
    "    thres = np.percentile(np.abs(np.diff(d_bics)/(np.diff(d_complexities)*d_bics[:-1])), per)\n",
    "    thres = math.ceil(sci_format(thres)[0])*10**sci_format(thres)[1]\n",
    "except IndexError:\n",
    "    thres = 1/40\n",
    "min_thres = 1/40\n",
    "thres = max(thres, min_thres)\n",
    "print(\"threshold:\", thres)\n",
    "\n",
    "lower_bounds = []\n",
    "for k, efi in enumerate(best_subsets):\n",
    "    # assert len(efi) == np.count_nonzero(post_means[:, k:k+1])\n",
    "    com = len(efi)\n",
    "    lower_bound = 2*np.abs(log_like_value(predictions[:, k:k+1], y_pre))-np.log(len(y_pre))*com\n",
    "    lower_bounds.append(lower_bound)\n",
    "\n",
    "last_lam = np.log10(max(lower_bounds/(b_uns*scale)))\n",
    "print(\"max_lam:\", last_lam)\n",
    "delta = last_lam/tau\n",
    "now_lam = last_lam-delta\n",
    "last_ubic = UBIC(b_bics, b_uns, len(y_pre), hyp=10**last_lam, scale=scale)\n",
    "last_bc = np.argmin(last_ubic)\n",
    "bc_seq = [last_bc]\n",
    "while now_lam >= 0:\n",
    "    now_ubic = UBIC(b_bics, b_uns, len(y_pre), hyp=10**now_lam, scale=scale)\n",
    "    now_bc = np.argmin(now_ubic)\n",
    "    \n",
    "    diff_com = now_bc-last_bc\n",
    "    diff_bic = b_bics[now_bc]-b_bics[last_bc]\n",
    "    imp = np.nan\n",
    "    if diff_com != 0:\n",
    "        imp = abs(diff_bic/(b_bics[last_bc]*diff_com))\n",
    "    \n",
    "    if verbose:\n",
    "        print(min(last_bc, now_bc), '<--->', max(last_bc, now_bc), \n",
    "              np.nan_to_num(imp, nan=np.inf))\n",
    "    \n",
    "    if (diff_com > 0 and (diff_bic > 0 or imp < thres)) or \\\n",
    "        (diff_com < 0 and diff_bic > 0 and imp > thres):\n",
    "        break\n",
    "    \n",
    "    last_lam = now_lam\n",
    "    now_lam = round(last_lam-delta, 8)\n",
    "    last_ubic = now_ubic\n",
    "    last_bc = now_bc\n",
    "    if last_bc not in bc_seq:\n",
    "        bc_seq.append(last_bc)\n",
    "\n",
    "# best_bc = knee_finder(last_ubic)\n",
    "best_bc = knee(range(len(last_ubic)), last_ubic, 0.95, 'linear')\n",
    "if best_bc == 0 and last_bc != 0 and b_bics[last_bc] < b_bics[0] and \\\n",
    "                                    abs((b_bics[last_bc]-b_bics[0])/(b_bics[0]*last_bc)) > thres:\n",
    "    best_bc = knee(range(1, len(last_ubic)), last_ubic[1:], 0.95, 'linear')\n",
    "if best_bc is None:\n",
    "    best_bc = knee_finder(last_ubic)\n",
    "    \n",
    "last_lam = round(last_lam, 8)\n",
    "last_lam, last_ubic, last_bc, best_bc"
   ]
  },
  {
   "cell_type": "code",
   "execution_count": 22,
   "id": "9ea07764",
   "metadata": {},
   "outputs": [
    {
     "data": {
      "image/png": "[encoded data removed]",
      "text/plain": [
       "<Figure size 350x262.5 with 2 Axes>"
      ]
     },
     "metadata": {},
     "output_type": "display_data"
    }
   ],
   "source": [
    "complexity_axis = [len(bs) for bs in best_subsets]\n",
    "with plt.style.context(['science']):\n",
    "    fig, ax = plt.subplots()\n",
    "    ax2 = ax.twinx()\n",
    "    ax.set_zorder(ax2.get_zorder()+1)\n",
    "    ax.patch.set_visible(False)\n",
    "    \n",
    "    l1, = ax.plot(complexity_axis, last_ubic, 'o-', c='black', markerfacecolor='none', label=f\"$\\lambda = {abs(last_lam)}$\")\n",
    "    ax.set_xticks(complexity_axis)\n",
    "    ax.set_ylabel(\"$\\\\textrm{UBIC}$\", fontsize=12)\n",
    "    ax.set_xlabel(\"Support size\", fontsize=12)\n",
    "    ax.vlines(best_bc+1, min(last_ubic), max(last_ubic), color='red')\n",
    "    \n",
    "    l2, = ax2.plot(complexity_axis, b_uns, 'o--', c='blue', markerfacecolor='none', label=\"Uncertainty $\\\\textrm{U}^{k}$\")\n",
    "    s1 = ax2.scatter(complexity_axis[np.argmin(b_uns)], b_uns[np.argmin(b_uns)], c='blue')\n",
    "    ax2.tick_params(axis='y', labelcolor='blue')\n",
    "\n",
    "    ax.legend([l1, l2, s1], [f\"UBIC with $\\lambda = {round(abs(last_lam), 2)}$\", \"Uncertainty $\\\\textrm{U}^{k}$\", \"Min $\\\\textrm{U}^{k}$\"], \n",
    "              labelcolor='linecolor', loc='upper center', fontsize=12)\n",
    "    plt.tight_layout()\n",
    "    plt.show()"
   ]
  },
  {
   "cell_type": "code",
   "execution_count": 23,
   "id": "aa3a233a",
   "metadata": {},
   "outputs": [
    {
     "name": "stdout",
     "output_type": "stream",
     "text": [
      "1\n"
     ]
    }
   ],
   "source": [
    "# Some ideas\n",
    "# Better knee detection algorithm\n",
    "\n",
    "import kneeliverse.kneedle as kneedle\n",
    "import kneeliverse.lmethod as lmethod\n",
    "import kneeliverse.menger as menger\n",
    "import kneeliverse.zmethod as zmethod\n",
    "\n",
    "print(knee_finder(last_ubic))\n",
    "\n",
    "# print(kneedle.knee(np.vstack([range(0, len(last_ubic)), \n",
    "#                               last_ubic]).T[decreasing_values_indices(last_ubic)], t=0.1))\n",
    "\n",
    "# print(lmethod.knee(np.vstack([range(0, len(last_ubic)), \n",
    "#                               last_ubic]).T[decreasing_values_indices(last_ubic)]))\n",
    "\n",
    "# print(menger.knee(np.vstack([range(0, len(last_ubic)), \n",
    "#                              last_ubic]).T[decreasing_values_indices(last_ubic)]))\n",
    "\n",
    "# abs((b_bics[2]-b_bics[1])/(b_bics[1]))"
   ]
  },
  {
   "cell_type": "markdown",
   "id": "96f7fbbc-bce9-423e-a852-eff481081970",
   "metadata": {},
   "source": [
    "### Visualization ###"
   ]
  },
  {
   "cell_type": "code",
   "execution_count": 120,
   "id": "ed9c36f3-a3ab-4b73-afff-e4c2128112fd",
   "metadata": {},
   "outputs": [
    {
     "data": {
      "image/png": "[encoded data removed]",
      "text/plain": [
       "<Figure size 350x262.5 with 1 Axes>"
      ]
     },
     "metadata": {},
     "output_type": "display_data"
    }
   ],
   "source": [
    "from scipy.interpolate import CubicSpline, PchipInterpolator\n",
    "bg_color = 'pink'\n",
    "with plt.style.context(['science']):\n",
    "    plt.rcParams['axes.facecolor'] = bg_color\n",
    "    pareto_front = res.F[np.argsort(res.F[:, 1])]\n",
    "    spline = PchipInterpolator(pareto_front[:, 1], pareto_front[:, 0])\n",
    "    x_plot = np.linspace(pareto_front[:, 1].min(), pareto_front[:, 1].max(), len(pareto_front[:, 1])*100)\n",
    "    plt.plot(x_plot, spline(x_plot), color='blue')\n",
    "    plt.scatter(pareto_front[:, 1], pareto_front[:, 0], facecolor='None', edgecolors='black')\n",
    "    plt.ylabel(\"Mean squared error\")\n",
    "    plt.xlabel(\"Support size\")\n",
    "    plt.title(\"Pareto front by NSGA-II\")\n",
    "    plt.tight_layout()\n",
    "    plt.savefig(f\"Figures/pf_burgers_noise{noise_lv}.pdf\")\n",
    "    plt.show()"
   ]
  },
  {
   "cell_type": "code",
   "execution_count": null,
   "id": "28828df3-29f9-4506-8d7d-7a86efee75bf",
   "metadata": {},
   "outputs": [],
   "source": []
  },
  {
   "cell_type": "code",
   "execution_count": null,
   "id": "010becf5-8287-4e2b-a3b6-4040febd624f",
   "metadata": {},
   "outputs": [],
   "source": []
  }
 ],
 "metadata": {
  "kernelspec": {
   "display_name": "Python [conda env:sindy]",
   "language": "python",
   "name": "conda-env-sindy-py"
  },
  "language_info": {
   "codemirror_mode": {
    "name": "ipython",
    "version": 3
   },
   "file_extension": ".py",
   "mimetype": "text/x-python",
   "name": "python",
   "nbconvert_exporter": "python",
   "pygments_lexer": "ipython3",
   "version": "3.10.13"
  }
 },
 "nbformat": 4,
 "nbformat_minor": 5
}

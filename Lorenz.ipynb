{
 "cells": [
  {
   "cell_type": "code",
   "execution_count": 1,
   "id": "8ee27ec7",
   "metadata": {},
   "outputs": [
    {
     "name": "stderr",
     "output_type": "stream",
     "text": [
      "/opt/anaconda3/envs/sindy/lib/python3.10/site-packages/tqdm/auto.py:21: TqdmWarning: IProgress not found. Please update jupyter and ipywidgets. See https://ipywidgets.readthedocs.io/en/stable/user_install.html\n",
      "  from .autonotebook import tqdm as notebook_tqdm\n"
     ]
    },
    {
     "name": "stdout",
     "output_type": "stream",
     "text": [
      "Sklearn's version: 1.6.1\n"
     ]
    }
   ],
   "source": [
    "%load_ext autoreload\n",
    "%autoreload 2\n",
    "%matplotlib inline\n",
    "import matplotlib.pyplot as plt\n",
    "import scienceplots\n",
    "\n",
    "import math\n",
    "import os\n",
    "import random\n",
    "from functools import partial\n",
    "from decimal import Decimal\n",
    "import numpy as np\n",
    "# from sklearnex import patch_sklearn; patch_sklearn() # if you are using intel cpus\n",
    "import scipy.io as sio\n",
    "from scipy.integrate import solve_ivp\n",
    "from scipy.signal import savgol_filter\n",
    "import pysindy as ps\n",
    "from pysindy.utils import lorenz\n",
    "from tqdm import trange\n",
    "\n",
    "# NSGA2, DNSGA2, SMSEMOA, AGEMOEA2\n",
    "from pymoo.algorithms.moo.nsga2 import NSGA2\n",
    "from pymoo.algorithms.moo.dnsga2 import DNSGA2\n",
    "from pymoo.algorithms.moo.sms import SMSEMOA\n",
    "from pymoo.algorithms.moo.age2 import AGEMOEA2\n",
    "from pymoo.core.problem import ElementwiseProblem\n",
    "from pymoo.core.sampling import Sampling\n",
    "from pymoo.core.crossover import Crossover\n",
    "from pymoo.core.mutation import Mutation\n",
    "from pymoo.core.duplicate import ElementwiseDuplicateElimination\n",
    "from pymoo.termination.default import DefaultMultiObjectiveTermination\n",
    "from pymoo.optimize import minimize\n",
    "from pymoo.visualization.scatter import Scatter\n",
    "\n",
    "from utils import *\n",
    "from skimage.restoration import estimate_sigma\n",
    "import bm3d\n",
    "from okridge.solvel0 import *\n",
    "from best_subset import backward_refinement, brute_force_all_subsets\n",
    "from solvel0 import solvel0\n",
    "from UBIC import *\n",
    "from kneed import KneeLocator\n",
    "\n",
    "from sklearn.gaussian_process import GaussianProcessRegressor\n",
    "from sklearn.gaussian_process.kernels import RBF, WhiteKernel"
   ]
  },
  {
   "cell_type": "code",
   "execution_count": 2,
   "id": "248f09c7",
   "metadata": {},
   "outputs": [],
   "source": [
    "# Integrator keywords for solve_ivp\n",
    "integrator_keywords = {}\n",
    "integrator_keywords['rtol'] = 1e-12\n",
    "integrator_keywords['method'] = 'LSODA'\n",
    "integrator_keywords['atol'] = 1e-12\n",
    "\n",
    "dt = 0.001\n",
    "t_train = np.arange(0, 100, dt)\n",
    "x0_train = [-8, 8, 27]\n",
    "x_train = solve_ivp(lorenz, (t_train[0], t_train[-1]), \n",
    "                    x0_train, t_eval=t_train, **integrator_keywords).y.T\n",
    "x_dot_train_measured = np.array(\n",
    "    [lorenz(0, x_train[i]) for i in range(t_train.size)]\n",
    ")\n",
    "true_complexities = [2, 3, 2]"
   ]
  },
  {
   "cell_type": "code",
   "execution_count": 3,
   "id": "faeef246",
   "metadata": {},
   "outputs": [],
   "source": [
    "noise_level = 1e-2\n",
    "noise = np.zeros(x_train.shape)\n",
    "x_train_clean = x_train.copy()\n",
    "if noise_level > 0:\n",
    "    noise = np.random.normal(scale=noise_level, size=x_train.shape)\n",
    "    x_train = x_train_clean + noise"
   ]
  },
  {
   "cell_type": "code",
   "execution_count": 4,
   "id": "70e0b5d4",
   "metadata": {},
   "outputs": [],
   "source": [
    "x_train = savgol_filter(x_train, 11, 3, axis=0)"
   ]
  },
  {
   "cell_type": "code",
   "execution_count": 5,
   "id": "ef97d4d1",
   "metadata": {},
   "outputs": [],
   "source": [
    "# TODO: Implement TVDiff\n",
    "n_poly = 4\n",
    "n_vars = len(true_complexities)\n",
    "n_modules = 8\n",
    "differentiation_method = ps.differentiation.FiniteDifference()\n",
    "differentiation_method = ps.differentiation.SmoothedFiniteDifference()"
   ]
  },
  {
   "cell_type": "code",
   "execution_count": 6,
   "id": "8f7f6515",
   "metadata": {},
   "outputs": [],
   "source": [
    "ode_lib = ps.WeakPDELibrary(function_library=ps.PolynomialLibrary(degree=n_poly, include_bias=False), \n",
    "                            spatiotemporal_grid=t_train,\n",
    "                            include_bias=True,\n",
    "                            K=5000,\n",
    "                            differentiation_method=differentiation_method,\n",
    "                            diff_kwargs={\"is_uniform\":True})"
   ]
  },
  {
   "cell_type": "code",
   "execution_count": 7,
   "id": "c7e4e184",
   "metadata": {},
   "outputs": [],
   "source": [
    "normalize = False\n",
    "X_pre = np.array(ode_lib.fit_transform(x_train))\n",
    "y_pre = np.array(ode_lib.convert_u_dot_integral(x_train))\n",
    "max_features = np.ones((1, X_pre.shape[-1]))\n",
    "if normalize:\n",
    "    max_features = X_pre.max(axis=0)\n",
    "    X_pre = X_pre / max_features\n",
    "\n",
    "base_features = dict(zip(distribute_order(n_poly, n_vars), X_pre.T))\n",
    "\n",
    "# solvel0(X_pre, y_pre[:, 0:1], miosr=True, refine=True, max_complexity=8)\n",
    "\n",
    "# from joblib import Parallel, delayed\n",
    "# res = Parallel(n_jobs=3)(delayed(okridge_solvel0_full)(\n",
    "#     X_pre, select_column(y_pre, i), k=8) for i in range(3)\n",
    "#                         )\n",
    "\n",
    "# GA\n",
    "# generate (a, b, c) where a, b, c are integers greater than or equal to 0 and a+b+c <= poly_order"
   ]
  },
  {
   "cell_type": "code",
   "execution_count": 8,
   "id": "936d6578",
   "metadata": {},
   "outputs": [
    {
     "data": {
      "text/plain": [
       "(array([[-2.59802118e+00],\n",
       "        [ 2.46487008e-04]]),\n",
       " array([132201.19591727]))"
      ]
     },
     "execution_count": 8,
     "metadata": {},
     "output_type": "execute_result"
    }
   ],
   "source": [
    "class OdeDiscoveryProblem(ElementwiseProblem):\n",
    "    def __init__(self, n_poly, n_vars, n_modules, \n",
    "                 base_features, target, epsilon=1e-3):\n",
    "        super().__init__(n_var=1, n_obj=2, n_ieq_constr=0)\n",
    "        self.n_poly = n_poly\n",
    "        self.n_vars = n_vars\n",
    "        self.n_modules = n_modules\n",
    "        self.base_features = base_features\n",
    "        self.target = target\n",
    "        self.epsilon = epsilon\n",
    "        self.sample_size = np.prod(self.target.shape)\n",
    "\n",
    "    def _evaluate(self, X, out, *args, **kwargs):\n",
    "        print(X)\n",
    "        \n",
    "    def generate_ode_module(self):\n",
    "        module = [0 for _ in range(self.n_vars)]\n",
    "        for i in range(self.n_vars):\n",
    "            deg = random.randint(0, self.n_poly)\n",
    "            module[i] = deg\n",
    "            self.n_poly -= deg\n",
    "            if n_poly <= 0:\n",
    "                break\n",
    "        return tuple(module)\n",
    "        \n",
    "    def numericalize_genome(self, genome):\n",
    "        return np.stack([self.base_features[tuple(module)] \n",
    "                         for module in genome], axis=-1)\n",
    "\n",
    "    def compute_genome_coefficient(self, genome):\n",
    "        features = self.numericalize_genome(genome)\n",
    "        features = features.reshape(-1, features.shape[-1])\n",
    "        coeff, error, _, _ = np.linalg.lstsq(features, self.target, rcond=None)\n",
    "        return coeff, np.array(error)\n",
    "\n",
    "    def set_epsilon(self, epsilon):\n",
    "        self.epsilon = epsilon\n",
    "\n",
    "problem = OdeDiscoveryProblem(n_poly, n_vars, n_modules, base_features, y_pre[:, 0:1])\n",
    "problem.compute_genome_coefficient(frozenset(problem.generate_ode_module() for _ in range(3)))"
   ]
  },
  {
   "cell_type": "code",
   "execution_count": 9,
   "id": "d9a84647-9688-47e2-994b-f6c39ad476e2",
   "metadata": {},
   "outputs": [],
   "source": [
    "# {((xx, xx, xx), (xx, xx, xx), (xx, xx, xx)), ((xx, xx, xx), (xx, xx, xx), (xx, xx, xx))}"
   ]
  },
  {
   "cell_type": "code",
   "execution_count": null,
   "id": "919481b4-478d-4ba2-9c4d-d86698056806",
   "metadata": {},
   "outputs": [],
   "source": []
  },
  {
   "cell_type": "code",
   "execution_count": null,
   "id": "bfd2579b-21ae-47f4-8520-5481f7e594c4",
   "metadata": {},
   "outputs": [],
   "source": []
  }
 ],
 "metadata": {
  "kernelspec": {
   "display_name": "Python [conda env:sindy]",
   "language": "python",
   "name": "conda-env-sindy-py"
  },
  "language_info": {
   "codemirror_mode": {
    "name": "ipython",
    "version": 3
   },
   "file_extension": ".py",
   "mimetype": "text/x-python",
   "name": "python",
   "nbconvert_exporter": "python",
   "pygments_lexer": "ipython3",
   "version": "3.10.13"
  }
 },
 "nbformat": 4,
 "nbformat_minor": 5
}

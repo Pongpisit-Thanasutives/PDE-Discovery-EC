{
 "cells": [
  {
   "cell_type": "code",
   "execution_count": null,
   "id": "55cf0349",
   "metadata": {},
   "outputs": [],
   "source": [
    "%load_ext autoreload\n",
    "%autoreload 2\n",
    "\n",
    "%matplotlib inline\n",
    "import matplotlib.pyplot as plt\n",
    "import scienceplots\n",
    "\n",
    "import os\n",
    "import numpy as np\n",
    "import statsmodels.api as sm\n",
    "\n",
    "from solvel0 import solvel0\n",
    "from sklearn.linear_model import LinearRegression\n",
    "\n",
    "from rdata import read_rds"
   ]
  },
  {
   "cell_type": "code",
   "execution_count": null,
   "id": "162da786",
   "metadata": {},
   "outputs": [],
   "source": [
    "R_path = \"/Users/pongpisitthanasutives/Desktop/research/R/python_data\"\n",
    "os.path.join(R_path, 'X_pre_burgers_noise50.npy')\n",
    "X_pre = np.load(os.path.join(R_path, 'X_pre_burgers_noise50.npy'))\n",
    "y_pre = np.load(os.path.join(R_path, 'y_pre_burgers_noise50.npy'))"
   ]
  },
  {
   "cell_type": "code",
   "execution_count": null,
   "id": "0a8d3a6e",
   "metadata": {},
   "outputs": [],
   "source": [
    "bestsubset = solvel0(X_pre, y_pre, max_complexity=2, miosr=True)[-1]\n",
    "\n",
    "select = np.zeros(X_pre.shape[-1]).astype(np.bool_)\n",
    "select[list(bestsubset)] = True\n",
    "\n",
    "X_sel = X_pre[:, select]\n",
    "X_not_select = X_pre[:, ~select]\n",
    "\n",
    "lr = LinearRegression(fit_intercept=False)\n",
    "lr.fit(X_sel, y_pre)\n",
    "y_est = lr.predict(X_sel)\n",
    "\n",
    "X_test = np.hstack([y_est, X_not_select])"
   ]
  },
  {
   "cell_type": "code",
   "execution_count": null,
   "id": "7fe932b7",
   "metadata": {},
   "outputs": [],
   "source": [
    "# from econml.sklearn_extensions.linear_model import DebiasedLasso\n",
    "# lasso = DebiasedLasso(fit_intercept=False).fit(X_test, y_pre)\n",
    "# print(lasso.coef_)\n",
    "# print(lasso.coef_stderr_)"
   ]
  },
  {
   "cell_type": "code",
   "execution_count": null,
   "id": "7a02cf90",
   "metadata": {},
   "outputs": [],
   "source": [
    "active_set = []\n",
    "pvalues = []\n",
    "nfeats = X_test.shape[-1]\n",
    "while len(active_set) < nfeats:\n",
    "    possible_indices = [i for i in range(X_test.shape[-1]) if i not in active_set]\n",
    "    r2s = []\n",
    "    fits = []\n",
    "    for i in possible_indices:\n",
    "        fit = sm.OLS(y_pre, X_test[:, active_set+[i]]).fit()\n",
    "        fits.append(fit)\n",
    "        r2s.append(fit.rsquared)\n",
    "    active_set.append(possible_indices[np.argmax(r2s)])\n",
    "    # print(active_set)\n",
    "    pvalues.append(fits[np.argmax(r2s)].pvalues[-1])\n",
    "assert len(active_set) == nfeats"
   ]
  },
  {
   "cell_type": "code",
   "execution_count": null,
   "id": "94f46eed",
   "metadata": {},
   "outputs": [],
   "source": [
    "fsInf = read_rds(\"/Users/pongpisitthanasutives/Desktop/research/R/fsInf_burgers_noise50.rds\")\n",
    "adjusted_pvalues = fsInf.get(\"pv\")\n"
   ]
  },
  {
   "cell_type": "code",
   "execution_count": null,
   "id": "e7fa908a",
   "metadata": {},
   "outputs": [],
   "source": [
    "with plt.style.context(\"science\"):\n",
    "    plt.figure(figsize=(6, 3))\n",
    "    plt.plot([i for i in range(1, len(active_set)+1)], pvalues, '-o', c='blue', markerfacecolor='none', label='Naive (unadjusted)')\n",
    "    plt.plot([i for i in range(1, len(active_set)+1)], adjusted_pvalues, '-o', c='black', markerfacecolor='none', label='Selection-adjusted')\n",
    "    plt.hlines(xmin=1, xmax=len(active_set), y=0.01, colors='red', linestyles='dashed', label=\"Referenced threshold $= 0.01$\")\n",
    "    plt.ylabel(\"P-Value\")\n",
    "    plt.xlabel(\"\\# of predictors entered\")\n",
    "    plt.xticks([1]+[i for i in range(1, len(active_set)+1) if i%5 == 0])\n",
    "    plt.legend()\n",
    "    plt.tight_layout()\n",
    "    plt.savefig(\"Figures/pv_burgers_noise50.pdf\")\n",
    "    plt.show()"
   ]
  },
  {
   "cell_type": "code",
   "execution_count": null,
   "id": "cd28a731",
   "metadata": {},
   "outputs": [],
   "source": []
  },
  {
   "cell_type": "code",
   "execution_count": null,
   "id": "4d963235",
   "metadata": {},
   "outputs": [],
   "source": []
  }
 ],
 "metadata": {
  "kernelspec": {
   "display_name": "sindy",
   "language": "python",
   "name": "python3"
  },
  "language_info": {
   "codemirror_mode": {
    "name": "ipython",
    "version": 3
   },
   "file_extension": ".py",
   "mimetype": "text/x-python",
   "name": "python",
   "nbconvert_exporter": "python",
   "pygments_lexer": "ipython3",
   "version": "3.10.13"
  }
 },
 "nbformat": 4,
 "nbformat_minor": 5
}
